{
 "cells": [
  {
   "cell_type": "markdown",
   "id": "3654d1b5-10f3-46cc-811d-dfe36c6ff59f",
   "metadata": {
    "tags": []
   },
   "source": [
    "### 2024-03-04\n",
    "#### Pandas"
   ]
  },
  {
   "cell_type": "markdown",
   "id": "53cd3efc-db73-40b8-aa84-1845f1548cb9",
   "metadata": {},
   "source": [
    "open source analysis library\n",
    "- lower level ops implemented in Cython (C+Python)"
   ]
  },
  {
   "cell_type": "code",
   "execution_count": 3,
   "id": "c05fb0cb-c58c-4945-b993-8658a73e8825",
   "metadata": {
    "tags": []
   },
   "outputs": [],
   "source": [
    "## install \n",
    "# !pip install pandas"
   ]
  },
  {
   "cell_type": "markdown",
   "id": "ed9cec29-f80b-4b56-902e-4ac9a7612496",
   "metadata": {},
   "source": [
    "using `conda`:  \n",
    "`conda install pandas`  \n",
    "using `pip`:  \n",
    "`pip install pandas`  "
   ]
  },
  {
   "cell_type": "markdown",
   "id": "be1c895c-0af3-44b0-82d9-c6adb8a2990b",
   "metadata": {},
   "source": [
    "### Basic data structures  \n",
    "-  series: represents a 1d labeled array  \n",
    "-  dataframe: table of rows with labeled columns  \n",
    "    - like a spreadsheet or R dataframe"
   ]
  },
  {
   "cell_type": "markdown",
   "id": "f6b58a84-a055-4815-8a3d-23a60fba95cb",
   "metadata": {},
   "source": [
    "### Pandas `series`  \n",
    "- by default indices are integers starting from 0  \n",
    "- pandas tries to infer datatype automatically  \n",
    "- can create a `pandas` series from any array-like structure"
   ]
  },
  {
   "cell_type": "code",
   "execution_count": 4,
   "id": "8104d5ed-6764-41d8-9ce0-06c94e9dcdfa",
   "metadata": {
    "tags": []
   },
   "outputs": [
    {
     "data": {
      "text/plain": [
       "array([ 0.42971771, -1.68127207, -0.70791126,  0.30192299, -1.31893095])"
      ]
     },
     "execution_count": 4,
     "metadata": {},
     "output_type": "execute_result"
    }
   ],
   "source": [
    "import pandas as pd\n",
    "import numpy as np\n",
    "numbers = np.random.randn(5)\n",
    "numbers"
   ]
  },
  {
   "cell_type": "code",
   "execution_count": 5,
   "id": "81172841-b6d1-4242-9788-8166bab3ac37",
   "metadata": {
    "tags": []
   },
   "outputs": [
    {
     "data": {
      "text/plain": [
       "0    0.429718\n",
       "1   -1.681272\n",
       "2   -0.707911\n",
       "3    0.301923\n",
       "4   -1.318931\n",
       "dtype: float64"
      ]
     },
     "execution_count": 5,
     "metadata": {},
     "output_type": "execute_result"
    }
   ],
   "source": [
    "s = pd.Series(numbers)\n",
    "s"
   ]
  },
  {
   "cell_type": "code",
   "execution_count": 6,
   "id": "8c6e5075-53d1-43b6-9d91-474378ed50d0",
   "metadata": {
    "tags": []
   },
   "outputs": [
    {
     "data": {
      "text/plain": [
       "a    0.429718\n",
       "b   -1.681272\n",
       "c   -0.707911\n",
       "d    0.301923\n",
       "e   -1.318931\n",
       "dtype: float64"
      ]
     },
     "execution_count": 6,
     "metadata": {},
     "output_type": "execute_result"
    }
   ],
   "source": [
    "# create a series using a custom index\n",
    "idx = ['a','b','c','d','e']\n",
    "s = pd.Series(numbers, index=idx)\n",
    "s"
   ]
  },
  {
   "cell_type": "markdown",
   "id": "f9fc8d27-eff2-458c-b984-7993edeea362",
   "metadata": {},
   "source": [
    "Setting up a series looks similar to a dictionary, and you can create a labeled series from a dictionary. Keys become indices."
   ]
  },
  {
   "cell_type": "code",
   "execution_count": 8,
   "id": "82843f79-f5a3-422e-adc8-a52eabc43314",
   "metadata": {
    "tags": []
   },
   "outputs": [
    {
     "data": {
      "text/plain": [
       "dog     2\n",
       "cat     1\n",
       "bird    0\n",
       "goat    9\n",
       "dtype: int64"
      ]
     },
     "execution_count": 8,
     "metadata": {},
     "output_type": "execute_result"
    }
   ],
   "source": [
    "d = {'dog':2, 'cat':1, 'bird':0, 'goat':9}\n",
    "s = pd.Series(d)\n",
    "s"
   ]
  },
  {
   "cell_type": "markdown",
   "id": "6390f90b-7e3b-431f-98d4-bb63bbc8a44d",
   "metadata": {},
   "source": [
    "Note: Indices do not need to be unique in pandas series. "
   ]
  },
  {
   "cell_type": "code",
   "execution_count": 10,
   "id": "b19c940f-a97a-472f-b160-4b2a3dd3deac",
   "metadata": {
    "tags": []
   },
   "outputs": [
    {
     "data": {
      "text/plain": [
       "a    1\n",
       "a    2\n",
       "b    3\n",
       "dtype: int64"
      ]
     },
     "execution_count": 10,
     "metadata": {},
     "output_type": "execute_result"
    }
   ],
   "source": [
    "s = pd.Series([1,2,3], index = ['a','a','b'])\n",
    "s"
   ]
  },
  {
   "cell_type": "code",
   "execution_count": 11,
   "id": "7a91da14-e7b2-43de-8424-56dfe7bc304e",
   "metadata": {
    "tags": []
   },
   "outputs": [
    {
     "data": {
      "text/plain": [
       "a    1\n",
       "a    2\n",
       "dtype: int64"
      ]
     },
     "execution_count": 11,
     "metadata": {},
     "output_type": "execute_result"
    }
   ],
   "source": [
    "s['a']"
   ]
  },
  {
   "cell_type": "markdown",
   "id": "c8f8cfa6-1311-4de2-86e7-ccc2d100ad13",
   "metadata": {
    "tags": []
   },
   "source": [
    "Series objects can are `dict`-like, we can access and update entries via keys"
   ]
  },
  {
   "cell_type": "markdown",
   "id": "fa0e962f-b172-4636-beb2-6dc8717c1c4d",
   "metadata": {},
   "source": [
    "more information: https://pandas.pydata.org/docs/getting_started/index.html#getting-started"
   ]
  },
  {
   "cell_type": "markdown",
   "id": "6d4e0f8d-bde4-49ed-8416-5009cac6f5d3",
   "metadata": {},
   "source": []
  }
 ],
 "metadata": {
  "kernelspec": {
   "display_name": "Python 3 (ipykernel)",
   "language": "python",
   "name": "python3"
  },
  "language_info": {
   "codemirror_mode": {
    "name": "ipython",
    "version": 3
   },
   "file_extension": ".py",
   "mimetype": "text/x-python",
   "name": "python",
   "nbconvert_exporter": "python",
   "pygments_lexer": "ipython3",
   "version": "3.11.3"
  }
 },
 "nbformat": 4,
 "nbformat_minor": 5
}
