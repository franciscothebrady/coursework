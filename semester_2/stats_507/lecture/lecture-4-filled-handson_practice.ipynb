{
  "cells": [
    {
      "cell_type": "markdown",
      "id": "edc372bd",
      "metadata": {
        "id": "edc372bd"
      },
      "source": [
        "# STATS 507\n",
        "\n",
        "Let us practice applying the following concepts:\n",
        "* using `zip` function\n",
        "* using `map` and `reduce` functions\n",
        "* working with files"
      ]
    },
    {
      "cell_type": "markdown",
      "id": "668304c1",
      "metadata": {
        "id": "668304c1"
      },
      "source": [
        "### List comprehension exercise\n",
        "\n",
        "Use a list comprehension to collect a list of lengths of the words and the word itself as a tuple\n",
        "```\n",
        "fruits = ['orange', 'mango', 'banana', 'apple', 'strawberry']\n",
        "\n",
        "```\n"
      ]
    },
    {
      "cell_type": "code",
      "execution_count": null,
      "id": "82a78016-37e2-4c9d-a1d7-47f411059916",
      "metadata": {
        "id": "82a78016-37e2-4c9d-a1d7-47f411059916"
      },
      "outputs": [],
      "source": [
        "fruits = ['orange', 'mango', 'banana', 'apple', 'strawberry']\n",
        "fruit_lengths = [(len(fruit), fruit) for fruit in fruits]"
      ]
    },
    {
      "cell_type": "code",
      "source": [
        "fruit_lengths == [(6, 'orange'), (5, 'mango'), (6, 'banana'), (5, 'apple'), (10, 'strawberry')]"
      ],
      "metadata": {
        "id": "gJxjKrAJ3QyB",
        "colab": {
          "base_uri": "https://localhost:8080/"
        },
        "outputId": "844b5160-c6df-4bc0-a9f4-f940af617cae"
      },
      "id": "gJxjKrAJ3QyB",
      "execution_count": null,
      "outputs": [
        {
          "output_type": "execute_result",
          "data": {
            "text/plain": [
              "True"
            ]
          },
          "metadata": {},
          "execution_count": 2
        }
      ]
    },
    {
      "cell_type": "markdown",
      "source": [
        "### use `map` to get the same result"
      ],
      "metadata": {
        "id": "CZKxLrva83SR"
      },
      "id": "CZKxLrva83SR"
    },
    {
      "cell_type": "code",
      "source": [
        "def my_function(x):\n",
        "  return (len(x), x)\n",
        "fruit_lenghts = list(map(my_function, fruits ))\n",
        "fruit_lengths"
      ],
      "metadata": {
        "colab": {
          "base_uri": "https://localhost:8080/"
        },
        "id": "wd5c-aJ886dj",
        "outputId": "68f2b865-ea0d-43ca-8d18-cbf7a683fc1c"
      },
      "id": "wd5c-aJ886dj",
      "execution_count": null,
      "outputs": [
        {
          "output_type": "execute_result",
          "data": {
            "text/plain": [
              "[(6, 'orange'), (5, 'mango'), (6, 'banana'), (5, 'apple'), (10, 'strawberry')]"
            ]
          },
          "metadata": {},
          "execution_count": 4
        }
      ]
    },
    {
      "cell_type": "markdown",
      "source": [
        "## Examples of using `reduce`\n",
        "\n",
        "* Product of Elements in a List:\n",
        "Write a function that uses reduce to find the product of elements in a list.\n",
        "\n"
      ],
      "metadata": {
        "id": "FMJSENKo-xFI"
      },
      "id": "FMJSENKo-xFI"
    },
    {
      "cell_type": "code",
      "source": [
        "# using lambda\n",
        "from functools import reduce\n",
        "numbers = [2, 5, 7]\n",
        "\n",
        "reduce(lambda x,y: x * y, numbers)"
      ],
      "metadata": {
        "colab": {
          "base_uri": "https://localhost:8080/"
        },
        "id": "XPvXl9x4-2f4",
        "outputId": "e464bb06-1338-4e13-f80b-0eff1a6e86b7"
      },
      "id": "XPvXl9x4-2f4",
      "execution_count": null,
      "outputs": [
        {
          "output_type": "execute_result",
          "data": {
            "text/plain": [
              "70"
            ]
          },
          "metadata": {},
          "execution_count": 5
        }
      ]
    },
    {
      "cell_type": "markdown",
      "source": [
        "### Example of a sparse vector\n",
        "\n",
        "A sparse vector is a vector in which most of the elements are zero or some default value. In contrast, a dense vector is one where most of the elements have non-zero values.\n",
        "\n",
        "Sparse vectors are common in various applications, including natural language processing, machine learning, and scientific computing, where they can significantly reduce memory usage and computation time when handling large datasets.\n",
        "\n",
        "A dictionary to store only the non-zero elements is often used to represent sparse vectors for efficiency. The key is the index position and the value is the value of the vector element\n",
        "\n",
        "Write a function that compares two sparse vectors represented as dictionaries to determine if they are equal."
      ],
      "metadata": {
        "id": "NPmmdnHMBK3g"
      },
      "id": "NPmmdnHMBK3g"
    },
    {
      "cell_type": "code",
      "source": [
        "# long form that can be simplified\n",
        "def sparse_vector_equal(d1, d2):\n",
        "  return d1.keys() == d2.keys() and all([d1[k] == d2.get(k) for k in d1])\n"
      ],
      "metadata": {
        "id": "MI3TP11_BQ8g"
      },
      "id": "MI3TP11_BQ8g",
      "execution_count": null,
      "outputs": []
    },
    {
      "cell_type": "code",
      "source": [
        "# Refer: https://docs.python.org/2/library/stdtypes.html#mapping-types-dict\n",
        "# simplified\n",
        "def sparse_vector_equal(d1, d2):\n",
        "  return d1 == d2\n",
        "\n",
        "# But this one will fail for entries that have '0' value"
      ],
      "metadata": {
        "id": "FqNNdZJrfG8L"
      },
      "id": "FqNNdZJrfG8L",
      "execution_count": 34,
      "outputs": []
    },
    {
      "cell_type": "code",
      "source": [
        "d1 = {1:10, 2:100}\n",
        "d2 = {1:10, 2:100}\n",
        "d3 = {3:10, 4:100}\n",
        "d4 = {1:10, 2:100, 3:300}\n",
        "\n",
        "sparse_vector1 = {0: 2, 1: 0, 2: 5, 3: 0, 4: 1}\n",
        "sparse_vector2 = {5: 0, 0: 2,  4: 1, 1: 0, 2: 5, 3: 0}\n",
        "\n",
        "assert sparse_vector_equal(d1, d2)\n",
        "assert sparse_vector_equal(d1, d3) == False\n",
        "assert sparse_vector_equal(d1, d4) == False\n",
        "assert sparse_vector_equal(sparse_vector1, sparse_vector2)"
      ],
      "metadata": {
        "id": "Zb7CHgK8DNA4",
        "colab": {
          "base_uri": "https://localhost:8080/"
        },
        "outputId": "e7b65686-4d95-4c15-d6f4-1ada4a91162a"
      },
      "id": "Zb7CHgK8DNA4",
      "execution_count": 42,
      "outputs": [
        {
          "output_type": "stream",
          "name": "stdout",
          "text": [
            "{(2, 100), (1, 10)} {(2, 100), (1, 10)}\n",
            "{(2, 100), (1, 10)} {(4, 100), (3, 10)}\n",
            "{(2, 100), (1, 10)} {(2, 100), (1, 10), (3, 300)}\n",
            "{(0, 2), (2, 5), (4, 1)} {(0, 2), (2, 5), (4, 1)}\n"
          ]
        }
      ]
    },
    {
      "cell_type": "code",
      "source": [
        "def sparse_vector_equal(vector1, vector2):\n",
        "    # Filter out the non-zero values from the dictionaries and then compare\n",
        "    non_zero_elements_1 = set(filter(lambda item: item[1] != 0, vector1.items()))\n",
        "    non_zero_elements_2 = set(filter(lambda item: item[1] != 0, vector2.items()))\n",
        "    print(non_zero_elements_1, non_zero_elements_2)\n",
        "    return non_zero_elements_1 == non_zero_elements_2\n"
      ],
      "metadata": {
        "id": "Jmcp-Fcl7LwD"
      },
      "id": "Jmcp-Fcl7LwD",
      "execution_count": 41,
      "outputs": []
    },
    {
      "cell_type": "markdown",
      "source": [
        "# `str` methods examples\n"
      ],
      "metadata": {
        "id": "V6i27LGQDTdC"
      },
      "id": "V6i27LGQDTdC"
    },
    {
      "cell_type": "code",
      "source": [
        "import string\n",
        "print(string.ascii_letters)\n",
        "print(string.ascii_lowercase)\n"
      ],
      "metadata": {
        "colab": {
          "base_uri": "https://localhost:8080/"
        },
        "id": "Ir6LpUTvDyz0",
        "outputId": "37f8045f-cbc5-4930-d00e-2a2bd42ed898"
      },
      "id": "Ir6LpUTvDyz0",
      "execution_count": 43,
      "outputs": [
        {
          "output_type": "stream",
          "name": "stdout",
          "text": [
            "abcdefghijklmnopqrstuvwxyzABCDEFGHIJKLMNOPQRSTUVWXYZ\n",
            "abcdefghijklmnopqrstuvwxyz\n"
          ]
        }
      ]
    },
    {
      "cell_type": "markdown",
      "source": [
        "## Using `maketrans` and `translate` simple example"
      ],
      "metadata": {
        "id": "Lrn2xCiUIQw1"
      },
      "id": "Lrn2xCiUIQw1"
    },
    {
      "cell_type": "code",
      "source": [
        "d = {'a':'c', 'b':'a', 'c':'z'}\n",
        "t1 = str.maketrans(d)\n",
        "print(type(t1))\n",
        "'abc'.translate(t1)\n"
      ],
      "metadata": {
        "colab": {
          "base_uri": "https://localhost:8080/",
          "height": 52
        },
        "id": "MSjYzaXtF0WR",
        "outputId": "9a2bb418-4c17-4a85-fad5-80edb3edf73c"
      },
      "id": "MSjYzaXtF0WR",
      "execution_count": 47,
      "outputs": [
        {
          "output_type": "stream",
          "name": "stdout",
          "text": [
            "<class 'dict'>\n"
          ]
        },
        {
          "output_type": "execute_result",
          "data": {
            "text/plain": [
              "'caz'"
            ],
            "application/vnd.google.colaboratory.intrinsic+json": {
              "type": "string"
            }
          },
          "metadata": {},
          "execution_count": 47
        }
      ]
    },
    {
      "cell_type": "code",
      "source": [
        "t2 = str.maketrans('abc', 'xyz')\n",
        "'cab'.translate(t2)"
      ],
      "metadata": {
        "colab": {
          "base_uri": "https://localhost:8080/",
          "height": 36
        },
        "id": "fSYDr0qXIu43",
        "outputId": "29109211-c268-4fa6-88ce-d0e24b91b6e8"
      },
      "id": "fSYDr0qXIu43",
      "execution_count": null,
      "outputs": [
        {
          "output_type": "execute_result",
          "data": {
            "text/plain": [
              "'zxy'"
            ],
            "application/vnd.google.colaboratory.intrinsic+json": {
              "type": "string"
            }
          },
          "metadata": {},
          "execution_count": 48
        }
      ]
    },
    {
      "cell_type": "code",
      "source": [
        "string.ascii_lowercase[10:] + string.ascii_lowercase[:10]"
      ],
      "metadata": {
        "colab": {
          "base_uri": "https://localhost:8080/",
          "height": 36
        },
        "id": "_CRX2x5cGsWp",
        "outputId": "3c8f7c33-5ecc-469b-918f-4d6129f6e24d"
      },
      "id": "_CRX2x5cGsWp",
      "execution_count": null,
      "outputs": [
        {
          "output_type": "execute_result",
          "data": {
            "text/plain": [
              "'klmnopqrstuvwxyzabcdefghij'"
            ],
            "application/vnd.google.colaboratory.intrinsic+json": {
              "type": "string"
            }
          },
          "metadata": {},
          "execution_count": 47
        }
      ]
    },
    {
      "cell_type": "markdown",
      "source": [
        "### using `join` method of string\n",
        "\n",
        "Join all the words to form one word without using a loop"
      ],
      "metadata": {
        "id": "mxoX38qJJY44"
      },
      "id": "mxoX38qJJY44"
    },
    {
      "cell_type": "code",
      "source": [
        "fruits = ['orange', 'mango', 'banana', 'apple', 'strawberry']\n",
        "\"\".join(fruits)"
      ],
      "metadata": {
        "id": "Z5bPGaMZJb7H",
        "colab": {
          "base_uri": "https://localhost:8080/",
          "height": 35
        },
        "outputId": "85c8e187-4be4-4900-a622-157bb2da55a5"
      },
      "id": "Z5bPGaMZJb7H",
      "execution_count": 48,
      "outputs": [
        {
          "output_type": "execute_result",
          "data": {
            "text/plain": [
              "'orangemangobananaapplestrawberry'"
            ],
            "application/vnd.google.colaboratory.intrinsic+json": {
              "type": "string"
            }
          },
          "metadata": {},
          "execution_count": 48
        }
      ]
    },
    {
      "cell_type": "markdown",
      "source": [
        "## More `itertools` example"
      ],
      "metadata": {
        "id": "deFx17DiKcJr"
      },
      "id": "deFx17DiKcJr"
    },
    {
      "cell_type": "code",
      "source": [
        "import itertools as it\n",
        "x = it.count(0)\n",
        "next(x)"
      ],
      "metadata": {
        "colab": {
          "base_uri": "https://localhost:8080/"
        },
        "id": "8q-1y5A8KC1-",
        "outputId": "d5111fd0-969e-4b46-fc2e-e2e6728b0fbf"
      },
      "id": "8q-1y5A8KC1-",
      "execution_count": 50,
      "outputs": [
        {
          "output_type": "execute_result",
          "data": {
            "text/plain": [
              "0"
            ]
          },
          "metadata": {},
          "execution_count": 50
        }
      ]
    },
    {
      "cell_type": "code",
      "source": [
        "next(x)"
      ],
      "metadata": {
        "colab": {
          "base_uri": "https://localhost:8080/"
        },
        "id": "6RJOZZCVKm1a",
        "outputId": "676ab053-e9db-4c7a-8c24-c479db3b17ac"
      },
      "id": "6RJOZZCVKm1a",
      "execution_count": 56,
      "outputs": [
        {
          "output_type": "execute_result",
          "data": {
            "text/plain": [
              "6"
            ]
          },
          "metadata": {},
          "execution_count": 56
        }
      ]
    },
    {
      "cell_type": "code",
      "source": [
        "d = it.repeat('b', 3)\n",
        "d"
      ],
      "metadata": {
        "id": "seJpdrOGKIom",
        "colab": {
          "base_uri": "https://localhost:8080/"
        },
        "outputId": "df530307-5616-408a-eda8-f71d26e09346"
      },
      "id": "seJpdrOGKIom",
      "execution_count": 57,
      "outputs": [
        {
          "output_type": "execute_result",
          "data": {
            "text/plain": [
              "repeat('b', 3)"
            ]
          },
          "metadata": {},
          "execution_count": 57
        }
      ]
    },
    {
      "cell_type": "code",
      "source": [
        "\"\".join(d)"
      ],
      "metadata": {
        "colab": {
          "base_uri": "https://localhost:8080/",
          "height": 36
        },
        "id": "aQAlE_XdKwKs",
        "outputId": "50eec6a8-2904-4f12-bb65-f3b0fa27f2b9"
      },
      "id": "aQAlE_XdKwKs",
      "execution_count": null,
      "outputs": [
        {
          "output_type": "execute_result",
          "data": {
            "text/plain": [
              "'bbb'"
            ],
            "application/vnd.google.colaboratory.intrinsic+json": {
              "type": "string"
            }
          },
          "metadata": {},
          "execution_count": 84
        }
      ]
    },
    {
      "cell_type": "code",
      "source": [
        "# flattening multiple iterables\n",
        "from_iterable = it.chain.from_iterable(['umich',\n",
        "                                     'stats',\n",
        "                                     [5,0,7]])\n",
        "\n",
        "# flattened iterable\n",
        "list(from_iterable)"
      ],
      "metadata": {
        "colab": {
          "base_uri": "https://localhost:8080/"
        },
        "id": "mNrkgSqYKStf",
        "outputId": "7ef98668-aa20-494a-db0d-d3b611bf25bc"
      },
      "id": "mNrkgSqYKStf",
      "execution_count": null,
      "outputs": [
        {
          "output_type": "execute_result",
          "data": {
            "text/plain": [
              "['u', 'm', 'i', 'c', 'h', 's', 't', 'a', 't', 's', 5, 0, 7]"
            ]
          },
          "metadata": {},
          "execution_count": 101
        }
      ]
    },
    {
      "cell_type": "markdown",
      "source": [
        "### Using default dictionary"
      ],
      "metadata": {
        "id": "BYELspn_Tlnh"
      },
      "id": "BYELspn_Tlnh"
    },
    {
      "cell_type": "code",
      "source": [
        "import collections\n",
        "default_d = collections.defaultdict(lambda: 'No element')\n",
        "print(default_d)\n",
        "default_d['a']"
      ],
      "metadata": {
        "colab": {
          "base_uri": "https://localhost:8080/",
          "height": 52
        },
        "id": "rOYDp-51RHZ8",
        "outputId": "3fbfeb65-5ea7-4189-b346-fef54893ff5a"
      },
      "id": "rOYDp-51RHZ8",
      "execution_count": 64,
      "outputs": [
        {
          "output_type": "stream",
          "name": "stdout",
          "text": [
            "defaultdict(<function <lambda> at 0x7a81891c7b50>, {})\n"
          ]
        },
        {
          "output_type": "execute_result",
          "data": {
            "text/plain": [
              "'No element'"
            ],
            "application/vnd.google.colaboratory.intrinsic+json": {
              "type": "string"
            }
          },
          "metadata": {},
          "execution_count": 64
        }
      ]
    },
    {
      "cell_type": "code",
      "source": [
        "d_1 = {1: 'a'}\n",
        "d_1[1] = 'b'\n",
        "\n",
        "d_1[2]"
      ],
      "metadata": {
        "colab": {
          "base_uri": "https://localhost:8080/",
          "height": 211
        },
        "id": "hf46bmrjIqPW",
        "outputId": "e0a17003-535e-4465-f747-d94f9ee80b69"
      },
      "id": "hf46bmrjIqPW",
      "execution_count": 62,
      "outputs": [
        {
          "output_type": "error",
          "ename": "KeyError",
          "evalue": "2",
          "traceback": [
            "\u001b[0;31m---------------------------------------------------------------------------\u001b[0m",
            "\u001b[0;31mKeyError\u001b[0m                                  Traceback (most recent call last)",
            "\u001b[0;32m<ipython-input-62-722160f3f886>\u001b[0m in \u001b[0;36m<cell line: 4>\u001b[0;34m()\u001b[0m\n\u001b[1;32m      2\u001b[0m \u001b[0md_1\u001b[0m\u001b[0;34m[\u001b[0m\u001b[0;36m1\u001b[0m\u001b[0;34m]\u001b[0m \u001b[0;34m=\u001b[0m \u001b[0;34m'b'\u001b[0m\u001b[0;34m\u001b[0m\u001b[0;34m\u001b[0m\u001b[0m\n\u001b[1;32m      3\u001b[0m \u001b[0;34m\u001b[0m\u001b[0m\n\u001b[0;32m----> 4\u001b[0;31m \u001b[0md_1\u001b[0m\u001b[0;34m[\u001b[0m\u001b[0;36m2\u001b[0m\u001b[0;34m]\u001b[0m\u001b[0;34m\u001b[0m\u001b[0;34m\u001b[0m\u001b[0m\n\u001b[0m",
            "\u001b[0;31mKeyError\u001b[0m: 2"
          ]
        }
      ]
    },
    {
      "cell_type": "markdown",
      "source": [
        "### examples using `max` function"
      ],
      "metadata": {
        "id": "0R7VEoOy8gl7"
      },
      "id": "0R7VEoOy8gl7"
    },
    {
      "cell_type": "code",
      "source": [
        "help(max)"
      ],
      "metadata": {
        "colab": {
          "base_uri": "https://localhost:8080/"
        },
        "id": "c8wg18aN9nkO",
        "outputId": "bcbad82f-f28d-48c4-e569-56768b54b001"
      },
      "id": "c8wg18aN9nkO",
      "execution_count": 30,
      "outputs": [
        {
          "output_type": "stream",
          "name": "stdout",
          "text": [
            "Help on built-in function max in module builtins:\n",
            "\n",
            "max(...)\n",
            "    max(iterable, *[, default=obj, key=func]) -> value\n",
            "    max(arg1, arg2, *args, *[, key=func]) -> value\n",
            "    \n",
            "    With a single iterable argument, return its biggest item. The\n",
            "    default keyword-only argument specifies an object to return if\n",
            "    the provided iterable is empty.\n",
            "    With two or more arguments, return the largest argument.\n",
            "\n"
          ]
        }
      ]
    },
    {
      "cell_type": "code",
      "source": [
        "print(max(1, 10, 14, 4))\n",
        "print(max([1, 10, 14, 4]))\n",
        "print(max([(1, 'a'), (5, 'c'), (5, 'z'), (5, 'a')]))\n",
        "\n",
        "d1 = {'a': 10, 'b' : 20, 'c': 5}\n",
        "max(d1, key = d1.get)"
      ],
      "metadata": {
        "colab": {
          "base_uri": "https://localhost:8080/",
          "height": 87
        },
        "id": "mYg3Gjec8kP_",
        "outputId": "59dec133-1712-4bd0-d877-af170387d13b"
      },
      "id": "mYg3Gjec8kP_",
      "execution_count": 31,
      "outputs": [
        {
          "output_type": "stream",
          "name": "stdout",
          "text": [
            "14\n",
            "14\n",
            "(5, 'z')\n"
          ]
        },
        {
          "output_type": "execute_result",
          "data": {
            "text/plain": [
              "'b'"
            ],
            "application/vnd.google.colaboratory.intrinsic+json": {
              "type": "string"
            }
          },
          "metadata": {},
          "execution_count": 31
        }
      ]
    },
    {
      "cell_type": "markdown",
      "id": "2269ff46",
      "metadata": {
        "id": "2269ff46"
      },
      "source": [
        "## Using other the built-in libraries\n",
        "Python has an extremely well developed collection of libraries built in. Often times, if you are doing something that seems rather simple and routine, chances are good that there is a built-in method or class that does it for you."
      ]
    },
    {
      "cell_type": "code",
      "execution_count": null,
      "id": "0b584f3c",
      "metadata": {
        "colab": {
          "base_uri": "https://localhost:8080/"
        },
        "id": "0b584f3c",
        "outputId": "b3bb2995-230c-4b23-c73c-1136156373b9"
      },
      "outputs": [
        {
          "output_type": "stream",
          "name": "stdout",
          "text": [
            "Help on class Counter in module collections:\n",
            "\n",
            "class Counter(builtins.dict)\n",
            " |  Counter(iterable=None, /, **kwds)\n",
            " |  \n",
            " |  Dict subclass for counting hashable items.  Sometimes called a bag\n",
            " |  or multiset.  Elements are stored as dictionary keys and their counts\n",
            " |  are stored as dictionary values.\n",
            " |  \n",
            " |  >>> c = Counter('abcdeabcdabcaba')  # count elements from a string\n",
            " |  \n",
            " |  >>> c.most_common(3)                # three most common elements\n",
            " |  [('a', 5), ('b', 4), ('c', 3)]\n",
            " |  >>> sorted(c)                       # list all unique elements\n",
            " |  ['a', 'b', 'c', 'd', 'e']\n",
            " |  >>> ''.join(sorted(c.elements()))   # list elements with repetitions\n",
            " |  'aaaaabbbbcccdde'\n",
            " |  >>> sum(c.values())                 # total of all counts\n",
            " |  15\n",
            " |  \n",
            " |  >>> c['a']                          # count of letter 'a'\n",
            " |  5\n",
            " |  >>> for elem in 'shazam':           # update counts from an iterable\n",
            " |  ...     c[elem] += 1                # by adding 1 to each element's count\n",
            " |  >>> c['a']                          # now there are seven 'a'\n",
            " |  7\n",
            " |  >>> del c['b']                      # remove all 'b'\n",
            " |  >>> c['b']                          # now there are zero 'b'\n",
            " |  0\n",
            " |  \n",
            " |  >>> d = Counter('simsalabim')       # make another counter\n",
            " |  >>> c.update(d)                     # add in the second counter\n",
            " |  >>> c['a']                          # now there are nine 'a'\n",
            " |  9\n",
            " |  \n",
            " |  >>> c.clear()                       # empty the counter\n",
            " |  >>> c\n",
            " |  Counter()\n",
            " |  \n",
            " |  Note:  If a count is set to zero or reduced to zero, it will remain\n",
            " |  in the counter until the entry is deleted or the counter is cleared:\n",
            " |  \n",
            " |  >>> c = Counter('aaabbc')\n",
            " |  >>> c['b'] -= 2                     # reduce the count of 'b' by two\n",
            " |  >>> c.most_common()                 # 'b' is still in, but its count is zero\n",
            " |  [('a', 3), ('c', 1), ('b', 0)]\n",
            " |  \n",
            " |  Method resolution order:\n",
            " |      Counter\n",
            " |      builtins.dict\n",
            " |      builtins.object\n",
            " |  \n",
            " |  Methods defined here:\n",
            " |  \n",
            " |  __add__(self, other)\n",
            " |      Add counts from two counters.\n",
            " |      \n",
            " |      >>> Counter('abbb') + Counter('bcc')\n",
            " |      Counter({'b': 4, 'c': 2, 'a': 1})\n",
            " |  \n",
            " |  __and__(self, other)\n",
            " |      Intersection is the minimum of corresponding counts.\n",
            " |      \n",
            " |      >>> Counter('abbb') & Counter('bcc')\n",
            " |      Counter({'b': 1})\n",
            " |  \n",
            " |  __delitem__(self, elem)\n",
            " |      Like dict.__delitem__() but does not raise KeyError for missing values.\n",
            " |  \n",
            " |  __eq__(self, other)\n",
            " |      True if all counts agree. Missing counts are treated as zero.\n",
            " |  \n",
            " |  __ge__(self, other)\n",
            " |      True if all counts in self are a superset of those in other.\n",
            " |  \n",
            " |  __gt__(self, other)\n",
            " |      True if all counts in self are a proper superset of those in other.\n",
            " |  \n",
            " |  __iadd__(self, other)\n",
            " |      Inplace add from another counter, keeping only positive counts.\n",
            " |      \n",
            " |      >>> c = Counter('abbb')\n",
            " |      >>> c += Counter('bcc')\n",
            " |      >>> c\n",
            " |      Counter({'b': 4, 'c': 2, 'a': 1})\n",
            " |  \n",
            " |  __iand__(self, other)\n",
            " |      Inplace intersection is the minimum of corresponding counts.\n",
            " |      \n",
            " |      >>> c = Counter('abbb')\n",
            " |      >>> c &= Counter('bcc')\n",
            " |      >>> c\n",
            " |      Counter({'b': 1})\n",
            " |  \n",
            " |  __init__(self, iterable=None, /, **kwds)\n",
            " |      Create a new, empty Counter object.  And if given, count elements\n",
            " |      from an input iterable.  Or, initialize the count from another mapping\n",
            " |      of elements to their counts.\n",
            " |      \n",
            " |      >>> c = Counter()                           # a new, empty counter\n",
            " |      >>> c = Counter('gallahad')                 # a new counter from an iterable\n",
            " |      >>> c = Counter({'a': 4, 'b': 2})           # a new counter from a mapping\n",
            " |      >>> c = Counter(a=4, b=2)                   # a new counter from keyword args\n",
            " |  \n",
            " |  __ior__(self, other)\n",
            " |      Inplace union is the maximum of value from either counter.\n",
            " |      \n",
            " |      >>> c = Counter('abbb')\n",
            " |      >>> c |= Counter('bcc')\n",
            " |      >>> c\n",
            " |      Counter({'b': 3, 'c': 2, 'a': 1})\n",
            " |  \n",
            " |  __isub__(self, other)\n",
            " |      Inplace subtract counter, but keep only results with positive counts.\n",
            " |      \n",
            " |      >>> c = Counter('abbbc')\n",
            " |      >>> c -= Counter('bccd')\n",
            " |      >>> c\n",
            " |      Counter({'b': 2, 'a': 1})\n",
            " |  \n",
            " |  __le__(self, other)\n",
            " |      True if all counts in self are a subset of those in other.\n",
            " |  \n",
            " |  __lt__(self, other)\n",
            " |      True if all counts in self are a proper subset of those in other.\n",
            " |  \n",
            " |  __missing__(self, key)\n",
            " |      The count of elements not in the Counter is zero.\n",
            " |  \n",
            " |  __ne__(self, other)\n",
            " |      True if any counts disagree. Missing counts are treated as zero.\n",
            " |  \n",
            " |  __neg__(self)\n",
            " |      Subtracts from an empty counter.  Strips positive and zero counts,\n",
            " |      and flips the sign on negative counts.\n",
            " |  \n",
            " |  __or__(self, other)\n",
            " |      Union is the maximum of value in either of the input counters.\n",
            " |      \n",
            " |      >>> Counter('abbb') | Counter('bcc')\n",
            " |      Counter({'b': 3, 'c': 2, 'a': 1})\n",
            " |  \n",
            " |  __pos__(self)\n",
            " |      Adds an empty counter, effectively stripping negative and zero counts\n",
            " |  \n",
            " |  __reduce__(self)\n",
            " |      Helper for pickle.\n",
            " |  \n",
            " |  __repr__(self)\n",
            " |      Return repr(self).\n",
            " |  \n",
            " |  __sub__(self, other)\n",
            " |      Subtract count, but keep only results with positive counts.\n",
            " |      \n",
            " |      >>> Counter('abbbc') - Counter('bccd')\n",
            " |      Counter({'b': 2, 'a': 1})\n",
            " |  \n",
            " |  copy(self)\n",
            " |      Return a shallow copy.\n",
            " |  \n",
            " |  elements(self)\n",
            " |      Iterator over elements repeating each as many times as its count.\n",
            " |      \n",
            " |      >>> c = Counter('ABCABC')\n",
            " |      >>> sorted(c.elements())\n",
            " |      ['A', 'A', 'B', 'B', 'C', 'C']\n",
            " |      \n",
            " |      # Knuth's example for prime factors of 1836:  2**2 * 3**3 * 17**1\n",
            " |      >>> prime_factors = Counter({2: 2, 3: 3, 17: 1})\n",
            " |      >>> product = 1\n",
            " |      >>> for factor in prime_factors.elements():     # loop over factors\n",
            " |      ...     product *= factor                       # and multiply them\n",
            " |      >>> product\n",
            " |      1836\n",
            " |      \n",
            " |      Note, if an element's count has been set to zero or is a negative\n",
            " |      number, elements() will ignore it.\n",
            " |  \n",
            " |  most_common(self, n=None)\n",
            " |      List the n most common elements and their counts from the most\n",
            " |      common to the least.  If n is None, then list all element counts.\n",
            " |      \n",
            " |      >>> Counter('abracadabra').most_common(3)\n",
            " |      [('a', 5), ('b', 2), ('r', 2)]\n",
            " |  \n",
            " |  subtract(self, iterable=None, /, **kwds)\n",
            " |      Like dict.update() but subtracts counts instead of replacing them.\n",
            " |      Counts can be reduced below zero.  Both the inputs and outputs are\n",
            " |      allowed to contain zero and negative counts.\n",
            " |      \n",
            " |      Source can be an iterable, a dictionary, or another Counter instance.\n",
            " |      \n",
            " |      >>> c = Counter('which')\n",
            " |      >>> c.subtract('witch')             # subtract elements from another iterable\n",
            " |      >>> c.subtract(Counter('watch'))    # subtract elements from another counter\n",
            " |      >>> c['h']                          # 2 in which, minus 1 in witch, minus 1 in watch\n",
            " |      0\n",
            " |      >>> c['w']                          # 1 in which, minus 1 in witch, minus 1 in watch\n",
            " |      -1\n",
            " |  \n",
            " |  total(self)\n",
            " |      Sum of the counts\n",
            " |  \n",
            " |  update(self, iterable=None, /, **kwds)\n",
            " |      Like dict.update() but add counts instead of replacing them.\n",
            " |      \n",
            " |      Source can be an iterable, a dictionary, or another Counter instance.\n",
            " |      \n",
            " |      >>> c = Counter('which')\n",
            " |      >>> c.update('witch')           # add elements from another iterable\n",
            " |      >>> d = Counter('watch')\n",
            " |      >>> c.update(d)                 # add elements from another counter\n",
            " |      >>> c['h']                      # four 'h' in which, witch, and watch\n",
            " |      4\n",
            " |  \n",
            " |  ----------------------------------------------------------------------\n",
            " |  Class methods defined here:\n",
            " |  \n",
            " |  fromkeys(iterable, v=None) from builtins.type\n",
            " |      Create a new dictionary with keys from iterable and values set to value.\n",
            " |  \n",
            " |  ----------------------------------------------------------------------\n",
            " |  Data descriptors defined here:\n",
            " |  \n",
            " |  __dict__\n",
            " |      dictionary for instance variables (if defined)\n",
            " |  \n",
            " |  __weakref__\n",
            " |      list of weak references to the object (if defined)\n",
            " |  \n",
            " |  ----------------------------------------------------------------------\n",
            " |  Data and other attributes defined here:\n",
            " |  \n",
            " |  __hash__ = None\n",
            " |  \n",
            " |  ----------------------------------------------------------------------\n",
            " |  Methods inherited from builtins.dict:\n",
            " |  \n",
            " |  __contains__(self, key, /)\n",
            " |      True if the dictionary has the specified key, else False.\n",
            " |  \n",
            " |  __getattribute__(self, name, /)\n",
            " |      Return getattr(self, name).\n",
            " |  \n",
            " |  __getitem__(...)\n",
            " |      x.__getitem__(y) <==> x[y]\n",
            " |  \n",
            " |  __iter__(self, /)\n",
            " |      Implement iter(self).\n",
            " |  \n",
            " |  __len__(self, /)\n",
            " |      Return len(self).\n",
            " |  \n",
            " |  __reversed__(self, /)\n",
            " |      Return a reverse iterator over the dict keys.\n",
            " |  \n",
            " |  __ror__(self, value, /)\n",
            " |      Return value|self.\n",
            " |  \n",
            " |  __setitem__(self, key, value, /)\n",
            " |      Set self[key] to value.\n",
            " |  \n",
            " |  __sizeof__(...)\n",
            " |      D.__sizeof__() -> size of D in memory, in bytes\n",
            " |  \n",
            " |  clear(...)\n",
            " |      D.clear() -> None.  Remove all items from D.\n",
            " |  \n",
            " |  get(self, key, default=None, /)\n",
            " |      Return the value for key if key is in the dictionary, else default.\n",
            " |  \n",
            " |  items(...)\n",
            " |      D.items() -> a set-like object providing a view on D's items\n",
            " |  \n",
            " |  keys(...)\n",
            " |      D.keys() -> a set-like object providing a view on D's keys\n",
            " |  \n",
            " |  pop(...)\n",
            " |      D.pop(k[,d]) -> v, remove specified key and return the corresponding value.\n",
            " |      \n",
            " |      If the key is not found, return the default if given; otherwise,\n",
            " |      raise a KeyError.\n",
            " |  \n",
            " |  popitem(self, /)\n",
            " |      Remove and return a (key, value) pair as a 2-tuple.\n",
            " |      \n",
            " |      Pairs are returned in LIFO (last-in, first-out) order.\n",
            " |      Raises KeyError if the dict is empty.\n",
            " |  \n",
            " |  setdefault(self, key, default=None, /)\n",
            " |      Insert key with a value of default if key is not in the dictionary.\n",
            " |      \n",
            " |      Return the value for key if key is in the dictionary, else default.\n",
            " |  \n",
            " |  values(...)\n",
            " |      D.values() -> an object providing a view on D's values\n",
            " |  \n",
            " |  ----------------------------------------------------------------------\n",
            " |  Class methods inherited from builtins.dict:\n",
            " |  \n",
            " |  __class_getitem__(...) from builtins.type\n",
            " |      See PEP 585\n",
            " |  \n",
            " |  ----------------------------------------------------------------------\n",
            " |  Static methods inherited from builtins.dict:\n",
            " |  \n",
            " |  __new__(*args, **kwargs) from builtins.type\n",
            " |      Create and return a new object.  See help(type) for accurate signature.\n",
            "\n"
          ]
        }
      ],
      "source": [
        "from collections import Counter\n",
        "\n",
        "help(Counter)"
      ]
    },
    {
      "cell_type": "code",
      "execution_count": null,
      "id": "46f900ab",
      "metadata": {
        "colab": {
          "base_uri": "https://localhost:8080/"
        },
        "id": "46f900ab",
        "outputId": "86e9e265-86ac-48a0-e30d-1e97352b1872"
      },
      "outputs": [
        {
          "output_type": "execute_result",
          "data": {
            "text/plain": [
              "([(1, 3), (2, 3)],)"
            ]
          },
          "metadata": {},
          "execution_count": 62
        }
      ],
      "source": [
        "def mode(x):\n",
        "    \"returns a mode of numerical sequence x\"\n",
        "    return tuple([Counter(x).most_common(2)])\n",
        "mode([1, 1, 1, 2, 2, 2, 3, 4])"
      ]
    },
    {
      "cell_type": "markdown",
      "id": "2679b4dd",
      "metadata": {
        "id": "2679b4dd"
      },
      "source": [
        "# Harry Potter\n",
        "The file `hp1.txt` contains the full text to book one of Harry Potter:"
      ]
    },
    {
      "cell_type": "code",
      "execution_count": 65,
      "id": "30b54251",
      "metadata": {
        "id": "30b54251",
        "outputId": "ea933b5d-3943-40ec-ae88-e42fb9ebb60c",
        "colab": {
          "base_uri": "https://localhost:8080/"
        }
      },
      "outputs": [
        {
          "output_type": "execute_result",
          "data": {
            "text/plain": [
              "[\"Harry Potter and the Sorcerer's Stone\\n\",\n",
              " '\\n',\n",
              " '\\n',\n",
              " 'CHAPTER ONE\\n',\n",
              " '\\n',\n",
              " 'THE BOY WHO LIVED\\n',\n",
              " '\\n',\n",
              " 'Mr. and Mrs. Dursley, of number four, Privet Drive, were proud to say\\n',\n",
              " 'that they were perfectly normal, thank you very much. They were the last\\n',\n",
              " \"people you'd expect to be involved in anything strange or mysterious,\\n\"]"
            ]
          },
          "metadata": {},
          "execution_count": 65
        }
      ],
      "source": [
        "hp1 = list(open(\"hp1.txt\", \"rt\"))\n",
        "hp1[:10]"
      ]
    },
    {
      "cell_type": "code",
      "execution_count": 66,
      "id": "47126585",
      "metadata": {
        "id": "47126585"
      },
      "outputs": [],
      "source": [
        "all_words = [word for line in hp1 for word in line.strip().split(\" \") if word]"
      ]
    },
    {
      "cell_type": "code",
      "execution_count": 67,
      "id": "fd509a5f",
      "metadata": {
        "id": "fd509a5f"
      },
      "outputs": [],
      "source": [
        "from collections import Counter\n",
        "c = Counter(all_words)"
      ]
    },
    {
      "cell_type": "markdown",
      "source": [
        "### find the 10 words that occur the most"
      ],
      "metadata": {
        "id": "-zNMbXhMt8xf"
      },
      "id": "-zNMbXhMt8xf"
    },
    {
      "cell_type": "code",
      "execution_count": 68,
      "id": "46708d05",
      "metadata": {
        "id": "46708d05",
        "colab": {
          "base_uri": "https://localhost:8080/"
        },
        "outputId": "c267dc71-811d-4fb9-a382-e930094b1208"
      },
      "outputs": [
        {
          "output_type": "execute_result",
          "data": {
            "text/plain": [
              "[('the', 3306),\n",
              " ('to', 1827),\n",
              " ('and', 1787),\n",
              " ('a', 1577),\n",
              " ('of', 1235),\n",
              " ('was', 1148),\n",
              " ('he', 1018),\n",
              " ('Harry', 903),\n",
              " ('in', 898),\n",
              " ('his', 893)]"
            ]
          },
          "metadata": {},
          "execution_count": 68
        }
      ],
      "source": [
        "c.most_common(10)"
      ]
    },
    {
      "cell_type": "markdown",
      "source": [
        "## Stopwords\n",
        "The top ten most common words are mostly uninteresting -- with the exception of \"Harry\" they are simply the most common words in the English language. It would be better to study the most common words that are specific to this particular novel. In order to do that, we will utilize a list of so-called \"stopwords\" which occur most common in English."
      ],
      "metadata": {
        "id": "OTmFVW8f1kRW"
      },
      "id": "OTmFVW8f1kRW"
    },
    {
      "cell_type": "code",
      "execution_count": 69,
      "id": "1da3f5bf",
      "metadata": {
        "id": "1da3f5bf"
      },
      "outputs": [],
      "source": [
        "stopwords = [line.strip() for line in open(\"stopwords.txt\", \"rt\")]"
      ]
    },
    {
      "cell_type": "code",
      "source": [
        "stopwords = set(stopwords)"
      ],
      "metadata": {
        "id": "oeZmmMsA7M2-"
      },
      "id": "oeZmmMsA7M2-",
      "execution_count": 71,
      "outputs": []
    },
    {
      "cell_type": "code",
      "source": [
        "type(stopwords)"
      ],
      "metadata": {
        "colab": {
          "base_uri": "https://localhost:8080/"
        },
        "id": "_9Lh8FsA62Gp",
        "outputId": "d05e28f6-d155-48e0-9e0b-b8fc0f22d522"
      },
      "id": "_9Lh8FsA62Gp",
      "execution_count": 72,
      "outputs": [
        {
          "output_type": "execute_result",
          "data": {
            "text/plain": [
              "set"
            ]
          },
          "metadata": {},
          "execution_count": 72
        }
      ]
    },
    {
      "cell_type": "markdown",
      "source": [
        "### remove all the stop words from all_words. E.g., of stop words include\n",
        "* articles; 'the', 'a' ...\n",
        "* connectives; 'and', 'or' ...\n",
        "* prepositions; 'in', 'at' ..."
      ],
      "metadata": {
        "id": "mP181w-muHSP"
      },
      "id": "mP181w-muHSP"
    },
    {
      "cell_type": "code",
      "execution_count": 73,
      "id": "7a18e4e2",
      "metadata": {
        "id": "7a18e4e2"
      },
      "outputs": [],
      "source": [
        "uncommon_words = [word for word in all_words if word not in stopwords]"
      ]
    },
    {
      "cell_type": "code",
      "source": [
        "Counter(uncommon_words).most_common(10)"
      ],
      "metadata": {
        "colab": {
          "base_uri": "https://localhost:8080/"
        },
        "id": "BIIeymvh6d0I",
        "outputId": "4e7f051e-6921-4a6e-a0d2-d081a4a61759"
      },
      "id": "BIIeymvh6d0I",
      "execution_count": 74,
      "outputs": [
        {
          "output_type": "execute_result",
          "data": {
            "text/plain": [
              "[('Harry', 903),\n",
              " ('--', 688),\n",
              " ('said', 659),\n",
              " ('I', 499),\n",
              " ('He', 468),\n",
              " ('The', 260),\n",
              " ('Ron', 249),\n",
              " ('back', 210),\n",
              " ('Hagrid', 196),\n",
              " ('It', 195)]"
            ]
          },
          "metadata": {},
          "execution_count": 74
        }
      ]
    },
    {
      "cell_type": "markdown",
      "source": [
        "## Find the most common 20 proper names that are at least 5 characters long\n",
        "* you can assume that a proper name starts with an upper case letter"
      ],
      "metadata": {
        "id": "WLABwY_c0QJC"
      },
      "id": "WLABwY_c0QJC"
    },
    {
      "cell_type": "code",
      "source": [
        "import string\n",
        "string.ascii_uppercase"
      ],
      "metadata": {
        "colab": {
          "base_uri": "https://localhost:8080/",
          "height": 36
        },
        "id": "i5Z-BmKH8BR6",
        "outputId": "8e0ef4b0-748d-42a2-d537-fb05a97c857e"
      },
      "id": "i5Z-BmKH8BR6",
      "execution_count": null,
      "outputs": [
        {
          "output_type": "execute_result",
          "data": {
            "text/plain": [
              "'ABCDEFGHIJKLMNOPQRSTUVWXYZ'"
            ],
            "application/vnd.google.colaboratory.intrinsic+json": {
              "type": "string"
            }
          },
          "metadata": {},
          "execution_count": 147
        }
      ]
    },
    {
      "cell_type": "code",
      "source": [
        "def clean_up(x):\n",
        "  if len(x) < 5:\n",
        "    return False\n",
        "  if x[0] not in string.ascii_uppercase:\n",
        "    return False\n",
        "  return True\n",
        "uncommon_words = list(filter(clean_up, uncommon_words))"
      ],
      "metadata": {
        "id": "bWt9fxIY7eT9"
      },
      "id": "bWt9fxIY7eT9",
      "execution_count": 75,
      "outputs": []
    },
    {
      "cell_type": "code",
      "execution_count": 76,
      "id": "274cfbde",
      "metadata": {
        "id": "274cfbde",
        "colab": {
          "base_uri": "https://localhost:8080/"
        },
        "outputId": "1df2271e-d775-48f0-b15b-c01d16eb4607"
      },
      "outputs": [
        {
          "output_type": "execute_result",
          "data": {
            "text/plain": [
              "[('Harry', 903),\n",
              " ('Hagrid', 196),\n",
              " ('Hermione', 175),\n",
              " ('Professor', 161),\n",
              " ('Harry,', 134),\n",
              " ('Harry.', 115),\n",
              " ('Uncle', 111),\n",
              " (\"Harry's\", 107),\n",
              " ('Snape', 106),\n",
              " ('Dudley', 95),\n",
              " ('Dumbledore', 82),\n",
              " ('Vernon', 72),\n",
              " ('Quirrell', 68),\n",
              " ('McGonagall', 66),\n",
              " ('Hagrid,', 65),\n",
              " ('Malfoy', 63),\n",
              " ('There', 61),\n",
              " ('Gryffindor', 60),\n",
              " ('Neville', 53),\n",
              " ('Quidditch', 47)]"
            ]
          },
          "metadata": {},
          "execution_count": 76
        }
      ],
      "source": [
        "Counter(\n",
        "   uncommon_words\n",
        ").most_common(20)"
      ]
    },
    {
      "cell_type": "markdown",
      "source": [
        "What other issues do you see in the words? Hint: Harry count is twice..\n",
        "continue fixing your function to clean up more"
      ],
      "metadata": {
        "id": "5HCjSXNQd81T"
      },
      "id": "5HCjSXNQd81T"
    },
    {
      "cell_type": "code",
      "execution_count": 77,
      "id": "41a0b47f",
      "metadata": {
        "id": "41a0b47f"
      },
      "outputs": [],
      "source": [
        "filtered_words = [word.replace(\"'s\", \"\"). replace(\",\", \"\").replace(\".\", \"\") for word in uncommon_words]"
      ]
    },
    {
      "cell_type": "code",
      "source": [
        "Counter(\n",
        "   filtered_words\n",
        ").most_common(20)"
      ],
      "metadata": {
        "id": "VpSr3EfwXbbT",
        "colab": {
          "base_uri": "https://localhost:8080/"
        },
        "outputId": "a3291646-d3f2-4d65-aa01-892b3d9c2cd6"
      },
      "id": "VpSr3EfwXbbT",
      "execution_count": 78,
      "outputs": [
        {
          "output_type": "execute_result",
          "data": {
            "text/plain": [
              "[('Harry', 1264),\n",
              " ('Hagrid', 333),\n",
              " ('Hermione', 254),\n",
              " ('Professor', 165),\n",
              " ('Snape', 150),\n",
              " ('Dumbledore', 138),\n",
              " ('Dudley', 132),\n",
              " ('Uncle', 111),\n",
              " ('Vernon', 108),\n",
              " ('Malfoy', 106),\n",
              " ('Neville', 105),\n",
              " ('Quirrell', 102),\n",
              " ('McGonagall', 97),\n",
              " ('Gryffindor', 75),\n",
              " ('There', 69),\n",
              " ('Potter', 68),\n",
              " ('Petunia', 56),\n",
              " ('Hogwarts', 56),\n",
              " ('Quidditch', 53),\n",
              " ('Dursley', 52)]"
            ]
          },
          "metadata": {},
          "execution_count": 78
        }
      ]
    },
    {
      "cell_type": "markdown",
      "id": "455dd859",
      "metadata": {
        "id": "455dd859"
      },
      "source": [
        "## Sentiment scores\n",
        "A good story follows an arc."
      ]
    },
    {
      "cell_type": "code",
      "execution_count": 84,
      "id": "7c579abe",
      "metadata": {
        "id": "7c579abe"
      },
      "outputs": [],
      "source": [
        "sentiments = [\n",
        "    {\n",
        "        line.strip()\n",
        "        for line in open(f\"{sent}-words.txt\", \"rt\")\n",
        "        if line.strip() and not line.startswith(\";\")\n",
        "    }\n",
        "    for sent in [\"positive\", \"negative\"]\n",
        "]"
      ]
    },
    {
      "cell_type": "code",
      "execution_count": null,
      "id": "37858269-e1ac-4ad9-82b8-2ecd7c6a4883",
      "metadata": {
        "id": "37858269-e1ac-4ad9-82b8-2ecd7c6a4883",
        "outputId": "0a056506-b98a-4204-e8b3-9244e20ea1bd"
      },
      "outputs": [
        {
          "data": {
            "text/plain": [
              "2"
            ]
          },
          "execution_count": 63,
          "metadata": {},
          "output_type": "execute_result"
        }
      ],
      "source": [
        "len(sentiments)"
      ]
    },
    {
      "cell_type": "code",
      "source": [
        "print(type(sentiments), type(sentiments[0]))"
      ],
      "metadata": {
        "colab": {
          "base_uri": "https://localhost:8080/"
        },
        "id": "PaVfgahwXxii",
        "outputId": "b3b5733f-e6c4-4f43-e4da-38e9548793c5"
      },
      "id": "PaVfgahwXxii",
      "execution_count": null,
      "outputs": [
        {
          "output_type": "stream",
          "name": "stdout",
          "text": [
            "<class 'list'> <class 'set'>\n"
          ]
        }
      ]
    },
    {
      "cell_type": "code",
      "execution_count": 79,
      "id": "95f6b07d",
      "metadata": {
        "id": "95f6b07d"
      },
      "outputs": [],
      "source": [
        "chapters = []\n",
        "for line in hp1[3:]:\n",
        "    if line.startswith(\"CHAPTER\"):\n",
        "        current_chapter = []\n",
        "        chapters.append(current_chapter)\n",
        "    else:\n",
        "        current_chapter.append(line.strip())"
      ]
    },
    {
      "cell_type": "code",
      "execution_count": 82,
      "id": "a030a4da",
      "metadata": {
        "id": "a030a4da"
      },
      "outputs": [],
      "source": [
        "chapter_words = [sum([line.split(\" \") for line in chapter if line], []) for chapter in chapters]"
      ]
    },
    {
      "cell_type": "code",
      "source": [
        "list(it.chain.from_iterable([['abc', 'xyz'], ['aaa', 'bbbb']]))"
      ],
      "metadata": {
        "colab": {
          "base_uri": "https://localhost:8080/"
        },
        "id": "xhbjYmYEZAQL",
        "outputId": "9df1f409-7a71-4e97-e9e1-3fa735b05be6"
      },
      "id": "xhbjYmYEZAQL",
      "execution_count": null,
      "outputs": [
        {
          "output_type": "execute_result",
          "data": {
            "text/plain": [
              "['abc', 'xyz', 'aaa', 'bbbb']"
            ]
          },
          "metadata": {},
          "execution_count": 178
        }
      ]
    },
    {
      "cell_type": "code",
      "source": [
        "sum([['abc', 'xyz'], ['aaa', 'bbbb']], [])"
      ],
      "metadata": {
        "colab": {
          "base_uri": "https://localhost:8080/"
        },
        "id": "bs3Rjay9aCVt",
        "outputId": "96f8fd33-be90-4bae-82a9-b69698dbe4a9"
      },
      "id": "bs3Rjay9aCVt",
      "execution_count": null,
      "outputs": [
        {
          "output_type": "execute_result",
          "data": {
            "text/plain": [
              "['abc', 'xyz', 'aaa', 'bbbb']"
            ]
          },
          "metadata": {},
          "execution_count": 181
        }
      ]
    },
    {
      "cell_type": "code",
      "source": [
        "print(chapter_words[0])"
      ],
      "metadata": {
        "colab": {
          "base_uri": "https://localhost:8080/"
        },
        "id": "J8mIZoDlaiIy",
        "outputId": "6d9df460-f7d9-4e0f-9281-35260c1cb7a3"
      },
      "id": "J8mIZoDlaiIy",
      "execution_count": null,
      "outputs": [
        {
          "output_type": "stream",
          "name": "stdout",
          "text": [
            "['THE', 'BOY', 'WHO', 'LIVED', 'Mr.', 'and', 'Mrs.', 'Dursley,', 'of', 'number', 'four,', 'Privet', 'Drive,', 'were', 'proud', 'to', 'say', 'that', 'they', 'were', 'perfectly', 'normal,', 'thank', 'you', 'very', 'much.', 'They', 'were', 'the', 'last', 'people', \"you'd\", 'expect', 'to', 'be', 'involved', 'in', 'anything', 'strange', 'or', 'mysterious,', 'because', 'they', 'just', \"didn't\", 'hold', 'with', 'such', 'nonsense.', 'Mr.', 'Dursley', 'was', 'the', 'director', 'of', 'a', 'firm', 'called', 'Grunnings,', 'which', 'made', 'drills.', 'He', 'was', 'a', 'big,', 'beefy', 'man', 'with', 'hardly', 'any', 'neck,', 'although', 'he', 'did', 'have', 'a', 'very', 'large', 'mustache.', 'Mrs.', 'Dursley', 'was', 'thin', 'and', 'blonde', 'and', 'had', 'nearly', 'twice', 'the', 'usual', 'amount', 'of', 'neck,', 'which', 'came', 'in', 'very', 'useful', 'as', 'she', 'spent', 'so', 'much', 'of', 'her', 'time', 'craning', 'over', 'garden', 'fences,', 'spying', 'on', 'the', 'neighbors.', 'The', 'Dursleys', 'had', 'a', 'small', 'son', 'called', 'Dudley', 'and', 'in', 'their', 'opinion', 'there', 'was', 'no', 'finer', 'boy', 'anywhere.', 'The', 'Dursleys', 'had', 'everything', 'they', 'wanted,', 'but', 'they', 'also', 'had', 'a', 'secret,', 'and', 'their', 'greatest', 'fear', 'was', 'that', 'somebody', 'would', 'discover', 'it.', 'They', \"didn't\", 'think', 'they', 'could', 'bear', 'it', 'if', 'anyone', 'found', 'out', 'about', 'the', 'Potters.', 'Mrs.', 'Potter', 'was', 'Mrs.', \"Dursley's\", 'sister,', 'but', 'they', \"hadn't\", 'met', 'for', 'several', 'years;', 'in', 'fact,', 'Mrs.', 'Dursley', 'pretended', 'she', \"didn't\", 'have', 'a', 'sister,', 'because', 'her', 'sister', 'and', 'her', 'good-for-nothing', 'husband', 'were', 'as', 'unDursleyish', 'as', 'it', 'was', 'possible', 'to', 'be.', 'The', 'Dursleys', 'shuddered', 'to', 'think', 'what', 'the', 'neighbors', 'would', 'say', 'if', 'the', 'Potters', 'arrived', 'in', 'the', 'street.', 'The', 'Dursleys', 'knew', 'that', 'the', 'Potters', 'had', 'a', 'small', 'son,', 'too,', 'but', 'they', 'had', 'never', 'even', 'seen', 'him.', 'This', 'boy', 'was', 'another', 'good', 'reason', 'for', 'keeping', 'the', 'Potters', 'away;', 'they', \"didn't\", 'want', 'Dudley', 'mixing', 'with', 'a', 'child', 'like', 'that.', 'When', 'Mr.', 'and', 'Mrs.', 'Dursley', 'woke', 'up', 'on', 'the', 'dull,', 'gray', 'Tuesday', 'our', 'story', 'starts,', 'there', 'was', 'nothing', 'about', 'the', 'cloudy', 'sky', 'outside', 'to', 'suggest', 'that', 'strange', 'and', 'mysterious', 'things', 'would', 'soon', 'be', 'happening', 'all', 'over', 'the', 'country.', 'Mr.', 'Dursley', 'hummed', 'as', 'he', 'picked', 'out', 'his', 'most', 'boring', 'tie', 'for', 'work,', 'and', 'Mrs.', 'Dursley', 'gossiped', 'away', 'happily', 'as', 'she', 'wrestled', 'a', 'screaming', 'Dudley', 'into', 'his', 'high', 'chair.', 'None', 'of', 'them', 'noticed', 'a', 'large,', 'tawny', 'owl', 'flutter', 'past', 'the', 'window.', 'At', 'half', 'past', 'eight,', 'Mr.', 'Dursley', 'picked', 'up', 'his', 'briefcase,', 'pecked', 'Mrs.', 'Dursley', 'on', 'the', 'cheek,', 'and', 'tried', 'to', 'kiss', 'Dudley', 'good-bye', 'but', 'missed,', 'because', 'Dudley', 'was', 'now', 'having', 'a', 'tantrum', 'and', 'throwing', 'his', 'cereal', 'at', 'the', 'walls.', '\"Little', 'tyke,\"', 'chortled', 'Mr.', 'Dursley', 'as', 'he', 'left', 'the', 'house.', 'He', 'got', 'into', 'his', 'car', 'and', 'backed', 'out', 'of', 'number', \"four's\", 'drive.', 'It', 'was', 'on', 'the', 'corner', 'of', 'the', 'street', 'that', 'he', 'noticed', 'the', 'first', 'sign', 'of', 'something', 'peculiar', '--', 'a', 'cat', 'reading', 'a', 'map.', 'For', 'a', 'second,', 'Mr.', 'Dursley', \"didn't\", 'realize', 'what', 'he', 'had', 'seen', '--', 'then', 'he', 'jerked', 'his', 'head', 'around', 'to', 'look', 'again.', 'There', 'was', 'a', 'tabby', 'cat', 'standing', 'on', 'the', 'corner', 'of', 'Privet', 'Drive,', 'but', 'there', \"wasn't\", 'a', 'map', 'in', 'sight.', 'What', 'could', 'he', 'have', 'been', 'thinking', 'of?', 'It', 'must', 'have', 'been', 'a', 'trick', 'of', 'the', 'light.', 'Mr.', 'Dursley', 'blinked', 'and', 'stared', 'at', 'the', 'cat.', 'It', 'stared', 'back.', 'As', 'Mr.', 'Dursley', 'drove', 'around', 'the', 'corner', 'and', 'up', 'the', 'road,', 'he', 'watched', 'the', 'cat', 'in', 'his', 'mirror.', 'It', 'was', 'now', 'reading', 'the', 'sign', 'that', 'said', 'Privet', 'Drive', '--', 'no,', 'looking', 'at', 'the', 'sign;', 'cats', \"couldn't\", 'read', 'maps', 'or', 'signs.', 'Mr.', 'Dursley', 'gave', 'himself', 'a', 'little', 'shake', 'and', 'put', 'the', 'cat', 'out', 'of', 'his', 'mind.', 'As', 'he', 'drove', 'toward', 'town', 'he', 'thought', 'of', 'nothing', 'except', 'a', 'large', 'order', 'of', 'drills', 'he', 'was', 'hoping', 'to', 'get', 'that', 'day.', 'But', 'on', 'the', 'edge', 'of', 'town,', 'drills', 'were', 'driven', 'out', 'of', 'his', 'mind', 'by', 'something', 'else.', 'As', 'he', 'sat', 'in', 'the', 'usual', 'morning', 'traffic', 'jam,', 'he', \"couldn't\", 'help', 'noticing', 'that', 'there', 'seemed', 'to', 'be', 'a', 'lot', 'of', 'strangely', 'dressed', 'people', 'about.', 'People', 'in', 'cloaks.', 'Mr.', 'Dursley', \"couldn't\", 'bear', 'people', 'who', 'dressed', 'in', 'funny', 'clothes', '--', 'the', 'getups', 'you', 'saw', 'on', 'young', 'people!', 'He', 'supposed', 'this', 'was', 'some', 'stupid', 'new', 'fashion.', 'He', 'drummed', 'his', 'fingers', 'on', 'the', 'steering', 'wheel', 'and', 'his', 'eyes', 'fell', 'on', 'a', 'huddle', 'of', 'these', 'weirdos', 'standing', 'quite', 'close', 'by.', 'They', 'were', 'whispering', 'excitedly', 'together.', 'Mr.', 'Dursley', 'was', 'enraged', 'to', 'see', 'that', 'a', 'couple', 'of', 'them', \"weren't\", 'young', 'at', 'all;', 'why,', 'that', 'man', 'had', 'to', 'be', 'older', 'than', 'he', 'was,', 'and', 'wearing', 'an', 'emerald-green', 'cloak!', 'The', 'nerve', 'of', 'him!', 'But', 'then', 'it', 'struck', 'Mr.', 'Dursley', 'that', 'this', 'was', 'probably', 'some', 'silly', 'stunt', '--', 'these', 'people', 'were', 'obviously', 'collecting', 'for', 'something...', 'yes,', 'that', 'would', 'be', 'it.', 'The', 'traffic', 'moved', 'on', 'and', 'a', 'few', 'minutes', 'later,', 'Mr.', 'Dursley', 'arrived', 'in', 'the', 'Grunnings', 'parking', 'lot,', 'his', 'mind', 'back', 'on', 'drills.', 'Mr.', 'Dursley', 'always', 'sat', 'with', 'his', 'back', 'to', 'the', 'window', 'in', 'his', 'office', 'on', 'the', 'ninth', 'floor.', 'If', 'he', \"hadn't,\", 'he', 'might', 'have', 'found', 'it', 'harder', 'to', 'concentrate', 'on', 'drills', 'that', 'morning.', 'He', \"didn't\", 'see', 'the', 'owls', 'swoop', 'ing', 'past', 'in', 'broad', 'daylight,', 'though', 'people', 'down', 'in', 'the', 'street', 'did;', 'they', 'pointed', 'and', 'gazed', 'open-', 'mouthed', 'as', 'owl', 'after', 'owl', 'sped', 'overhead.', 'Most', 'of', 'them', 'had', 'never', 'seen', 'an', 'owl', 'even', 'at', 'nighttime.', 'Mr.', 'Dursley,', 'however,', 'had', 'a', 'perfectly', 'normal,', 'owl-free', 'morning.', 'He', 'yelled', 'at', 'five', 'different', 'people.', 'He', 'made', 'several', 'important', 'telephone', 'calls', 'and', 'shouted', 'a', 'bit', 'more.', 'He', 'was', 'in', 'a', 'very', 'good', 'mood', 'until', 'lunchtime,', 'when', 'he', 'thought', \"he'd\", 'stretch', 'his', 'legs', 'and', 'walk', 'across', 'the', 'road', 'to', 'buy', 'himself', 'a', 'bun', 'from', 'the', 'bakery.', \"He'd\", 'forgotten', 'all', 'about', 'the', 'people', 'in', 'cloaks', 'until', 'he', 'passed', 'a', 'group', 'of', 'them', 'next', 'to', 'the', \"baker's.\", 'He', 'eyed', 'them', 'angrily', 'as', 'he', 'passed.', 'He', \"didn't\", 'know', 'why,', 'but', 'they', 'made', 'him', 'uneasy.', 'This', 'bunch', 'were', 'whispering', 'excitedly,', 'too,', 'and', 'he', \"couldn't\", 'see', 'a', 'single', 'collecting', 'tin.', 'It', 'was', 'on', 'his', 'way', 'back', 'past', 'them,', 'clutching', 'a', 'large', 'doughnut', 'in', 'a', 'bag,', 'that', 'he', 'caught', 'a', 'few', 'words', 'of', 'what', 'they', 'were', 'saying.', '\"The', 'Potters,', \"that's\", 'right,', \"that's\", 'what', 'I', 'heard', 'yes,', 'their', 'son,', 'Harry\"', 'Mr.', 'Dursley', 'stopped', 'dead.', 'Fear', 'flooded', 'him.', 'He', 'looked', 'back', 'at', 'the', 'whisperers', 'as', 'if', 'he', 'wanted', 'to', 'say', 'something', 'to', 'them,', 'but', 'thought', 'better', 'of', 'it.', 'He', 'dashed', 'back', 'across', 'the', 'road,', 'hurried', 'up', 'to', 'his', 'office,', 'snapped', 'at', 'his', 'secretary', 'not', 'to', 'disturb', 'him,', 'seized', 'his', 'telephone,', 'and', 'had', 'almost', 'finished', 'dialing', 'his', 'home', 'number', 'when', 'he', 'changed', 'his', 'mind.', 'He', 'put', 'the', 'receiver', 'back', 'down', 'and', 'stroked', 'his', 'mustache,', 'thinking...', 'no,', 'he', 'was', 'being', 'stupid.', 'Potter', \"wasn't\", 'such', 'an', 'unusual', 'name.', 'He', 'was', 'sure', 'there', 'were', 'lots', 'of', 'people', 'called', 'Potter', 'who', 'had', 'a', 'son', 'called', 'Harry.', 'Come', 'to', 'think', 'of', 'it,', 'he', \"wasn't\", 'even', 'sure', 'his', 'nephew', 'was', 'called', 'Harry.', \"He'd\", 'never', 'even', 'seen', 'the', 'boy.', 'It', 'might', 'have', 'been', 'Harvey.', 'Or', 'Harold.', 'There', 'was', 'no', 'point', 'in', 'worrying', 'Mrs.', 'Dursley;', 'she', 'always', 'got', 'so', 'upset', 'at', 'any', 'mention', 'of', 'her', 'sister.', 'He', \"didn't\", 'blame', 'her', '--', 'if', \"he'd\", 'had', 'a', 'sister', 'like', 'that...', 'but', 'all', 'the', 'same,', 'those', 'people', 'in', 'cloaks...', 'He', 'found', 'it', 'a', 'lot', 'harder', 'to', 'concentrate', 'on', 'drills', 'that', 'afternoon', 'and', 'when', 'he', 'left', 'the', 'building', 'at', 'five', \"o'clock,\", 'he', 'was', 'still', 'so', 'worried', 'that', 'he', 'walked', 'straight', 'into', 'someone', 'just', 'outside', 'the', 'door.', '\"Sorry,\"', 'he', 'grunted,', 'as', 'the', 'tiny', 'old', 'man', 'stumbled', 'and', 'almost', 'fell.', 'It', 'was', 'a', 'few', 'seconds', 'before', 'Mr.', 'Dursley', 'realized', 'that', 'the', 'man', 'was', 'wearing', 'a', 'violet', 'cloak.', 'He', \"didn't\", 'seem', 'at', 'all', 'upset', 'at', 'being', 'almost', 'knocked', 'to', 'the', 'ground.', 'On', 'the', 'contrary,', 'his', 'face', 'split', 'into', 'a', 'wide', 'smile', 'and', 'he', 'said', 'in', 'a', 'squeaky', 'voice', 'that', 'made', 'passersby', 'stare,', '\"Don\\'t', 'be', 'sorry,', 'my', 'dear', 'sir,', 'for', 'nothing', 'could', 'upset', 'me', 'today!', 'Rejoice,', 'for', 'You-Know-Who', 'has', 'gone', 'at', 'last!', 'Even', 'Muggles', 'like', 'yourself', 'should', 'be', 'celebrating,', 'this', 'happy,', 'happy', 'day!\"', 'And', 'the', 'old', 'man', 'hugged', 'Mr.', 'Dursley', 'around', 'the', 'middle', 'and', 'walked', 'off.', 'Mr.', 'Dursley', 'stood', 'rooted', 'to', 'the', 'spot.', 'He', 'had', 'been', 'hugged', 'by', 'a', 'complete', 'stranger.', 'He', 'also', 'thought', 'he', 'had', 'been', 'called', 'a', 'Muggle,', 'whatever', 'that', 'was.', 'He', 'was', 'rattled.', 'He', 'hurried', 'to', 'his', 'car', 'and', 'set', 'off', 'for', 'home,', 'hoping', 'he', 'was', 'imagining', 'things,', 'which', 'he', 'had', 'never', 'hoped', 'before,', 'because', 'he', \"didn't\", 'approve', 'of', 'imagination.', 'As', 'he', 'pulled', 'into', 'the', 'driveway', 'of', 'number', 'four,', 'the', 'first', 'thing', 'he', 'saw', '--', 'and', 'it', \"didn't\", 'improve', 'his', 'mood', '--', 'was', 'the', 'tabby', 'cat', \"he'd\", 'spotted', 'that', 'morning.', 'It', 'was', 'now', 'sitting', 'on', 'his', 'garden', 'wall.', 'He', 'was', 'sure', 'it', 'was', 'the', 'same', 'one;', 'it', 'had', 'the', 'same', 'markings', 'around', 'its', 'eyes.', '\"Shoo!\"', 'said', 'Mr.', 'Dursley', 'loudly.', 'The', 'cat', \"didn't\", 'move.', 'It', 'just', 'gave', 'him', 'a', 'stern', 'look.', 'Was', 'this', 'normal', 'cat', 'behavior?', 'Mr.', 'Dursley', 'wondered.', 'Trying', 'to', 'pull', 'himself', 'together,', 'he', 'let', 'himself', 'into', 'the', 'house.', 'He', 'was', 'still', 'determined', 'not', 'to', 'mention', 'anything', 'to', 'his', 'wife.', 'Mrs.', 'Dursley', 'had', 'had', 'a', 'nice,', 'normal', 'day.', 'She', 'told', 'him', 'over', 'dinner', 'all', 'about', 'Mrs.', 'Next', \"Door's\", 'problems', 'with', 'her', 'daughter', 'and', 'how', 'Dudley', 'had', 'learned', 'a', 'new', 'word', '(\"Won\\'t!\").', 'Mr.', 'Dursley', 'tried', 'to', 'act', 'normally.', 'When', 'Dudley', 'had', 'been', 'put', 'to', 'bed,', 'he', 'went', 'into', 'the', 'living', 'room', 'in', 'time', 'to', 'catch', 'the', 'last', 'report', 'on', 'the', 'evening', 'news:', '\"And', 'finally,', 'bird-watchers', 'everywhere', 'have', 'reported', 'that', 'the', \"nation's\", 'owls', 'have', 'been', 'behaving', 'very', 'unusually', 'today.', 'Although', 'owls', 'normally', 'hunt', 'at', 'night', 'and', 'are', 'hardly', 'ever', 'seen', 'in', 'daylight,', 'there', 'have', 'been', 'hundreds', 'of', 'sightings', 'of', 'these', 'birds', 'flying', 'in', 'every', 'direction', 'since', 'sunrise.', 'Experts', 'are', 'unable', 'to', 'explain', 'why', 'the', 'owls', 'have', 'suddenly', 'changed', 'their', 'sleeping', 'pattern.\"', 'The', 'newscaster', 'allowed', 'himself', 'a', 'grin.', '\"Most', 'mysterious.', 'And', 'now,', 'over', 'to', 'Jim', 'McGuffin', 'with', 'the', 'weather.', 'Going', 'to', 'be', 'any', 'more', 'showers', 'of', 'owls', 'tonight,', 'Jim?\"', '\"Well,', 'Ted,\"', 'said', 'the', 'weatherman,', '\"I', \"don't\", 'know', 'about', 'that,', 'but', \"it's\", 'not', 'only', 'the', 'owls', 'that', 'have', 'been', 'acting', 'oddly', 'today.', 'Viewers', 'as', 'far', 'apart', 'as', 'Kent,', 'Yorkshire,', 'and', 'Dundee', 'have', 'been', 'phoning', 'in', 'to', 'tell', 'me', 'that', 'instead', 'of', 'the', 'rain', 'I', 'promised', 'yesterday,', \"they've\", 'had', 'a', 'downpour', 'of', 'shooting', 'stars!', 'Perhaps', 'people', 'have', 'been', 'celebrating', 'Bonfire', 'Night', 'early', '--', \"it's\", 'not', 'until', 'next', 'week,', 'folks!', 'But', 'I', 'can', 'promise', 'a', 'wet', 'night', 'tonight.\"', 'Mr.', 'Dursley', 'sat', 'frozen', 'in', 'his', 'armchair.', 'Shooting', 'stars', 'all', 'over', 'Britain?', 'Owls', 'flying', 'by', 'daylight?', 'Mysterious', 'people', 'in', 'cloaks', 'all', 'over', 'the', 'place?', 'And', 'a', 'whisper,', 'a', 'whisper', 'about', 'the', 'Potters...', 'Mrs.', 'Dursley', 'came', 'into', 'the', 'living', 'room', 'carrying', 'two', 'cups', 'of', 'tea.', 'It', 'was', 'no', 'good.', \"He'd\", 'have', 'to', 'say', 'something', 'to', 'her.', 'He', 'cleared', 'his', 'throat', 'nervously.', '\"Er', '--', 'Petunia,', 'dear', '--', 'you', \"haven't\", 'heard', 'from', 'your', 'sister', 'lately,', 'have', 'you?\"', 'As', 'he', 'had', 'expected,', 'Mrs.', 'Dursley', 'looked', 'shocked', 'and', 'angry.', 'After', 'all,', 'they', 'normally', 'pretended', 'she', \"didn't\", 'have', 'a', 'sister.', '\"No,\"', 'she', 'said', 'sharply.', '\"Why?\"', '\"Funny', 'stuff', 'on', 'the', 'news,\"', 'Mr.', 'Dursley', 'mumbled.', '\"Owls...', 'shooting', 'stars...', 'and', 'there', 'were', 'a', 'lot', 'of', 'funny-looking', 'people', 'in', 'town', 'today...\"', '\"So?\"', 'snapped', 'Mrs.', 'Dursley.', '\"Well,', 'I', 'just', 'thought...', 'maybe...', 'it', 'was', 'something', 'to', 'do', 'with...', 'you', 'know...', 'her', 'crowd.\"', 'Mrs.', 'Dursley', 'sipped', 'her', 'tea', 'through', 'pursed', 'lips.', 'Mr.', 'Dursley', 'wondered', 'whether', 'he', 'dared', 'tell', 'her', \"he'd\", 'heard', 'the', 'name', '\"Potter.\"', 'He', 'decided', 'he', \"didn't\", 'dare.', 'Instead', 'he', 'said,', 'as', 'casually', 'as', 'he', 'could,', '\"Their', 'son', '--', \"he'd\", 'be', 'about', \"Dudley's\", 'age', 'now,', \"wouldn't\", 'he?\"', '\"I', 'suppose', 'so,\"', 'said', 'Mrs.', 'Dursley', 'stiffly.', '\"What\\'s', 'his', 'name', 'again?', 'Howard,', \"isn't\", 'it?\"', '\"Harry.', 'Nasty,', 'common', 'name,', 'if', 'you', 'ask', 'me.\"', '\"Oh,', 'yes,\"', 'said', 'Mr.', 'Dursley,', 'his', 'heart', 'sinking', 'horribly.', '\"Yes,', 'I', 'quite', 'agree.\"', 'He', \"didn't\", 'say', 'another', 'word', 'on', 'the', 'subject', 'as', 'they', 'went', 'upstairs', 'to', 'bed.', 'While', 'Mrs.', 'Dursley', 'was', 'in', 'the', 'bathroom,', 'Mr.', 'Dursley', 'crept', 'to', 'the', 'bedroom', 'window', 'and', 'peered', 'down', 'into', 'the', 'front', 'garden.', 'The', 'cat', 'was', 'still', 'there.', 'It', 'was', 'staring', 'down', 'Privet', 'Drive', 'as', 'though', 'it', 'were', 'waiting', 'for', 'something.', 'Was', 'he', 'imagining', 'things?', 'Could', 'all', 'this', 'have', 'anything', 'to', 'do', 'with', 'the', 'Potters?', 'If', 'it', 'did...', 'if', 'it', 'got', 'out', 'that', 'they', 'were', 'related', 'to', 'a', 'pair', 'of', '--', 'well,', 'he', \"didn't\", 'think', 'he', 'could', 'bear', 'it.', 'The', 'Dursleys', 'got', 'into', 'bed.', 'Mrs.', 'Dursley', 'fell', 'asleep', 'quickly', 'but', 'Mr.', 'Dursley', 'lay', 'awake,', 'turning', 'it', 'all', 'over', 'in', 'his', 'mind.', 'His', 'last,', 'comforting', 'thought', 'before', 'he', 'fell', 'asleep', 'was', 'that', 'even', 'if', 'the', 'Potters', 'were', 'involved,', 'there', 'was', 'no', 'reason', 'for', 'them', 'to', 'come', 'near', 'him', 'and', 'Mrs.', 'Dursley.', 'The', 'Potters', 'knew', 'very', 'well', 'what', 'he', 'and', 'Petunia', 'thought', 'about', 'them', 'and', 'their', 'kind....', 'He', \"couldn't\", 'see', 'how', 'he', 'and', 'Petunia', 'could', 'get', 'mixed', 'up', 'in', 'anything', 'that', 'might', 'be', 'going', 'on', '--', 'he', 'yawned', 'and', 'turned', 'over', '--', 'it', \"couldn't\", 'affect', 'them....', 'How', 'very', 'wrong', 'he', 'was.', 'Mr.', 'Dursley', 'might', 'have', 'been', 'drifting', 'into', 'an', 'uneasy', 'sleep,', 'but', 'the', 'cat', 'on', 'the', 'wall', 'outside', 'was', 'showing', 'no', 'sign', 'of', 'sleepiness.', 'It', 'was', 'sitting', 'as', 'still', 'as', 'a', 'statue,', 'its', 'eyes', 'fixed', 'unblinkingly', 'on', 'the', 'far', 'corner', 'of', 'Privet', 'Drive.', 'It', \"didn't\", 'so', 'much', 'as', 'quiver', 'when', 'a', 'car', 'door', 'slammed', 'on', 'the', 'next', 'street,', 'nor', 'when', 'two', 'owls', 'swooped', 'overhead.', 'In', 'fact,', 'it', 'was', 'nearly', 'midnight', 'before', 'the', 'cat', 'moved', 'at', 'all.', 'A', 'man', 'appeared', 'on', 'the', 'corner', 'the', 'cat', 'had', 'been', 'watching,', 'appeared', 'so', 'suddenly', 'and', 'silently', \"you'd\", 'have', 'thought', \"he'd\", 'just', 'popped', 'out', 'of', 'the', 'ground.', 'The', \"cat's\", 'tail', 'twitched', 'and', 'its', 'eyes', 'narrowed.', 'Nothing', 'like', 'this', 'man', 'had', 'ever', 'been', 'seen', 'on', 'Privet', 'Drive.', 'He', 'was', 'tall,', 'thin,', 'and', 'very', 'old,', 'judging', 'by', 'the', 'silver', 'of', 'his', 'hair', 'and', 'beard,', 'which', 'were', 'both', 'long', 'enough', 'to', 'tuck', 'into', 'his', 'belt.', 'He', 'was', 'wearing', 'long', 'robes,', 'a', 'purple', 'cloak', 'that', 'swept', 'the', 'ground,', 'and', 'high-heeled,', 'buckled', 'boots.', 'His', 'blue', 'eyes', 'were', 'light,', 'bright,', 'and', 'sparkling', 'behind', 'half-moon', 'spectacles', 'and', 'his', 'nose', 'was', 'very', 'long', 'and', 'crooked,', 'as', 'though', 'it', 'had', 'been', 'broken', 'at', 'least', 'twice.', 'This', \"man's\", 'name', 'was', 'Albus', 'Dumbledore.', 'Albus', 'Dumbledore', \"didn't\", 'seem', 'to', 'realize', 'that', 'he', 'had', 'just', 'arrived', 'in', 'a', 'street', 'where', 'everything', 'from', 'his', 'name', 'to', 'his', 'boots', 'was', 'unwelcome.', 'He', 'was', 'busy', 'rummaging', 'in', 'his', 'cloak,', 'looking', 'for', 'something.', 'But', 'he', 'did', 'seem', 'to', 'realize', 'he', 'was', 'being', 'watched,', 'because', 'he', 'looked', 'up', 'suddenly', 'at', 'the', 'cat,', 'which', 'was', 'still', 'staring', 'at', 'him', 'from', 'the', 'other', 'end', 'of', 'the', 'street.', 'For', 'some', 'reason,', 'the', 'sight', 'of', 'the', 'cat', 'seemed', 'to', 'amuse', 'him.', 'He', 'chuckled', 'and', 'muttered,', '\"I', 'should', 'have', 'known.\"', 'He', 'found', 'what', 'he', 'was', 'looking', 'for', 'in', 'his', 'inside', 'pocket.', 'It', 'seemed', 'to', 'be', 'a', 'silver', 'cigarette', 'lighter.', 'He', 'flicked', 'it', 'open,', 'held', 'it', 'up', 'in', 'the', 'air,', 'and', 'clicked', 'it.', 'The', 'nearest', 'street', 'lamp', 'went', 'out', 'with', 'a', 'little', 'pop.', 'He', 'clicked', 'it', 'again', '--', 'the', 'next', 'lamp', 'flickered', 'into', 'darkness.', 'Twelve', 'times', 'he', 'clicked', 'the', 'Put-Outer,', 'until', 'the', 'only', 'lights', 'left', 'on', 'the', 'whole', 'street', 'were', 'two', 'tiny', 'pinpricks', 'in', 'the', 'distance,', 'which', 'were', 'the', 'eyes', 'of', 'the', 'cat', 'watching', 'him.', 'If', 'anyone', 'looked', 'out', 'of', 'their', 'window', 'now,', 'even', 'beady-eyed', 'Mrs.', 'Dursley,', 'they', \"wouldn't\", 'be', 'able', 'to', 'see', 'anything', 'that', 'was', 'happening', 'down', 'on', 'the', 'pavement.', 'Dumbledore', 'slipped', 'the', 'Put-Outer', 'back', 'inside', 'his', 'cloak', 'and', 'set', 'off', 'down', 'the', 'street', 'toward', 'number', 'four,', 'where', 'he', 'sat', 'down', 'on', 'the', 'wall', 'next', 'to', 'the', 'cat.', 'He', \"didn't\", 'look', 'at', 'it,', 'but', 'after', 'a', 'moment', 'he', 'spoke', 'to', 'it.', '\"Fancy', 'seeing', 'you', 'here,', 'Professor', 'McGonagall.\"', 'He', 'turned', 'to', 'smile', 'at', 'the', 'tabby,', 'but', 'it', 'had', 'gone.', 'Instead', 'he', 'was', 'smiling', 'at', 'a', 'rather', 'severe-looking', 'woman', 'who', 'was', 'wearing', 'square', 'glasses', 'exactly', 'the', 'shape', 'of', 'the', 'markings', 'the', 'cat', 'had', 'had', 'around', 'its', 'eyes.', 'She,', 'too,', 'was', 'wearing', 'a', 'cloak,', 'an', 'emerald', 'one.', 'Her', 'black', 'hair', 'was', 'drawn', 'into', 'a', 'tight', 'bun.', 'She', 'looked', 'distinctly', 'ruffled.', '\"How', 'did', 'you', 'know', 'it', 'was', 'me?\"', 'she', 'asked.', '\"My', 'dear', 'Professor,', 'I', \"'ve\", 'never', 'seen', 'a', 'cat', 'sit', 'so', 'stiffly.\"', '\"You\\'d', 'be', 'stiff', 'if', \"you'd\", 'been', 'sitting', 'on', 'a', 'brick', 'wall', 'all', 'day,\"', 'said', 'Professor', 'McGonagall.', '\"All', 'day?', 'When', 'you', 'could', 'have', 'been', 'celebrating?', 'I', 'must', 'have', 'passed', 'a', 'dozen', 'feasts', 'and', 'parties', 'on', 'my', 'way', 'here.\"', 'Professor', 'McGonagall', 'sniffed', 'angrily.', '\"Oh', 'yes,', \"everyone's\", 'celebrating,', 'all', 'right,\"', 'she', 'said', 'impatiently.', '\"You\\'d', 'think', \"they'd\", 'be', 'a', 'bit', 'more', 'careful,', 'but', 'no', '--', 'even', 'the', 'Muggles', 'have', 'noticed', \"something's\", 'going', 'on.', 'It', 'was', 'on', 'their', 'news.\"', 'She', 'jerked', 'her', 'head', 'back', 'at', 'the', \"Dursleys'\", 'dark', 'living-room', 'window.', '\"I', 'heard', 'it.', 'Flocks', 'of', 'owls...', 'shooting', 'stars....', 'Well,', \"they're\", 'not', 'completely', 'stupid.', 'They', 'were', 'bound', 'to', 'notice', 'something.', 'Shooting', 'stars', 'down', 'in', 'Kent', '--', \"I'll\", 'bet', 'that', 'was', 'Dedalus', 'Diggle.', 'He', 'never', 'had', 'much', 'sense.\"', '\"You', \"can't\", 'blame', 'them,\"', 'said', 'Dumbledore', 'gently.', '\"We\\'ve', 'had', 'precious', 'little', 'to', 'celebrate', 'for', 'eleven', 'years.\"', '\"I', 'know', 'that,\"', 'said', 'Professor', 'McGonagall', 'irritably.', '\"But', \"that's\", 'no', 'reason', 'to', 'lose', 'our', 'heads.', 'People', 'are', 'being', 'downright', 'careless,', 'out', 'on', 'the', 'streets', 'in', 'broad', 'daylight,', 'not', 'even', 'dressed', 'in', 'Muggle', 'clothes,', 'swapping', 'rumors.\"', 'She', 'threw', 'a', 'sharp,', 'sideways', 'glance', 'at', 'Dumbledore', 'here,', 'as', 'though', 'hoping', 'he', 'was', 'going', 'to', 'tell', 'her', 'something,', 'but', 'he', \"didn't,\", 'so', 'she', 'went', 'on.', '\"A', 'fine', 'thing', 'it', 'would', 'be', 'if,', 'on', 'the', 'very', 'day', 'YouKnow-Who', 'seems', 'to', 'have', 'disappeared', 'at', 'last,', 'the', 'Muggles', 'found', 'out', 'about', 'us', 'all.', 'I', 'suppose', 'he', 'really', 'has', 'gone,', 'Dumbledore?\"', '\"It', 'certainly', 'seems', 'so,\"', 'said', 'Dumbledore.', '\"We', 'have', 'much', 'to', 'be', 'thankful', 'for.', 'Would', 'you', 'care', 'for', 'a', 'lemon', 'drop?\"', '\"A', 'what?\"', '\"A', 'lemon', 'drop.', \"They're\", 'a', 'kind', 'of', 'Muggle', 'sweet', \"I'm\", 'rather', 'fond', 'of\"', '\"No,', 'thank', 'you,\"', 'said', 'Professor', 'McGonagall', 'coldly,', 'as', 'though', 'she', \"didn't\", 'think', 'this', 'was', 'the', 'moment', 'for', 'lemon', 'drops.', '\"As', 'I', 'say,', 'even', 'if', 'You-Know-Who', 'has', 'gone', '-\"', '\"My', 'dear', 'Professor,', 'surely', 'a', 'sensible', 'person', 'like', 'yourself', 'can', 'call', 'him', 'by', 'his', 'name?', 'All', 'this', \"'You-\", \"Know-Who'\", 'nonsense', '--', 'for', 'eleven', 'years', 'I', 'have', 'been', 'trying', 'to', 'persuade', 'people', 'to', 'call', 'him', 'by', 'his', 'proper', 'name:', 'Voldemort.\"', 'Professor', 'McGonagall', 'flinched,', 'but', 'Dumbledore,', 'who', 'was', 'unsticking', 'two', 'lemon', 'drops,', 'seemed', 'not', 'to', 'notice.', '\"It', 'all', 'gets', 'so', 'confusing', 'if', 'we', 'keep', 'saying', \"'You-Know-Who.'\", 'I', 'have', 'never', 'seen', 'any', 'reason', 'to', 'be', 'frightened', 'of', 'saying', \"Voldemort's\", 'name.', '\"I', 'know', 'you', 'haven', \"'t,\", 'said', 'Professor', 'McGonagall,', 'sounding', 'half', 'exasperated,', 'half', 'admiring.', '\"But', \"you're\", 'different.', 'Everyone', 'knows', \"you're\", 'the', 'only', 'one', 'You-Know-', 'oh,', 'all', 'right,', 'Voldemort,', 'was', 'frightened', 'of.\"', '\"You', 'flatter', 'me,\"', 'said', 'Dumbledore', 'calmly.', '\"Voldemort', 'had', 'powers', 'I', 'will', 'never', 'have.\"', '\"Only', 'because', \"you're\", 'too', '--', 'well', '--', 'noble', 'to', 'use', 'them.\"', '\"It\\'s', 'lucky', \"it's\", 'dark.', 'I', \"haven't\", 'blushed', 'so', 'much', 'since', 'Madam', 'Pomfrey', 'told', 'me', 'she', 'liked', 'my', 'new', 'earmuffs.\"', 'Professor', 'McGonagall', 'shot', 'a', 'sharp', 'look', 'at', 'Dumbledore', 'and', 'said,', '\"The', 'owls', 'are', 'nothing', 'next', 'to', 'the', 'rumors', 'that', 'are', 'flying', 'around.', 'You', 'know', 'what', \"everyone's\", 'saying?', 'About', 'why', \"he's\", 'disappeared?', 'About', 'what', 'finally', 'stopped', 'him?\"', 'It', 'seemed', 'that', 'Professor', 'McGonagall', 'had', 'reached', 'the', 'point', 'she', 'was', 'most', 'anxious', 'to', 'discuss,', 'the', 'real', 'reason', 'she', 'had', 'been', 'waiting', 'on', 'a', 'cold,', 'hard', 'wall', 'all', 'day,', 'for', 'neither', 'as', 'a', 'cat', 'nor', 'as', 'a', 'woman', 'had', 'she', 'fixed', 'Dumbledore', 'with', 'such', 'a', 'piercing', 'stare', 'as', 'she', 'did', 'now.', 'It', 'was', 'plain', 'that', 'whatever', '\"everyone\"', 'was', 'saying,', 'she', 'was', 'not', 'going', 'to', 'believe', 'it', 'until', 'Dumbledore', 'told', 'her', 'it', 'was', 'true.', 'Dumbledore,', 'however,', 'was', 'choosing', 'another', 'lemon', 'drop', 'and', 'did', 'not', 'answer.', '\"What', \"they're\", 'saying,\"', 'she', 'pressed', 'on,', '\"is', 'that', 'last', 'night', 'Voldemort', 'turned', 'up', 'in', \"Godric's\", 'Hollow.', 'He', 'went', 'to', 'find', 'the', 'Potters.', 'The', 'rumor', 'is', 'that', 'Lily', 'and', 'James', 'Potter', 'are', '--', 'are', '--', 'that', \"they're\", '--', 'dead.', '\"', 'Dumbledore', 'bowed', 'his', 'head.', 'Professor', 'McGonagall', 'gasped.', '\"Lily', 'and', 'James...', 'I', \"can't\", 'believe', 'it...', 'I', \"didn't\", 'want', 'to', 'believe', 'it...', 'Oh,', 'Albus...\"', 'Dumbledore', 'reached', 'out', 'and', 'patted', 'her', 'on', 'the', 'shoulder.', '\"I', 'know...', 'I', 'know...\"', 'he', 'said', 'heavily.', 'Professor', \"McGonagall's\", 'voice', 'trembled', 'as', 'she', 'went', 'on.', '\"That\\'s', 'not', 'all.', \"They're\", 'saying', 'he', 'tried', 'to', 'kill', 'the', \"Potter's\", 'son,', 'Harry.', 'But', '--', 'he', \"couldn't.\", 'He', \"couldn't\", 'kill', 'that', 'little', 'boy.', 'No', 'one', 'knows', 'why,', 'or', 'how,', 'but', \"they're\", 'saying', 'that', 'when', 'he', \"couldn't\", 'kill', 'Harry', 'Potter,', \"Voldemort's\", 'power', 'somehow', 'broke', '--', 'and', \"that's\", 'why', \"he's\", 'gone.', 'Dumbledore', 'nodded', 'glumly.', '\"It\\'s', '--', \"it's\", 'true?\"', 'faltered', 'Professor', 'McGonagall.', '\"After', 'all', \"he's\", 'done...', 'all', 'the', 'people', \"he's\", 'killed...', 'he', \"couldn't\", 'kill', 'a', 'little', 'boy?', \"It's\", 'just', 'astounding...', 'of', 'all', 'the', 'things', 'to', 'stop', 'him...', 'but', 'how', 'in', 'the', 'name', 'of', 'heaven', 'did', 'Harry', 'survive?\"', '\"We', 'can', 'only', 'guess,\"', 'said', 'Dumbledore.', '\"We', 'may', 'never', 'know.\"', 'Professor', 'McGonagall', 'pulled', 'out', 'a', 'lace', 'handkerchief', 'and', 'dabbed', 'at', 'her', 'eyes', 'beneath', 'her', 'spectacles.', 'Dumbledore', 'gave', 'a', 'great', 'sniff', 'as', 'he', 'took', 'a', 'golden', 'watch', 'from', 'his', 'pocket', 'and', 'examined', 'it.', 'It', 'was', 'a', 'very', 'odd', 'watch.', 'It', 'had', 'twelve', 'hands', 'but', 'no', 'numbers;', 'instead,', 'little', 'planets', 'were', 'moving', 'around', 'the', 'edge.', 'It', 'must', 'have', 'made', 'sense', 'to', 'Dumbledore,', 'though,', 'because', 'he', 'put', 'it', 'back', 'in', 'his', 'pocket', 'and', 'said,', '\"Hagrid\\'s', 'late.', 'I', 'suppose', 'it', 'was', 'he', 'who', 'told', 'you', \"I'd\", 'be', 'here,', 'by', 'the', 'way?\"', '\"Yes,\"', 'said', 'Professor', 'McGonagall.', '\"And', 'I', \"don't\", 'suppose', \"you're\", 'going', 'to', 'tell', 'me', 'why', \"you're\", 'here,', 'of', 'all', 'places?\"', '\"I\\'ve', 'come', 'to', 'bring', 'Harry', 'to', 'his', 'aunt', 'and', 'uncle.', \"They're\", 'the', 'only', 'family', 'he', 'has', 'left', 'now.\"', '\"You', \"don't\", 'mean', '--', 'you', \"can't\", 'mean', 'the', 'people', 'who', 'live', 'here?\"', 'cried', 'Professor', 'McGonagall,', 'jumping', 'to', 'her', 'feet', 'and', 'pointing', 'at', 'number', 'four.', '\"Dumbledore', '--', 'you', \"can't.\", \"I've\", 'been', 'watching', 'them', 'all', 'day.', 'You', \"couldn't\", 'find', 'two', 'people', 'who', 'are', 'less', 'like', 'us.', 'And', \"they've\", 'got', 'this', 'son', '--', 'I', 'saw', 'him', 'kicking', 'his', 'mother', 'all', 'the', 'way', 'up', 'the', 'street,', 'screaming', 'for', 'sweets.', 'Harry', 'Potter', 'come', 'and', 'live', 'here!\"', '\"It\\'s', 'the', 'best', 'place', 'for', 'him,\"', 'said', 'Dumbledore', 'firmly.', '\"His', 'aunt', 'and', 'uncle', 'will', 'be', 'able', 'to', 'explain', 'everything', 'to', 'him', 'when', \"he's\", 'older.', \"I've\", 'written', 'them', 'a', 'letter.\"', '\"A', 'letter?\"', 'repeated', 'Professor', 'McGonagall', 'faintly,', 'sitting', 'back', 'down', 'on', 'the', 'wall.', '\"Really,', 'Dumbledore,', 'you', 'think', 'you', 'can', 'explain', 'all', 'this', 'in', 'a', 'letter?', 'These', 'people', 'will', 'never', 'understand', 'him!', \"He'll\", 'be', 'famous', '--', 'a', 'legend', '--', 'I', \"wouldn't\", 'be', 'surprised', 'if', 'today', 'was', 'known', 'as', 'Harry', 'Potter', 'day', 'in', 'the', 'future', '--', 'there', 'will', 'be', 'books', 'written', 'about', 'Harry', '--', 'every', 'child', 'in', 'our', 'world', 'will', 'know', 'his', 'name!\"', '\"Exactly,\"', 'said', 'Dumbledore,', 'looking', 'very', 'seriously', 'over', 'the', 'top', 'of', 'his', 'half-moon', 'glasses.', '\"It', 'would', 'be', 'enough', 'to', 'turn', 'any', \"boy's\", 'head.', 'Famous', 'before', 'he', 'can', 'walk', 'and', 'talk!', 'Famous', 'for', 'something', 'he', \"won't\", 'even', 'remember!', 'CarA', 'you', 'see', 'how', 'much', 'better', 'off', \"he'll\", 'be,', 'growing', 'up', 'away', 'from', 'all', 'that', 'until', \"he's\", 'ready', 'to', 'take', 'it?\"', 'Professor', 'McGonagall', 'opened', 'her', 'mouth,', 'changed', 'her', 'mind,', 'swallowed,', 'and', 'then', 'said,', '\"Yes', '--', 'yes,', \"you're\", 'right,', 'of', 'course.', 'But', 'how', 'is', 'the', 'boy', 'getting', 'here,', 'Dumbledore?\"', 'She', 'eyed', 'his', 'cloak', 'suddenly', 'as', 'though', 'she', 'thought', 'he', 'might', 'be', 'hiding', 'Harry', 'underneath', 'it.', '\"Hagrid\\'s', 'bringing', 'him.\"', '\"You', 'think', 'it', '--', 'wise', '--', 'to', 'trust', 'Hagrid', 'with', 'something', 'as', 'important', 'as', 'this?\"', 'I', 'would', 'trust', 'Hagrid', 'with', 'my', 'life,\"', 'said', 'Dumbledore.', '\"I\\'m', 'not', 'saying', 'his', 'heart', \"isn't\", 'in', 'the', 'right', 'place,\"', 'said', 'Professor', 'McGonagall', 'grudgingly,', '\"but', 'you', \"can't\", 'pretend', \"he's\", 'not', 'careless.', 'He', 'does', 'tend', 'to', '--', 'what', 'was', 'that?\"', 'A', 'low', 'rumbling', 'sound', 'had', 'broken', 'the', 'silence', 'around', 'them.', 'It', 'grew', 'steadily', 'louder', 'as', 'they', 'looked', 'up', 'and', 'down', 'the', 'street', 'for', 'some', 'sign', 'of', 'a', 'headlight;', 'it', 'swelled', 'to', 'a', 'roar', 'as', 'they', 'both', 'looked', 'up', 'at', 'the', 'sky', '--', 'and', 'a', 'huge', 'motorcycle', 'fell', 'out', 'of', 'the', 'air', 'and', 'landed', 'on', 'the', 'road', 'in', 'front', 'of', 'them.', 'If', 'the', 'motorcycle', 'was', 'huge,', 'it', 'was', 'nothing', 'to', 'the', 'man', 'sitting', 'astride', 'it.', 'He', 'was', 'almost', 'twice', 'as', 'tall', 'as', 'a', 'normal', 'man', 'and', 'at', 'least', 'five', 'times', 'as', 'wide.', 'He', 'looked', 'simply', 'too', 'big', 'to', 'be', 'allowed,', 'and', 'so', 'wild', '-', 'long', 'tangles', 'of', 'bushy', 'black', 'hair', 'and', 'beard', 'hid', 'most', 'of', 'his', 'face,', 'he', 'had', 'hands', 'the', 'size', 'of', 'trash', 'can', 'lids,', 'and', 'his', 'feet', 'in', 'their', 'leather', 'boots', 'were', 'like', 'baby', 'dolphins.', 'In', 'his', 'vast,', 'muscular', 'arms', 'he', 'was', 'holding', 'a', 'bundle', 'of', 'blankets.', '\"Hagrid,\"', 'said', 'Dumbledore,', 'sounding', 'relieved.', '\"At', 'last.', 'And', 'where', 'did', 'you', 'get', 'that', 'motorcycle?\"', '\"Borrowed', 'it,', 'Professor', 'Dumbledore,', 'sit,\"', 'said', 'the', 'giant,', 'climbing', 'carefully', 'off', 'the', 'motorcycle', 'as', 'he', 'spoke.', '\"Young', 'Sirius', 'Black', 'lent', 'it', 'to', 'me.', \"I've\", 'got', 'him,', 'sir.\"', '\"No', 'problems,', 'were', 'there?\"', '\"No,', 'sir', '--', 'house', 'was', 'almost', 'destroyed,', 'but', 'I', 'got', 'him', 'out', 'all', 'right', 'before', 'the', 'Muggles', 'started', \"swarmin'\", 'around.', 'He', 'fell', 'asleep', 'as', 'we', 'was', \"flyin'\", 'over', 'Bristol.\"', 'Dumbledore', 'and', 'Professor', 'McGonagall', 'bent', 'forward', 'over', 'the', 'bundle', 'of', 'blankets.', 'Inside,', 'just', 'visible,', 'was', 'a', 'baby', 'boy,', 'fast', 'asleep.', 'Under', 'a', 'tuft', 'of', 'jet-black', 'hair', 'over', 'his', 'forehead', 'they', 'could', 'see', 'a', 'curiously', 'shaped', 'cut,', 'like', 'a', 'bolt', 'of', 'lightning.', '\"Is', 'that', 'where', '-?\"', 'whispered', 'Professor', 'McGonagall.', '\"Yes,\"', 'said', 'Dumbledore.', '\"He\\'ll', 'have', 'that', 'scar', 'forever.\"', '\"Couldn\\'t', 'you', 'do', 'something', 'about', 'it,', 'Dumbledore?\"', '\"Even', 'if', 'I', 'could,', 'I', \"wouldn't.\", 'Scars', 'can', 'come', 'in', 'handy.', 'I', 'have', 'one', 'myself', 'above', 'my', 'left', 'knee', 'that', 'is', 'a', 'perfect', 'map', 'of', 'the', 'London', 'Underground.', 'Well', '--', 'give', 'him', 'here,', 'Hagrid', '--', \"we'd\", 'better', 'get', 'this', 'over', 'with.\"', 'Dumbledore', 'took', 'Harry', 'in', 'his', 'arms', 'and', 'turned', 'toward', 'the', \"Dursleys'\", 'house.', '\"Could', 'I', '--', 'could', 'I', 'say', 'good-bye', 'to', 'him,', 'sir?\"', 'asked', 'Hagrid.', 'He', 'bent', 'his', 'great,', 'shaggy', 'head', 'over', 'Harry', 'and', 'gave', 'him', 'what', 'must', 'have', 'been', 'a', 'very', 'scratchy,', 'whiskery', 'kiss.', 'Then,', 'suddenly,', 'Hagrid', 'let', 'out', 'a', 'howl', 'like', 'a', 'wounded', 'dog.', '\"Shhh!\"', 'hissed', 'Professor', 'McGonagall,', '\"you\\'ll', 'wake', 'the', 'Muggles!\"', '\"S-s-sorry,\"', 'sobbed', 'Hagrid,', 'taking', 'out', 'a', 'large,', 'spotted', 'handkerchief', 'and', 'burying', 'his', 'face', 'in', 'it.', '\"But', 'I', \"c-c-can't\", 'stand', 'it', '--', 'Lily', \"an'\", 'James', 'dead', '--', \"an'\", 'poor', 'little', 'Harry', 'off', 'ter', 'live', 'with', 'Muggles', '-\"', '\"Yes,', 'yes,', \"it's\", 'all', 'very', 'sad,', 'but', 'get', 'a', 'grip', 'on', 'yourself,', 'Hagrid,', 'or', \"we'll\", 'be', 'found,\"', 'Professor', 'McGonagall', 'whispered,', 'patting', 'Hagrid', 'gingerly', 'on', 'the', 'arm', 'as', 'Dumbledore', 'stepped', 'over', 'the', 'low', 'garden', 'wall', 'and', 'walked', 'to', 'the', 'front', 'door.', 'He', 'laid', 'Harry', 'gently', 'on', 'the', 'doorstep,', 'took', 'a', 'letter', 'out', 'of', 'his', 'cloak,', 'tucked', 'it', 'inside', \"Harry's\", 'blankets,', 'and', 'then', 'came', 'back', 'to', 'the', 'other', 'two.', 'For', 'a', 'full', 'minute', 'the', 'three', 'of', 'them', 'stood', 'and', 'looked', 'at', 'the', 'little', 'bundle;', \"Hagrid's\", 'shoulders', 'shook,', 'Professor', 'McGonagall', 'blinked', 'furiously,', 'and', 'the', 'twinkling', 'light', 'that', 'usually', 'shone', 'from', \"Dumbledore's\", 'eyes', 'seemed', 'to', 'have', 'gone', 'out.', '\"Well,\"', 'said', 'Dumbledore', 'finally,', '\"that\\'s', 'that.', \"We've\", 'no', 'business', 'staying', 'here.', 'We', 'may', 'as', 'well', 'go', 'and', 'join', 'the', 'celebrations.\"', '\"Yeah,\"', 'said', 'Hagrid', 'in', 'a', 'very', 'muffled', 'voice,', '\"I\\'ll', 'be', \"takin'\", 'Sirius', 'his', 'bike', 'back.', \"G'night,\", 'Professor', 'McGonagall', '--', 'Professor', 'Dumbledore,', 'sir.\"', 'Wiping', 'his', 'streaming', 'eyes', 'on', 'his', 'jacket', 'sleeve,', 'Hagrid', 'swung', 'himself', 'onto', 'the', 'motorcycle', 'and', 'kicked', 'the', 'engine', 'into', 'life;', 'with', 'a', 'roar', 'it', 'rose', 'into', 'the', 'air', 'and', 'off', 'into', 'the', 'night.', '\"I', 'shall', 'see', 'you', 'soon,', 'I', 'expect,', 'Professor', 'McGonagall,\"', 'said', 'Dumbledore,', 'nodding', 'to', 'her.', 'Professor', 'McGonagall', 'blew', 'her', 'nose', 'in', 'reply.', 'Dumbledore', 'turned', 'and', 'walked', 'back', 'down', 'the', 'street.', 'On', 'the', 'corner', 'he', 'stopped', 'and', 'took', 'out', 'the', 'silver', 'Put-Outer.', 'He', 'clicked', 'it', 'once,', 'and', 'twelve', 'balls', 'of', 'light', 'sped', 'back', 'to', 'their', 'street', 'lamps', 'so', 'that', 'Privet', 'Drive', 'glowed', 'suddenly', 'orange', 'and', 'he', 'could', 'make', 'out', 'a', 'tabby', 'cat', 'slinking', 'around', 'the', 'corner', 'at', 'the', 'other', 'end', 'of', 'the', 'street.', 'He', 'could', 'just', 'see', 'the', 'bundle', 'of', 'blankets', 'on', 'the', 'step', 'of', 'number', 'four.', '\"Good', 'luck,', 'Harry,\"', 'he', 'murmured.', 'He', 'turned', 'on', 'his', 'heel', 'and', 'with', 'a', 'swish', 'of', 'his', 'cloak,', 'he', 'was', 'gone.', 'A', 'breeze', 'ruffled', 'the', 'neat', 'hedges', 'of', 'Privet', 'Drive,', 'which', 'lay', 'silent', 'and', 'tidy', 'under', 'the', 'inky', 'sky,', 'the', 'very', 'last', 'place', 'you', 'would', 'expect', 'astonishing', 'things', 'to', 'happen.', 'Harry', 'Potter', 'rolled', 'over', 'inside', 'his', 'blankets', 'without', 'waking', 'up.', 'One', 'small', 'hand', 'closed', 'on', 'the', 'letter', 'beside', 'him', 'and', 'he', 'slept', 'on,', 'not', 'knowing', 'he', 'was', 'special,', 'not', 'knowing', 'he', 'was', 'famous,', 'not', 'knowing', 'he', 'would', 'be', 'woken', 'in', 'a', 'few', \"hours'\", 'time', 'by', 'Mrs.', \"Dursley's\", 'scream', 'as', 'she', 'opened', 'the', 'front', 'door', 'to', 'put', 'out', 'the', 'milk', 'bottles,', 'nor', 'that', 'he', 'would', 'spend', 'the', 'next', 'few', 'weeks', 'being', 'prodded', 'and', 'pinched', 'by', 'his', 'cousin', 'Dudley...', 'He', \"couldn't\", 'know', 'that', 'at', 'this', 'very', 'moment,', 'people', 'meeting', 'in', 'secret', 'all', 'over', 'the', 'country', 'were', 'holding', 'up', 'their', 'glasses', 'and', 'saying', 'in', 'hushed', 'voices:', '\"To', 'Harry', 'Potter', '--', 'the', 'boy', 'who', 'lived!\"']\n"
          ]
        }
      ]
    },
    {
      "cell_type": "code",
      "execution_count": 85,
      "id": "d1b4a4ca",
      "metadata": {
        "id": "d1b4a4ca"
      },
      "outputs": [],
      "source": [
        "def normalize_word(word):\n",
        "    return word.replace(\".\", \"\").replace(\",\", \"\").replace(\"'s\", \"\").lower()\n",
        "\n",
        "\n",
        "chapter_scores = [\n",
        "    [sum(1 for word in chap if normalize_word(word) in s) for s in sentiments]\n",
        "    for chap in chapter_words\n",
        "]"
      ]
    },
    {
      "cell_type": "code",
      "execution_count": null,
      "id": "7f3bc7f3-2959-4338-9f2b-04c58ff1aeb4",
      "metadata": {
        "id": "7f3bc7f3-2959-4338-9f2b-04c58ff1aeb4",
        "outputId": "8e73b33c-6284-407a-efde-1add95641f28",
        "colab": {
          "base_uri": "https://localhost:8080/"
        }
      },
      "outputs": [
        {
          "output_type": "execute_result",
          "data": {
            "text/plain": [
              "[[100, 124],\n",
              " [72, 116],\n",
              " [65, 97],\n",
              " [97, 128],\n",
              " [177, 145],\n",
              " [128, 113],\n",
              " [125, 105],\n",
              " [70, 89],\n",
              " [94, 144],\n",
              " [93, 118],\n",
              " [69, 90],\n",
              " [126, 135],\n",
              " [77, 70],\n",
              " [67, 83],\n",
              " [105, 198],\n",
              " [122, 186],\n",
              " [142, 193]]"
            ]
          },
          "metadata": {},
          "execution_count": 188
        }
      ],
      "source": [
        "chapter_scores"
      ]
    },
    {
      "cell_type": "code",
      "execution_count": null,
      "id": "505f1d29",
      "metadata": {
        "id": "505f1d29"
      },
      "outputs": [],
      "source": [
        "positives, negatives = zip(*chapter_scores)\n",
        "overall_sentiment = (sum(positives) - sum(negatives)) / (\n",
        "    sum(positives) + sum(negatives)\n",
        ")"
      ]
    },
    {
      "cell_type": "code",
      "execution_count": null,
      "id": "92465ef8-bf83-4607-92fa-f43bd8eec861",
      "metadata": {
        "id": "92465ef8-bf83-4607-92fa-f43bd8eec861",
        "outputId": "6a368664-1fe7-47c2-df60-b2016e90a101",
        "colab": {
          "base_uri": "https://localhost:8080/"
        }
      },
      "outputs": [
        {
          "output_type": "execute_result",
          "data": {
            "text/plain": [
              "-0.10484079730779187"
            ]
          },
          "metadata": {},
          "execution_count": 190
        }
      ],
      "source": [
        "overall_sentiment"
      ]
    },
    {
      "cell_type": "code",
      "execution_count": null,
      "id": "2e8550c6",
      "metadata": {
        "id": "2e8550c6",
        "outputId": "930d31ab-58f3-4517-ac24-706b3f7edd7b",
        "colab": {
          "base_uri": "https://localhost:8080/",
          "height": 447
        }
      },
      "outputs": [
        {
          "output_type": "execute_result",
          "data": {
            "text/plain": [
              "[<matplotlib.lines.Line2D at 0x7ddb1d20ecb0>]"
            ]
          },
          "metadata": {},
          "execution_count": 195
        },
        {
          "output_type": "display_data",
          "data": {
            "text/plain": [
              "<Figure size 640x480 with 1 Axes>"
            ],
            "image/png": "[encoded data removed]"
          },
          "metadata": {}
        }
      ],
      "source": [
        "import matplotlib.pyplot as plt\n",
        "\n",
        "plt.plot([(x - y) / (x + y) for x, y in chapter_scores])"
      ]
    }
  ],
  "metadata": {
    "celltoolbar": "Slideshow",
    "colab": {
      "provenance": []
    },
    "kernelspec": {
      "display_name": "Python 3 (ipykernel)",
      "language": "python",
      "name": "python3"
    },
    "language_info": {
      "codemirror_mode": {
        "name": "ipython",
        "version": 3
      },
      "file_extension": ".py",
      "mimetype": "text/x-python",
      "name": "python",
      "nbconvert_exporter": "python",
      "pygments_lexer": "ipython3",
      "version": "3.9.12"
    }
  },
  "nbformat": 4,
  "nbformat_minor": 5
}