{
 "cells": [
  {
   "cell_type": "markdown",
   "metadata": {},
   "source": [
    "### CDC Data EDA\n",
    "- This notebook is an exploratory data analysis of the CDC data.\n"
   ]
  },
  {
   "cell_type": "markdown",
   "metadata": {},
   "source": [
    "Context: Given CDC data to explore and analyze the data to understand the trends and patterns in the data.\n",
    "This document loads the data, investigates it's structure, and defines some functions for working with the data."
   ]
  },
  {
   "cell_type": "code",
   "execution_count": 1,
   "metadata": {},
   "outputs": [],
   "source": [
    "import pandas as pd\n",
    "import numpy as np\n",
    "import matplotlib.pyplot as plt"
   ]
  },
  {
   "cell_type": "code",
   "execution_count": 2,
   "metadata": {},
   "outputs": [],
   "source": [
    "# define function to download and zip the data (this is saved in helpers.py)\n",
    "import helpers as h"
   ]
  },
  {
   "cell_type": "markdown",
   "metadata": {},
   "source": [
    "```python\n",
    "import requests\n",
    "import zipfile\n",
    "import os\n",
    "\n",
    "def download_and_zip(url, zip_path):\n",
    "    # Send a GET request to the URL\n",
    "    response = requests.get(url)\n",
    "    # Check if the request was successful\n",
    "    if response.status_code == 200:\n",
    "        # Save the file to a temporary location\n",
    "        with open('temp_file', 'wb') as f:\n",
    "            f.write(response.content)\n",
    "        # Create a zip archive with the downloaded file\n",
    "        with zipfile.ZipFile(zip_path, 'w') as zipf:\n",
    "            # Add the file to the zip archive\n",
    "            zipf.write('temp_file', os.path.basename(url))\n",
    "        # Remove the temporary file\n",
    "        os.remove('temp_file')\n",
    "        print(\"File downloaded and zipped successfully!\")\n",
    "    else:\n",
    "        print(\"Failed to download the file\")\n",
    "```\n"
   ]
  },
  {
   "cell_type": "code",
   "execution_count": 3,
   "metadata": {},
   "outputs": [
    {
     "name": "stdout",
     "output_type": "stream",
     "text": [
      "File downloaded and zipped successfully!\n"
     ]
    }
   ],
   "source": [
    "# download and zip\n",
    "file_url = 'https://data.cdc.gov/api/views/hksd-2xuw/rows.csv?accessType=DOWNLOAD'\n",
    "zip_path = 'cdc_data.zip'\n",
    "# Download the file and zip it\n",
    "h.download_and_zip(file_url, zip_path)"
   ]
  },
  {
   "cell_type": "code",
   "execution_count": 5,
   "metadata": {},
   "outputs": [
    {
     "name": "stdout",
     "output_type": "stream",
     "text": [
      "           YearStart        YearEnd  Response     DataValue  DataValueAlt  \\\n",
      "count  311745.000000  311745.000000       0.0  2.106840e+05  2.106840e+05   \n",
      "mean     2020.028328    2020.302430       NaN  6.897924e+02  7.308139e+02   \n",
      "std         1.535006       1.075266       NaN  1.614618e+04  1.828234e+04   \n",
      "min      2015.000000    2019.000000       NaN  0.000000e+00  0.000000e+00   \n",
      "25%      2019.000000    2019.000000       NaN  1.240000e+01  1.240000e+01   \n",
      "50%      2020.000000    2020.000000       NaN  2.700000e+01  2.700000e+01   \n",
      "75%      2021.000000    2021.000000       NaN  5.830000e+01  5.830000e+01   \n",
      "max      2022.000000    2022.000000       NaN  2.925456e+06  2.925456e+06   \n",
      "\n",
      "       LowConfidenceLimit  HighConfidenceLimit  StratificationCategory2  \\\n",
      "count       190373.000000        190378.000000                      0.0   \n",
      "mean            36.866274            46.092071                      NaN   \n",
      "std             64.810910            69.765041                      NaN   \n",
      "min              0.000000             0.000000                      NaN   \n",
      "25%              9.200000            14.100000                      NaN   \n",
      "50%             19.600000            29.300000                      NaN   \n",
      "75%             40.700000            54.700000                      NaN   \n",
      "max           1427.000000          1485.900000                      NaN   \n",
      "\n",
      "       Stratification2  StratificationCategory3  Stratification3  \\\n",
      "count              0.0                      0.0              0.0   \n",
      "mean               NaN                      NaN              NaN   \n",
      "std                NaN                      NaN              NaN   \n",
      "min                NaN                      NaN              NaN   \n",
      "25%                NaN                      NaN              NaN   \n",
      "50%                NaN                      NaN              NaN   \n",
      "75%                NaN                      NaN              NaN   \n",
      "max                NaN                      NaN              NaN   \n",
      "\n",
      "          LocationID  ResponseID  StratificationCategoryID2  \\\n",
      "count  311745.000000         0.0                        0.0   \n",
      "mean       31.213934         NaN                        NaN   \n",
      "std        17.803762         NaN                        NaN   \n",
      "min         1.000000         NaN                        NaN   \n",
      "25%        17.000000         NaN                        NaN   \n",
      "50%        31.000000         NaN                        NaN   \n",
      "75%        45.000000         NaN                        NaN   \n",
      "max        78.000000         NaN                        NaN   \n",
      "\n",
      "       StratificationID2  StratificationCategoryID3  StratificationID3  \n",
      "count                0.0                        0.0                0.0  \n",
      "mean                 NaN                        NaN                NaN  \n",
      "std                  NaN                        NaN                NaN  \n",
      "min                  NaN                        NaN                NaN  \n",
      "25%                  NaN                        NaN                NaN  \n",
      "50%                  NaN                        NaN                NaN  \n",
      "75%                  NaN                        NaN                NaN  \n",
      "max                  NaN                        NaN                NaN  \n",
      "Index(['YearStart', 'YearEnd', 'LocationAbbr', 'LocationDesc', 'DataSource',\n",
      "       'Topic', 'Question', 'Response', 'DataValueUnit', 'DataValueType',\n",
      "       'DataValue', 'DataValueAlt', 'DataValueFootnoteSymbol',\n",
      "       'DataValueFootnote', 'LowConfidenceLimit', 'HighConfidenceLimit',\n",
      "       'StratificationCategory1', 'Stratification1', 'StratificationCategory2',\n",
      "       'Stratification2', 'StratificationCategory3', 'Stratification3',\n",
      "       'Geolocation', 'LocationID', 'TopicID', 'QuestionID', 'ResponseID',\n",
      "       'DataValueTypeID', 'StratificationCategoryID1', 'StratificationID1',\n",
      "       'StratificationCategoryID2', 'StratificationID2',\n",
      "       'StratificationCategoryID3', 'StratificationID3'],\n",
      "      dtype='object')\n"
     ]
    },
    {
     "ename": "KeyError",
     "evalue": "0",
     "output_type": "error",
     "traceback": [
      "\u001b[0;31m---------------------------------------------------------------------------\u001b[0m",
      "\u001b[0;31mKeyError\u001b[0m                                  Traceback (most recent call last)",
      "File \u001b[0;32m~/.local/lib/python3.10/site-packages/pandas/core/indexes/base.py:3805\u001b[0m, in \u001b[0;36mIndex.get_loc\u001b[0;34m(self, key)\u001b[0m\n\u001b[1;32m   3804\u001b[0m \u001b[38;5;28;01mtry\u001b[39;00m:\n\u001b[0;32m-> 3805\u001b[0m     \u001b[38;5;28;01mreturn\u001b[39;00m \u001b[38;5;28;43mself\u001b[39;49m\u001b[38;5;241;43m.\u001b[39;49m\u001b[43m_engine\u001b[49m\u001b[38;5;241;43m.\u001b[39;49m\u001b[43mget_loc\u001b[49m\u001b[43m(\u001b[49m\u001b[43mcasted_key\u001b[49m\u001b[43m)\u001b[49m\n\u001b[1;32m   3806\u001b[0m \u001b[38;5;28;01mexcept\u001b[39;00m \u001b[38;5;167;01mKeyError\u001b[39;00m \u001b[38;5;28;01mas\u001b[39;00m err:\n",
      "File \u001b[0;32mindex.pyx:167\u001b[0m, in \u001b[0;36mpandas._libs.index.IndexEngine.get_loc\u001b[0;34m()\u001b[0m\n",
      "File \u001b[0;32mindex.pyx:196\u001b[0m, in \u001b[0;36mpandas._libs.index.IndexEngine.get_loc\u001b[0;34m()\u001b[0m\n",
      "File \u001b[0;32mpandas/_libs/hashtable_class_helper.pxi:7081\u001b[0m, in \u001b[0;36mpandas._libs.hashtable.PyObjectHashTable.get_item\u001b[0;34m()\u001b[0m\n",
      "File \u001b[0;32mpandas/_libs/hashtable_class_helper.pxi:7089\u001b[0m, in \u001b[0;36mpandas._libs.hashtable.PyObjectHashTable.get_item\u001b[0;34m()\u001b[0m\n",
      "\u001b[0;31mKeyError\u001b[0m: 0",
      "\nThe above exception was the direct cause of the following exception:\n",
      "\u001b[0;31mKeyError\u001b[0m                                  Traceback (most recent call last)",
      "Cell \u001b[0;32mIn[5], line 5\u001b[0m\n\u001b[1;32m      3\u001b[0m \u001b[38;5;28mprint\u001b[39m(cdc_data\u001b[38;5;241m.\u001b[39mdescribe())\n\u001b[1;32m      4\u001b[0m \u001b[38;5;28mprint\u001b[39m(cdc_data\u001b[38;5;241m.\u001b[39mcolumns)\n\u001b[0;32m----> 5\u001b[0m \u001b[38;5;28mprint\u001b[39m(\u001b[43mcdc_data\u001b[49m\u001b[43m[\u001b[49m\u001b[38;5;241;43m0\u001b[39;49m\u001b[43m]\u001b[49m)\n",
      "File \u001b[0;32m~/.local/lib/python3.10/site-packages/pandas/core/frame.py:4090\u001b[0m, in \u001b[0;36mDataFrame.__getitem__\u001b[0;34m(self, key)\u001b[0m\n\u001b[1;32m   4088\u001b[0m \u001b[38;5;28;01mif\u001b[39;00m \u001b[38;5;28mself\u001b[39m\u001b[38;5;241m.\u001b[39mcolumns\u001b[38;5;241m.\u001b[39mnlevels \u001b[38;5;241m>\u001b[39m \u001b[38;5;241m1\u001b[39m:\n\u001b[1;32m   4089\u001b[0m     \u001b[38;5;28;01mreturn\u001b[39;00m \u001b[38;5;28mself\u001b[39m\u001b[38;5;241m.\u001b[39m_getitem_multilevel(key)\n\u001b[0;32m-> 4090\u001b[0m indexer \u001b[38;5;241m=\u001b[39m \u001b[38;5;28;43mself\u001b[39;49m\u001b[38;5;241;43m.\u001b[39;49m\u001b[43mcolumns\u001b[49m\u001b[38;5;241;43m.\u001b[39;49m\u001b[43mget_loc\u001b[49m\u001b[43m(\u001b[49m\u001b[43mkey\u001b[49m\u001b[43m)\u001b[49m\n\u001b[1;32m   4091\u001b[0m \u001b[38;5;28;01mif\u001b[39;00m is_integer(indexer):\n\u001b[1;32m   4092\u001b[0m     indexer \u001b[38;5;241m=\u001b[39m [indexer]\n",
      "File \u001b[0;32m~/.local/lib/python3.10/site-packages/pandas/core/indexes/base.py:3812\u001b[0m, in \u001b[0;36mIndex.get_loc\u001b[0;34m(self, key)\u001b[0m\n\u001b[1;32m   3807\u001b[0m     \u001b[38;5;28;01mif\u001b[39;00m \u001b[38;5;28misinstance\u001b[39m(casted_key, \u001b[38;5;28mslice\u001b[39m) \u001b[38;5;129;01mor\u001b[39;00m (\n\u001b[1;32m   3808\u001b[0m         \u001b[38;5;28misinstance\u001b[39m(casted_key, abc\u001b[38;5;241m.\u001b[39mIterable)\n\u001b[1;32m   3809\u001b[0m         \u001b[38;5;129;01mand\u001b[39;00m \u001b[38;5;28many\u001b[39m(\u001b[38;5;28misinstance\u001b[39m(x, \u001b[38;5;28mslice\u001b[39m) \u001b[38;5;28;01mfor\u001b[39;00m x \u001b[38;5;129;01min\u001b[39;00m casted_key)\n\u001b[1;32m   3810\u001b[0m     ):\n\u001b[1;32m   3811\u001b[0m         \u001b[38;5;28;01mraise\u001b[39;00m InvalidIndexError(key)\n\u001b[0;32m-> 3812\u001b[0m     \u001b[38;5;28;01mraise\u001b[39;00m \u001b[38;5;167;01mKeyError\u001b[39;00m(key) \u001b[38;5;28;01mfrom\u001b[39;00m \u001b[38;5;21;01merr\u001b[39;00m\n\u001b[1;32m   3813\u001b[0m \u001b[38;5;28;01mexcept\u001b[39;00m \u001b[38;5;167;01mTypeError\u001b[39;00m:\n\u001b[1;32m   3814\u001b[0m     \u001b[38;5;66;03m# If we have a listlike key, _check_indexing_error will raise\u001b[39;00m\n\u001b[1;32m   3815\u001b[0m     \u001b[38;5;66;03m#  InvalidIndexError. Otherwise we fall through and re-raise\u001b[39;00m\n\u001b[1;32m   3816\u001b[0m     \u001b[38;5;66;03m#  the TypeError.\u001b[39;00m\n\u001b[1;32m   3817\u001b[0m     \u001b[38;5;28mself\u001b[39m\u001b[38;5;241m.\u001b[39m_check_indexing_error(key)\n",
      "\u001b[0;31mKeyError\u001b[0m: 0"
     ]
    }
   ],
   "source": [
    "# read in file and describe \n",
    "cdc_data = pd.read_csv(zip_path)\n",
    "print(cdc_data.describe())\n",
    "print(cdc_data.columns)\n"
   ]
  },
  {
   "cell_type": "code",
   "execution_count": 8,
   "metadata": {},
   "outputs": [
    {
     "ename": "KeyError",
     "evalue": "0",
     "output_type": "error",
     "traceback": [
      "\u001b[0;31m---------------------------------------------------------------------------\u001b[0m",
      "\u001b[0;31mKeyError\u001b[0m                                  Traceback (most recent call last)",
      "File \u001b[0;32m~/.local/lib/python3.10/site-packages/pandas/core/indexes/base.py:3805\u001b[0m, in \u001b[0;36mIndex.get_loc\u001b[0;34m(self, key)\u001b[0m\n\u001b[1;32m   3804\u001b[0m \u001b[38;5;28;01mtry\u001b[39;00m:\n\u001b[0;32m-> 3805\u001b[0m     \u001b[38;5;28;01mreturn\u001b[39;00m \u001b[38;5;28;43mself\u001b[39;49m\u001b[38;5;241;43m.\u001b[39;49m\u001b[43m_engine\u001b[49m\u001b[38;5;241;43m.\u001b[39;49m\u001b[43mget_loc\u001b[49m\u001b[43m(\u001b[49m\u001b[43mcasted_key\u001b[49m\u001b[43m)\u001b[49m\n\u001b[1;32m   3806\u001b[0m \u001b[38;5;28;01mexcept\u001b[39;00m \u001b[38;5;167;01mKeyError\u001b[39;00m \u001b[38;5;28;01mas\u001b[39;00m err:\n",
      "File \u001b[0;32mindex.pyx:167\u001b[0m, in \u001b[0;36mpandas._libs.index.IndexEngine.get_loc\u001b[0;34m()\u001b[0m\n",
      "File \u001b[0;32mindex.pyx:196\u001b[0m, in \u001b[0;36mpandas._libs.index.IndexEngine.get_loc\u001b[0;34m()\u001b[0m\n",
      "File \u001b[0;32mpandas/_libs/hashtable_class_helper.pxi:7081\u001b[0m, in \u001b[0;36mpandas._libs.hashtable.PyObjectHashTable.get_item\u001b[0;34m()\u001b[0m\n",
      "File \u001b[0;32mpandas/_libs/hashtable_class_helper.pxi:7089\u001b[0m, in \u001b[0;36mpandas._libs.hashtable.PyObjectHashTable.get_item\u001b[0;34m()\u001b[0m\n",
      "\u001b[0;31mKeyError\u001b[0m: 0",
      "\nThe above exception was the direct cause of the following exception:\n",
      "\u001b[0;31mKeyError\u001b[0m                                  Traceback (most recent call last)",
      "Cell \u001b[0;32mIn[8], line 1\u001b[0m\n\u001b[0;32m----> 1\u001b[0m \u001b[43mcdc_data\u001b[49m\u001b[43m[\u001b[49m\u001b[38;5;241;43m0\u001b[39;49m\u001b[43m]\u001b[49m\n",
      "File \u001b[0;32m~/.local/lib/python3.10/site-packages/pandas/core/frame.py:4090\u001b[0m, in \u001b[0;36mDataFrame.__getitem__\u001b[0;34m(self, key)\u001b[0m\n\u001b[1;32m   4088\u001b[0m \u001b[38;5;28;01mif\u001b[39;00m \u001b[38;5;28mself\u001b[39m\u001b[38;5;241m.\u001b[39mcolumns\u001b[38;5;241m.\u001b[39mnlevels \u001b[38;5;241m>\u001b[39m \u001b[38;5;241m1\u001b[39m:\n\u001b[1;32m   4089\u001b[0m     \u001b[38;5;28;01mreturn\u001b[39;00m \u001b[38;5;28mself\u001b[39m\u001b[38;5;241m.\u001b[39m_getitem_multilevel(key)\n\u001b[0;32m-> 4090\u001b[0m indexer \u001b[38;5;241m=\u001b[39m \u001b[38;5;28;43mself\u001b[39;49m\u001b[38;5;241;43m.\u001b[39;49m\u001b[43mcolumns\u001b[49m\u001b[38;5;241;43m.\u001b[39;49m\u001b[43mget_loc\u001b[49m\u001b[43m(\u001b[49m\u001b[43mkey\u001b[49m\u001b[43m)\u001b[49m\n\u001b[1;32m   4091\u001b[0m \u001b[38;5;28;01mif\u001b[39;00m is_integer(indexer):\n\u001b[1;32m   4092\u001b[0m     indexer \u001b[38;5;241m=\u001b[39m [indexer]\n",
      "File \u001b[0;32m~/.local/lib/python3.10/site-packages/pandas/core/indexes/base.py:3812\u001b[0m, in \u001b[0;36mIndex.get_loc\u001b[0;34m(self, key)\u001b[0m\n\u001b[1;32m   3807\u001b[0m     \u001b[38;5;28;01mif\u001b[39;00m \u001b[38;5;28misinstance\u001b[39m(casted_key, \u001b[38;5;28mslice\u001b[39m) \u001b[38;5;129;01mor\u001b[39;00m (\n\u001b[1;32m   3808\u001b[0m         \u001b[38;5;28misinstance\u001b[39m(casted_key, abc\u001b[38;5;241m.\u001b[39mIterable)\n\u001b[1;32m   3809\u001b[0m         \u001b[38;5;129;01mand\u001b[39;00m \u001b[38;5;28many\u001b[39m(\u001b[38;5;28misinstance\u001b[39m(x, \u001b[38;5;28mslice\u001b[39m) \u001b[38;5;28;01mfor\u001b[39;00m x \u001b[38;5;129;01min\u001b[39;00m casted_key)\n\u001b[1;32m   3810\u001b[0m     ):\n\u001b[1;32m   3811\u001b[0m         \u001b[38;5;28;01mraise\u001b[39;00m InvalidIndexError(key)\n\u001b[0;32m-> 3812\u001b[0m     \u001b[38;5;28;01mraise\u001b[39;00m \u001b[38;5;167;01mKeyError\u001b[39;00m(key) \u001b[38;5;28;01mfrom\u001b[39;00m \u001b[38;5;21;01merr\u001b[39;00m\n\u001b[1;32m   3813\u001b[0m \u001b[38;5;28;01mexcept\u001b[39;00m \u001b[38;5;167;01mTypeError\u001b[39;00m:\n\u001b[1;32m   3814\u001b[0m     \u001b[38;5;66;03m# If we have a listlike key, _check_indexing_error will raise\u001b[39;00m\n\u001b[1;32m   3815\u001b[0m     \u001b[38;5;66;03m#  InvalidIndexError. Otherwise we fall through and re-raise\u001b[39;00m\n\u001b[1;32m   3816\u001b[0m     \u001b[38;5;66;03m#  the TypeError.\u001b[39;00m\n\u001b[1;32m   3817\u001b[0m     \u001b[38;5;28mself\u001b[39m\u001b[38;5;241m.\u001b[39m_check_indexing_error(key)\n",
      "\u001b[0;31mKeyError\u001b[0m: 0"
     ]
    }
   ],
   "source": [
    "cdc_data[0]"
   ]
  },
  {
   "cell_type": "code",
   "execution_count": 7,
   "metadata": {},
   "outputs": [
    {
     "name": "stdout",
     "output_type": "stream",
     "text": [
      "['Adults with any disability' 'Arthritis among adults'\n",
      " 'Influenza vaccination among adults' 'Diabetes among adults'\n",
      " 'Life expectancy at birth' 'Alcohol use among high school students'\n",
      " 'Current asthma among adults'\n",
      " 'Asthma mortality among all people, underlying cause'\n",
      " 'Short sleep duration among adults'\n",
      " 'All teeth lost among adults aged 65 years and older'\n",
      " 'Visited dentist or dental clinic in the past year among adults'\n",
      " 'Depression among adults' 'High blood pressure among adults'\n",
      " 'Coronary heart disease mortality among all people, underlying cause'\n",
      " 'Invasive cancer (all sites combined), incidence'\n",
      " '2 or more chronic conditions among adults'\n",
      " 'Invasive cancer (all sites combined) mortality among all people, underlying cause'\n",
      " 'Colon and rectum (colorectal) cancer mortality among all people, underlying cause'\n",
      " 'Cervical cancer mortality among all females, underlying cause'\n",
      " 'Breast cancer mortality among all females, underlying cause'\n",
      " 'Prostate cancer mortality among all males, underlying cause'\n",
      " 'Lung and bronchial cancer mortality among all people, underlying cause'\n",
      " 'Binge drinking prevalence among adults'\n",
      " 'Severe joint pain among adults with arthritis'\n",
      " 'Current electronic vapor product use among high school students'\n",
      " 'Fair or poor self-rated health status among adults'\n",
      " 'Physical inactivity among adults with arthritis'\n",
      " 'Diseases of the heart mortality among all people, underlying cause'\n",
      " 'Receipt of evidence-based preventive dental services in the past 12 months among children and adolescents aged 1-17 years'\n",
      " 'Children and adolescents aged 6-13 years meeting aerobic physical activity guideline'\n",
      " 'High cholesterol among adults who have been screened'\n",
      " 'Received health care provider counseling for physical activity among adults with arthritis'\n",
      " 'Consumed regular soda at least one time daily among high school students'\n",
      " 'No leisure-time physical activity among adults'\n",
      " 'Activity limitation due to arthritis among adults with arthritis'\n",
      " 'Quit attempts in the past year among adult current smokers'\n",
      " 'Chronic obstructive pulmonary disease mortality among adults aged 45 years and older, underlying or contributing cause'\n",
      " 'Diabetic ketoacidosis mortality among all people, underlying or contributing cause'\n",
      " 'Visited dentist or other oral health care provider in the past 12 months among children and adolescents aged 1-17 years'\n",
      " 'Recent activity limitation among adults'\n",
      " 'Chronic obstructive pulmonary disease mortality among adults aged 45 years and older, underlying cause'\n",
      " 'Lack of health insurance among adults aged 18-64 years'\n",
      " 'Chronic liver disease mortality among all people, underlying cause'\n",
      " 'Hospitalization for heart failure as principal diagnosis, Medicare-beneficiaries aged 65 years and older'\n",
      " 'Taking medicine to control high blood pressure among adults with high blood pressure'\n",
      " 'Unemployment rate among people 16 years and older in the labor force'\n",
      " 'Provided care for someone with dementia or other cognitive impairment in the past month among adults'\n",
      " 'Influenza vaccination among adults 18–64 who are at increased risk'\n",
      " 'Binge drinking frequency among adults who binge drink'\n",
      " 'Chronic obstructive pulmonary disease among adults'\n",
      " 'Average recent physically unhealthy days among adults'\n",
      " 'Diabetes mortality among all people, underlying or contributing cause'\n",
      " 'Subjective cognitive decline among adults aged 45 years and older'\n",
      " 'Short sleep duration among children aged 4 months to 14 years'\n",
      " 'Obesity among adults'\n",
      " 'Consumed vegetables less than one time daily among high school students'\n",
      " 'Routine checkup within the past year among adults'\n",
      " 'Pneumococcal vaccination among adults aged 18–64 years who are at increased risk'\n",
      " 'Preventive dental care in the 12 months before pregnancy among women with a recent live birth'\n",
      " 'Consumed fruit less than one time daily among high school students'\n",
      " 'Frequent mental distress among adults'\n",
      " 'Gestational diabetes among women with a recent live birth'\n",
      " 'Average mentally unhealthy days among adults'\n",
      " 'Met aerobic physical activity guideline for substantial health benefits, adults'\n",
      " 'Have taken an educational class to learn how to manage arthritis symptoms among adults with arthritis'\n",
      " 'Cerebrovascular disease (stroke) mortality among all people, underlying cause'\n",
      " 'Postpartum depressive symptoms among women with a recent live birth'\n",
      " 'Hospitalization for chronic obstructive pulmonary disease as any diagnosis, Medicare-beneficiaries aged 65 years and older'\n",
      " 'Met aerobic physical activity guideline among high school students'\n",
      " 'Pneumococcal vaccination among adults aged 65 years and older'\n",
      " 'Discussed symptoms of subjective cognitive decline with a health care professional among adults aged 45 years and older with subjective cognitive decline'\n",
      " 'Short sleep duration among high school students'\n",
      " 'Current tobacco use of any tobacco product among high school students'\n",
      " 'Work limitation due to arthritis among adults aged 18-64 years with arthritis'\n",
      " 'Obesity among high school students'\n",
      " 'Current smoking among adults with chronic obstructive pulmonary disease'\n",
      " 'Provided care for a friend or family member in the past month among adults'\n",
      " 'Consumed fruit less than one time daily among adults'\n",
      " 'Consumed vegetables less than one time daily among adults'\n",
      " 'Frequent physical distress among adults'\n",
      " 'Health insurance coverage after pregnancy among women with a recent live birth'\n",
      " 'Binge drinking intensity among adults who binge drink'\n",
      " 'Current cigarette smoking among adults'\n",
      " 'Hospitalization for chronic obstructive pulmonary disease as principal diagnosis, Medicare-beneficiaries aged 65 years and older'\n",
      " 'Taking medicine for high cholesterol among adults'\n",
      " 'Binge drinking prevalence among high school students'\n",
      " 'Proportion of the population protected by a comprehensive smoke-free policy prohibiting smoking in all indoor areas of workplaces and public places, including restaurants and bars'\n",
      " 'Per capita alcohol consumption among people aged 14 years and older'\n",
      " 'Postpartum checkup among women with a recent live birth'\n",
      " 'High school completion among adults aged 18-24'\n",
      " 'Current smokeless tobacco use among high school students'\n",
      " 'Cigarette smoking during pregnancy among women with a recent live birth'\n",
      " 'Health insurance coverage in the month before pregnancy among women with a recent live birth'\n",
      " 'Infants who were exclusively breastfed through 6 months'\n",
      " 'Living below 150% of the poverty threshold among all people'\n",
      " 'Incidence of treated end-stage kidney disease'\n",
      " 'No broadband internet subscription among households'\n",
      " 'Infants who were breastfed at 12 months'\n",
      " 'Food insecure in the past 12 months among households'\n",
      " 'No teeth lost among adults aged 18-64 years'\n",
      " 'Obesity among WIC children aged 2 to 4 years'\n",
      " 'Mammography use among women aged 50-74 years'\n",
      " 'Cervical cancer screening among women aged 21-65 years'\n",
      " 'Colorectal cancer screening among adults aged 45-75 years'\n",
      " 'Six or more teeth lost among adults aged 65 years and older'\n",
      " 'Current poor mental health among high school students'\n",
      " 'Lack of reliable transportation in the past 12 months among adults'\n",
      " 'Lack of social and emotional support needed among adults'\n",
      " 'Unable to pay mortgage, rent, or utility bills in the past 12 months among adults']\n"
     ]
    }
   ],
   "source": [
    "## print unique values for question column\n",
    "print(cdc_data['Question'].unique())"
   ]
  },
  {
   "cell_type": "code",
   "execution_count": 9,
   "metadata": {},
   "outputs": [
    {
     "name": "stdout",
     "output_type": "stream",
     "text": [
      "['Disability' 'Arthritis' 'Immunization' 'Diabetes' 'Health Status'\n",
      " 'Alcohol' 'Asthma' 'Sleep' 'Oral Health' 'Mental Health'\n",
      " 'Cardiovascular Disease' 'Cancer' 'Tobacco'\n",
      " 'Nutrition, Physical Activity, and Weight Status'\n",
      " 'Chronic Obstructive Pulmonary Disease' 'Social Determinants of Health'\n",
      " 'Cognitive Health and Caregiving' 'Maternal Health'\n",
      " 'Chronic Kidney Disease']\n"
     ]
    }
   ],
   "source": [
    "## print unique values for question column\n",
    "print(cdc_data['Topic'].unique())"
   ]
  },
  {
   "cell_type": "code",
   "execution_count": 8,
   "metadata": {},
   "outputs": [
    {
     "name": "stdout",
     "output_type": "stream",
     "text": [
      "['GA' 'GU' 'ME' 'NV' 'OH' 'OK' 'VI' 'WV' 'AL' 'AK' 'DC' 'IL' 'KS' 'NJ'\n",
      " 'PA' 'SC' 'US' 'VT' 'WA' 'WY' 'AZ' 'AR' 'LA' 'MA' 'OR' 'KY' 'MI' 'MN'\n",
      " 'MO' 'ID' 'CO' 'NY' 'ND' 'TX' 'NC' 'CT' 'MS' 'VA' 'WI' 'DE' 'FL' 'IA'\n",
      " 'MT' 'IN' 'CA' 'NE' 'HI' 'NM' 'SD' 'RI' 'NH' 'UT' 'MD' 'TN' 'PR']\n"
     ]
    }
   ],
   "source": [
    "# print unique values for LocationDesc column\n",
    "print(cdc_data['LocationAbbr'].unique())"
   ]
  },
  {
   "cell_type": "markdown",
   "metadata": {},
   "source": [
    "### print out stratification levels\n",
    "\n",
    "The data are categorized into different groups"
   ]
  },
  {
   "cell_type": "code",
   "execution_count": 9,
   "metadata": {},
   "outputs": [
    {
     "name": "stdout",
     "output_type": "stream",
     "text": [
      "\n",
      "Levels for Age\n"
     ]
    },
    {
     "name": "stdout",
     "output_type": "stream",
     "text": [
      "['Age >=65' 'Age 18-44' 'Age 45-64' 'Age 6-11' 'Age 6-9' 'Age 1-5'\n",
      " 'Age 6-14' 'Age 4 m - 5 y' 'Age 0-44' 'Age 12-17' 'Age 10-13']\n",
      "\n",
      "Levels for Sex\n",
      "['Female' 'Male']\n",
      "\n",
      "Levels for Overall\n",
      "['Overall']\n",
      "\n",
      "Levels for Race/Ethnicity\n",
      "['American Indian or Alaska Native, non-Hispanic' 'White, non-Hispanic'\n",
      " 'Black, non-Hispanic' 'Asian or Pacific Islander, non-Hispanic'\n",
      " 'Hispanic' 'Hawaiian or Pacific Islander, non-Hispanic'\n",
      " 'Asian, non-Hispanic' 'Multiracial, non-Hispanic']\n",
      "\n",
      "Levels for Grade\n",
      "['Grade 10' 'Grade 11' 'Grade 12' 'Grade 9']\n"
     ]
    }
   ],
   "source": [
    "# print unique values for StratificationCategory1 column\n",
    "level1 = cdc_data['StratificationCategory1'].unique()\n",
    "# now for each group print the unique values for Stratification2\n",
    "for l in level1:\n",
    "    print(f'\\nLevels for {l}')\n",
    "    print(cdc_data[cdc_data['StratificationCategory1'] == l]['Stratification1'].unique())"
   ]
  },
  {
   "cell_type": "code",
   "execution_count": 10,
   "metadata": {},
   "outputs": [
    {
     "name": "stdout",
     "output_type": "stream",
     "text": [
      "       YearStart  YearEnd LocationAbbr LocationDesc DataSource         Topic  \\\n",
      "14364       2019     2019           AL      Alabama      BRFSS  Immunization   \n",
      "14431       2019     2019           AK       Alaska      BRFSS  Immunization   \n",
      "15621       2019     2019           AZ      Arizona      BRFSS  Immunization   \n",
      "16956       2019     2019           AL      Alabama      BRFSS  Immunization   \n",
      "17908       2019     2019           AZ      Arizona      BRFSS  Immunization   \n",
      "\n",
      "                                                Question  Response  \\\n",
      "14364  Influenza vaccination among adults 18–64 who a...       NaN   \n",
      "14431  Influenza vaccination among adults 18–64 who a...       NaN   \n",
      "15621  Influenza vaccination among adults 18–64 who a...       NaN   \n",
      "16956  Influenza vaccination among adults 18–64 who a...       NaN   \n",
      "17908  Influenza vaccination among adults 18–64 who a...       NaN   \n",
      "\n",
      "      DataValueUnit            DataValueType  ...  TopicID  QuestionID  \\\n",
      "14364             %         Crude Prevalence  ...      IMM       IMM02   \n",
      "14431             %         Crude Prevalence  ...      IMM       IMM02   \n",
      "15621             %         Crude Prevalence  ...      IMM       IMM02   \n",
      "16956             %  Age-adjusted Prevalence  ...      IMM       IMM02   \n",
      "17908             %  Age-adjusted Prevalence  ...      IMM       IMM02   \n",
      "\n",
      "      ResponseID DataValueTypeID  StratificationCategoryID1  \\\n",
      "14364        NaN         CRDPREV                    OVERALL   \n",
      "14431        NaN         CRDPREV                    OVERALL   \n",
      "15621        NaN         CRDPREV                    OVERALL   \n",
      "16956        NaN      AGEADJPREV                    OVERALL   \n",
      "17908        NaN      AGEADJPREV                    OVERALL   \n",
      "\n",
      "       StratificationID1 StratificationCategoryID2 StratificationID2  \\\n",
      "14364                OVR                       NaN               NaN   \n",
      "14431                OVR                       NaN               NaN   \n",
      "15621                OVR                       NaN               NaN   \n",
      "16956                OVR                       NaN               NaN   \n",
      "17908                OVR                       NaN               NaN   \n",
      "\n",
      "       StratificationCategoryID3  StratificationID3  \n",
      "14364                        NaN                NaN  \n",
      "14431                        NaN                NaN  \n",
      "15621                        NaN                NaN  \n",
      "16956                        NaN                NaN  \n",
      "17908                        NaN                NaN  \n",
      "\n",
      "[5 rows x 34 columns]\n"
     ]
    }
   ],
   "source": [
    "## define function to extract data for a specific question, stratification, for all locations\n",
    "def filter_data(data, question, stratification):\n",
    "    filtered = data[(data['Question'] == question) & (data['StratificationCategory1'] == stratification)]\n",
    "    return filtered\n",
    "\n",
    "test = cdc_data[(cdc_data['Question'] == 'Influenza vaccination among adults 18–64 who are at increased risk') & (cdc_data['StratificationCategory1'] == 'Overall')]\n",
    "print(test.head())"
   ]
  },
  {
   "cell_type": "markdown",
   "metadata": {},
   "source": [
    "now we can see we get two levels of DataValueTypes, one is 'Crude Prevalence', the other is 'Age-adjusted Prevalence'.\n",
    "We have to decide which one to use."
   ]
  },
  {
   "cell_type": "code",
   "execution_count": 11,
   "metadata": {},
   "outputs": [],
   "source": [
    "def filter_data(data, question, stratification):\n",
    "    filtered = data[(data['Question'] == question) & (data['StratificationCategory1'] == stratification) & (data['DataValueType'] == 'Age-adjusted Prevalence')]\n",
    "    return filtered"
   ]
  },
  {
   "cell_type": "code",
   "execution_count": 12,
   "metadata": {},
   "outputs": [
    {
     "name": "stdout",
     "output_type": "stream",
     "text": [
      "       YearStart  YearEnd LocationAbbr LocationDesc DataSource         Topic  \\\n",
      "16956       2019     2019           AL      Alabama      BRFSS  Immunization   \n",
      "17908       2019     2019           AZ      Arizona      BRFSS  Immunization   \n",
      "19078       2019     2019           AK       Alaska      BRFSS  Immunization   \n",
      "22210       2019     2019           AR     Arkansas      BRFSS  Immunization   \n",
      "29170       2019     2019           FL      Florida      BRFSS  Immunization   \n",
      "\n",
      "                                                Question  Response  \\\n",
      "16956  Influenza vaccination among adults 18–64 who a...       NaN   \n",
      "17908  Influenza vaccination among adults 18–64 who a...       NaN   \n",
      "19078  Influenza vaccination among adults 18–64 who a...       NaN   \n",
      "22210  Influenza vaccination among adults 18–64 who a...       NaN   \n",
      "29170  Influenza vaccination among adults 18–64 who a...       NaN   \n",
      "\n",
      "      DataValueUnit            DataValueType  ...  TopicID  QuestionID  \\\n",
      "16956             %  Age-adjusted Prevalence  ...      IMM       IMM02   \n",
      "17908             %  Age-adjusted Prevalence  ...      IMM       IMM02   \n",
      "19078             %  Age-adjusted Prevalence  ...      IMM       IMM02   \n",
      "22210             %  Age-adjusted Prevalence  ...      IMM       IMM02   \n",
      "29170             %  Age-adjusted Prevalence  ...      IMM       IMM02   \n",
      "\n",
      "      ResponseID DataValueTypeID  StratificationCategoryID1  \\\n",
      "16956        NaN      AGEADJPREV                    OVERALL   \n",
      "17908        NaN      AGEADJPREV                    OVERALL   \n",
      "19078        NaN      AGEADJPREV                    OVERALL   \n",
      "22210        NaN      AGEADJPREV                    OVERALL   \n",
      "29170        NaN      AGEADJPREV                    OVERALL   \n",
      "\n",
      "       StratificationID1 StratificationCategoryID2 StratificationID2  \\\n",
      "16956                OVR                       NaN               NaN   \n",
      "17908                OVR                       NaN               NaN   \n",
      "19078                OVR                       NaN               NaN   \n",
      "22210                OVR                       NaN               NaN   \n",
      "29170                OVR                       NaN               NaN   \n",
      "\n",
      "       StratificationCategoryID3  StratificationID3  \n",
      "16956                        NaN                NaN  \n",
      "17908                        NaN                NaN  \n",
      "19078                        NaN                NaN  \n",
      "22210                        NaN                NaN  \n",
      "29170                        NaN                NaN  \n",
      "\n",
      "[5 rows x 34 columns]\n"
     ]
    }
   ],
   "source": [
    "test = filter_data(cdc_data, 'Influenza vaccination among adults 18–64 who are at increased risk', 'Overall')\n",
    "print(test.head())"
   ]
  },
  {
   "cell_type": "code",
   "execution_count": 19,
   "metadata": {},
   "outputs": [],
   "source": [
    "## check through for percentage missing for each column\n",
    "def check_missing(data):\n",
    "    missing = data.isnull().sum()\n",
    "    percent_missing = missing / len(data) * 100\n",
    "    return percent_missing"
   ]
  },
  {
   "cell_type": "code",
   "execution_count": 20,
   "metadata": {},
   "outputs": [
    {
     "name": "stdout",
     "output_type": "stream",
     "text": [
      "YearStart                      0.000000\n",
      "YearEnd                        0.000000\n",
      "LocationAbbr                   0.000000\n",
      "LocationDesc                   0.000000\n",
      "DataSource                     0.000000\n",
      "Topic                          0.000000\n",
      "Question                       0.000000\n",
      "Response                     100.000000\n",
      "DataValueUnit                  0.000000\n",
      "DataValueType                  0.000000\n",
      "DataValue                     32.417842\n",
      "DataValueAlt                  32.417842\n",
      "DataValueFootnoteSymbol       67.037803\n",
      "DataValueFootnote             67.037803\n",
      "LowConfidenceLimit            38.933102\n",
      "HighConfidenceLimit           38.931499\n",
      "StratificationCategory1        0.000000\n",
      "Stratification1                0.000000\n",
      "StratificationCategory2      100.000000\n",
      "Stratification2              100.000000\n",
      "StratificationCategory3      100.000000\n",
      "Stratification3              100.000000\n",
      "Geolocation                    1.863382\n",
      "LocationID                     0.000000\n",
      "TopicID                        0.000000\n",
      "QuestionID                     0.000000\n",
      "ResponseID                   100.000000\n",
      "DataValueTypeID                0.000000\n",
      "StratificationCategoryID1      0.000000\n",
      "StratificationID1              0.000000\n",
      "StratificationCategoryID2    100.000000\n",
      "StratificationID2            100.000000\n",
      "StratificationCategoryID3    100.000000\n",
      "StratificationID3            100.000000\n",
      "dtype: float64\n"
     ]
    }
   ],
   "source": [
    "print(check_missing(cdc_data))"
   ]
  },
  {
   "cell_type": "code",
   "execution_count": null,
   "metadata": {},
   "outputs": [],
   "source": []
  }
 ],
 "metadata": {
  "kernelspec": {
   "display_name": "Python 3",
   "language": "python",
   "name": "python3"
  },
  "language_info": {
   "codemirror_mode": {
    "name": "ipython",
    "version": 3
   },
   "file_extension": ".py",
   "mimetype": "text/x-python",
   "name": "python",
   "nbconvert_exporter": "python",
   "pygments_lexer": "ipython3",
   "version": "3.10.12"
  }
 },
 "nbformat": 4,
 "nbformat_minor": 2
}
