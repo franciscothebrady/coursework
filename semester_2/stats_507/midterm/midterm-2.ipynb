{
 "cells": [
  {
   "cell_type": "code",
   "execution_count": 111,
   "id": "ef5f612a",
   "metadata": {
    "deletable": false,
    "editable": false
   },
   "outputs": [],
   "source": [
    "# Initialize Otter\n",
    "import otter\n",
    "grader = otter.Notebook(\"midterm-2.ipynb\")"
   ]
  },
  {
   "cell_type": "code",
   "execution_count": 112,
   "id": "86b9abfb",
   "metadata": {
    "id": "18c64fe3",
    "tags": []
   },
   "outputs": [],
   "source": [
    "import numpy as np\n",
    "import pandas as pd\n",
    "import seaborn as sns\n",
    "import plotly.express as px\n",
    "import matplotlib.pyplot as plt"
   ]
  },
  {
   "cell_type": "markdown",
   "id": "e7f68a7b-b610-4d01-a6c2-d921ba5d2a36",
   "metadata": {},
   "source": [
    "This dataset corresponds to the Battery Electric Vehicles (BEVs) and Plug-in Hybrid Electric Vehicles (PHEVs) that are currently registered through Washington State Department of Licensing (DOL). The data is downloaded from this link below:\n",
    "\n",
    "https://catalog.data.gov/dataset/electric-vehicle-population-data\n",
    "\n",
    "We will assume that: \n",
    "* the `Electric Range` column shows the value in miles.\n",
    "* Base MSRP is the price of the car\n",
    "* State column provides us the US state codes\n"
   ]
  },
  {
   "cell_type": "code",
   "execution_count": 113,
   "id": "36f1d581",
   "metadata": {
    "colab": {
     "base_uri": "https://localhost:8080/",
     "height": 364
    },
    "id": "292f95ca",
    "outputId": "0eca2a74-3df0-41f8-c938-a10f294560c0",
    "tags": []
   },
   "outputs": [
    {
     "data": {
      "text/html": [
       "<div>\n",
       "<style scoped>\n",
       "    .dataframe tbody tr th:only-of-type {\n",
       "        vertical-align: middle;\n",
       "    }\n",
       "\n",
       "    .dataframe tbody tr th {\n",
       "        vertical-align: top;\n",
       "    }\n",
       "\n",
       "    .dataframe thead th {\n",
       "        text-align: right;\n",
       "    }\n",
       "</style>\n",
       "<table border=\"1\" class=\"dataframe\">\n",
       "  <thead>\n",
       "    <tr style=\"text-align: right;\">\n",
       "      <th></th>\n",
       "      <th>VIN (1-10)</th>\n",
       "      <th>County</th>\n",
       "      <th>City</th>\n",
       "      <th>State</th>\n",
       "      <th>Postal Code</th>\n",
       "      <th>Model Year</th>\n",
       "      <th>Make</th>\n",
       "      <th>Model</th>\n",
       "      <th>Electric Vehicle Type</th>\n",
       "      <th>Clean Alternative Fuel Vehicle (CAFV) Eligibility</th>\n",
       "      <th>Electric Range</th>\n",
       "      <th>Base MSRP</th>\n",
       "      <th>Legislative District</th>\n",
       "      <th>DOL Vehicle ID</th>\n",
       "      <th>Vehicle Location</th>\n",
       "      <th>Electric Utility</th>\n",
       "      <th>2020 Census Tract</th>\n",
       "    </tr>\n",
       "  </thead>\n",
       "  <tbody>\n",
       "    <tr>\n",
       "      <th>0</th>\n",
       "      <td>5YJYGDEE1L</td>\n",
       "      <td>King</td>\n",
       "      <td>Seattle</td>\n",
       "      <td>WA</td>\n",
       "      <td>98122.0</td>\n",
       "      <td>2020</td>\n",
       "      <td>TESLA</td>\n",
       "      <td>MODEL Y</td>\n",
       "      <td>Battery Electric Vehicle (BEV)</td>\n",
       "      <td>Clean Alternative Fuel Vehicle Eligible</td>\n",
       "      <td>291</td>\n",
       "      <td>0</td>\n",
       "      <td>37.0</td>\n",
       "      <td>125701579</td>\n",
       "      <td>POINT (-122.30839 47.610365)</td>\n",
       "      <td>CITY OF SEATTLE - (WA)|CITY OF TACOMA - (WA)</td>\n",
       "      <td>5.303301e+10</td>\n",
       "    </tr>\n",
       "    <tr>\n",
       "      <th>1</th>\n",
       "      <td>7SAYGDEE9P</td>\n",
       "      <td>Snohomish</td>\n",
       "      <td>Bothell</td>\n",
       "      <td>WA</td>\n",
       "      <td>98021.0</td>\n",
       "      <td>2023</td>\n",
       "      <td>TESLA</td>\n",
       "      <td>MODEL Y</td>\n",
       "      <td>Battery Electric Vehicle (BEV)</td>\n",
       "      <td>Eligibility unknown as battery range has not b...</td>\n",
       "      <td>0</td>\n",
       "      <td>0</td>\n",
       "      <td>1.0</td>\n",
       "      <td>244285107</td>\n",
       "      <td>POINT (-122.179458 47.802589)</td>\n",
       "      <td>PUGET SOUND ENERGY INC</td>\n",
       "      <td>5.306105e+10</td>\n",
       "    </tr>\n",
       "    <tr>\n",
       "      <th>2</th>\n",
       "      <td>5YJSA1E4XK</td>\n",
       "      <td>King</td>\n",
       "      <td>Seattle</td>\n",
       "      <td>WA</td>\n",
       "      <td>98109.0</td>\n",
       "      <td>2019</td>\n",
       "      <td>TESLA</td>\n",
       "      <td>MODEL S</td>\n",
       "      <td>Battery Electric Vehicle (BEV)</td>\n",
       "      <td>Clean Alternative Fuel Vehicle Eligible</td>\n",
       "      <td>270</td>\n",
       "      <td>0</td>\n",
       "      <td>36.0</td>\n",
       "      <td>156773144</td>\n",
       "      <td>POINT (-122.34848 47.632405)</td>\n",
       "      <td>CITY OF SEATTLE - (WA)|CITY OF TACOMA - (WA)</td>\n",
       "      <td>5.303301e+10</td>\n",
       "    </tr>\n",
       "  </tbody>\n",
       "</table>\n",
       "</div>"
      ],
      "text/plain": [
       "   VIN (1-10)     County     City State  Postal Code  Model Year   Make  \\\n",
       "0  5YJYGDEE1L       King  Seattle    WA      98122.0        2020  TESLA   \n",
       "1  7SAYGDEE9P  Snohomish  Bothell    WA      98021.0        2023  TESLA   \n",
       "2  5YJSA1E4XK       King  Seattle    WA      98109.0        2019  TESLA   \n",
       "\n",
       "     Model           Electric Vehicle Type  \\\n",
       "0  MODEL Y  Battery Electric Vehicle (BEV)   \n",
       "1  MODEL Y  Battery Electric Vehicle (BEV)   \n",
       "2  MODEL S  Battery Electric Vehicle (BEV)   \n",
       "\n",
       "   Clean Alternative Fuel Vehicle (CAFV) Eligibility  Electric Range  \\\n",
       "0            Clean Alternative Fuel Vehicle Eligible             291   \n",
       "1  Eligibility unknown as battery range has not b...               0   \n",
       "2            Clean Alternative Fuel Vehicle Eligible             270   \n",
       "\n",
       "   Base MSRP  Legislative District  DOL Vehicle ID  \\\n",
       "0          0                  37.0       125701579   \n",
       "1          0                   1.0       244285107   \n",
       "2          0                  36.0       156773144   \n",
       "\n",
       "                Vehicle Location  \\\n",
       "0   POINT (-122.30839 47.610365)   \n",
       "1  POINT (-122.179458 47.802589)   \n",
       "2   POINT (-122.34848 47.632405)   \n",
       "\n",
       "                               Electric Utility  2020 Census Tract  \n",
       "0  CITY OF SEATTLE - (WA)|CITY OF TACOMA - (WA)       5.303301e+10  \n",
       "1                        PUGET SOUND ENERGY INC       5.306105e+10  \n",
       "2  CITY OF SEATTLE - (WA)|CITY OF TACOMA - (WA)       5.303301e+10  "
      ]
     },
     "execution_count": 113,
     "metadata": {},
     "output_type": "execute_result"
    }
   ],
   "source": [
    "ev = pd.read_csv(\"ev.csv\")\n",
    "ev.head(3)"
   ]
  },
  {
   "cell_type": "markdown",
   "id": "ae4540c9",
   "metadata": {
    "id": "ebb76677"
   },
   "source": [
    "# EDA and predictive analytics\n",
    "\n",
    "We will perform EDA and predictive analytics on this WA registered electric vehicle dataset. Ensure that you have the title, x/y-labels are set appropriately and your diagrams are meaningful, for all questions that ask you to plot a diagram, to receive full credit."
   ]
  },
  {
   "cell_type": "markdown",
   "id": "c23db894",
   "metadata": {
    "deletable": false,
    "editable": false
   },
   "source": [
    "<!-- BEGIN QUESTION -->\n",
    "\n",
    "## Question 1(a) (1 pt)\n",
    "\n",
    "How many unique values are present in the `State` column in this dataset?\n",
    "Hard coded answers will not get credit. Your answer should be derived from an expression using the `ev` dataframe"
   ]
  },
  {
   "cell_type": "code",
   "execution_count": 114,
   "id": "a7f4d6ba-bc7c-4935-b27c-1e50a94521f8",
   "metadata": {
    "tags": []
   },
   "outputs": [],
   "source": [
    "n_unique_states = ev[\"State\"].unique().size"
   ]
  },
  {
   "cell_type": "code",
   "execution_count": 115,
   "id": "b51df662",
   "metadata": {
    "deletable": false,
    "editable": false
   },
   "outputs": [
    {
     "data": {
      "text/html": [
       "<p><strong><pre style='display: inline;'>1a</pre></strong> passed! ✨</p>"
      ],
      "text/plain": [
       "1a results: All test cases passed!"
      ]
     },
     "execution_count": 115,
     "metadata": {},
     "output_type": "execute_result"
    }
   ],
   "source": [
    "grader.check(\"1a\")"
   ]
  },
  {
   "cell_type": "markdown",
   "id": "23c68865-a680-47e8-9b4f-777e2bf38ec0",
   "metadata": {
    "deletable": false,
    "editable": false
   },
   "source": [
    "<!-- END QUESTION -->\n",
    "\n",
    "## Question 1(b) (1 pt)\n",
    "Find the 3 most popular makes (look into the `Make` column) in this dataset. Get the results as a Series object, with the index being the **make** and the values being the **counts** and display them in the descending order of their count."
   ]
  },
  {
   "cell_type": "code",
   "execution_count": 116,
   "id": "bdf90852",
   "metadata": {
    "colab": {
     "base_uri": "https://localhost:8080/",
     "height": 309
    },
    "id": "QmcvK4r0uwEi",
    "outputId": "5266b94b-54b0-4ce5-f7ca-076f8264d7d5",
    "tags": []
   },
   "outputs": [],
   "source": [
    "popular_makes_count = ev.groupby(\"Make\").size().nlargest(3)"
   ]
  },
  {
   "cell_type": "code",
   "execution_count": 117,
   "id": "96e04595",
   "metadata": {},
   "outputs": [
    {
     "data": {
      "text/plain": [
       "Make\n",
       "TESLA        79659\n",
       "NISSAN       13998\n",
       "CHEVROLET    13678\n",
       "dtype: int64"
      ]
     },
     "execution_count": 117,
     "metadata": {},
     "output_type": "execute_result"
    }
   ],
   "source": [
    "popular_makes_count"
   ]
  },
  {
   "cell_type": "code",
   "execution_count": 118,
   "id": "7e3bd321",
   "metadata": {
    "deletable": false,
    "editable": false
   },
   "outputs": [
    {
     "data": {
      "text/html": [
       "<p><strong><pre style='display: inline;'>1b</pre></strong> passed! 💯</p>"
      ],
      "text/plain": [
       "1b results: All test cases passed!"
      ]
     },
     "execution_count": 118,
     "metadata": {},
     "output_type": "execute_result"
    }
   ],
   "source": [
    "grader.check(\"1b\")"
   ]
  },
  {
   "cell_type": "markdown",
   "id": "a51d2b2c",
   "metadata": {
    "deletable": false,
    "editable": false,
    "id": "9fYlm9133CjV"
   },
   "source": [
    "## Question 1(c) (1 pt)\n",
    "We will now work on other columns. However, you will notice that column names have spaces and are also mixed cases. Let us clean that up by replacing the space with an underscore and also make the column names  lowercase.\n",
    "\n",
    "Hint: One of the easiest ways of doing this is to use `str` accessor of the df.columns. Reference: https://pandas.pydata.org/pandas-docs/stable/user_guide/text.html#string-methods\n"
   ]
  },
  {
   "cell_type": "code",
   "execution_count": 119,
   "id": "cabf2a12",
   "metadata": {
    "id": "5sRtOVFW8Rpg",
    "tags": []
   },
   "outputs": [
    {
     "data": {
      "text/plain": [
       "Index(['vin_(1-10)', 'county', 'city', 'state', 'postal_code', 'model_year',\n",
       "       'make', 'model', 'electric_vehicle_type',\n",
       "       'clean_alternative_fuel_vehicle_(cafv)_eligibility', 'electric_range',\n",
       "       'base_msrp', 'legislative_district', 'dol_vehicle_id',\n",
       "       'vehicle_location', 'electric_utility', '2020_census_tract'],\n",
       "      dtype='object')"
      ]
     },
     "execution_count": 119,
     "metadata": {},
     "output_type": "execute_result"
    }
   ],
   "source": [
    "ev.columns = ev.columns.str.lower().str.replace(\" \", \"_\")\n",
    "ev.columns"
   ]
  },
  {
   "cell_type": "code",
   "execution_count": 120,
   "id": "42298b0e",
   "metadata": {
    "deletable": false,
    "editable": false
   },
   "outputs": [
    {
     "data": {
      "text/html": [
       "<p><strong><pre style='display: inline;'>1c</pre></strong> passed! 🙌</p>"
      ],
      "text/plain": [
       "1c results: All test cases passed!"
      ]
     },
     "execution_count": 120,
     "metadata": {},
     "output_type": "execute_result"
    }
   ],
   "source": [
    "grader.check(\"1c\")"
   ]
  },
  {
   "cell_type": "markdown",
   "id": "bbb69bda",
   "metadata": {
    "deletable": false,
    "editable": false,
    "id": "1-U7I6T0XXJ2"
   },
   "source": [
    "<!-- BEGIN QUESTION -->\n",
    "\n",
    "## ## Question 2(a) (2 pt)\n",
    "\n",
    "Filter the dataset to include only records corresponding to the top 3 makes (look at the answer to 1b) and visualize the distribution of their models using an appropriate chart. Present the distribution in descending order of the count.\n"
   ]
  },
  {
   "cell_type": "code",
   "execution_count": 121,
   "id": "5ce5acf3",
   "metadata": {
    "id": "xR8E32FZk0FA",
    "tags": []
   },
   "outputs": [
    {
     "data": {
      "text/plain": [
       "<seaborn.axisgrid.FacetGrid at 0x78eb1140bf10>"
      ]
     },
     "execution_count": 121,
     "metadata": {},
     "output_type": "execute_result"
    },
    {
     "data": {
      "image/png": "[encoded data removed]",
      "text/plain": [
       "<Figure size 900x300 with 3 Axes>"
      ]
     },
     "metadata": {},
     "output_type": "display_data"
    }
   ],
   "source": [
    "top_3_makes = ev[ev[\"make\"].isin(popular_makes_count.index.tolist())]\n",
    "# top_3_makes\n",
    "top_3_plot = sns.FacetGrid(top_3_makes, col='make')\n",
    "top_3_plot.map(sns.histplot, 'model')\n",
    "top_3_plot.set_xticklabels(rotation=90)\n",
    "top_3_plot.set_titles('{col_name}')"
   ]
  },
  {
   "cell_type": "markdown",
   "id": "5554d30e-8416-44d5-8a93-efbdc658b0aa",
   "metadata": {
    "deletable": false,
    "editable": false
   },
   "source": [
    "<!-- END QUESTION -->\n",
    "\n",
    "<!-- BEGIN QUESTION -->\n",
    "\n",
    "## Question 2(b) (1 pt)\n",
    "\n",
    "Plot a suitable chart to show the distribution of values in the column `electric_range`"
   ]
  },
  {
   "cell_type": "code",
   "execution_count": 122,
   "id": "fb0a4b2f-061a-4613-82fe-7f0c3bf18e1c",
   "metadata": {
    "tags": []
   },
   "outputs": [],
   "source": [
    "range_distribution = ..."
   ]
  },
  {
   "cell_type": "markdown",
   "id": "34a26c76-2243-437f-82d0-46510e14eebb",
   "metadata": {
    "deletable": false,
    "editable": false
   },
   "source": [
    "<!-- END QUESTION -->\n",
    "\n",
    "<!-- BEGIN QUESTION -->\n",
    "\n",
    "## Question 3(a) (2 pt)\n",
    "\n",
    "Filter the records to exclude those with a `base_msrp` value of `0` and only include vehicles classified as `Battery Electric Vehicles (BEV)` in the `electric_vehicle_type` column. Next, determine if there is any correlation, whether positive or negative, between the `base_msrp` column and other numerical column values. Then, identify and list only those column names demonstrating a strong correlation (correlation coefficient >= |0.8|) with the `base_msrp` price column. Finally, provide an explanation of how the `base_msrp` is influenced based on the strongly correlated columns.\n",
    "\n",
    "Hint: You may use the `corr` function "
   ]
  },
  {
   "cell_type": "code",
   "execution_count": 123,
   "id": "7bcacb30-dac0-4fad-b870-7f323cb6f135",
   "metadata": {
    "tags": []
   },
   "outputs": [],
   "source": [
    "# Your solution here\n",
    "ev_filt = ev[(ev[\"base_msrp\"] > 0) &  (ev[\"electric_vehicle_type\"] == 'Battery Electric Vehicle (BEV)')]"
   ]
  },
  {
   "cell_type": "markdown",
   "id": "95a00a8f-bff4-47ea-ac41-04842947e91b",
   "metadata": {
    "deletable": false,
    "editable": false
   },
   "source": [
    "<!-- END QUESTION -->\n",
    "\n",
    "<!-- BEGIN QUESTION -->\n",
    "\n",
    "## Question 3(b) (2 pts)\n",
    "\n",
    "Construct a linear regression model using the **two of the highly correlated columns** as features (refer the answer you derived in the previous question where you found the highly correlated column names to the `base_msrp` column). \n",
    "\n",
    "Your friend from WA is saving up money to buy a Battery Electric Vehicle with an electric_range of 210 miles in the year 2026.\n",
    "Using your model, please help your friend decide on how much should be saved by 2026 to buy an electric car? (in other words, predict the base_msrp for a Battery Electric Vehicle for the year 2026 with an electric_range of 210 miles)\n",
    "\n",
    "A lot of boiler plate code is already inserted for your convenience. Please complete only the incomplete statements and leave the rest alone\n",
    "\n",
    "Hint: You will use the `ev_filt` dataframe from the previous question"
   ]
  },
  {
   "cell_type": "code",
   "execution_count": 124,
   "id": "98559826-b08e-4144-a50e-a76608eb6569",
   "metadata": {
    "tags": []
   },
   "outputs": [
    {
     "ename": "SyntaxError",
     "evalue": "invalid syntax (1700734030.py, line 22)",
     "output_type": "error",
     "traceback": [
      "\u001b[0;36m  Cell \u001b[0;32mIn[124], line 22\u001b[0;36m\u001b[0m\n\u001b[0;31m    predicted_price =\u001b[0m\n\u001b[0m                      ^\u001b[0m\n\u001b[0;31mSyntaxError\u001b[0m\u001b[0;31m:\u001b[0m invalid syntax\n"
     ]
    }
   ],
   "source": [
    "# The data is split into test and train for you\n",
    "from sklearn.model_selection import train_test_split\n",
    "from sklearn.linear_model import LinearRegression\n",
    "from sklearn.metrics import mean_squared_error\n",
    "\n",
    "\n",
    "X = ev_filt[['model_year', 'electric_range']]\n",
    "\n",
    "y = ev_filt.base_msrp\n",
    "\n",
    "X_train, X_test, y_train, y_test = train_test_split(X, y, test_size = 0.2, random_state = 42)\n",
    "\n",
    "linear_model = LinearRegression()\n",
    "\n",
    "...\n",
    "\n",
    "# use the kept aside test data to fill in y_pred\n",
    "y_pred = train_test_split(X, y, test_size = 0.2, random_state = 42)\n",
    "\n",
    "# the required dataframe has been created for you already for prediction\n",
    "pred_df = pd.DataFrame({'model_year':[2026], 'electric_range':[210]})\n",
    "predicted_price = \n"
   ]
  },
  {
   "cell_type": "markdown",
   "id": "3fbeccee-0824-40ae-8b23-497f2b705297",
   "metadata": {
    "deletable": false,
    "editable": false
   },
   "source": [
    "<!-- END QUESTION -->\n",
    "\n",
    "## After submitting the exam...things to ponder\n",
    "\n",
    "Do you truly believe that electric vehicle prices will plummet to such levels by 2026? As we project further into the future, there's a point where our current model predicts a negative base MSRP, suggesting that manufacturers would not only provide the electric vehicle but also pay consumers to purchase it. That scenario doesn't seem plausible at all.\n",
    "\n",
    "This basic model lacks the sophistication required, necessitating additional inputs. While the costs of computer and software components in electric vehicles may decrease over time, other materials integral to EV production are unlikely to follow suit. Moreover, the expenses associated with computer and software components won't transition into negative territory. Thus, a more intricate model is essential for improved accuracy. Consider this exercise as a starting point for refining our modeling process."
   ]
  },
  {
   "cell_type": "markdown",
   "id": "afd8a831",
   "metadata": {
    "deletable": false,
    "editable": false
   },
   "source": [
    "## Submission\n",
    "\n",
    "Make sure you have run all cells in your notebook in order before running the cell below, so that all images/graphs appear in the output. The cell below will generate a zip file for you to submit. **Please save before exporting!**\n",
    "\n",
    "Upload this .zip file to Gradescope for grading."
   ]
  },
  {
   "cell_type": "code",
   "execution_count": null,
   "id": "5c6e7334",
   "metadata": {
    "deletable": false,
    "editable": false
   },
   "outputs": [],
   "source": [
    "# Save your notebook first, then run this cell to export your submission.\n",
    "grader.export(pdf=False, run_tests=True)"
   ]
  },
  {
   "cell_type": "markdown",
   "id": "45d3c062",
   "metadata": {},
   "source": [
    " "
   ]
  }
 ],
 "metadata": {
  "celltoolbar": "Slideshow",
  "colab": {
   "collapsed_sections": [],
   "provenance": []
  },
  "kernelspec": {
   "display_name": "Python 3 (ipykernel)",
   "language": "python",
   "name": "python3"
  },
  "language_info": {
   "codemirror_mode": {
    "name": "ipython",
    "version": 3
   },
   "file_extension": ".py",
   "mimetype": "text/x-python",
   "name": "python",
   "nbconvert_exporter": "python",
   "pygments_lexer": "ipython3",
   "version": "3.11.3"
  },
  "otter": {
   "OK_FORMAT": true,
   "tests": {
    "1a": {
     "name": "1a",
     "points": 1,
     "suites": [
      {
       "cases": [
        {
         "code": ">>> assert n_unique_states == 46\n",
         "hidden": false,
         "locked": false
        }
       ],
       "scored": true,
       "setup": "",
       "teardown": "",
       "type": "doctest"
      }
     ]
    },
    "1b": {
     "name": "1b",
     "points": 1,
     "suites": [
      {
       "cases": [
        {
         "code": ">>> assert popular_makes_count['TESLA'] == 79659\n>>> assert popular_makes_count['NISSAN'] == 13998\n>>> assert popular_makes_count['CHEVROLET'] == 13678\n",
         "hidden": false,
         "locked": false
        }
       ],
       "scored": true,
       "setup": "",
       "teardown": "",
       "type": "doctest"
      }
     ]
    },
    "1c": {
     "name": "1c",
     "points": 1,
     "suites": [
      {
       "cases": [
        {
         "code": ">>> assert set(ev.columns) == {'vin_(1-10)', 'county', 'city', 'state', 'postal_code', 'model_year',\n...        'make', 'model', 'electric_vehicle_type',\n...        'clean_alternative_fuel_vehicle_(cafv)_eligibility', 'electric_range',\n...        'base_msrp', 'legislative_district', 'dol_vehicle_id',\n...        'vehicle_location', 'electric_utility', '2020_census_tract'}\n",
         "hidden": false,
         "locked": false
        }
       ],
       "scored": true,
       "setup": "",
       "teardown": "",
       "type": "doctest"
      }
     ]
    },
    "3b": {
     "name": "3b",
     "points": 2,
     "suites": [
      {
       "cases": [],
       "scored": true,
       "setup": "",
       "teardown": "",
       "type": "doctest"
      }
     ]
    }
   }
  }
 },
 "nbformat": 4,
 "nbformat_minor": 5
}
