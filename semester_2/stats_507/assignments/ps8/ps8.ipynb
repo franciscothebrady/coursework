{
 "cells": [
  {
   "cell_type": "code",
   "execution_count": 170,
   "id": "28f86cea",
   "metadata": {
    "deletable": false,
    "editable": false
   },
   "outputs": [],
   "source": [
    "# Initialize Otter\n",
    "import otter\n",
    "grader = otter.Notebook(\"ps8.ipynb\")"
   ]
  },
  {
   "cell_type": "code",
   "execution_count": 171,
   "id": "86b9abfb",
   "metadata": {
    "id": "18c64fe3",
    "tags": []
   },
   "outputs": [],
   "source": [
    "import numpy as np\n",
    "import pandas as pd\n",
    "import seaborn as sns"
   ]
  },
  {
   "cell_type": "code",
   "execution_count": 172,
   "id": "36f1d581",
   "metadata": {
    "colab": {
     "base_uri": "https://localhost:8080/",
     "height": 364
    },
    "id": "292f95ca",
    "outputId": "0eca2a74-3df0-41f8-c938-a10f294560c0",
    "tags": []
   },
   "outputs": [
    {
     "name": "stdout",
     "output_type": "stream",
     "text": [
      "           year          month            day       dep_time  sched_dep_time  \\\n",
      "count  336776.0  336776.000000  336776.000000  328521.000000   336776.000000   \n",
      "mean     2013.0       6.548510      15.710787    1349.109947     1344.254840   \n",
      "std         0.0       3.414457       8.768607     488.281791      467.335756   \n",
      "min      2013.0       1.000000       1.000000       1.000000      106.000000   \n",
      "25%      2013.0       4.000000       8.000000     907.000000      906.000000   \n",
      "50%      2013.0       7.000000      16.000000    1401.000000     1359.000000   \n",
      "75%      2013.0      10.000000      23.000000    1744.000000     1729.000000   \n",
      "max      2013.0      12.000000      31.000000    2400.000000     2359.000000   \n",
      "\n",
      "           dep_delay       arr_time  sched_arr_time      arr_delay  \\\n",
      "count  328521.000000  328063.000000   336776.000000  327346.000000   \n",
      "mean       12.639070    1502.054999     1536.380220       6.895377   \n",
      "std        40.210061     533.264132      497.457142      44.633292   \n",
      "min       -43.000000       1.000000        1.000000     -86.000000   \n",
      "25%        -5.000000    1104.000000     1124.000000     -17.000000   \n",
      "50%        -2.000000    1535.000000     1556.000000      -5.000000   \n",
      "75%        11.000000    1940.000000     1945.000000      14.000000   \n",
      "max      1301.000000    2400.000000     2359.000000    1272.000000   \n",
      "\n",
      "              flight       air_time       distance           hour  \\\n",
      "count  336776.000000  327346.000000  336776.000000  336776.000000   \n",
      "mean     1971.923620     150.686460    1039.912604      13.180247   \n",
      "std      1632.471938      93.688305     733.233033       4.661316   \n",
      "min         1.000000      20.000000      17.000000       1.000000   \n",
      "25%       553.000000      82.000000     502.000000       9.000000   \n",
      "50%      1496.000000     129.000000     872.000000      13.000000   \n",
      "75%      3465.000000     192.000000    1389.000000      17.000000   \n",
      "max      8500.000000     695.000000    4983.000000      23.000000   \n",
      "\n",
      "              minute  \n",
      "count  336776.000000  \n",
      "mean       26.230100  \n",
      "std        19.300846  \n",
      "min         0.000000  \n",
      "25%         8.000000  \n",
      "50%        29.000000  \n",
      "75%        44.000000  \n",
      "max        59.000000  \n",
      "   year  month  day  dep_time  sched_dep_time  dep_delay  arr_time  \\\n",
      "0  2013      1    1     517.0             515        2.0     830.0   \n",
      "1  2013      1    1     533.0             529        4.0     850.0   \n",
      "2  2013      1    1     542.0             540        2.0     923.0   \n",
      "3  2013      1    1     544.0             545       -1.0    1004.0   \n",
      "4  2013      1    1     554.0             600       -6.0     812.0   \n",
      "\n",
      "   sched_arr_time  arr_delay carrier  flight tailnum origin dest  air_time  \\\n",
      "0             819       11.0      UA    1545  N14228    EWR  IAH     227.0   \n",
      "1             830       20.0      UA    1714  N24211    LGA  IAH     227.0   \n",
      "2             850       33.0      AA    1141  N619AA    JFK  MIA     160.0   \n",
      "3            1022      -18.0      B6     725  N804JB    JFK  BQN     183.0   \n",
      "4             837      -25.0      DL     461  N668DN    LGA  ATL     116.0   \n",
      "\n",
      "   distance  hour  minute             time_hour  \n",
      "0      1400     5      15  2013-01-01T10:00:00Z  \n",
      "1      1416     5      29  2013-01-01T10:00:00Z  \n",
      "2      1089     5      40  2013-01-01T10:00:00Z  \n",
      "3      1576     5      45  2013-01-01T10:00:00Z  \n",
      "4       762     6       0  2013-01-01T11:00:00Z  \n"
     ]
    }
   ],
   "source": [
    "flights = pd.read_csv(\"flights.csv.gz\")\n",
    "airports = pd.read_csv(\"airports.csv\")\n",
    "print(flights.describe())\n",
    "print(flights.head())"
   ]
  },
  {
   "cell_type": "markdown",
   "id": "ae4540c9",
   "metadata": {
    "id": "ebb76677"
   },
   "source": [
    "## EDA\n",
    "\n",
    "In this problemset, you will do some exploratory data analytics (EDA) by using some of the visualization libraries in Python"
   ]
  },
  {
   "cell_type": "markdown",
   "id": "c23db894",
   "metadata": {},
   "source": [
    "## Question 1\n",
    "\n",
    "Line charts are ideal to show a trend line. Draw a line chart to show monthly frequency count of flights as a trend line for the year 2013. Be sure to choose the correct data to display on the x-axis and y-axis\n",
    "\n",
    "1(a) (2 pts) "
   ]
  },
  {
   "cell_type": "code",
   "execution_count": 173,
   "id": "fda17627",
   "metadata": {},
   "outputs": [
    {
     "data": {
      "text/html": [
       "<div>\n",
       "<style scoped>\n",
       "    .dataframe tbody tr th:only-of-type {\n",
       "        vertical-align: middle;\n",
       "    }\n",
       "\n",
       "    .dataframe tbody tr th {\n",
       "        vertical-align: top;\n",
       "    }\n",
       "\n",
       "    .dataframe thead th {\n",
       "        text-align: right;\n",
       "    }\n",
       "</style>\n",
       "<table border=\"1\" class=\"dataframe\">\n",
       "  <thead>\n",
       "    <tr style=\"text-align: right;\">\n",
       "      <th></th>\n",
       "      <th>year</th>\n",
       "      <th>month</th>\n",
       "      <th>day</th>\n",
       "      <th>dep_time</th>\n",
       "      <th>sched_dep_time</th>\n",
       "      <th>dep_delay</th>\n",
       "      <th>arr_time</th>\n",
       "      <th>sched_arr_time</th>\n",
       "      <th>arr_delay</th>\n",
       "      <th>carrier</th>\n",
       "      <th>flight</th>\n",
       "      <th>tailnum</th>\n",
       "      <th>origin</th>\n",
       "      <th>dest</th>\n",
       "      <th>air_time</th>\n",
       "      <th>distance</th>\n",
       "      <th>hour</th>\n",
       "      <th>minute</th>\n",
       "      <th>time_hour</th>\n",
       "    </tr>\n",
       "  </thead>\n",
       "  <tbody>\n",
       "    <tr>\n",
       "      <th>222207</th>\n",
       "      <td>2013</td>\n",
       "      <td>6</td>\n",
       "      <td>1</td>\n",
       "      <td>2.0</td>\n",
       "      <td>2359</td>\n",
       "      <td>3.0</td>\n",
       "      <td>341.0</td>\n",
       "      <td>350</td>\n",
       "      <td>-9.0</td>\n",
       "      <td>B6</td>\n",
       "      <td>739</td>\n",
       "      <td>N618JB</td>\n",
       "      <td>JFK</td>\n",
       "      <td>PSE</td>\n",
       "      <td>200.0</td>\n",
       "      <td>1617</td>\n",
       "      <td>23</td>\n",
       "      <td>59</td>\n",
       "      <td>2013-06-02T03:00:00Z</td>\n",
       "    </tr>\n",
       "    <tr>\n",
       "      <th>222208</th>\n",
       "      <td>2013</td>\n",
       "      <td>6</td>\n",
       "      <td>1</td>\n",
       "      <td>451.0</td>\n",
       "      <td>500</td>\n",
       "      <td>-9.0</td>\n",
       "      <td>624.0</td>\n",
       "      <td>640</td>\n",
       "      <td>-16.0</td>\n",
       "      <td>US</td>\n",
       "      <td>1431</td>\n",
       "      <td>N538UW</td>\n",
       "      <td>EWR</td>\n",
       "      <td>CLT</td>\n",
       "      <td>75.0</td>\n",
       "      <td>529</td>\n",
       "      <td>5</td>\n",
       "      <td>0</td>\n",
       "      <td>2013-06-01T09:00:00Z</td>\n",
       "    </tr>\n",
       "    <tr>\n",
       "      <th>222209</th>\n",
       "      <td>2013</td>\n",
       "      <td>6</td>\n",
       "      <td>1</td>\n",
       "      <td>506.0</td>\n",
       "      <td>515</td>\n",
       "      <td>-9.0</td>\n",
       "      <td>715.0</td>\n",
       "      <td>800</td>\n",
       "      <td>-45.0</td>\n",
       "      <td>UA</td>\n",
       "      <td>1686</td>\n",
       "      <td>N35407</td>\n",
       "      <td>EWR</td>\n",
       "      <td>IAH</td>\n",
       "      <td>172.0</td>\n",
       "      <td>1400</td>\n",
       "      <td>5</td>\n",
       "      <td>15</td>\n",
       "      <td>2013-06-01T09:00:00Z</td>\n",
       "    </tr>\n",
       "    <tr>\n",
       "      <th>222210</th>\n",
       "      <td>2013</td>\n",
       "      <td>6</td>\n",
       "      <td>1</td>\n",
       "      <td>534.0</td>\n",
       "      <td>545</td>\n",
       "      <td>-11.0</td>\n",
       "      <td>800.0</td>\n",
       "      <td>829</td>\n",
       "      <td>-29.0</td>\n",
       "      <td>UA</td>\n",
       "      <td>1451</td>\n",
       "      <td>N27724</td>\n",
       "      <td>LGA</td>\n",
       "      <td>IAH</td>\n",
       "      <td>178.0</td>\n",
       "      <td>1416</td>\n",
       "      <td>5</td>\n",
       "      <td>45</td>\n",
       "      <td>2013-06-01T09:00:00Z</td>\n",
       "    </tr>\n",
       "    <tr>\n",
       "      <th>222211</th>\n",
       "      <td>2013</td>\n",
       "      <td>6</td>\n",
       "      <td>1</td>\n",
       "      <td>538.0</td>\n",
       "      <td>545</td>\n",
       "      <td>-7.0</td>\n",
       "      <td>925.0</td>\n",
       "      <td>922</td>\n",
       "      <td>3.0</td>\n",
       "      <td>B6</td>\n",
       "      <td>725</td>\n",
       "      <td>N806JB</td>\n",
       "      <td>JFK</td>\n",
       "      <td>BQN</td>\n",
       "      <td>203.0</td>\n",
       "      <td>1576</td>\n",
       "      <td>5</td>\n",
       "      <td>45</td>\n",
       "      <td>2013-06-01T09:00:00Z</td>\n",
       "    </tr>\n",
       "    <tr>\n",
       "      <th>...</th>\n",
       "      <td>...</td>\n",
       "      <td>...</td>\n",
       "      <td>...</td>\n",
       "      <td>...</td>\n",
       "      <td>...</td>\n",
       "      <td>...</td>\n",
       "      <td>...</td>\n",
       "      <td>...</td>\n",
       "      <td>...</td>\n",
       "      <td>...</td>\n",
       "      <td>...</td>\n",
       "      <td>...</td>\n",
       "      <td>...</td>\n",
       "      <td>...</td>\n",
       "      <td>...</td>\n",
       "      <td>...</td>\n",
       "      <td>...</td>\n",
       "      <td>...</td>\n",
       "      <td>...</td>\n",
       "    </tr>\n",
       "    <tr>\n",
       "      <th>250445</th>\n",
       "      <td>2013</td>\n",
       "      <td>6</td>\n",
       "      <td>30</td>\n",
       "      <td>NaN</td>\n",
       "      <td>1945</td>\n",
       "      <td>NaN</td>\n",
       "      <td>NaN</td>\n",
       "      <td>2104</td>\n",
       "      <td>NaN</td>\n",
       "      <td>EV</td>\n",
       "      <td>5714</td>\n",
       "      <td>N836AS</td>\n",
       "      <td>JFK</td>\n",
       "      <td>IAD</td>\n",
       "      <td>NaN</td>\n",
       "      <td>228</td>\n",
       "      <td>19</td>\n",
       "      <td>45</td>\n",
       "      <td>2013-06-30T23:00:00Z</td>\n",
       "    </tr>\n",
       "    <tr>\n",
       "      <th>250446</th>\n",
       "      <td>2013</td>\n",
       "      <td>6</td>\n",
       "      <td>30</td>\n",
       "      <td>NaN</td>\n",
       "      <td>1610</td>\n",
       "      <td>NaN</td>\n",
       "      <td>NaN</td>\n",
       "      <td>1805</td>\n",
       "      <td>NaN</td>\n",
       "      <td>EV</td>\n",
       "      <td>4092</td>\n",
       "      <td>N16147</td>\n",
       "      <td>EWR</td>\n",
       "      <td>DAY</td>\n",
       "      <td>NaN</td>\n",
       "      <td>533</td>\n",
       "      <td>16</td>\n",
       "      <td>10</td>\n",
       "      <td>2013-06-30T20:00:00Z</td>\n",
       "    </tr>\n",
       "    <tr>\n",
       "      <th>250447</th>\n",
       "      <td>2013</td>\n",
       "      <td>6</td>\n",
       "      <td>30</td>\n",
       "      <td>NaN</td>\n",
       "      <td>1709</td>\n",
       "      <td>NaN</td>\n",
       "      <td>NaN</td>\n",
       "      <td>1856</td>\n",
       "      <td>NaN</td>\n",
       "      <td>EV</td>\n",
       "      <td>4662</td>\n",
       "      <td>N16911</td>\n",
       "      <td>EWR</td>\n",
       "      <td>RDU</td>\n",
       "      <td>NaN</td>\n",
       "      <td>416</td>\n",
       "      <td>17</td>\n",
       "      <td>9</td>\n",
       "      <td>2013-06-30T21:00:00Z</td>\n",
       "    </tr>\n",
       "    <tr>\n",
       "      <th>250448</th>\n",
       "      <td>2013</td>\n",
       "      <td>6</td>\n",
       "      <td>30</td>\n",
       "      <td>NaN</td>\n",
       "      <td>2059</td>\n",
       "      <td>NaN</td>\n",
       "      <td>NaN</td>\n",
       "      <td>2307</td>\n",
       "      <td>NaN</td>\n",
       "      <td>EV</td>\n",
       "      <td>5254</td>\n",
       "      <td>N760EV</td>\n",
       "      <td>LGA</td>\n",
       "      <td>DSM</td>\n",
       "      <td>NaN</td>\n",
       "      <td>1031</td>\n",
       "      <td>20</td>\n",
       "      <td>59</td>\n",
       "      <td>2013-07-01T00:00:00Z</td>\n",
       "    </tr>\n",
       "    <tr>\n",
       "      <th>250449</th>\n",
       "      <td>2013</td>\n",
       "      <td>6</td>\n",
       "      <td>30</td>\n",
       "      <td>NaN</td>\n",
       "      <td>1915</td>\n",
       "      <td>NaN</td>\n",
       "      <td>NaN</td>\n",
       "      <td>2131</td>\n",
       "      <td>NaN</td>\n",
       "      <td>EV</td>\n",
       "      <td>5268</td>\n",
       "      <td>N744EV</td>\n",
       "      <td>LGA</td>\n",
       "      <td>CLT</td>\n",
       "      <td>NaN</td>\n",
       "      <td>544</td>\n",
       "      <td>19</td>\n",
       "      <td>15</td>\n",
       "      <td>2013-06-30T23:00:00Z</td>\n",
       "    </tr>\n",
       "  </tbody>\n",
       "</table>\n",
       "<p>28243 rows × 19 columns</p>\n",
       "</div>"
      ],
      "text/plain": [
       "        year  month  day  dep_time  sched_dep_time  dep_delay  arr_time  \\\n",
       "222207  2013      6    1       2.0            2359        3.0     341.0   \n",
       "222208  2013      6    1     451.0             500       -9.0     624.0   \n",
       "222209  2013      6    1     506.0             515       -9.0     715.0   \n",
       "222210  2013      6    1     534.0             545      -11.0     800.0   \n",
       "222211  2013      6    1     538.0             545       -7.0     925.0   \n",
       "...      ...    ...  ...       ...             ...        ...       ...   \n",
       "250445  2013      6   30       NaN            1945        NaN       NaN   \n",
       "250446  2013      6   30       NaN            1610        NaN       NaN   \n",
       "250447  2013      6   30       NaN            1709        NaN       NaN   \n",
       "250448  2013      6   30       NaN            2059        NaN       NaN   \n",
       "250449  2013      6   30       NaN            1915        NaN       NaN   \n",
       "\n",
       "        sched_arr_time  arr_delay carrier  flight tailnum origin dest  \\\n",
       "222207             350       -9.0      B6     739  N618JB    JFK  PSE   \n",
       "222208             640      -16.0      US    1431  N538UW    EWR  CLT   \n",
       "222209             800      -45.0      UA    1686  N35407    EWR  IAH   \n",
       "222210             829      -29.0      UA    1451  N27724    LGA  IAH   \n",
       "222211             922        3.0      B6     725  N806JB    JFK  BQN   \n",
       "...                ...        ...     ...     ...     ...    ...  ...   \n",
       "250445            2104        NaN      EV    5714  N836AS    JFK  IAD   \n",
       "250446            1805        NaN      EV    4092  N16147    EWR  DAY   \n",
       "250447            1856        NaN      EV    4662  N16911    EWR  RDU   \n",
       "250448            2307        NaN      EV    5254  N760EV    LGA  DSM   \n",
       "250449            2131        NaN      EV    5268  N744EV    LGA  CLT   \n",
       "\n",
       "        air_time  distance  hour  minute             time_hour  \n",
       "222207     200.0      1617    23      59  2013-06-02T03:00:00Z  \n",
       "222208      75.0       529     5       0  2013-06-01T09:00:00Z  \n",
       "222209     172.0      1400     5      15  2013-06-01T09:00:00Z  \n",
       "222210     178.0      1416     5      45  2013-06-01T09:00:00Z  \n",
       "222211     203.0      1576     5      45  2013-06-01T09:00:00Z  \n",
       "...          ...       ...   ...     ...                   ...  \n",
       "250445       NaN       228    19      45  2013-06-30T23:00:00Z  \n",
       "250446       NaN       533    16      10  2013-06-30T20:00:00Z  \n",
       "250447       NaN       416    17       9  2013-06-30T21:00:00Z  \n",
       "250448       NaN      1031    20      59  2013-07-01T00:00:00Z  \n",
       "250449       NaN       544    19      15  2013-06-30T23:00:00Z  \n",
       "\n",
       "[28243 rows x 19 columns]"
      ]
     },
     "execution_count": 173,
     "metadata": {},
     "output_type": "execute_result"
    }
   ],
   "source": [
    "flights.head()\n",
    "#flights.groupby('month').sum(1)\n",
    "flights[flights['month'] == 6]\n",
    "# flights['']"
   ]
  },
  {
   "cell_type": "markdown",
   "id": "2e380384",
   "metadata": {
    "deletable": false,
    "editable": false
   },
   "source": [
    "<!-- BEGIN QUESTION -->\n",
    "\n"
   ]
  },
  {
   "cell_type": "code",
   "execution_count": 174,
   "id": "a7f4d6ba-bc7c-4935-b27c-1e50a94521f8",
   "metadata": {
    "tags": []
   },
   "outputs": [
    {
     "name": "stdout",
     "output_type": "stream",
     "text": [
      "    month  flights\n",
      "0       1    27004\n",
      "1       2    24951\n",
      "2       3    28834\n",
      "3       4    28330\n",
      "4       5    28796\n",
      "5       6    28243\n",
      "6       7    29425\n",
      "7       8    29327\n",
      "8       9    27574\n",
      "9      10    28889\n",
      "10     11    27268\n",
      "11     12    28135\n"
     ]
    },
    {
     "data": {
      "text/plain": [
       "[Text(0.5, 0, 'Months (1-12)'), Text(0, 0.5, 'Monthly Frequency')]"
      ]
     },
     "execution_count": 174,
     "metadata": {},
     "output_type": "execute_result"
    },
    {
     "data": {
      "image/png": "[encoded data removed]",
      "text/plain": [
       "<Figure size 640x480 with 1 Axes>"
      ]
     },
     "metadata": {},
     "output_type": "display_data"
    }
   ],
   "source": [
    "df = flights.groupby('month').size().reset_index(name='flights')\n",
    "print(df)\n",
    "fig1 = sns.lineplot(data=df, x='month', y='flights')\n",
    "fig1.title.set_text('Monthly breakdown')\n",
    "fig1.set(xlabel='Months (1-12)', ylabel='Monthly Frequency')\n"
   ]
  },
  {
   "cell_type": "code",
   "execution_count": 175,
   "id": "9d3253c1",
   "metadata": {},
   "outputs": [],
   "source": [
    "# dict(fig1.lines[0].get_xydata()[6])"
   ]
  },
  {
   "cell_type": "code",
   "execution_count": 176,
   "id": "fb7ab2c5",
   "metadata": {
    "deletable": false,
    "editable": false
   },
   "outputs": [
    {
     "data": {
      "text/html": [
       "<p><strong><pre style='display: inline;'>1a</pre></strong> passed! 🎉</p>"
      ],
      "text/plain": [
       "1a results: All test cases passed!"
      ]
     },
     "execution_count": 176,
     "metadata": {},
     "output_type": "execute_result"
    }
   ],
   "source": [
    "grader.check(\"1a\")"
   ]
  },
  {
   "cell_type": "markdown",
   "id": "23c68865-a680-47e8-9b4f-777e2bf38ec0",
   "metadata": {
    "deletable": false,
    "editable": false
   },
   "source": [
    "<!-- END QUESTION -->\n",
    "\n",
    "### Show the top 5 airports that people flew into using a bar chart?\n",
    "**1(b)** (2 pts)"
   ]
  },
  {
   "cell_type": "code",
   "execution_count": 177,
   "id": "23437f0d",
   "metadata": {},
   "outputs": [
    {
     "data": {
      "text/html": [
       "<div>\n",
       "<style scoped>\n",
       "    .dataframe tbody tr th:only-of-type {\n",
       "        vertical-align: middle;\n",
       "    }\n",
       "\n",
       "    .dataframe tbody tr th {\n",
       "        vertical-align: top;\n",
       "    }\n",
       "\n",
       "    .dataframe thead th {\n",
       "        text-align: right;\n",
       "    }\n",
       "</style>\n",
       "<table border=\"1\" class=\"dataframe\">\n",
       "  <thead>\n",
       "    <tr style=\"text-align: right;\">\n",
       "      <th></th>\n",
       "      <th>dest</th>\n",
       "      <th>flights</th>\n",
       "    </tr>\n",
       "  </thead>\n",
       "  <tbody>\n",
       "    <tr>\n",
       "      <th>69</th>\n",
       "      <td>ORD</td>\n",
       "      <td>17283</td>\n",
       "    </tr>\n",
       "    <tr>\n",
       "      <th>4</th>\n",
       "      <td>ATL</td>\n",
       "      <td>17215</td>\n",
       "    </tr>\n",
       "    <tr>\n",
       "      <th>49</th>\n",
       "      <td>LAX</td>\n",
       "      <td>16174</td>\n",
       "    </tr>\n",
       "    <tr>\n",
       "      <th>11</th>\n",
       "      <td>BOS</td>\n",
       "      <td>15508</td>\n",
       "    </tr>\n",
       "    <tr>\n",
       "      <th>54</th>\n",
       "      <td>MCO</td>\n",
       "      <td>14082</td>\n",
       "    </tr>\n",
       "  </tbody>\n",
       "</table>\n",
       "</div>"
      ],
      "text/plain": [
       "   dest  flights\n",
       "69  ORD    17283\n",
       "4   ATL    17215\n",
       "49  LAX    16174\n",
       "11  BOS    15508\n",
       "54  MCO    14082"
      ]
     },
     "execution_count": 177,
     "metadata": {},
     "output_type": "execute_result"
    }
   ],
   "source": [
    "# airports.describe()\n",
    "top_airports = flights.groupby('dest').size().reset_index(name='flights').nlargest(5, 'flights')\n",
    "top_airports"
   ]
  },
  {
   "cell_type": "code",
   "execution_count": 178,
   "id": "bdf90852",
   "metadata": {
    "colab": {
     "base_uri": "https://localhost:8080/",
     "height": 309
    },
    "id": "QmcvK4r0uwEi",
    "outputId": "5266b94b-54b0-4ce5-f7ca-076f8264d7d5",
    "tags": []
   },
   "outputs": [
    {
     "data": {
      "text/plain": [
       "[Text(0.5, 0, 'Airport codes'), Text(0, 0.5, 'Total arrivals')]"
      ]
     },
     "execution_count": 178,
     "metadata": {},
     "output_type": "execute_result"
    },
    {
     "data": {
      "image/png": "[encoded data removed]",
      "text/plain": [
       "<Figure size 640x480 with 1 Axes>"
      ]
     },
     "metadata": {},
     "output_type": "display_data"
    }
   ],
   "source": [
    "fig_2 = sns.barplot(data=top_airports, x='dest', y='flights')\n",
    "fig_2.title.set_text('Top 5 airports that people flew into')\n",
    "fig_2.set(xlabel='Airport codes', ylabel='Total arrivals')"
   ]
  },
  {
   "cell_type": "code",
   "execution_count": 179,
   "id": "10bdcbea",
   "metadata": {
    "deletable": false,
    "editable": false
   },
   "outputs": [
    {
     "data": {
      "text/html": [
       "<p><strong><pre style='display: inline;'>1b</pre></strong> passed! 🚀</p>"
      ],
      "text/plain": [
       "1b results: All test cases passed!"
      ]
     },
     "execution_count": 179,
     "metadata": {},
     "output_type": "execute_result"
    }
   ],
   "source": [
    "grader.check(\"1b\")"
   ]
  },
  {
   "cell_type": "markdown",
   "id": "a51d2b2c",
   "metadata": {
    "deletable": false,
    "editable": false,
    "id": "9fYlm9133CjV"
   },
   "source": [
    "# Segmentation (a.k.a binning)\n",
    "**1(c)** (3 pts)\n",
    "\n",
    "Segment the flights based on time-slots with the following criteria\n",
    "* flights that depart from 00-5:59am as 'red-eye' flights\n",
    "* flights that depart from 6am - 11:59am as 'morning'\n",
    "* flights that depart from 12noon - 3:59pm as 'afternoon'\n",
    "* flights that depart from 4pm - 11:59pm as 'evening' \n",
    "\n",
    "And using seaborn create a plot as shown below\n",
    "\n",
    "![segmentation.png](data:image/png;base64,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)"
   ]
  },
  {
   "cell_type": "code",
   "execution_count": 180,
   "id": "cfb99d80",
   "metadata": {},
   "outputs": [
    {
     "data": {
      "text/html": [
       "<div>\n",
       "<style scoped>\n",
       "    .dataframe tbody tr th:only-of-type {\n",
       "        vertical-align: middle;\n",
       "    }\n",
       "\n",
       "    .dataframe tbody tr th {\n",
       "        vertical-align: top;\n",
       "    }\n",
       "\n",
       "    .dataframe thead th {\n",
       "        text-align: right;\n",
       "    }\n",
       "</style>\n",
       "<table border=\"1\" class=\"dataframe\">\n",
       "  <thead>\n",
       "    <tr style=\"text-align: right;\">\n",
       "      <th></th>\n",
       "      <th>time-slot</th>\n",
       "      <th>origin</th>\n",
       "      <th>flights</th>\n",
       "    </tr>\n",
       "  </thead>\n",
       "  <tbody>\n",
       "    <tr>\n",
       "      <th>0</th>\n",
       "      <td>red-eye(00-5:59am)</td>\n",
       "      <td>EWR</td>\n",
       "      <td>2916</td>\n",
       "    </tr>\n",
       "    <tr>\n",
       "      <th>1</th>\n",
       "      <td>red-eye(00-5:59am)</td>\n",
       "      <td>JFK</td>\n",
       "      <td>2584</td>\n",
       "    </tr>\n",
       "    <tr>\n",
       "      <th>2</th>\n",
       "      <td>red-eye(00-5:59am)</td>\n",
       "      <td>LGA</td>\n",
       "      <td>3844</td>\n",
       "    </tr>\n",
       "    <tr>\n",
       "      <th>3</th>\n",
       "      <td>morning(6am-11:59am)</td>\n",
       "      <td>EWR</td>\n",
       "      <td>44229</td>\n",
       "    </tr>\n",
       "    <tr>\n",
       "      <th>4</th>\n",
       "      <td>morning(6am-11:59am)</td>\n",
       "      <td>JFK</td>\n",
       "      <td>37678</td>\n",
       "    </tr>\n",
       "    <tr>\n",
       "      <th>5</th>\n",
       "      <td>morning(6am-11:59am)</td>\n",
       "      <td>LGA</td>\n",
       "      <td>40175</td>\n",
       "    </tr>\n",
       "    <tr>\n",
       "      <th>6</th>\n",
       "      <td>afternoon(12noon-3:59pm)</td>\n",
       "      <td>EWR</td>\n",
       "      <td>44216</td>\n",
       "    </tr>\n",
       "    <tr>\n",
       "      <th>7</th>\n",
       "      <td>afternoon(12noon-3:59pm)</td>\n",
       "      <td>JFK</td>\n",
       "      <td>39265</td>\n",
       "    </tr>\n",
       "    <tr>\n",
       "      <th>8</th>\n",
       "      <td>afternoon(12noon-3:59pm)</td>\n",
       "      <td>LGA</td>\n",
       "      <td>37257</td>\n",
       "    </tr>\n",
       "    <tr>\n",
       "      <th>9</th>\n",
       "      <td>evening(4pm-11:59pm)</td>\n",
       "      <td>EWR</td>\n",
       "      <td>26235</td>\n",
       "    </tr>\n",
       "    <tr>\n",
       "      <th>10</th>\n",
       "      <td>evening(4pm-11:59pm)</td>\n",
       "      <td>JFK</td>\n",
       "      <td>29889</td>\n",
       "    </tr>\n",
       "    <tr>\n",
       "      <th>11</th>\n",
       "      <td>evening(4pm-11:59pm)</td>\n",
       "      <td>LGA</td>\n",
       "      <td>20233</td>\n",
       "    </tr>\n",
       "  </tbody>\n",
       "</table>\n",
       "</div>"
      ],
      "text/plain": [
       "                   time-slot origin  flights\n",
       "0         red-eye(00-5:59am)    EWR     2916\n",
       "1         red-eye(00-5:59am)    JFK     2584\n",
       "2         red-eye(00-5:59am)    LGA     3844\n",
       "3       morning(6am-11:59am)    EWR    44229\n",
       "4       morning(6am-11:59am)    JFK    37678\n",
       "5       morning(6am-11:59am)    LGA    40175\n",
       "6   afternoon(12noon-3:59pm)    EWR    44216\n",
       "7   afternoon(12noon-3:59pm)    JFK    39265\n",
       "8   afternoon(12noon-3:59pm)    LGA    37257\n",
       "9       evening(4pm-11:59pm)    EWR    26235\n",
       "10      evening(4pm-11:59pm)    JFK    29889\n",
       "11      evening(4pm-11:59pm)    LGA    20233"
      ]
     },
     "execution_count": 180,
     "metadata": {},
     "output_type": "execute_result"
    }
   ],
   "source": [
    "flights['time-slot'] = pd.cut(flights['dep_time'], bins=[0, 600, 1200, 1800, 2400], labels=['red-eye(00-5:59am)',\n",
    "                                                                                            'morning(6am-11:59am)',\n",
    "                                                                                            'afternoon(12noon-3:59pm)',\n",
    "                                                                                            'evening(4pm-11:59pm)'])\n",
    "flights_by_time = flights.groupby(['time-slot','origin']).size().reset_index(name='flights')\n",
    "flights_by_time\n",
    "# sns.barplot(data=flights_by_time, x='origin', y='flights', hue='time-slot')"
   ]
  },
  {
   "cell_type": "code",
   "execution_count": 181,
   "id": "cabf2a12",
   "metadata": {
    "id": "5sRtOVFW8Rpg",
    "tags": []
   },
   "outputs": [
    {
     "data": {
      "text/plain": [
       "<seaborn.axisgrid.FacetGrid at 0x787b60a720d0>"
      ]
     },
     "execution_count": 181,
     "metadata": {},
     "output_type": "execute_result"
    },
    {
     "data": {
      "image/png": "[encoded data removed]",
      "text/plain": [
       "<Figure size 1200x300 with 4 Axes>"
      ]
     },
     "metadata": {},
     "output_type": "display_data"
    }
   ],
   "source": [
    "fig_3 = sns.FacetGrid(flights_by_time, col='time-slot', hue='origin')\n",
    "fig_3.map(sns.barplot, 'origin', 'flights', order=['EWR', 'JFK', 'LGA'], hue_order=['EWR', 'JFK', 'LGA'])\n",
    "fig_3.set_titles('{col_name}')\n",
    "fig_3.set_axis_labels('', 'Flight Count')\n",
    "fig_3.tight_layout()"
   ]
  },
  {
   "cell_type": "code",
   "execution_count": 182,
   "id": "ffcea9ed",
   "metadata": {
    "deletable": false,
    "editable": false
   },
   "outputs": [
    {
     "data": {
      "text/html": [
       "<p><strong><pre style='display: inline;'>1c</pre></strong> passed! 💯</p>"
      ],
      "text/plain": [
       "1c results: All test cases passed!"
      ]
     },
     "execution_count": 182,
     "metadata": {},
     "output_type": "execute_result"
    }
   ],
   "source": [
    "grader.check(\"1c\")"
   ]
  },
  {
   "cell_type": "markdown",
   "id": "bbb69bda",
   "metadata": {
    "deletable": false,
    "editable": false,
    "id": "1-U7I6T0XXJ2"
   },
   "source": [
    "# Choropleth \n",
    "**2(a)** (3 pts)\n",
    "Display the flight count information state-wise using plotly express\n",
    "as shown below\n",
    "\n",
    "![choropleth.png](data:image/png;base64,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)"
   ]
  },
  {
   "cell_type": "code",
   "execution_count": 183,
   "id": "5ce5acf3",
   "metadata": {
    "id": "xR8E32FZk0FA",
    "tags": []
   },
   "outputs": [
    {
     "data": {
      "application/vnd.plotly.v1+json": {
       "config": {
        "plotlyServerURL": "https://plot.ly"
       },
       "data": [
        {
         "coloraxis": "coloraxis",
         "geo": "geo",
         "hovertemplate": "state=%{location}<br>values=%{z}<extra></extra>",
         "locationmode": "USA-states",
         "locations": [
          "AK",
          "AL",
          "AR",
          "AZ",
          "CA",
          "CO",
          "CT",
          "FL",
          "GA",
          "HI",
          "IA",
          "IL",
          "IN",
          "KY",
          "LA",
          "MA",
          "MD",
          "ME",
          "MI",
          "MN",
          "MO",
          "MT",
          "NC",
          "NE",
          "NH",
          "NM",
          "NV",
          "NY",
          "OH",
          "OK",
          "OR",
          "PA",
          "RI",
          "SC",
          "TN",
          "TX",
          "UT",
          "VA",
          "VT",
          "WA",
          "WI",
          "WV",
          "WY"
         ],
         "name": "",
         "type": "choropleth",
         "z": [
          8,
          297,
          1036,
          4656,
          35050,
          7509,
          443,
          59370,
          18019,
          707,
          569,
          21396,
          2087,
          5099,
          3799,
          15994,
          1781,
          2727,
          10250,
          7185,
          6347,
          36,
          24218,
          849,
          1009,
          254,
          5997,
          9298,
          10486,
          661,
          1354,
          4507,
          376,
          3908,
          8753,
          21176,
          2467,
          19447,
          2589,
          3923,
          3374,
          138,
          25
         ]
        }
       ],
       "layout": {
        "coloraxis": {
         "colorbar": {
          "title": {
           "text": "values"
          }
         },
         "colorscale": [
          [
           0,
           "#0d0887"
          ],
          [
           0.1111111111111111,
           "#46039f"
          ],
          [
           0.2222222222222222,
           "#7201a8"
          ],
          [
           0.3333333333333333,
           "#9c179e"
          ],
          [
           0.4444444444444444,
           "#bd3786"
          ],
          [
           0.5555555555555556,
           "#d8576b"
          ],
          [
           0.6666666666666666,
           "#ed7953"
          ],
          [
           0.7777777777777778,
           "#fb9f3a"
          ],
          [
           0.8888888888888888,
           "#fdca26"
          ],
          [
           1,
           "#f0f921"
          ]
         ]
        },
        "geo": {
         "center": {},
         "domain": {
          "x": [
           0,
           1
          ],
          "y": [
           0,
           1
          ]
         },
         "scope": "usa"
        },
        "legend": {
         "tracegroupgap": 0
        },
        "margin": {
         "t": 60
        },
        "template": {
         "data": {
          "bar": [
           {
            "error_x": {
             "color": "#2a3f5f"
            },
            "error_y": {
             "color": "#2a3f5f"
            },
            "marker": {
             "line": {
              "color": "#E5ECF6",
              "width": 0.5
             },
             "pattern": {
              "fillmode": "overlay",
              "size": 10,
              "solidity": 0.2
             }
            },
            "type": "bar"
           }
          ],
          "barpolar": [
           {
            "marker": {
             "line": {
              "color": "#E5ECF6",
              "width": 0.5
             },
             "pattern": {
              "fillmode": "overlay",
              "size": 10,
              "solidity": 0.2
             }
            },
            "type": "barpolar"
           }
          ],
          "carpet": [
           {
            "aaxis": {
             "endlinecolor": "#2a3f5f",
             "gridcolor": "white",
             "linecolor": "white",
             "minorgridcolor": "white",
             "startlinecolor": "#2a3f5f"
            },
            "baxis": {
             "endlinecolor": "#2a3f5f",
             "gridcolor": "white",
             "linecolor": "white",
             "minorgridcolor": "white",
             "startlinecolor": "#2a3f5f"
            },
            "type": "carpet"
           }
          ],
          "choropleth": [
           {
            "colorbar": {
             "outlinewidth": 0,
             "ticks": ""
            },
            "type": "choropleth"
           }
          ],
          "contour": [
           {
            "colorbar": {
             "outlinewidth": 0,
             "ticks": ""
            },
            "colorscale": [
             [
              0,
              "#0d0887"
             ],
             [
              0.1111111111111111,
              "#46039f"
             ],
             [
              0.2222222222222222,
              "#7201a8"
             ],
             [
              0.3333333333333333,
              "#9c179e"
             ],
             [
              0.4444444444444444,
              "#bd3786"
             ],
             [
              0.5555555555555556,
              "#d8576b"
             ],
             [
              0.6666666666666666,
              "#ed7953"
             ],
             [
              0.7777777777777778,
              "#fb9f3a"
             ],
             [
              0.8888888888888888,
              "#fdca26"
             ],
             [
              1,
              "#f0f921"
             ]
            ],
            "type": "contour"
           }
          ],
          "contourcarpet": [
           {
            "colorbar": {
             "outlinewidth": 0,
             "ticks": ""
            },
            "type": "contourcarpet"
           }
          ],
          "heatmap": [
           {
            "colorbar": {
             "outlinewidth": 0,
             "ticks": ""
            },
            "colorscale": [
             [
              0,
              "#0d0887"
             ],
             [
              0.1111111111111111,
              "#46039f"
             ],
             [
              0.2222222222222222,
              "#7201a8"
             ],
             [
              0.3333333333333333,
              "#9c179e"
             ],
             [
              0.4444444444444444,
              "#bd3786"
             ],
             [
              0.5555555555555556,
              "#d8576b"
             ],
             [
              0.6666666666666666,
              "#ed7953"
             ],
             [
              0.7777777777777778,
              "#fb9f3a"
             ],
             [
              0.8888888888888888,
              "#fdca26"
             ],
             [
              1,
              "#f0f921"
             ]
            ],
            "type": "heatmap"
           }
          ],
          "heatmapgl": [
           {
            "colorbar": {
             "outlinewidth": 0,
             "ticks": ""
            },
            "colorscale": [
             [
              0,
              "#0d0887"
             ],
             [
              0.1111111111111111,
              "#46039f"
             ],
             [
              0.2222222222222222,
              "#7201a8"
             ],
             [
              0.3333333333333333,
              "#9c179e"
             ],
             [
              0.4444444444444444,
              "#bd3786"
             ],
             [
              0.5555555555555556,
              "#d8576b"
             ],
             [
              0.6666666666666666,
              "#ed7953"
             ],
             [
              0.7777777777777778,
              "#fb9f3a"
             ],
             [
              0.8888888888888888,
              "#fdca26"
             ],
             [
              1,
              "#f0f921"
             ]
            ],
            "type": "heatmapgl"
           }
          ],
          "histogram": [
           {
            "marker": {
             "pattern": {
              "fillmode": "overlay",
              "size": 10,
              "solidity": 0.2
             }
            },
            "type": "histogram"
           }
          ],
          "histogram2d": [
           {
            "colorbar": {
             "outlinewidth": 0,
             "ticks": ""
            },
            "colorscale": [
             [
              0,
              "#0d0887"
             ],
             [
              0.1111111111111111,
              "#46039f"
             ],
             [
              0.2222222222222222,
              "#7201a8"
             ],
             [
              0.3333333333333333,
              "#9c179e"
             ],
             [
              0.4444444444444444,
              "#bd3786"
             ],
             [
              0.5555555555555556,
              "#d8576b"
             ],
             [
              0.6666666666666666,
              "#ed7953"
             ],
             [
              0.7777777777777778,
              "#fb9f3a"
             ],
             [
              0.8888888888888888,
              "#fdca26"
             ],
             [
              1,
              "#f0f921"
             ]
            ],
            "type": "histogram2d"
           }
          ],
          "histogram2dcontour": [
           {
            "colorbar": {
             "outlinewidth": 0,
             "ticks": ""
            },
            "colorscale": [
             [
              0,
              "#0d0887"
             ],
             [
              0.1111111111111111,
              "#46039f"
             ],
             [
              0.2222222222222222,
              "#7201a8"
             ],
             [
              0.3333333333333333,
              "#9c179e"
             ],
             [
              0.4444444444444444,
              "#bd3786"
             ],
             [
              0.5555555555555556,
              "#d8576b"
             ],
             [
              0.6666666666666666,
              "#ed7953"
             ],
             [
              0.7777777777777778,
              "#fb9f3a"
             ],
             [
              0.8888888888888888,
              "#fdca26"
             ],
             [
              1,
              "#f0f921"
             ]
            ],
            "type": "histogram2dcontour"
           }
          ],
          "mesh3d": [
           {
            "colorbar": {
             "outlinewidth": 0,
             "ticks": ""
            },
            "type": "mesh3d"
           }
          ],
          "parcoords": [
           {
            "line": {
             "colorbar": {
              "outlinewidth": 0,
              "ticks": ""
             }
            },
            "type": "parcoords"
           }
          ],
          "pie": [
           {
            "automargin": true,
            "type": "pie"
           }
          ],
          "scatter": [
           {
            "fillpattern": {
             "fillmode": "overlay",
             "size": 10,
             "solidity": 0.2
            },
            "type": "scatter"
           }
          ],
          "scatter3d": [
           {
            "line": {
             "colorbar": {
              "outlinewidth": 0,
              "ticks": ""
             }
            },
            "marker": {
             "colorbar": {
              "outlinewidth": 0,
              "ticks": ""
             }
            },
            "type": "scatter3d"
           }
          ],
          "scattercarpet": [
           {
            "marker": {
             "colorbar": {
              "outlinewidth": 0,
              "ticks": ""
             }
            },
            "type": "scattercarpet"
           }
          ],
          "scattergeo": [
           {
            "marker": {
             "colorbar": {
              "outlinewidth": 0,
              "ticks": ""
             }
            },
            "type": "scattergeo"
           }
          ],
          "scattergl": [
           {
            "marker": {
             "colorbar": {
              "outlinewidth": 0,
              "ticks": ""
             }
            },
            "type": "scattergl"
           }
          ],
          "scattermapbox": [
           {
            "marker": {
             "colorbar": {
              "outlinewidth": 0,
              "ticks": ""
             }
            },
            "type": "scattermapbox"
           }
          ],
          "scatterpolar": [
           {
            "marker": {
             "colorbar": {
              "outlinewidth": 0,
              "ticks": ""
             }
            },
            "type": "scatterpolar"
           }
          ],
          "scatterpolargl": [
           {
            "marker": {
             "colorbar": {
              "outlinewidth": 0,
              "ticks": ""
             }
            },
            "type": "scatterpolargl"
           }
          ],
          "scatterternary": [
           {
            "marker": {
             "colorbar": {
              "outlinewidth": 0,
              "ticks": ""
             }
            },
            "type": "scatterternary"
           }
          ],
          "surface": [
           {
            "colorbar": {
             "outlinewidth": 0,
             "ticks": ""
            },
            "colorscale": [
             [
              0,
              "#0d0887"
             ],
             [
              0.1111111111111111,
              "#46039f"
             ],
             [
              0.2222222222222222,
              "#7201a8"
             ],
             [
              0.3333333333333333,
              "#9c179e"
             ],
             [
              0.4444444444444444,
              "#bd3786"
             ],
             [
              0.5555555555555556,
              "#d8576b"
             ],
             [
              0.6666666666666666,
              "#ed7953"
             ],
             [
              0.7777777777777778,
              "#fb9f3a"
             ],
             [
              0.8888888888888888,
              "#fdca26"
             ],
             [
              1,
              "#f0f921"
             ]
            ],
            "type": "surface"
           }
          ],
          "table": [
           {
            "cells": {
             "fill": {
              "color": "#EBF0F8"
             },
             "line": {
              "color": "white"
             }
            },
            "header": {
             "fill": {
              "color": "#C8D4E3"
             },
             "line": {
              "color": "white"
             }
            },
            "type": "table"
           }
          ]
         },
         "layout": {
          "annotationdefaults": {
           "arrowcolor": "#2a3f5f",
           "arrowhead": 0,
           "arrowwidth": 1
          },
          "autotypenumbers": "strict",
          "coloraxis": {
           "colorbar": {
            "outlinewidth": 0,
            "ticks": ""
           }
          },
          "colorscale": {
           "diverging": [
            [
             0,
             "#8e0152"
            ],
            [
             0.1,
             "#c51b7d"
            ],
            [
             0.2,
             "#de77ae"
            ],
            [
             0.3,
             "#f1b6da"
            ],
            [
             0.4,
             "#fde0ef"
            ],
            [
             0.5,
             "#f7f7f7"
            ],
            [
             0.6,
             "#e6f5d0"
            ],
            [
             0.7,
             "#b8e186"
            ],
            [
             0.8,
             "#7fbc41"
            ],
            [
             0.9,
             "#4d9221"
            ],
            [
             1,
             "#276419"
            ]
           ],
           "sequential": [
            [
             0,
             "#0d0887"
            ],
            [
             0.1111111111111111,
             "#46039f"
            ],
            [
             0.2222222222222222,
             "#7201a8"
            ],
            [
             0.3333333333333333,
             "#9c179e"
            ],
            [
             0.4444444444444444,
             "#bd3786"
            ],
            [
             0.5555555555555556,
             "#d8576b"
            ],
            [
             0.6666666666666666,
             "#ed7953"
            ],
            [
             0.7777777777777778,
             "#fb9f3a"
            ],
            [
             0.8888888888888888,
             "#fdca26"
            ],
            [
             1,
             "#f0f921"
            ]
           ],
           "sequentialminus": [
            [
             0,
             "#0d0887"
            ],
            [
             0.1111111111111111,
             "#46039f"
            ],
            [
             0.2222222222222222,
             "#7201a8"
            ],
            [
             0.3333333333333333,
             "#9c179e"
            ],
            [
             0.4444444444444444,
             "#bd3786"
            ],
            [
             0.5555555555555556,
             "#d8576b"
            ],
            [
             0.6666666666666666,
             "#ed7953"
            ],
            [
             0.7777777777777778,
             "#fb9f3a"
            ],
            [
             0.8888888888888888,
             "#fdca26"
            ],
            [
             1,
             "#f0f921"
            ]
           ]
          },
          "colorway": [
           "#636efa",
           "#EF553B",
           "#00cc96",
           "#ab63fa",
           "#FFA15A",
           "#19d3f3",
           "#FF6692",
           "#B6E880",
           "#FF97FF",
           "#FECB52"
          ],
          "font": {
           "color": "#2a3f5f"
          },
          "geo": {
           "bgcolor": "white",
           "lakecolor": "white",
           "landcolor": "#E5ECF6",
           "showlakes": true,
           "showland": true,
           "subunitcolor": "white"
          },
          "hoverlabel": {
           "align": "left"
          },
          "hovermode": "closest",
          "mapbox": {
           "style": "light"
          },
          "paper_bgcolor": "white",
          "plot_bgcolor": "#E5ECF6",
          "polar": {
           "angularaxis": {
            "gridcolor": "white",
            "linecolor": "white",
            "ticks": ""
           },
           "bgcolor": "#E5ECF6",
           "radialaxis": {
            "gridcolor": "white",
            "linecolor": "white",
            "ticks": ""
           }
          },
          "scene": {
           "xaxis": {
            "backgroundcolor": "#E5ECF6",
            "gridcolor": "white",
            "gridwidth": 2,
            "linecolor": "white",
            "showbackground": true,
            "ticks": "",
            "zerolinecolor": "white"
           },
           "yaxis": {
            "backgroundcolor": "#E5ECF6",
            "gridcolor": "white",
            "gridwidth": 2,
            "linecolor": "white",
            "showbackground": true,
            "ticks": "",
            "zerolinecolor": "white"
           },
           "zaxis": {
            "backgroundcolor": "#E5ECF6",
            "gridcolor": "white",
            "gridwidth": 2,
            "linecolor": "white",
            "showbackground": true,
            "ticks": "",
            "zerolinecolor": "white"
           }
          },
          "shapedefaults": {
           "line": {
            "color": "#2a3f5f"
           }
          },
          "ternary": {
           "aaxis": {
            "gridcolor": "white",
            "linecolor": "white",
            "ticks": ""
           },
           "baxis": {
            "gridcolor": "white",
            "linecolor": "white",
            "ticks": ""
           },
           "bgcolor": "#E5ECF6",
           "caxis": {
            "gridcolor": "white",
            "linecolor": "white",
            "ticks": ""
           }
          },
          "title": {
           "x": 0.05
          },
          "xaxis": {
           "automargin": true,
           "gridcolor": "white",
           "linecolor": "white",
           "ticks": "",
           "title": {
            "standoff": 15
           },
           "zerolinecolor": "white",
           "zerolinewidth": 2
          },
          "yaxis": {
           "automargin": true,
           "gridcolor": "white",
           "linecolor": "white",
           "ticks": "",
           "title": {
            "standoff": 15
           },
           "zerolinecolor": "white",
           "zerolinewidth": 2
          }
         }
        }
       }
      },
      "text/html": [
       "<div>                            <div id=\"71bf5901-42f7-413b-8a28-6fa519e30f5d\" class=\"plotly-graph-div\" style=\"height:525px; width:100%;\"></div>            <script type=\"text/javascript\">                require([\"plotly\"], function(Plotly) {                    window.PLOTLYENV=window.PLOTLYENV || {};                                    if (document.getElementById(\"71bf5901-42f7-413b-8a28-6fa519e30f5d\")) {                    Plotly.newPlot(                        \"71bf5901-42f7-413b-8a28-6fa519e30f5d\",                        [{\"coloraxis\":\"coloraxis\",\"geo\":\"geo\",\"hovertemplate\":\"state=%{location}<br>values=%{z}<extra></extra>\",\"locationmode\":\"USA-states\",\"locations\":[\"AK\",\"AL\",\"AR\",\"AZ\",\"CA\",\"CO\",\"CT\",\"FL\",\"GA\",\"HI\",\"IA\",\"IL\",\"IN\",\"KY\",\"LA\",\"MA\",\"MD\",\"ME\",\"MI\",\"MN\",\"MO\",\"MT\",\"NC\",\"NE\",\"NH\",\"NM\",\"NV\",\"NY\",\"OH\",\"OK\",\"OR\",\"PA\",\"RI\",\"SC\",\"TN\",\"TX\",\"UT\",\"VA\",\"VT\",\"WA\",\"WI\",\"WV\",\"WY\"],\"name\":\"\",\"z\":[8,297,1036,4656,35050,7509,443,59370,18019,707,569,21396,2087,5099,3799,15994,1781,2727,10250,7185,6347,36,24218,849,1009,254,5997,9298,10486,661,1354,4507,376,3908,8753,21176,2467,19447,2589,3923,3374,138,25],\"type\":\"choropleth\"}],                        {\"template\":{\"data\":{\"histogram2dcontour\":[{\"type\":\"histogram2dcontour\",\"colorbar\":{\"outlinewidth\":0,\"ticks\":\"\"},\"colorscale\":[[0.0,\"#0d0887\"],[0.1111111111111111,\"#46039f\"],[0.2222222222222222,\"#7201a8\"],[0.3333333333333333,\"#9c179e\"],[0.4444444444444444,\"#bd3786\"],[0.5555555555555556,\"#d8576b\"],[0.6666666666666666,\"#ed7953\"],[0.7777777777777778,\"#fb9f3a\"],[0.8888888888888888,\"#fdca26\"],[1.0,\"#f0f921\"]]}],\"choropleth\":[{\"type\":\"choropleth\",\"colorbar\":{\"outlinewidth\":0,\"ticks\":\"\"}}],\"histogram2d\":[{\"type\":\"histogram2d\",\"colorbar\":{\"outlinewidth\":0,\"ticks\":\"\"},\"colorscale\":[[0.0,\"#0d0887\"],[0.1111111111111111,\"#46039f\"],[0.2222222222222222,\"#7201a8\"],[0.3333333333333333,\"#9c179e\"],[0.4444444444444444,\"#bd3786\"],[0.5555555555555556,\"#d8576b\"],[0.6666666666666666,\"#ed7953\"],[0.7777777777777778,\"#fb9f3a\"],[0.8888888888888888,\"#fdca26\"],[1.0,\"#f0f921\"]]}],\"heatmap\":[{\"type\":\"heatmap\",\"colorbar\":{\"outlinewidth\":0,\"ticks\":\"\"},\"colorscale\":[[0.0,\"#0d0887\"],[0.1111111111111111,\"#46039f\"],[0.2222222222222222,\"#7201a8\"],[0.3333333333333333,\"#9c179e\"],[0.4444444444444444,\"#bd3786\"],[0.5555555555555556,\"#d8576b\"],[0.6666666666666666,\"#ed7953\"],[0.7777777777777778,\"#fb9f3a\"],[0.8888888888888888,\"#fdca26\"],[1.0,\"#f0f921\"]]}],\"heatmapgl\":[{\"type\":\"heatmapgl\",\"colorbar\":{\"outlinewidth\":0,\"ticks\":\"\"},\"colorscale\":[[0.0,\"#0d0887\"],[0.1111111111111111,\"#46039f\"],[0.2222222222222222,\"#7201a8\"],[0.3333333333333333,\"#9c179e\"],[0.4444444444444444,\"#bd3786\"],[0.5555555555555556,\"#d8576b\"],[0.6666666666666666,\"#ed7953\"],[0.7777777777777778,\"#fb9f3a\"],[0.8888888888888888,\"#fdca26\"],[1.0,\"#f0f921\"]]}],\"contourcarpet\":[{\"type\":\"contourcarpet\",\"colorbar\":{\"outlinewidth\":0,\"ticks\":\"\"}}],\"contour\":[{\"type\":\"contour\",\"colorbar\":{\"outlinewidth\":0,\"ticks\":\"\"},\"colorscale\":[[0.0,\"#0d0887\"],[0.1111111111111111,\"#46039f\"],[0.2222222222222222,\"#7201a8\"],[0.3333333333333333,\"#9c179e\"],[0.4444444444444444,\"#bd3786\"],[0.5555555555555556,\"#d8576b\"],[0.6666666666666666,\"#ed7953\"],[0.7777777777777778,\"#fb9f3a\"],[0.8888888888888888,\"#fdca26\"],[1.0,\"#f0f921\"]]}],\"surface\":[{\"type\":\"surface\",\"colorbar\":{\"outlinewidth\":0,\"ticks\":\"\"},\"colorscale\":[[0.0,\"#0d0887\"],[0.1111111111111111,\"#46039f\"],[0.2222222222222222,\"#7201a8\"],[0.3333333333333333,\"#9c179e\"],[0.4444444444444444,\"#bd3786\"],[0.5555555555555556,\"#d8576b\"],[0.6666666666666666,\"#ed7953\"],[0.7777777777777778,\"#fb9f3a\"],[0.8888888888888888,\"#fdca26\"],[1.0,\"#f0f921\"]]}],\"mesh3d\":[{\"type\":\"mesh3d\",\"colorbar\":{\"outlinewidth\":0,\"ticks\":\"\"}}],\"scatter\":[{\"fillpattern\":{\"fillmode\":\"overlay\",\"size\":10,\"solidity\":0.2},\"type\":\"scatter\"}],\"parcoords\":[{\"type\":\"parcoords\",\"line\":{\"colorbar\":{\"outlinewidth\":0,\"ticks\":\"\"}}}],\"scatterpolargl\":[{\"type\":\"scatterpolargl\",\"marker\":{\"colorbar\":{\"outlinewidth\":0,\"ticks\":\"\"}}}],\"bar\":[{\"error_x\":{\"color\":\"#2a3f5f\"},\"error_y\":{\"color\":\"#2a3f5f\"},\"marker\":{\"line\":{\"color\":\"#E5ECF6\",\"width\":0.5},\"pattern\":{\"fillmode\":\"overlay\",\"size\":10,\"solidity\":0.2}},\"type\":\"bar\"}],\"scattergeo\":[{\"type\":\"scattergeo\",\"marker\":{\"colorbar\":{\"outlinewidth\":0,\"ticks\":\"\"}}}],\"scatterpolar\":[{\"type\":\"scatterpolar\",\"marker\":{\"colorbar\":{\"outlinewidth\":0,\"ticks\":\"\"}}}],\"histogram\":[{\"marker\":{\"pattern\":{\"fillmode\":\"overlay\",\"size\":10,\"solidity\":0.2}},\"type\":\"histogram\"}],\"scattergl\":[{\"type\":\"scattergl\",\"marker\":{\"colorbar\":{\"outlinewidth\":0,\"ticks\":\"\"}}}],\"scatter3d\":[{\"type\":\"scatter3d\",\"line\":{\"colorbar\":{\"outlinewidth\":0,\"ticks\":\"\"}},\"marker\":{\"colorbar\":{\"outlinewidth\":0,\"ticks\":\"\"}}}],\"scattermapbox\":[{\"type\":\"scattermapbox\",\"marker\":{\"colorbar\":{\"outlinewidth\":0,\"ticks\":\"\"}}}],\"scatterternary\":[{\"type\":\"scatterternary\",\"marker\":{\"colorbar\":{\"outlinewidth\":0,\"ticks\":\"\"}}}],\"scattercarpet\":[{\"type\":\"scattercarpet\",\"marker\":{\"colorbar\":{\"outlinewidth\":0,\"ticks\":\"\"}}}],\"carpet\":[{\"aaxis\":{\"endlinecolor\":\"#2a3f5f\",\"gridcolor\":\"white\",\"linecolor\":\"white\",\"minorgridcolor\":\"white\",\"startlinecolor\":\"#2a3f5f\"},\"baxis\":{\"endlinecolor\":\"#2a3f5f\",\"gridcolor\":\"white\",\"linecolor\":\"white\",\"minorgridcolor\":\"white\",\"startlinecolor\":\"#2a3f5f\"},\"type\":\"carpet\"}],\"table\":[{\"cells\":{\"fill\":{\"color\":\"#EBF0F8\"},\"line\":{\"color\":\"white\"}},\"header\":{\"fill\":{\"color\":\"#C8D4E3\"},\"line\":{\"color\":\"white\"}},\"type\":\"table\"}],\"barpolar\":[{\"marker\":{\"line\":{\"color\":\"#E5ECF6\",\"width\":0.5},\"pattern\":{\"fillmode\":\"overlay\",\"size\":10,\"solidity\":0.2}},\"type\":\"barpolar\"}],\"pie\":[{\"automargin\":true,\"type\":\"pie\"}]},\"layout\":{\"autotypenumbers\":\"strict\",\"colorway\":[\"#636efa\",\"#EF553B\",\"#00cc96\",\"#ab63fa\",\"#FFA15A\",\"#19d3f3\",\"#FF6692\",\"#B6E880\",\"#FF97FF\",\"#FECB52\"],\"font\":{\"color\":\"#2a3f5f\"},\"hovermode\":\"closest\",\"hoverlabel\":{\"align\":\"left\"},\"paper_bgcolor\":\"white\",\"plot_bgcolor\":\"#E5ECF6\",\"polar\":{\"bgcolor\":\"#E5ECF6\",\"angularaxis\":{\"gridcolor\":\"white\",\"linecolor\":\"white\",\"ticks\":\"\"},\"radialaxis\":{\"gridcolor\":\"white\",\"linecolor\":\"white\",\"ticks\":\"\"}},\"ternary\":{\"bgcolor\":\"#E5ECF6\",\"aaxis\":{\"gridcolor\":\"white\",\"linecolor\":\"white\",\"ticks\":\"\"},\"baxis\":{\"gridcolor\":\"white\",\"linecolor\":\"white\",\"ticks\":\"\"},\"caxis\":{\"gridcolor\":\"white\",\"linecolor\":\"white\",\"ticks\":\"\"}},\"coloraxis\":{\"colorbar\":{\"outlinewidth\":0,\"ticks\":\"\"}},\"colorscale\":{\"sequential\":[[0.0,\"#0d0887\"],[0.1111111111111111,\"#46039f\"],[0.2222222222222222,\"#7201a8\"],[0.3333333333333333,\"#9c179e\"],[0.4444444444444444,\"#bd3786\"],[0.5555555555555556,\"#d8576b\"],[0.6666666666666666,\"#ed7953\"],[0.7777777777777778,\"#fb9f3a\"],[0.8888888888888888,\"#fdca26\"],[1.0,\"#f0f921\"]],\"sequentialminus\":[[0.0,\"#0d0887\"],[0.1111111111111111,\"#46039f\"],[0.2222222222222222,\"#7201a8\"],[0.3333333333333333,\"#9c179e\"],[0.4444444444444444,\"#bd3786\"],[0.5555555555555556,\"#d8576b\"],[0.6666666666666666,\"#ed7953\"],[0.7777777777777778,\"#fb9f3a\"],[0.8888888888888888,\"#fdca26\"],[1.0,\"#f0f921\"]],\"diverging\":[[0,\"#8e0152\"],[0.1,\"#c51b7d\"],[0.2,\"#de77ae\"],[0.3,\"#f1b6da\"],[0.4,\"#fde0ef\"],[0.5,\"#f7f7f7\"],[0.6,\"#e6f5d0\"],[0.7,\"#b8e186\"],[0.8,\"#7fbc41\"],[0.9,\"#4d9221\"],[1,\"#276419\"]]},\"xaxis\":{\"gridcolor\":\"white\",\"linecolor\":\"white\",\"ticks\":\"\",\"title\":{\"standoff\":15},\"zerolinecolor\":\"white\",\"automargin\":true,\"zerolinewidth\":2},\"yaxis\":{\"gridcolor\":\"white\",\"linecolor\":\"white\",\"ticks\":\"\",\"title\":{\"standoff\":15},\"zerolinecolor\":\"white\",\"automargin\":true,\"zerolinewidth\":2},\"scene\":{\"xaxis\":{\"backgroundcolor\":\"#E5ECF6\",\"gridcolor\":\"white\",\"linecolor\":\"white\",\"showbackground\":true,\"ticks\":\"\",\"zerolinecolor\":\"white\",\"gridwidth\":2},\"yaxis\":{\"backgroundcolor\":\"#E5ECF6\",\"gridcolor\":\"white\",\"linecolor\":\"white\",\"showbackground\":true,\"ticks\":\"\",\"zerolinecolor\":\"white\",\"gridwidth\":2},\"zaxis\":{\"backgroundcolor\":\"#E5ECF6\",\"gridcolor\":\"white\",\"linecolor\":\"white\",\"showbackground\":true,\"ticks\":\"\",\"zerolinecolor\":\"white\",\"gridwidth\":2}},\"shapedefaults\":{\"line\":{\"color\":\"#2a3f5f\"}},\"annotationdefaults\":{\"arrowcolor\":\"#2a3f5f\",\"arrowhead\":0,\"arrowwidth\":1},\"geo\":{\"bgcolor\":\"white\",\"landcolor\":\"#E5ECF6\",\"subunitcolor\":\"white\",\"showland\":true,\"showlakes\":true,\"lakecolor\":\"white\"},\"title\":{\"x\":0.05},\"mapbox\":{\"style\":\"light\"}}},\"geo\":{\"domain\":{\"x\":[0.0,1.0],\"y\":[0.0,1.0]},\"center\":{},\"scope\":\"usa\"},\"coloraxis\":{\"colorbar\":{\"title\":{\"text\":\"values\"}},\"colorscale\":[[0.0,\"#0d0887\"],[0.1111111111111111,\"#46039f\"],[0.2222222222222222,\"#7201a8\"],[0.3333333333333333,\"#9c179e\"],[0.4444444444444444,\"#bd3786\"],[0.5555555555555556,\"#d8576b\"],[0.6666666666666666,\"#ed7953\"],[0.7777777777777778,\"#fb9f3a\"],[0.8888888888888888,\"#fdca26\"],[1.0,\"#f0f921\"]]},\"legend\":{\"tracegroupgap\":0},\"margin\":{\"t\":60}},                        {\"responsive\": true}                    ).then(function(){\n",
       "                            \n",
       "var gd = document.getElementById('71bf5901-42f7-413b-8a28-6fa519e30f5d');\n",
       "var x = new MutationObserver(function (mutations, observer) {{\n",
       "        var display = window.getComputedStyle(gd).display;\n",
       "        if (!display || display === 'none') {{\n",
       "            console.log([gd, 'removed!']);\n",
       "            Plotly.purge(gd);\n",
       "            observer.disconnect();\n",
       "        }}\n",
       "}});\n",
       "\n",
       "// Listen for the removal of the full notebook cells\n",
       "var notebookContainer = gd.closest('#notebook-container');\n",
       "if (notebookContainer) {{\n",
       "    x.observe(notebookContainer, {childList: true});\n",
       "}}\n",
       "\n",
       "// Listen for the clearing of the current output cell\n",
       "var outputEl = gd.closest('.output');\n",
       "if (outputEl) {{\n",
       "    x.observe(outputEl, {childList: true});\n",
       "}}\n",
       "\n",
       "                        })                };                });            </script>        </div>"
      ]
     },
     "metadata": {},
     "output_type": "display_data"
    }
   ],
   "source": [
    "import plotly.express as px\n",
    "flights_by_state = flights.merge(airports, left_on='dest', right_on='faa', how='left').groupby('state').size().reset_index(name='values')\n",
    "fig_4 = px.choropleth(flights_by_state, locations='state', locationmode='USA-states', color='values', scope='usa')\n",
    "fig_4.show()"
   ]
  },
  {
   "cell_type": "markdown",
   "id": "3ff93548-6ebc-4ef3-8887-cb8c6dbafd40",
   "metadata": {
    "deletable": false,
    "editable": false
   },
   "source": [
    "<!-- BEGIN QUESTION -->\n",
    "\n",
    "**2(b)** (3 pts)\n",
    "\n",
    "Combining 1(a) and 1(b) above; find the monthly frequency distribution of the top 5 carriers to the top 5 destinations and show 1 trend line for each carrier in the same chart.\n",
    "\n",
    "Hint: Use the top 5 destinations found earlier to subset the data. Then find the top 5 carriers to these top 5 destinations and find the monthly frequency for each carrier and plot 5 trendlines in the same chart.\n"
   ]
  },
  {
   "cell_type": "code",
   "execution_count": 184,
   "id": "a995c053-3a7b-4e8a-9e2c-ed2641dd9e03",
   "metadata": {
    "tags": []
   },
   "outputs": [
    {
     "data": {
      "text/plain": [
       "<Axes: xlabel='month'>"
      ]
     },
     "execution_count": 184,
     "metadata": {},
     "output_type": "execute_result"
    },
    {
     "data": {
      "image/png": "[encoded data removed]",
      "text/plain": [
       "<Figure size 640x480 with 1 Axes>"
      ]
     },
     "metadata": {},
     "output_type": "display_data"
    }
   ],
   "source": [
    "top_5 = flights.dest.value_counts().nlargest(5).index\n",
    "top_carriers = flights[flights.dest.isin(top_5)].carrier.value_counts().nlargest(5).index\n",
    "\n",
    "flights[(flights.dest.isin(top_5)) & (flights.carrier.isin(top_carriers))][['carrier','month','day']].groupby(['carrier', 'month']).count().unstack('carrier').plot(kind='line')\n"
   ]
  },
  {
   "cell_type": "markdown",
   "id": "34a26c76-2243-437f-82d0-46510e14eebb",
   "metadata": {
    "deletable": false,
    "editable": false
   },
   "source": [
    "<!-- END QUESTION -->\n",
    "\n",
    "<!-- BEGIN QUESTION -->\n",
    "\n",
    "**2(c)** (2 pts)\n",
    "\n",
    "As an analyst, it's crucial to develop proficiency in posing good questions.\n",
    "Pose two additional questions that could pique your curiosity, then plot charts to answer these questions and share your perspectives. Use any of the datasets provided with this assignment for this question."
   ]
  },
  {
   "cell_type": "markdown",
   "id": "e3c58e6c",
   "metadata": {},
   "source": [
    "### Q1: What average delays by time of day?\n",
    "\n",
    "It looks like the least delayed flights are leaving from LGA in the morning between 6 am and 11:59am. The most delayed flights are leaving from EWR in the evening between 6 pm and 11:59 pm. This is a good insight but would benefit from more years of data."
   ]
  },
  {
   "cell_type": "code",
   "execution_count": 185,
   "id": "02c1ad0b-b393-4281-bd4f-b5f4ed9e81b8",
   "metadata": {
    "deletable": false,
    "editable": false
   },
   "outputs": [
    {
     "data": {
      "image/png": "[encoded data removed]",
      "text/plain": [
       "<Figure size 640x480 with 2 Axes>"
      ]
     },
     "metadata": {},
     "output_type": "display_data"
    }
   ],
   "source": [
    "# Q1: What average delays by time of day?\n",
    "flights['time-slot'] = pd.cut(flights['dep_time'], bins=[0, 600, 1200, 1800, 2400], labels=['red-eye(00-5:59am)',\n",
    "                                                                                            'morning(6am-11:59am)',\n",
    "                                                                                            'afternoon(12noon-3:59pm)',\n",
    "                                                                                            'evening(4pm-11:59pm)'])\n",
    "top_5_delays = flights.groupby(['origin', 'time-slot']).agg({'dep_delay':'mean'})\n",
    "# top_5_delays\n",
    "fig_5 = sns.heatmap(top_5_delays.unstack('origin'), cmap='coolwarm')"
   ]
  },
  {
   "cell_type": "markdown",
   "id": "ce7991b0",
   "metadata": {},
   "source": [
    "### Q2: Which carriers cancel the most flights by month?\n",
    "It looks like all of the airports have a spike in cancellations in February. Notably, JFK does not suffer from as high of a cancellation rate  in December as the other two airports."
   ]
  },
  {
   "cell_type": "code",
   "execution_count": 186,
   "id": "c5ee373f",
   "metadata": {},
   "outputs": [
    {
     "data": {
      "text/plain": [
       "<seaborn.axisgrid.FacetGrid at 0x787b633e80d0>"
      ]
     },
     "execution_count": 186,
     "metadata": {},
     "output_type": "execute_result"
    },
    {
     "data": {
      "image/png": "[encoded data removed]",
      "text/plain": [
       "<Figure size 900x300 with 3 Axes>"
      ]
     },
     "metadata": {},
     "output_type": "display_data"
    }
   ],
   "source": [
    "# Q2: Which months and airports have the most cancellations?\n",
    "# cancelled flights have a missing dep_delay\n",
    "cancelled_flights = flights[flights.dep_delay.isna()].groupby(['origin', 'month']).size().reset_index(name='cancelled_flights')\n",
    "cancelled_flights\n",
    "# cancelled_flights\n",
    "fig_6 = sns.FacetGrid(cancelled_flights, col='origin')\n",
    "fig_6.map(sns.barplot, 'month', 'cancelled_flights', order=range(1,13))\n",
    "fig_6.set_titles('Cancelled Flights by month at: {col_name}')\n",
    "fig_6.set_axis_labels('Month', 'Cancelled Flights')"
   ]
  },
  {
   "cell_type": "markdown",
   "id": "21ff7a05",
   "metadata": {
    "deletable": false,
    "editable": false
   },
   "source": [
    "<!-- END QUESTION -->\n",
    "\n"
   ]
  },
  {
   "cell_type": "markdown",
   "id": "8cd0e738",
   "metadata": {
    "deletable": false,
    "editable": false
   },
   "source": [
    "## Submission\n",
    "\n",
    "Make sure you have run all cells in your notebook in order before running the cell below, so that all images/graphs appear in the output. The cell below will generate a zip file for you to submit. **Please save before exporting!**\n",
    "\n",
    "Upload this .zip file to Gradescope for grading."
   ]
  },
  {
   "cell_type": "code",
   "execution_count": 187,
   "id": "f0794de9",
   "metadata": {
    "deletable": false,
    "editable": false
   },
   "outputs": [
    {
     "name": "stdout",
     "output_type": "stream",
     "text": [
      "Running your submission against local test cases...\n",
      "\n",
      "\n",
      "This version of python seems to be incorrectly compiled\n",
      "(internal generated filenames are not absolute).\n",
      "This may make the debugger miss breakpoints.\n",
      "Related bug: http://bugs.python.org/issue1666807\n",
      "This version of python seems to be incorrectly compiled\n",
      "(internal generated filenames are not absolute).\n",
      "This may make the debugger miss breakpoints.\n",
      "Related bug: http://bugs.python.org/issue1666807\n",
      "\n"
     ]
    },
    {
     "ename": "RuntimeError",
     "evalue": "b'This version of python seems to be incorrectly compiled\\n(internal generated filenames are not absolute).\\nThis may make the debugger miss breakpoints.\\nRelated bug: http://bugs.python.org/issue1666807\\nThis version of python seems to be incorrectly compiled\\n(internal generated filenames are not absolute).\\nThis may make the debugger miss breakpoints.\\nRelated bug: http://bugs.python.org/issue1666807\\n'",
     "output_type": "error",
     "traceback": [
      "\u001b[0;31m---------------------------------------------------------------------------\u001b[0m",
      "\u001b[0;31mRuntimeError\u001b[0m                              Traceback (most recent call last)",
      "Cell \u001b[0;32mIn[187], line 2\u001b[0m\n\u001b[1;32m      1\u001b[0m \u001b[38;5;66;03m# Save your notebook first, then run this cell to export your submission.\u001b[39;00m\n\u001b[0;32m----> 2\u001b[0m grader\u001b[38;5;241m.\u001b[39mexport(pdf\u001b[38;5;241m=\u001b[39m\u001b[38;5;28;01mFalse\u001b[39;00m, run_tests\u001b[38;5;241m=\u001b[39m\u001b[38;5;28;01mTrue\u001b[39;00m)\n",
      "File \u001b[0;32m/opt/conda/lib/python3.11/site-packages/otter/check/utils.py:166\u001b[0m, in \u001b[0;36mgrading_mode_disabled\u001b[0;34m(wrapped, self, args, kwargs)\u001b[0m\n\u001b[1;32m    164\u001b[0m \u001b[38;5;28;01mif\u001b[39;00m \u001b[38;5;28mtype\u001b[39m(\u001b[38;5;28mself\u001b[39m)\u001b[38;5;241m.\u001b[39m_grading_mode:\n\u001b[1;32m    165\u001b[0m     \u001b[38;5;28;01mreturn\u001b[39;00m\n\u001b[0;32m--> 166\u001b[0m \u001b[38;5;28;01mreturn\u001b[39;00m wrapped(\u001b[38;5;241m*\u001b[39margs, \u001b[38;5;241m*\u001b[39m\u001b[38;5;241m*\u001b[39mkwargs)\n",
      "File \u001b[0;32m/opt/conda/lib/python3.11/site-packages/otter/check/utils.py:153\u001b[0m, in \u001b[0;36mincompatible_with.<locals>.incompatible\u001b[0;34m(wrapped, self, args, kwargs)\u001b[0m\n\u001b[1;32m    151\u001b[0m     \u001b[38;5;28;01melse\u001b[39;00m:\n\u001b[1;32m    152\u001b[0m         \u001b[38;5;28;01mreturn\u001b[39;00m\n\u001b[0;32m--> 153\u001b[0m \u001b[38;5;28;01mreturn\u001b[39;00m wrapped(\u001b[38;5;241m*\u001b[39margs, \u001b[38;5;241m*\u001b[39m\u001b[38;5;241m*\u001b[39mkwargs)\n",
      "File \u001b[0;32m/opt/conda/lib/python3.11/site-packages/otter/check/utils.py:203\u001b[0m, in \u001b[0;36mlogs_event.<locals>.event_logger\u001b[0;34m(wrapped, self, args, kwargs)\u001b[0m\n\u001b[1;32m    201\u001b[0m \u001b[38;5;28;01mexcept\u001b[39;00m \u001b[38;5;167;01mException\u001b[39;00m \u001b[38;5;28;01mas\u001b[39;00m e:\n\u001b[1;32m    202\u001b[0m     \u001b[38;5;28mself\u001b[39m\u001b[38;5;241m.\u001b[39m_log_event(event_type, success\u001b[38;5;241m=\u001b[39m\u001b[38;5;28;01mFalse\u001b[39;00m, error\u001b[38;5;241m=\u001b[39me)\n\u001b[0;32m--> 203\u001b[0m     \u001b[38;5;28;01mraise\u001b[39;00m e\n\u001b[1;32m    205\u001b[0m \u001b[38;5;28;01melse\u001b[39;00m:\n\u001b[1;32m    206\u001b[0m     \u001b[38;5;28mself\u001b[39m\u001b[38;5;241m.\u001b[39m_log_event(event_type, results\u001b[38;5;241m=\u001b[39mresults, question\u001b[38;5;241m=\u001b[39mquestion, shelve_env\u001b[38;5;241m=\u001b[39mshelve_env)\n",
      "File \u001b[0;32m/opt/conda/lib/python3.11/site-packages/otter/check/utils.py:197\u001b[0m, in \u001b[0;36mlogs_event.<locals>.event_logger\u001b[0;34m(wrapped, self, args, kwargs)\u001b[0m\n\u001b[1;32m    194\u001b[0m     question, results, shelve_env \u001b[38;5;241m=\u001b[39m wrapped(\u001b[38;5;241m*\u001b[39margs, \u001b[38;5;241m*\u001b[39m\u001b[38;5;241m*\u001b[39mkwargs)\n\u001b[1;32m    196\u001b[0m \u001b[38;5;28;01melse\u001b[39;00m:\n\u001b[0;32m--> 197\u001b[0m     results \u001b[38;5;241m=\u001b[39m wrapped(\u001b[38;5;241m*\u001b[39margs, \u001b[38;5;241m*\u001b[39m\u001b[38;5;241m*\u001b[39mkwargs)\n\u001b[1;32m    198\u001b[0m     shelve_env \u001b[38;5;241m=\u001b[39m {}\n\u001b[1;32m    199\u001b[0m     question \u001b[38;5;241m=\u001b[39m \u001b[38;5;28;01mNone\u001b[39;00m\n",
      "File \u001b[0;32m/opt/conda/lib/python3.11/site-packages/otter/check/notebook.py:447\u001b[0m, in \u001b[0;36mNotebook.export\u001b[0;34m(self, nb_path, export_path, pdf, filtering, pagebreaks, files, display_link, force_save, run_tests)\u001b[0m\n\u001b[1;32m    444\u001b[0m         display(HTML(out_html))\n\u001b[1;32m    446\u001b[0m \u001b[38;5;28;01mif\u001b[39;00m pdf_created \u001b[38;5;129;01mor\u001b[39;00m \u001b[38;5;129;01mnot\u001b[39;00m otter_nb_config\u001b[38;5;241m.\u001b[39mget(REQUIRE_CONFIRMATION_NO_PDF_EXPORT_KEY, \u001b[38;5;28;01mFalse\u001b[39;00m):\n\u001b[0;32m--> 447\u001b[0m     continue_export()\n\u001b[1;32m    448\u001b[0m \u001b[38;5;28;01melse\u001b[39;00m:\n\u001b[1;32m    449\u001b[0m     display_pdf_confirmation_widget(\n\u001b[1;32m    450\u001b[0m         otter_nb_config\u001b[38;5;241m.\u001b[39mget(NO_PDF_EXPORT_MESSAGE_KEY), continue_export)\n",
      "File \u001b[0;32m/opt/conda/lib/python3.11/site-packages/otter/check/notebook.py:429\u001b[0m, in \u001b[0;36mNotebook.export.<locals>.continue_export\u001b[0;34m()\u001b[0m\n\u001b[1;32m    427\u001b[0m \u001b[38;5;28;01mif\u001b[39;00m run_tests:\n\u001b[1;32m    428\u001b[0m     \u001b[38;5;28mprint\u001b[39m(\u001b[38;5;124m\"\u001b[39m\u001b[38;5;124mRunning your submission against local test cases...\u001b[39m\u001b[38;5;130;01m\\n\u001b[39;00m\u001b[38;5;124m\"\u001b[39m)\n\u001b[0;32m--> 429\u001b[0m     results \u001b[38;5;241m=\u001b[39m grade_zip_file(zip_path, nb_path, \u001b[38;5;28mself\u001b[39m\u001b[38;5;241m.\u001b[39m_path)\n\u001b[1;32m    430\u001b[0m     \u001b[38;5;28mprint\u001b[39m(\n\u001b[1;32m    431\u001b[0m         \u001b[38;5;124m\"\u001b[39m\u001b[38;5;124mYour submission received the following results when run against \u001b[39m\u001b[38;5;124m\"\u001b[39m \u001b[38;5;241m+\u001b[39m \\\n\u001b[1;32m    432\u001b[0m         \u001b[38;5;124m\"\u001b[39m\u001b[38;5;124mavailable test cases:\u001b[39m\u001b[38;5;130;01m\\n\u001b[39;00m\u001b[38;5;130;01m\\n\u001b[39;00m\u001b[38;5;124m\"\u001b[39m \u001b[38;5;241m+\u001b[39m indent(results\u001b[38;5;241m.\u001b[39msummary(), \u001b[38;5;124m\"\u001b[39m\u001b[38;5;124m    \u001b[39m\u001b[38;5;124m\"\u001b[39m))\n\u001b[1;32m    434\u001b[0m \u001b[38;5;28;01mif\u001b[39;00m display_link:\n\u001b[1;32m    435\u001b[0m     \u001b[38;5;66;03m# create and display output HTML\u001b[39;00m\n",
      "File \u001b[0;32m/opt/conda/lib/python3.11/site-packages/otter/check/utils.py:91\u001b[0m, in \u001b[0;36mgrade_zip_file\u001b[0;34m(zip_path, nb_arcname, tests_dir)\u001b[0m\n\u001b[1;32m     88\u001b[0m \u001b[38;5;28mprint\u001b[39m(results\u001b[38;5;241m.\u001b[39mstderr\u001b[38;5;241m.\u001b[39mdecode(\u001b[38;5;124m\"\u001b[39m\u001b[38;5;124mutf-8\u001b[39m\u001b[38;5;124m\"\u001b[39m))\n\u001b[1;32m     90\u001b[0m \u001b[38;5;28;01mif\u001b[39;00m results\u001b[38;5;241m.\u001b[39mstderr:\n\u001b[0;32m---> 91\u001b[0m     \u001b[38;5;28;01mraise\u001b[39;00m \u001b[38;5;167;01mRuntimeError\u001b[39;00m(results\u001b[38;5;241m.\u001b[39mstderr)\n\u001b[1;32m     93\u001b[0m \u001b[38;5;28;01mwith\u001b[39;00m \u001b[38;5;28mopen\u001b[39m(results_path, \u001b[38;5;124m\"\u001b[39m\u001b[38;5;124mrb\u001b[39m\u001b[38;5;124m\"\u001b[39m) \u001b[38;5;28;01mas\u001b[39;00m f:\n\u001b[1;32m     94\u001b[0m     results \u001b[38;5;241m=\u001b[39m dill\u001b[38;5;241m.\u001b[39mload(f)\n",
      "\u001b[0;31mRuntimeError\u001b[0m: b'This version of python seems to be incorrectly compiled\\n(internal generated filenames are not absolute).\\nThis may make the debugger miss breakpoints.\\nRelated bug: http://bugs.python.org/issue1666807\\nThis version of python seems to be incorrectly compiled\\n(internal generated filenames are not absolute).\\nThis may make the debugger miss breakpoints.\\nRelated bug: http://bugs.python.org/issue1666807\\n'"
     ]
    }
   ],
   "source": [
    "# Save your notebook first, then run this cell to export your submission.\n",
    "grader.export(pdf=False, run_tests=True)"
   ]
  },
  {
   "cell_type": "markdown",
   "id": "63df17fb",
   "metadata": {},
   "source": [
    " "
   ]
  }
 ],
 "metadata": {
  "celltoolbar": "Slideshow",
  "colab": {
   "collapsed_sections": [],
   "provenance": []
  },
  "kernelspec": {
   "display_name": "Python 3 (ipykernel)",
   "language": "python",
   "name": "python3"
  },
  "language_info": {
   "codemirror_mode": {
    "name": "ipython",
    "version": 3
   },
   "file_extension": ".py",
   "mimetype": "text/x-python",
   "name": "python",
   "nbconvert_exporter": "python",
   "pygments_lexer": "ipython3",
   "version": "3.11.3"
  },
  "otter": {
   "OK_FORMAT": true,
   "tests": {
    "1a": {
     "name": "1a",
     "points": 2,
     "suites": [
      {
       "cases": [
        {
         "code": ">>> assert fig1.get_title() == 'Monthly breakdown'\n>>> assert fig1.get_xlabel() == 'Months (1-12)'\n>>> assert fig1.get_ylabel() == 'Monthly Frequency'\n>>> assert dict(fig1.lines[0].get_xydata())[6] == 28243\n",
         "hidden": false,
         "locked": false
        }
       ],
       "scored": true,
       "setup": "",
       "teardown": "",
       "type": "doctest"
      }
     ]
    },
    "1b": {
     "name": "1b",
     "points": 2,
     "suites": [
      {
       "cases": [
        {
         "code": ">>> x_axis = fig_2.get_xaxis()\n>>> text1 = x_axis.get_ticklabels()[0]\n>>> assert text1.get_text() == 'ORD'\n>>> assert fig_2.get_title() == 'Top 5 airports that people flew into'\n>>> assert fig_2.get_xlabel() == 'Airport codes'\n>>> assert fig_2.get_ylabel() == 'Total arrivals'\n",
         "hidden": false,
         "locked": false
        }
       ],
       "scored": true,
       "setup": "",
       "teardown": "",
       "type": "doctest"
      }
     ]
    },
    "1c": {
     "name": "1c",
     "points": 3,
     "suites": [
      {
       "cases": [
        {
         "code": ">>> assert fig_3.figure.get_axes()[0].get_title() == 'red-eye(00-5:59am)'\n>>> assert fig_3.figure.get_axes()[0].get_ylabel() == 'Flight Count'\n>>> assert fig_3.figure.get_axes()[1].get_title() == 'morning(6am-11:59am)'\n>>> # HIDDEN\n>>> assert fig_3.figure.get_axes()[2].get_title() == 'afternoon(12noon-3:59pm)'\n>>> assert fig_3.figure.get_axes()[3].get_title() == 'evening(4pm-11:59pm)'\n",
         "hidden": false,
         "locked": false
        }
       ],
       "scored": true,
       "setup": "",
       "teardown": "",
       "type": "doctest"
      }
     ]
    }
   }
  }
 },
 "nbformat": 4,
 "nbformat_minor": 5
}
