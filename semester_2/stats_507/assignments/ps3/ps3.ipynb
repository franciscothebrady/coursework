{
 "cells": [
  {
   "cell_type": "code",
   "execution_count": 1,
   "metadata": {
    "deletable": false,
    "editable": false,
    "tags": []
   },
   "outputs": [],
   "source": [
    "# Initialize Otter\n",
    "import otter\n",
    "grader = otter.Notebook(\"ps3.ipynb\")"
   ]
  },
  {
   "cell_type": "markdown",
   "metadata": {},
   "source": [
    "# STATS 507 \n",
    "## Problem Set 3\n",
    "All functions will be tested by visible as well as hidden tests. The maximum amount of time any function is allowed to run is 10 seconds.\n",
    "\n",
    "You may use any module in the [standard library](https://docs.python.org/3/library/) to solve these problems. You may not (yet) use other modules (scipy, numpy, pandas, etc.) that require installation. Here are a few modules that may prove particularly useful:"
   ]
  },
  {
   "cell_type": "code",
   "execution_count": 2,
   "metadata": {
    "tags": []
   },
   "outputs": [],
   "source": [
    "import collections\n",
    "import string\n",
    "import itertools"
   ]
  },
  {
   "cell_type": "markdown",
   "metadata": {},
   "source": [
    "### Question 1: Infinite sequences\n",
    "For each of the problems below, write a function which generates the given infinite sequence. We should be able to use your generators to access any entry of the sequence no matter how deep. "
   ]
  },
  {
   "cell_type": "markdown",
   "metadata": {
    "deletable": false,
    "editable": false
   },
   "source": [
    "**1(a)** (2 pts) The prime numbers are\n",
    "\n",
    "$$2, 3, 5, 7, 11, 13, 17, \\dots$$\n",
    "\n",
    "Give a generator for the primes. (Note: many algorithms exist for this problem. Yours should be efficient enough that we can use it to generate reasonably large prime numbers.)"
   ]
  },
  {
   "cell_type": "code",
   "execution_count": 25,
   "metadata": {
    "tags": []
   },
   "outputs": [],
   "source": [
    "def primes():\n",
    "    yield 2\n",
    "    primes = [2] # prime numbers list\n",
    "    candidate = 3 # current candidate to check for primality\n",
    "\n",
    "    while True:\n",
    "        if all(candidate % prime != 0 for prime in primes):\n",
    "            primes.append(candidate)\n",
    "            yield candidate\n",
    "        candidate += 2"
   ]
  },
  {
   "cell_type": "code",
   "execution_count": 26,
   "metadata": {
    "deletable": false,
    "editable": false,
    "tags": []
   },
   "outputs": [
    {
     "data": {
      "text/html": [
       "<p><strong><pre style='display: inline;'>q1a</pre></strong> passed! 🙌</p>"
      ],
      "text/plain": [
       "q1a results: All test cases passed!"
      ]
     },
     "execution_count": 26,
     "metadata": {},
     "output_type": "execute_result"
    }
   ],
   "source": [
    "grader.check(\"q1a\")"
   ]
  },
  {
   "cell_type": "markdown",
   "metadata": {
    "deletable": false,
    "editable": false
   },
   "source": [
    "**1(b)** (3 pts) The *ruler sequence* is\n",
    "\n",
    "$$1, 2, 2, 3, 3, 4, 4, 4, 5, 5, 5, 6, 6, 6, 7, 7, 7, 7\\dots$$\n",
    "\n",
    "The first number (1) appears once; the next two numbers (2 and 3) appear twice, the next three numbers appear three times, etc.\n",
    "\n",
    "Hint: You are highly encouraged to use relevant functions from itertools to make your solution simple"
   ]
  },
  {
   "cell_type": "code",
   "execution_count": 47,
   "metadata": {
    "tags": []
   },
   "outputs": [],
   "source": [
    "def ruler():\n",
    "    counter = 1\n",
    "    n = 1\n",
    "    while True:\n",
    "        for i in range(counter):\n",
    "            for j in range(counter):\n",
    "                yield n\n",
    "            n += 1\n",
    "        counter += 1"
   ]
  },
  {
   "cell_type": "code",
   "execution_count": 52,
   "metadata": {
    "tags": []
   },
   "outputs": [
    {
     "name": "stdout",
     "output_type": "stream",
     "text": [
      "[1, 2, 2, 3, 3, 4, 4, 4, 5, 5, 5, 6, 6, 6, 7, 7, 7, 7, 8, 8, 8, 8, 9, 9, 9, 9]\n"
     ]
    }
   ],
   "source": [
    "# Test\n",
    "ruler_seq = ruler()\n",
    "print([next(ruler_seq) for _ in range(26)])"
   ]
  },
  {
   "cell_type": "code",
   "execution_count": 53,
   "metadata": {
    "deletable": false,
    "editable": false,
    "tags": []
   },
   "outputs": [
    {
     "data": {
      "text/html": [
       "<p><strong><pre style='display: inline;'>q1b</pre></strong> passed! ✨</p>"
      ],
      "text/plain": [
       "q1b results: All test cases passed!"
      ]
     },
     "execution_count": 53,
     "metadata": {},
     "output_type": "execute_result"
    }
   ],
   "source": [
    "grader.check(\"q1b\")"
   ]
  },
  {
   "cell_type": "markdown",
   "metadata": {
    "deletable": false,
    "editable": false
   },
   "source": [
    "**1(c)** (3 pts) The look-and-say sequence  \n",
    "\n",
    "$$1, 11, 21, 1211, 111221, 312211, 13112221, 1113213211, \\dots$$\n",
    "\n",
    "is generated as follows:\n",
    "\n",
    "1. The first entry is one.\n",
    "2. The second entry is generated by reading the first entry aloud: \"one one\"\n",
    "3. The third entry is generated by reading the second entry aloud: \"two ones\"\n",
    "4. The fourth entry is generated by reading the third entry aloud: \"one two and one one\"\n",
    "5. The fifth entry is therefore \"one one, one two, and two ones\"\n",
    "\n",
    "... and so forth. Note that each entry of the sequence should be a `str` object.\n"
   ]
  },
  {
   "cell_type": "code",
   "execution_count": 55,
   "metadata": {
    "tags": []
   },
   "outputs": [],
   "source": [
    "def look_say():\n",
    "    s = \"1\"\n",
    "    while True:\n",
    "        yield s\n",
    "        s = \"\".join(str(len(list(group))) + digit for digit, group in itertools.groupby(s))"
   ]
  },
  {
   "cell_type": "code",
   "execution_count": 56,
   "metadata": {
    "deletable": false,
    "editable": false,
    "tags": []
   },
   "outputs": [
    {
     "data": {
      "text/html": [
       "<p><strong><pre style='display: inline;'>q1c</pre></strong> passed! 🙌</p>"
      ],
      "text/plain": [
       "q1c results: All test cases passed!"
      ]
     },
     "execution_count": 56,
     "metadata": {},
     "output_type": "execute_result"
    }
   ],
   "source": [
    "grader.check(\"q1c\")"
   ]
  },
  {
   "cell_type": "markdown",
   "metadata": {},
   "source": [
    "### Question 2: Simple ciphers\n",
    "\n",
    "A *cipher* is an algorithm for encrypting or decrypting a text message, called *plaintext*, into *ciphertext*. In this exercise, we will assume that all plaintext to be encrypted or decrypted are composed of the lower-case Roman alphabet, without any punctuation or whitespace. Examples of such messages could be\n",
    "\n",
    "```attackatdawn```\n",
    "\n",
    "or \n",
    "\n",
    "```iamajellyfilleddonut```."
   ]
  },
  {
   "cell_type": "markdown",
   "metadata": {
    "deletable": false,
    "editable": false
   },
   "source": [
    "**2(a)** (4 pts) One of the oldest known ciphers is the [Caesar cipher](https://en.wikipedia.org/wiki/Caesar_cipher) or shift cipher, attributed to the Roman emperor. <img src=\"https://upload.wikimedia.org/wikipedia/commons/b/b4/Bust_of_Julius_Caesar_from_History_of_the_World_%281902%29.png\" width=100 style=\"float: right; margin: 0 0 10px 10px;\" /> The cipher works by shifting all letters of the alphabet by a pre-specified integer $k$. For example, if $k=+1$ then the plaintext\n",
    "\n",
    "```thequickbrownfoxjumpsoverthelazydog```\n",
    "\n",
    "encrypts to the ciphertext\n",
    "\n",
    "```uifrvjdlcspxogpykvnqtpwfsuifmbazeph```\n",
    "\n",
    "(Notice that in this example the letter `z` in `lazy` wrapped around to become an `a`.) \n",
    "\n",
    "Write two functions, `enc_caesar(s, k)` and `dec_caesar(s, k)` that respectively encrypt and decrypt the string `s` using the Caesar cipher, based on the integer key `k`.\n",
    "\n",
    "Note: Functions here are defined with annotations for input arguments and return type. Refer: https://peps.python.org/pep-0484/\n",
    "\n",
    "Hint: You are encouraged to look into string constants and string methods to get a simpler solution"
   ]
  },
  {
   "cell_type": "code",
   "execution_count": 59,
   "metadata": {
    "tags": []
   },
   "outputs": [],
   "source": [
    "def enc_caesar(s: str, k: int) -> str:\n",
    "    '''\n",
    "    Encrypt the message s using Ceasar cipher with key k.\n",
    "    \n",
    "    >>> enc_caeasar('thequickbrownfoxjumpsoverthelazydog', 1)\n",
    "    'uifrvjdlcspxogpykvnqtpwfsuifmbazeph'\n",
    "    '''\n",
    "    s = s.lower()\n",
    "    result = \"\"\n",
    "    for c in s:\n",
    "        if c in string.ascii_lowercase:\n",
    "            shift_index = (string.ascii_lowercase.find(c) + k) % 26\n",
    "            c = string.ascii_lowercase[shift_index]\n",
    "        result += c\n",
    "    return result\n",
    "    \n",
    "def dec_caesar(s: str, k: int) -> str:\n",
    "    '''\n",
    "    Decrypt the message s using Ceasar cypher with key k.\n",
    "    \n",
    "    >>> dec_caeasar('uifrvjdlcspxogpykvnqtpwfsuifmbazeph', 1)\n",
    "    'thequickbrownfoxjumpsoverthelazydog'\n",
    "    '''\n",
    "    return enc_caesar(s, -k)"
   ]
  },
  {
   "cell_type": "code",
   "execution_count": null,
   "metadata": {
    "tags": []
   },
   "outputs": [],
   "source": []
  },
  {
   "cell_type": "code",
   "execution_count": 60,
   "metadata": {
    "deletable": false,
    "editable": false,
    "tags": []
   },
   "outputs": [
    {
     "data": {
      "text/html": [
       "<p><strong><pre style='display: inline;'>q2a</pre></strong> passed! ✨</p>"
      ],
      "text/plain": [
       "q2a results: All test cases passed!"
      ]
     },
     "execution_count": 60,
     "metadata": {},
     "output_type": "execute_result"
    }
   ],
   "source": [
    "grader.check(\"q2a\")"
   ]
  },
  {
   "cell_type": "markdown",
   "metadata": {
    "deletable": false,
    "editable": false
   },
   "source": [
    "<img src=\"https://upload.wikimedia.org/wikipedia/commons/9/9a/Vigenère_square_shading.svg\" style=\"float: right; margin: 0 0 10px 10px\" width=300 />\n",
    "\n",
    "\n",
    "**2(b)** (4 pts) The Caesar ciphers are easily broken since the key can either be guessed, or is often widely available. A much more secure cipher is the [Vigenère cipher](https://en.wikipedia.org/wiki/Vigenère_cipher), which is keyed using a pre-specified word. The cipher works using a [tabula recta](https://en.wikipedia.org/wiki/Tabula_recta), a picture of which is shown to the right. \n",
    "\n",
    "Given a message `s` to be encrypted, the key `k` is repeated until it has the same length as `s`. Then each entry of the encrypted message `e` is obtained by looking up the corresponding **row** in `k`, and the correspending  **column** in `s`, in the tabula recta.\n",
    "\n",
    "For example, suppose the message is `hello`, and the key is `sun`. We repeat the key until it has the same length as hello: `sunsu`. Then we encrypt the message by looking up the each entry in the table: `(s,h) (u,e) (n,l) (s,l) (u,o)`. The resulting string is `zyydi`."
   ]
  },
  {
   "cell_type": "code",
   "execution_count": 61,
   "metadata": {
    "tags": []
   },
   "outputs": [],
   "source": [
    "def enc_vignere(s: str, k: str) -> str:\n",
    "    \"Encrypt s using Vignere cipher with key k\"\n",
    "    s = s.lower()\n",
    "    k = k.lower()\n",
    "    result = \"\"\n",
    "    klen = len(k)\n",
    "    for i in range(len(s)):\n",
    "        if s[i] in string.ascii_lowercase:\n",
    "            shift = string.ascii_lowercase.find(k[i % klen])\n",
    "            shift_index = (string.ascii_lowercase.find(s[i]) + shift) % 26\n",
    "            c = string.ascii_lowercase[shift_index]\n",
    "            result += c\n",
    "    return result\n",
    "\n",
    "\n",
    "def dec_vignere(s: str, k: str) -> str:\n",
    "    \"Decrypt s which was encrypted by Vignere cipher using key k\"\n",
    "    s = s.lower()\n",
    "    k = k.lower()\n",
    "    result = \"\"\n",
    "    klen = len(k)\n",
    "    for i in range(len(s)):\n",
    "        if s[i] in string.ascii_lowercase:\n",
    "            shift = string.ascii_lowercase.find(k[i % klen])\n",
    "            shift_index = (string.ascii_lowercase.find(s[i]) - shift + 26) % 26\n",
    "            c = string.ascii_lowercase[shift_index]\n",
    "            result += c\n",
    "    return result"
   ]
  },
  {
   "cell_type": "code",
   "execution_count": 62,
   "metadata": {
    "deletable": false,
    "editable": false,
    "tags": []
   },
   "outputs": [
    {
     "data": {
      "text/html": [
       "<p><strong><pre style='display: inline;'>q2b</pre></strong> passed! 💯</p>"
      ],
      "text/plain": [
       "q2b results: All test cases passed!"
      ]
     },
     "execution_count": 62,
     "metadata": {},
     "output_type": "execute_result"
    }
   ],
   "source": [
    "grader.check(\"q2b\")"
   ]
  },
  {
   "cell_type": "markdown",
   "metadata": {
    "tags": []
   },
   "source": [
    "### Question 3: Book ciphers\n",
    "<img src=\"https://upload.wikimedia.org/wikipedia/commons/e/e8/King-James-Version-Bible-first-edition-title-page-1611.png\" width=200 style=\"float: right; margin: 0 0 10px 10px\" />\n",
    "\n",
    "A [bible cipher](https://en.wikipedia.org/wiki/Book_cipher) uses the King James Bible (or some other widely available text) as the key. The cipher works by replacing each word in the message with a reference to a particular location in the Bible where that word occurs. \n",
    "\n",
    "The bible is organized hierarchically into *books*, *chapters*, and *verses*. For example, the first sentence in the King James Bible is \n",
    "\n",
    ">In the beginning God created the heaven and the earth. (Genesis 1:1)\n",
    "\n",
    "This is the first sentence of the book of Genesis, chapter 1, verse 1. In a bible cipher, an occurrence the word \"beginning\" in the plaintext message could be replaced by the tuple `(0,0,0,2)`, in reference to the third word of the first book, first chapter, and first verse of the Bible."
   ]
  },
  {
   "cell_type": "markdown",
   "metadata": {
    "deletable": false,
    "editable": false
   },
   "source": [
    "**3(a)** (3 pts) The file `kjv.txt` contains complete text of the King James Bible. Each book begins with 2 hash symbols, comma separated chapter and verse numberes are grouped together with `[]`. A tab character separates the chapter, verse grouping from the line.\n",
    "\n",
    "Parse this file into a data structure `bible` \n",
    "such that calling `bible[book][chapter][verse][i]` returns the `i`th word of the corresponding book, chapter and verse. Here `book`, `chapter`, and `verse`, and `i` are integers representing the (0-indexed) position of corresponding word. You should convert all words to lowercase and remove anything that is not an alphabetic character or a space:\n",
    "\n",
    "```\n",
    ">>> bible[0][0][0]\n",
    "['in', 'the', 'beginning', 'god', 'created', 'the', 'heaven', 'and', 'the', 'earth']\n",
    ">>> bible[42][2][15]\n",
    "['for', 'god', 'so', 'loved', 'the', 'world', 'that', 'he', 'gave', 'his', 'only', 'begotten', 'son']\n",
    "```"
   ]
  },
  {
   "cell_type": "code",
   "execution_count": null,
   "metadata": {
    "tags": []
   },
   "outputs": [],
   "source": [
    "filename = 'kjv.txt'\n",
    "with open(filename, 'r') as file:\n",
    "    lines = file.readlines()\n",
    "\n",
    "# Create a list of unique books for indexing \n",
    "unique_books = []\n",
    "for line in lines:\n",
    "    if line.startswith(\"##\"):  # this is a book title\n",
    "        book_name = line[2:].strip()\n",
    "        if book_name not in unique_books:\n",
    "            unique_books.append(book_name)\n",
    "\n",
    "# Initialize the nested dictionary\n",
    "bible = { book_index: {} for book_index in range(len(unique_books)) }\n",
    "\n",
    "# Go through each line of the file\n",
    "for line in lines:\n",
    "    line = line.strip()  # remove leading/trailing whitespaces\n",
    "    if not line: continue  # skip empty lines\n",
    "\n",
    "    if line.startswith(\"##\"):  # this is a book title\n",
    "        current_book = unique_books.index(line[2:].strip())\n",
    "\n",
    "    elif line.startswith(\"[\"):  # this is a chapter:verse and text\n",
    "        parts = line.split(\"\\t\")\n",
    "        chapter_verse, current_text = parts[0][1:-1], parts[1] if len(parts) > 1 else \"\"\n",
    "        chapter, verse = map(int, chapter_verse.split(\":\"))\n",
    "        chapter -= 1\n",
    "        verse -= 1\n",
    "\n",
    "        # populate the nested dictionary\n",
    "        if chapter not in bible[current_book]:\n",
    "            bible[current_book][chapter] = {}\n",
    "\n",
    "        bible[current_book][chapter][verse] = current_text.strip()\n"
   ]
  },
  {
   "cell_type": "code",
   "execution_count": null,
   "metadata": {
    "tags": []
   },
   "outputs": [],
   "source": []
  },
  {
   "cell_type": "code",
   "execution_count": null,
   "metadata": {
    "tags": []
   },
   "outputs": [],
   "source": []
  },
  {
   "cell_type": "code",
   "execution_count": 137,
   "metadata": {
    "deletable": false,
    "editable": false,
    "tags": []
   },
   "outputs": [
    {
     "data": {
      "text/html": [
       "<p><strong style='color: red;'><pre style='display: inline;'>q3a</pre> results:</strong></p><p><strong><pre style='display: inline;'>q3a - 1</pre> result:</strong></p><pre>    ❌ Test case failed\n",
       "    Trying:\n",
       "        assert bible[0][0][0] == ['in', 'the', 'beginning', 'god', 'created', 'the', 'heaven', 'and', 'the', 'earth']\n",
       "    Expecting nothing\n",
       "    **********************************************************************\n",
       "    Line 1, in q3a 0\n",
       "    Failed example:\n",
       "        assert bible[0][0][0] == ['in', 'the', 'beginning', 'god', 'created', 'the', 'heaven', 'and', 'the', 'earth']\n",
       "    Exception raised:\n",
       "        Traceback (most recent call last):\n",
       "          File \"/opt/conda/lib/python3.11/doctest.py\", line 1351, in __run\n",
       "            exec(compile(example.source, filename, \"single\",\n",
       "          File \"<doctest q3a 0[0]>\", line 1, in <module>\n",
       "            assert bible[0][0][0] == ['in', 'the', 'beginning', 'god', 'created', 'the', 'heaven', 'and', 'the', 'earth']\n",
       "                   ~~~~~^^^\n",
       "        KeyError: 0\n",
       "    Trying:\n",
       "        assert bible[42][2][15] == ['for', 'god', 'so', 'loved', 'the', 'world', 'that', 'he', 'gave', 'his', 'only', 'begotten', 'son', 'that', 'whosoever', 'believeth', 'in', 'him', 'should', 'not', 'perish', 'but', 'have', 'everlasting', 'life']\n",
       "    Expecting nothing\n",
       "    **********************************************************************\n",
       "    Line 2, in q3a 0\n",
       "    Failed example:\n",
       "        assert bible[42][2][15] == ['for', 'god', 'so', 'loved', 'the', 'world', 'that', 'he', 'gave', 'his', 'only', 'begotten', 'son', 'that', 'whosoever', 'believeth', 'in', 'him', 'should', 'not', 'perish', 'but', 'have', 'everlasting', 'life']\n",
       "    Exception raised:\n",
       "        Traceback (most recent call last):\n",
       "          File \"/opt/conda/lib/python3.11/doctest.py\", line 1351, in __run\n",
       "            exec(compile(example.source, filename, \"single\",\n",
       "          File \"<doctest q3a 0[1]>\", line 1, in <module>\n",
       "            assert bible[42][2][15] == ['for', 'god', 'so', 'loved', 'the', 'world', 'that', 'he', 'gave', 'his', 'only', 'begotten', 'son', 'that', 'whosoever', 'believeth', 'in', 'him', 'should', 'not', 'perish', 'but', 'have', 'everlasting', 'life']\n",
       "                   ~~~~~^^^^\n",
       "        KeyError: 42\n",
       "</pre>"
      ],
      "text/plain": [
       "q3a results:\n",
       "    q3a - 1 result:\n",
       "        ❌ Test case failed\n",
       "        Trying:\n",
       "            assert bible[0][0][0] == ['in', 'the', 'beginning', 'god', 'created', 'the', 'heaven', 'and', 'the', 'earth']\n",
       "        Expecting nothing\n",
       "        **********************************************************************\n",
       "        Line 1, in q3a 0\n",
       "        Failed example:\n",
       "            assert bible[0][0][0] == ['in', 'the', 'beginning', 'god', 'created', 'the', 'heaven', 'and', 'the', 'earth']\n",
       "        Exception raised:\n",
       "            Traceback (most recent call last):\n",
       "              File \"/opt/conda/lib/python3.11/doctest.py\", line 1351, in __run\n",
       "                exec(compile(example.source, filename, \"single\",\n",
       "              File \"<doctest q3a 0[0]>\", line 1, in <module>\n",
       "                assert bible[0][0][0] == ['in', 'the', 'beginning', 'god', 'created', 'the', 'heaven', 'and', 'the', 'earth']\n",
       "                       ~~~~~^^^\n",
       "            KeyError: 0\n",
       "        Trying:\n",
       "            assert bible[42][2][15] == ['for', 'god', 'so', 'loved', 'the', 'world', 'that', 'he', 'gave', 'his', 'only', 'begotten', 'son', 'that', 'whosoever', 'believeth', 'in', 'him', 'should', 'not', 'perish', 'but', 'have', 'everlasting', 'life']\n",
       "        Expecting nothing\n",
       "        **********************************************************************\n",
       "        Line 2, in q3a 0\n",
       "        Failed example:\n",
       "            assert bible[42][2][15] == ['for', 'god', 'so', 'loved', 'the', 'world', 'that', 'he', 'gave', 'his', 'only', 'begotten', 'son', 'that', 'whosoever', 'believeth', 'in', 'him', 'should', 'not', 'perish', 'but', 'have', 'everlasting', 'life']\n",
       "        Exception raised:\n",
       "            Traceback (most recent call last):\n",
       "              File \"/opt/conda/lib/python3.11/doctest.py\", line 1351, in __run\n",
       "                exec(compile(example.source, filename, \"single\",\n",
       "              File \"<doctest q3a 0[1]>\", line 1, in <module>\n",
       "                assert bible[42][2][15] == ['for', 'god', 'so', 'loved', 'the', 'world', 'that', 'he', 'gave', 'his', 'only', 'begotten', 'son', 'that', 'whosoever', 'believeth', 'in', 'him', 'should', 'not', 'perish', 'but', 'have', 'everlasting', 'life']\n",
       "                       ~~~~~^^^^\n",
       "            KeyError: 42"
      ]
     },
     "execution_count": 137,
     "metadata": {},
     "output_type": "execute_result"
    }
   ],
   "source": [
    "grader.check(\"q3a\")"
   ]
  },
  {
   "cell_type": "code",
   "execution_count": null,
   "metadata": {},
   "outputs": [],
   "source": []
  },
  {
   "cell_type": "markdown",
   "metadata": {
    "deletable": false,
    "editable": false
   },
   "source": [
    "**3(b)** (3 pts) In order to encode quickly encode a message, we need to be able to efficiently map a given word to all of its location(s) in the bible. Create a second data structure `bible_inv` such that `bible_inv[word]` contains a list of all the locations where that word occurs in `bible`. Each location should be encoded as a 4-tuple of integers, such that the following identity holds:\n",
    "```\n",
    "for b, c, v, w in bible_inv[word]:\n",
    "    assert bible[b][c][v][w] == word\n",
    "```"
   ]
  },
  {
   "cell_type": "code",
   "execution_count": null,
   "metadata": {
    "tags": []
   },
   "outputs": [],
   "source": [
    "bible_inv = ..."
   ]
  },
  {
   "cell_type": "code",
   "execution_count": null,
   "metadata": {
    "deletable": false,
    "editable": false
   },
   "outputs": [],
   "source": [
    "grader.check(\"q3b\")"
   ]
  },
  {
   "cell_type": "markdown",
   "metadata": {
    "deletable": false,
    "editable": false
   },
   "source": [
    "**3(c)** (3 pts) Finally, create the functions `enc_bible(s, bible_inv)` and `dec_bible(s, bible)` which encode and decode the string `s` given the mappings `bible` and `bible_inv` above. The output of `enc_bible` should be a string of hyphen-separated 4-tuples:\n",
    "\n",
    "```\n",
    ">>> m = enc_bible(\"the eagle flies at dawn\", bible_inv)\n",
    ">>> m\n",
    "'5-20-42-7 25-16-2-9 18-77-44-5 25-23-17-10 39-27-0-10'\n",
    ">>> dec_bible(m, bible)\n",
    "\"the eagle flies at dawn\"\n",
    "```\n",
    "\n",
    "You may assume that any plaintext phrase `s` consists of entirely of unpunctuated lowercase words that exist in the bible.\n",
    "\n",
    "**Note**: the output of `enc_bible` is not necessarily unique."
   ]
  },
  {
   "cell_type": "code",
   "execution_count": null,
   "metadata": {
    "tags": []
   },
   "outputs": [],
   "source": [
    "def enc_bible(s, bible_inv):\n",
    "    ...\n",
    "def dec_bible(s, bible):\n",
    "    ..."
   ]
  },
  {
   "cell_type": "code",
   "execution_count": null,
   "metadata": {
    "deletable": false,
    "editable": false
   },
   "outputs": [],
   "source": [
    "grader.check(\"q3c\")"
   ]
  },
  {
   "cell_type": "markdown",
   "metadata": {
    "deletable": false,
    "editable": false
   },
   "source": [
    "**3(d)** (3 pts) One weakness of a book cipher is that it is not possible to encrypt a message containing words that are not found in the book. For example, I cannot encrypt the message `\"i heart sushi\"` using the bible cipher. Work around this limitation by creating a function `closest_encryptable(s, bible_inv)` which returns a copy of the plaintext `s` where each word in `s` that is not found in the bible has been replaced by its \"nearest match\" that *is* in the bible. \n",
    "\n",
    "```\n",
    ">>> closest_encryptable(\"i heart sushi\", bible_inv)\n",
    "\"i heart susi\"\n",
    "```\n",
    "\n",
    "To measure the closeness between two words, we will use the function `difflib.SequenceMatcher`:"
   ]
  },
  {
   "cell_type": "code",
   "execution_count": null,
   "metadata": {
    "deletable": false,
    "editable": false
   },
   "outputs": [],
   "source": [
    "from difflib import SequenceMatcher\n",
    "print([SequenceMatcher(a=\"sushi\", b=w).ratio() for w in (\"shush\", \"pizza\")])  # high vs low score"
   ]
  },
  {
   "cell_type": "markdown",
   "metadata": {
    "deletable": false,
    "editable": false
   },
   "source": [
    "In the event of a tie score, pick the word that comes last in alphabetical order. You can again assume that `s` is composed of unpunctuated lower-case words separated by spaces, as in the example."
   ]
  },
  {
   "cell_type": "code",
   "execution_count": null,
   "metadata": {
    "tags": []
   },
   "outputs": [],
   "source": [
    "def closest_encryptable(s, bible_inv):\n",
    "    ..."
   ]
  },
  {
   "cell_type": "code",
   "execution_count": null,
   "metadata": {
    "deletable": false,
    "editable": false
   },
   "outputs": [],
   "source": [
    "grader.check(\"q3d\")"
   ]
  },
  {
   "cell_type": "markdown",
   "metadata": {
    "deletable": false,
    "editable": false
   },
   "source": [
    "## Submission\n",
    "\n",
    "Make sure you have run all cells in your notebook in order before running the cell below, so that all images/graphs appear in the output. The cell below will generate a zip file for you to submit. **Please save before exporting!**\n",
    "\n",
    "Upload this .zip file to Gradescope for grading."
   ]
  },
  {
   "cell_type": "code",
   "execution_count": null,
   "metadata": {
    "deletable": false,
    "editable": false
   },
   "outputs": [],
   "source": [
    "# Save your notebook first, then run this cell to export your submission.\n",
    "grader.export(pdf=False, run_tests=True)"
   ]
  },
  {
   "cell_type": "markdown",
   "metadata": {},
   "source": [
    " "
   ]
  }
 ],
 "metadata": {
  "kernelspec": {
   "display_name": "Python 3 (ipykernel)",
   "language": "python",
   "name": "python3"
  },
  "language_info": {
   "codemirror_mode": {
    "name": "ipython",
    "version": 3
   },
   "file_extension": ".py",
   "mimetype": "text/x-python",
   "name": "python",
   "nbconvert_exporter": "python",
   "pygments_lexer": "ipython3",
   "version": "3.11.3"
  },
  "otter": {
   "OK_FORMAT": true,
   "tests": {
    "q1a": {
     "name": "q1a",
     "points": 2,
     "suites": [
      {
       "cases": [
        {
         "code": ">>> p = primes()\n>>> plist = [2,3,5,7,11,13,17,19,23,29]\n>>> for i in range(10):\n...     assert next(p) == plist[i]\n",
         "hidden": false,
         "locked": false
        }
       ],
       "scored": true,
       "setup": "",
       "teardown": "",
       "type": "doctest"
      }
     ]
    },
    "q1b": {
     "name": "q1b",
     "points": 3,
     "suites": [
      {
       "cases": [
        {
         "code": ">>> r = ruler()\n>>> ruler_numbers = [1, 2, 2, 3, 3, 4, 4, 4, 5, 5, 5, 6, 6, 6, 7, 7, 7, 7, 8, 8, 8, 8]\n>>> for n in ruler_numbers:\n...     assert next(r) == n\n",
         "hidden": false,
         "locked": false
        }
       ],
       "scored": true,
       "setup": "",
       "teardown": "",
       "type": "doctest"
      }
     ]
    },
    "q1c": {
     "name": "q1c",
     "points": 3,
     "suites": [
      {
       "cases": [
        {
         "code": ">>> s = look_say()\n>>> look_say_first_ten = ['1',\n...  '11',\n...  '21',\n...  '1211',\n...  '111221',\n...  '312211',\n...  '13112221',\n...  '1113213211',\n...  '31131211131221',\n...  '13211311123113112211']\n>>> for i in range(10):\n...     s_i = next(s)\n...     assert isinstance(s_i, str)\n...     assert s_i == look_say_first_ten[i]\n",
         "hidden": false,
         "locked": false
        }
       ],
       "scored": true,
       "setup": "",
       "teardown": "",
       "type": "doctest"
      }
     ]
    },
    "q2a": {
     "name": "q2a",
     "points": 4,
     "suites": [
      {
       "cases": [
        {
         "code": ">>> public_tests = [('thequickbrownfoxjumpsoverthelazydog', 1, 'uifrvjdlcspxogpykvnqtpwfsuifmbazeph'), ('howdoesthiscodehandlewrapping', 18, 'zgovgwklzakugvwzsfvdwojshhafy'),('thekeycanbenegative', -3, 'qebhbvzxkybkbdxqfsb')]\n>>> for msg, k, enc in public_tests:\n...     assert enc_caesar(msg, k) == enc\n",
         "hidden": false,
         "locked": false
        },
        {
         "code": ">>> public_tests = [('thequickbrownfoxjumpsoverthelazydog', 1, 'uifrvjdlcspxogpykvnqtpwfsuifmbazeph'), ('howdoesthiscodehandlewrapping', 18, 'zgovgwklzakugvwzsfvdwojshhafy'),('thekeycanbenegative', -3, 'qebhbvzxkybkbdxqfsb')]\n>>> for msg, k, enc in public_tests: \n...     assert dec_caesar(enc, k) == msg\n",
         "hidden": false,
         "locked": false
        }
       ],
       "scored": true,
       "setup": "",
       "teardown": "",
       "type": "doctest"
      }
     ]
    },
    "q2b": {
     "name": "q2b",
     "points": 4,
     "suites": [
      {
       "cases": [
        {
         "code": ">>> public_tests = [('hello', 'sun', 'zyydi'),('goodbye', 'moon', 'sccqnms'),('dog', 'cats', 'foz'),('ilovestatistics', 'bayes', 'jlmzwttyxattggk')]\n>>> \n>>> for msg, key, enc in public_tests:\n...     assert enc_vignere(msg, key) == enc\n",
         "hidden": false,
         "locked": false
        },
        {
         "code": ">>> public_tests = [('hello', 'sun', 'zyydi'),('goodbye', 'moon', 'sccqnms'),('dog', 'cats', 'foz'),('ilovestatistics', 'bayes', 'jlmzwttyxattggk')]\n>>> \n>>> for msg, key, enc in public_tests:\n...     assert dec_vignere(enc, key) == msg\n",
         "hidden": false,
         "locked": false
        }
       ],
       "scored": true,
       "setup": "",
       "teardown": "",
       "type": "doctest"
      }
     ]
    },
    "q3a": {
     "name": "q3a",
     "points": 3,
     "suites": [
      {
       "cases": [
        {
         "code": ">>> assert bible[0][0][0] == ['in', 'the', 'beginning', 'god', 'created', 'the', 'heaven', 'and', 'the', 'earth']\n>>> assert bible[42][2][15] == ['for', 'god', 'so', 'loved', 'the', 'world', 'that', 'he', 'gave', 'his', 'only', 'begotten', 'son', 'that', 'whosoever', 'believeth', 'in', 'him', 'should', 'not', 'perish', 'but', 'have', 'everlasting', 'life']\n",
         "hidden": false,
         "locked": false
        }
       ],
       "scored": true,
       "setup": "",
       "teardown": "",
       "type": "doctest"
      }
     ]
    },
    "q3b": {
     "name": "q3b",
     "points": 3,
     "suites": [
      {
       "cases": [
        {
         "code": ">>> for word in ['dawn', 'light', 'heaven']:\n...     for b, c, v, w in bible_inv[word]:\n...         assert bible[b][c][v][w] == word\n",
         "hidden": false,
         "locked": false
        },
        {
         "code": ">>> for word in ['him', 'earth', 'child']:\n...     for b, c, v, w in bible_inv[word]:\n...         assert bible[b][c][v][w] == word\n",
         "hidden": false,
         "locked": false
        },
        {
         "code": ">>> assert (0,0,0,2) in bible_inv['beginning']\n",
         "hidden": false,
         "locked": false
        }
       ],
       "scored": true,
       "setup": "",
       "teardown": "",
       "type": "doctest"
      }
     ]
    },
    "q3c": {
     "name": "q3c",
     "points": 3,
     "suites": [
      {
       "cases": [
        {
         "code": ">>> import re\n>>> test_strs = (\"the eagle flies at dawn\", \"heaven and earth reach him\")\n>>> for test_str in test_strs:\n...     b = enc_bible(test_str, bible_inv)\n...     pattern = re.compile(\"([0-9]+-){3}[0-9]+\")\n...     assert len(pattern.findall(b)) == 5, \"Output of enc_bible not correctly formatted.\"\n...     assert dec_bible(b, bible) == test_str\n",
         "hidden": false,
         "locked": false
        }
       ],
       "scored": true,
       "setup": "",
       "teardown": "",
       "type": "doctest"
      }
     ]
    },
    "q3d": {
     "name": "q3d",
     "points": 3,
     "suites": [
      {
       "cases": [
        {
         "code": ">>> assert closest_encryptable(\"i heart sushi\", bible_inv) == \"i heart susi\"\n",
         "hidden": false,
         "locked": false
        },
        {
         "code": ">>> assert closest_encryptable(\"tiktok is so lit\", bible_inv) == 'traitor is so lift'\n",
         "hidden": false,
         "locked": false
        }
       ],
       "scored": true,
       "setup": "",
       "teardown": "",
       "type": "doctest"
      }
     ]
    }
   }
  },
  "varInspector": {
   "cols": {
    "lenName": 16,
    "lenType": 16,
    "lenVar": 40
   },
   "kernels_config": {
    "python": {
     "delete_cmd_postfix": "",
     "delete_cmd_prefix": "del ",
     "library": "var_list.py",
     "varRefreshCmd": "print(var_dic_list())"
    },
    "r": {
     "delete_cmd_postfix": ") ",
     "delete_cmd_prefix": "rm(",
     "library": "var_list.r",
     "varRefreshCmd": "cat(var_dic_list()) "
    }
   },
   "types_to_exclude": [
    "module",
    "function",
    "builtin_function_or_method",
    "instance",
    "_Feature"
   ],
   "window_display": false
  }
 },
 "nbformat": 4,
 "nbformat_minor": 4
}
