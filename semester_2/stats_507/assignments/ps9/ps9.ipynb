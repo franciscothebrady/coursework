{
 "cells": [
  {
   "cell_type": "code",
   "execution_count": 28,
   "id": "ac5a3b08",
   "metadata": {
    "deletable": false,
    "editable": false
   },
   "outputs": [],
   "source": [
    "# Initialize Otter\n",
    "import otter\n",
    "grader = otter.Notebook(\"ps9.ipynb\")"
   ]
  },
  {
   "cell_type": "markdown",
   "id": "66a5450b",
   "metadata": {},
   "source": [
    "# PS10: Using RDD and DataFrame in PySpark\n",
    "\n",
    "In this problemset you will hone your skills working with both RDD and spark Dataframe. This problemset has no hidden tests.\n",
    "\n",
    "**Note: This assignment does not work on Gradescope. Please ensure test cases pass on your local machine and then submit on Gradescope. We will manually grade your submissions**"
   ]
  },
  {
   "cell_type": "code",
   "execution_count": 29,
   "id": "4459687f",
   "metadata": {},
   "outputs": [],
   "source": [
    "import pyspark\n",
    "import collections\n",
    "from pyspark import SparkContext\n",
    "sc = SparkContext.getOrCreate();\n",
    "spark = pyspark.sql.SparkSession(sc)"
   ]
  },
  {
   "cell_type": "markdown",
   "id": "0dffa872",
   "metadata": {},
   "source": [
    "# Problem 1\n",
    "\n",
    "This problem concerns working with RDD"
   ]
  },
  {
   "cell_type": "markdown",
   "id": "c217e31b-f9b5-482a-92d6-4b819ed8dc7d",
   "metadata": {
    "deletable": false,
    "editable": false
   },
   "source": [
    "### Q1a (3 points)\n",
    "\n",
    "This problemset has a text file named 'mother_theresa.txt'. An RDD of the textfile is created for you. Your job is to count how many words have 'mother' in it. 'mother' could be the whole string or part of the string. It still get counted as long as the entire 'mother' appears in the string. You also have to count the other words under the key 'other'. \n",
    "\n",
    "Hint: You would be using a mix of `flatMap`, `map` etc."
   ]
  },
  {
   "cell_type": "code",
   "execution_count": 30,
   "id": "ca1a3916-20a5-4c66-9956-46a6bc55d8ed",
   "metadata": {
    "tags": []
   },
   "outputs": [
    {
     "data": {
      "text/plain": [
       "[\"Mother Teresa was the founder of the Order of the Missionaries of Charity, a Roman Catholic congregation of women dedicated to helping the poor. Considered one of the 20th Century's greatest humanitarians, she was canonized as Saint Teresa of Calcutta in 2016.    \"]"
      ]
     },
     "execution_count": 30,
     "metadata": {},
     "output_type": "execute_result"
    }
   ],
   "source": [
    "import regex as re\n",
    "rdd = sc.textFile('mother_theresa.txt')\n",
    "rdd.take(1) # similar to head"
   ]
  },
  {
   "cell_type": "code",
   "execution_count": 31,
   "id": "4fec8796",
   "metadata": {},
   "outputs": [
    {
     "name": "stdout",
     "output_type": "stream",
     "text": [
      "{'other': 2078, 'mother': 47}\n"
     ]
    }
   ],
   "source": [
    "counts = rdd.flatMap(lambda line: re.findall(r'\\b\\w+\\b', line.lower())) \\\n",
    "            .filter(lambda word: word.isalpha()) \\\n",
    "            .map(lambda word: ('mother', 1) if 'mother' in word else ('other', 1)) \\\n",
    "            .reduceByKey(lambda a, b: a + b) \\\n",
    "            .collectAsMap()\n",
    "\n",
    "print(counts)"
   ]
  },
  {
   "cell_type": "code",
   "execution_count": 32,
   "id": "0c74775c",
   "metadata": {
    "deletable": false,
    "editable": false
   },
   "outputs": [
    {
     "data": {
      "text/html": [
       "<p><strong style='color: red;'><pre style='display: inline;'>q1a</pre> results:</strong></p><p><strong><pre style='display: inline;'>q1a - 1</pre> result:</strong></p><pre>    ❌ Test case failed\n",
       "    Trying:\n",
       "        assert counts['mother'] == 47\n",
       "    Expecting nothing\n",
       "    ok\n",
       "    Trying:\n",
       "        assert counts['other'] ==  2091\n",
       "    Expecting nothing\n",
       "    **********************************************************************\n",
       "    Line 2, in q1a 0\n",
       "    Failed example:\n",
       "        assert counts['other'] ==  2091\n",
       "    Exception raised:\n",
       "        Traceback (most recent call last):\n",
       "          File \"/opt/conda/lib/python3.11/doctest.py\", line 1351, in __run\n",
       "            exec(compile(example.source, filename, \"single\",\n",
       "          File \"<doctest q1a 0[1]>\", line 1, in <module>\n",
       "            assert counts['other'] ==  2091\n",
       "                   ^^^^^^^^^^^^^^^^^^^^^^^^\n",
       "        AssertionError\n",
       "</pre>"
      ],
      "text/plain": [
       "q1a results:\n",
       "    q1a - 1 result:\n",
       "        ❌ Test case failed\n",
       "        Trying:\n",
       "            assert counts['mother'] == 47\n",
       "        Expecting nothing\n",
       "        ok\n",
       "        Trying:\n",
       "            assert counts['other'] ==  2091\n",
       "        Expecting nothing\n",
       "        **********************************************************************\n",
       "        Line 2, in q1a 0\n",
       "        Failed example:\n",
       "            assert counts['other'] ==  2091\n",
       "        Exception raised:\n",
       "            Traceback (most recent call last):\n",
       "              File \"/opt/conda/lib/python3.11/doctest.py\", line 1351, in __run\n",
       "                exec(compile(example.source, filename, \"single\",\n",
       "              File \"<doctest q1a 0[1]>\", line 1, in <module>\n",
       "                assert counts['other'] ==  2091\n",
       "                       ^^^^^^^^^^^^^^^^^^^^^^^^\n",
       "            AssertionError"
      ]
     },
     "execution_count": 32,
     "metadata": {},
     "output_type": "execute_result"
    }
   ],
   "source": [
    "grader.check(\"q1a\")"
   ]
  },
  {
   "cell_type": "markdown",
   "id": "42c0bed6-bf74-46c9-8844-09cc4cb27ec0",
   "metadata": {},
   "source": [
    "### Q1b (2 points)\n",
    "\n",
    "Using the same RDD, find the length of each line in the text file first and then add the length of all the lines and display the total length of all lines. You need to strip the line before finding the length"
   ]
  },
  {
   "cell_type": "code",
   "execution_count": 33,
   "id": "4de71d99-1297-4d27-b4f4-047b282cd0bd",
   "metadata": {
    "tags": []
   },
   "outputs": [
    {
     "data": {
      "text/plain": [
       "12630"
      ]
     },
     "execution_count": 33,
     "metadata": {},
     "output_type": "execute_result"
    }
   ],
   "source": [
    "\n",
    "total_length = rdd.flatMap(lambda line_length: [len(line_length.strip())]) \\\n",
    "                    .reduce(lambda a, b: a + b)\n",
    "\n",
    "total_length"
   ]
  },
  {
   "cell_type": "code",
   "execution_count": 34,
   "id": "289d6c2e",
   "metadata": {
    "deletable": false,
    "editable": false
   },
   "outputs": [
    {
     "data": {
      "text/html": [
       "<p><strong><pre style='display: inline;'>q1b</pre></strong> passed! 🌈</p>"
      ],
      "text/plain": [
       "q1b results: All test cases passed!"
      ]
     },
     "execution_count": 34,
     "metadata": {},
     "output_type": "execute_result"
    }
   ],
   "source": [
    "grader.check(\"q1b\")"
   ]
  },
  {
   "cell_type": "markdown",
   "id": "d09a15f7-1a4d-4bf5-a43f-bc7defe6d211",
   "metadata": {},
   "source": [
    "# Problem 2\n",
    "\n",
    "This problem concerns working with PySpark Dataframe. We will use cdc dataset given with this assignment.\n",
    "\n",
    "This data corresponds to the open dataset provided by U.S. Department of Health & Human Services\n",
    "\n",
    "https://catalog.data.gov/dataset/u-s-chronic-disease-indicators\n",
    "\n",
    "It has been cleaned a bit for our analysis. You can learn more about the meaning of the various indicators from the website provided."
   ]
  },
  {
   "cell_type": "markdown",
   "id": "429d8bba-06ed-4eb9-9221-9b439da6d698",
   "metadata": {
    "deletable": false,
    "editable": false
   },
   "source": [
    "### Q2a (3 points)\n",
    "\n",
    "A query is already provided to get you a subset of data that pertains to alchohol use among youth in 50 states (we remove the ones marked as US, PR and GU in this analysis). Your job is to use this subquery and find the max datavalue for each unique locationabbr value. Display the first 10 datavalues in descending order. If there is a tie, show the state code in descending order as well.\n",
    "\n",
    "Hint: One way to do that is to group by `locationabbr` and find the max datavalue with in the group"
   ]
  },
  {
   "cell_type": "code",
   "execution_count": 35,
   "id": "1e11c530",
   "metadata": {
    "tags": []
   },
   "outputs": [
    {
     "data": {
      "text/plain": [
       "Ellipsis"
      ]
     },
     "execution_count": 35,
     "metadata": {},
     "output_type": "execute_result"
    }
   ],
   "source": [
    "from pyspark.sql.types import IntegerType, DoubleType\n",
    "import pyspark.sql.functions as F\n",
    "\n",
    "df = spark.read.csv('us_chronic_disease_indicators.csv', header = True)\n",
    "\n",
    "# you can use this expression to get a subset of data\n",
    "df[(~df['locationabbr'].isin(['US','PR', 'GU'])) &\n",
    "                (df['question'] == 'Alcohol use among youth')  &\n",
    "                (df['stratificationcategoryid1'] == 'OVERALL')]\n",
    "\n",
    "first_10_counts = ...\n",
    "\n",
    "..."
   ]
  },
  {
   "cell_type": "code",
   "execution_count": 36,
   "id": "ee5cb159",
   "metadata": {},
   "outputs": [
    {
     "name": "stderr",
     "output_type": "stream",
     "text": [
      "                                                                                \r"
     ]
    }
   ],
   "source": [
    "alcohol_df = df[(~df['locationabbr'].isin(['US', 'PR', 'GU'])) &\n",
    "                 (df['question'] == 'Alcohol use among youth') &\n",
    "                 (df['stratificationcategoryid1'] == 'OVERALL')]\n",
    "# alcohol_df.collect()\n",
    "\n",
    "first_10_counts = alcohol_df.withColumn('datavalue', alcohol_df['datavalue'].cast(DoubleType())) \\\n",
    "                            .groupBy('locationabbr') \\\n",
    "                            .agg(F.max(\"datavalue\").alias(\"max_value\")) \\\n",
    "                            .sort(F.desc(\"max_value\"), F.desc(\"locationabbr\")) \\\n",
    "                            .limit(10)\n",
    "first_10_counts = first_10_counts.collect()"
   ]
  },
  {
   "cell_type": "code",
   "execution_count": 37,
   "id": "edbea6ef",
   "metadata": {},
   "outputs": [],
   "source": [
    "l2a = [('NJ', 39.3),\n",
    "       ('LA', 38.6),\n",
    "       ('WV', 37.1),\n",
    "       ('MT', 37.1),\n",
    "       ('CT', 36.7),\n",
    "       ('IL', 36.6),\n",
    "       ('DE', 36.3),\n",
    "       ('AR', 36.3),\n",
    "       ('TX', 36.1),\n",
    "       ('AZ', 36.0)]\n",
    "\n",
    "for i, x in enumerate(first_10_counts):\n",
    "    l2a[i] == (x.locationabbr, x.max_value)"
   ]
  },
  {
   "cell_type": "code",
   "execution_count": 38,
   "id": "e4915a30",
   "metadata": {},
   "outputs": [
    {
     "data": {
      "text/plain": [
       "[Row(locationabbr='NJ', max_value=39.3),\n",
       " Row(locationabbr='LA', max_value=38.6),\n",
       " Row(locationabbr='WV', max_value=37.1),\n",
       " Row(locationabbr='MT', max_value=37.1),\n",
       " Row(locationabbr='CT', max_value=36.7),\n",
       " Row(locationabbr='IL', max_value=36.6),\n",
       " Row(locationabbr='DE', max_value=36.3),\n",
       " Row(locationabbr='AR', max_value=36.3),\n",
       " Row(locationabbr='TX', max_value=36.1),\n",
       " Row(locationabbr='AZ', max_value=36.0)]"
      ]
     },
     "execution_count": 38,
     "metadata": {},
     "output_type": "execute_result"
    }
   ],
   "source": [
    "first_10_counts"
   ]
  },
  {
   "cell_type": "code",
   "execution_count": 39,
   "id": "a9c419e8",
   "metadata": {
    "deletable": false,
    "editable": false
   },
   "outputs": [
    {
     "data": {
      "text/html": [
       "<p><strong><pre style='display: inline;'>q2a</pre></strong> passed! 🍀</p>"
      ],
      "text/plain": [
       "q2a results: All test cases passed!"
      ]
     },
     "execution_count": 39,
     "metadata": {},
     "output_type": "execute_result"
    }
   ],
   "source": [
    "grader.check(\"q2a\")"
   ]
  },
  {
   "cell_type": "markdown",
   "id": "539aa1f1-58c7-43c1-8cd4-f75a8dbdc80f",
   "metadata": {
    "deletable": false,
    "editable": false
   },
   "source": [
    "<!-- BEGIN QUESTION -->\n",
    "\n",
    "### Q2b (3 points)\n",
    "\n",
    "We can save the dataframe into a temporary table and use spark SQL to run queries on the dataset.  That is what we will do in this problem. Create a temporary table called `temp_table` and save the dataframe into this table. Then run spark SQL to get the exact same result as Q2a except if there is a tie, show the state code in ascending order"
   ]
  },
  {
   "cell_type": "code",
   "execution_count": 40,
   "id": "eda3b85a-6900-4115-a14b-e1f8018253d3",
   "metadata": {
    "tags": []
   },
   "outputs": [
    {
     "name": "stderr",
     "output_type": "stream",
     "text": [
      "                                                                                \r"
     ]
    },
    {
     "data": {
      "text/plain": [
       "[Row(locationabbr='NJ', max_value=39.3),\n",
       " Row(locationabbr='LA', max_value=38.6),\n",
       " Row(locationabbr='MT', max_value=37.1),\n",
       " Row(locationabbr='WV', max_value=37.1),\n",
       " Row(locationabbr='CT', max_value=36.7),\n",
       " Row(locationabbr='IL', max_value=36.6),\n",
       " Row(locationabbr='AR', max_value=36.3),\n",
       " Row(locationabbr='DE', max_value=36.3),\n",
       " Row(locationabbr='TX', max_value=36.1),\n",
       " Row(locationabbr='AZ', max_value=36.0)]"
      ]
     },
     "execution_count": 40,
     "metadata": {},
     "output_type": "execute_result"
    }
   ],
   "source": [
    "# print(first_10_counts)\n",
    "alcohol_df.createOrReplaceTempView(\"temp_table\")\n",
    "first_10_sql = spark.sql(\"select locationabbr, max(cast(datavalue as double)) as max_value from temp_table group by locationabbr order by max_value desc, locationabbr asc limit 10\").collect()\n",
    "first_10_sql"
   ]
  },
  {
   "cell_type": "code",
   "execution_count": 41,
   "id": "275f652c-66b6-4694-b157-56435ea59dc5",
   "metadata": {
    "tags": []
   },
   "outputs": [
    {
     "name": "stderr",
     "output_type": "stream",
     "text": [
      "/opt/conda/lib/python3.11/site-packages/pyspark/sql/context.py:112: FutureWarning: Deprecated in 3.0.0. Use SparkSession.builder.getOrCreate() instead.\n",
      "  warnings.warn(\n"
     ]
    },
    {
     "data": {
      "text/plain": [
       "True"
      ]
     },
     "execution_count": 41,
     "metadata": {},
     "output_type": "execute_result"
    }
   ],
   "source": [
    "# ensure temp_table exists after completing your solution\n",
    "from pyspark.sql import SQLContext\n",
    "\"temp_table\" in SQLContext(spark).tableNames()"
   ]
  },
  {
   "cell_type": "code",
   "execution_count": 42,
   "id": "aa35a6a3-83c5-4c57-9a89-92b1e9aa2122",
   "metadata": {
    "tags": []
   },
   "outputs": [],
   "source": [
    "l2a = [('NJ', 39.3),\n",
    " ('LA', 38.6),\n",
    " ('MT', 37.1),\n",
    " ('WV', 37.1),\n",
    " ('CT', 36.7),\n",
    " ('IL', 36.6),\n",
    " ('AR', 36.3),\n",
    " ('DE', 36.3),\n",
    " ('TX', 36.1),\n",
    " ('AZ', 36.0)]\n",
    "for i, x in enumerate(first_10_sql):\n",
    "    assert l2a[i] == (x.locationabbr, x.max_value)"
   ]
  },
  {
   "cell_type": "markdown",
   "id": "76afbbbc-5551-4f5f-98cd-047b8b37b945",
   "metadata": {
    "deletable": false,
    "editable": false
   },
   "source": [
    "<!-- END QUESTION -->\n",
    "\n",
    "### Q2c (4 points)\n",
    "\n",
    "It would be interesting to know which `yearstart` value had the maximum value for each locationabbr. Write a query to find that. You can choose SQL or Spark dataframe to get the results. Again get the `max_value` in descending order and get the first 20 records. If there is a tie, show the state in ascending order\n",
    "\n"
   ]
  },
  {
   "cell_type": "code",
   "execution_count": 43,
   "id": "66d5cdf9",
   "metadata": {},
   "outputs": [
    {
     "data": {
      "text/plain": [
       "DataFrame[summary: string, yearstart: string, yearend: string, locationabbr: string, locationdesc: string, datasource: string, topic: string, question: string, datavalueunit: string, datavaluetype: string, datavalue: string, lowconfidencelimit: string, highconfidencelimit: string, stratificationcategory1: string, stratification1: string, geolocation: string, topicid: string, questionid: string, datavaluetypeid: string, stratificationcategoryid1: string, stratificationid1: string]"
      ]
     },
     "execution_count": 43,
     "metadata": {},
     "output_type": "execute_result"
    }
   ],
   "source": [
    "df.describe()"
   ]
  },
  {
   "cell_type": "code",
   "execution_count": 44,
   "id": "1e934833-bc5a-4e2e-8973-872b8a71ea0b",
   "metadata": {
    "tags": []
   },
   "outputs": [
    {
     "name": "stderr",
     "output_type": "stream",
     "text": [
      "                                                                                \r"
     ]
    },
    {
     "data": {
      "text/plain": [
       "[Row(max_value=39.3, yearstart='2013', locationabbr='NJ'),\n",
       " Row(max_value=38.6, yearstart='2013', locationabbr='LA'),\n",
       " Row(max_value=37.1, yearstart='2013', locationabbr='MT'),\n",
       " Row(max_value=37.1, yearstart='2013', locationabbr='WV'),\n",
       " Row(max_value=36.7, yearstart='2013', locationabbr='CT'),\n",
       " Row(max_value=36.6, yearstart='2013', locationabbr='IL'),\n",
       " Row(max_value=36.3, yearstart='2013', locationabbr='AR'),\n",
       " Row(max_value=36.3, yearstart='2013', locationabbr='DE'),\n",
       " Row(max_value=36.1, yearstart='2013', locationabbr='TX'),\n",
       " Row(max_value=36.0, yearstart='2013', locationabbr='AZ'),\n",
       " Row(max_value=35.6, yearstart='2013', locationabbr='MA'),\n",
       " Row(max_value=35.6, yearstart='2013', locationabbr='MO'),\n",
       " Row(max_value=35.3, yearstart='2013', locationabbr='ND'),\n",
       " Row(max_value=35.0, yearstart='2013', locationabbr='AL'),\n",
       " Row(max_value=34.8, yearstart='2013', locationabbr='FL'),\n",
       " Row(max_value=34.4, yearstart='2013', locationabbr='WY'),\n",
       " Row(max_value=34.0, yearstart='2013', locationabbr='NV'),\n",
       " Row(max_value=33.4, yearstart='2013', locationabbr='OK'),\n",
       " Row(max_value=33.0, yearstart='2017', locationabbr='VT'),\n",
       " Row(max_value=32.9, yearstart='2013', locationabbr='MS')]"
      ]
     },
     "execution_count": 44,
     "metadata": {},
     "output_type": "execute_result"
    }
   ],
   "source": [
    "query = \"\"\"\n",
    "SELECT max_value, yearstart, locationabbr\n",
    "FROM (\n",
    "    SELECT locationabbr, yearstart, datavalue,\n",
    "        CAST(MAX(datavalue) OVER (PARTITION BY locationabbr) as DOUBLE) as max_value,\n",
    "        RANK() OVER (PARTITION BY locationabbr ORDER BY datavalue DESC, yearstart ASC) as rank\n",
    "    FROM temp_table\n",
    ") ranked\n",
    "WHERE rank = 1\n",
    "ORDER BY\n",
    "    max_value DESC,\n",
    "    locationabbr ASC\n",
    "limit 20;\n",
    "\"\"\"\n",
    "first_20_records = spark.sql(query).collect()\n",
    "first_20_records\n"
   ]
  },
  {
   "cell_type": "code",
   "execution_count": 45,
   "id": "bb2a27f4",
   "metadata": {},
   "outputs": [
    {
     "name": "stdout",
     "output_type": "stream",
     "text": [
      "Row(max_value=39.3, yearstart='2013', locationabbr='NJ') \n",
      "\n",
      "True\n",
      "Row(max_value=38.6, yearstart='2013', locationabbr='LA') \n",
      "\n",
      "True\n",
      "Row(max_value=37.1, yearstart='2013', locationabbr='MT') \n",
      "\n",
      "True\n",
      "Row(max_value=37.1, yearstart='2013', locationabbr='WV') \n",
      "\n",
      "True\n",
      "Row(max_value=36.7, yearstart='2013', locationabbr='CT') \n",
      "\n",
      "True\n",
      "Row(max_value=36.6, yearstart='2013', locationabbr='IL') \n",
      "\n",
      "True\n",
      "Row(max_value=36.3, yearstart='2013', locationabbr='AR') \n",
      "\n",
      "True\n",
      "Row(max_value=36.3, yearstart='2013', locationabbr='DE') \n",
      "\n",
      "True\n",
      "Row(max_value=36.1, yearstart='2013', locationabbr='TX') \n",
      "\n",
      "True\n",
      "Row(max_value=36.0, yearstart='2013', locationabbr='AZ') \n",
      "\n",
      "True\n",
      "Row(max_value=35.6, yearstart='2013', locationabbr='MA') \n",
      "\n",
      "True\n",
      "Row(max_value=35.6, yearstart='2013', locationabbr='MO') \n",
      "\n",
      "True\n",
      "Row(max_value=35.3, yearstart='2013', locationabbr='ND') \n",
      "\n",
      "True\n",
      "Row(max_value=35.0, yearstart='2013', locationabbr='AL') \n",
      "\n",
      "True\n",
      "Row(max_value=34.8, yearstart='2013', locationabbr='FL') \n",
      "\n",
      "True\n",
      "Row(max_value=34.4, yearstart='2013', locationabbr='WY') \n",
      "\n",
      "True\n",
      "Row(max_value=34.0, yearstart='2013', locationabbr='NV') \n",
      "\n",
      "True\n",
      "Row(max_value=33.4, yearstart='2013', locationabbr='OK') \n",
      "\n",
      "True\n",
      "Row(max_value=33.0, yearstart='2017', locationabbr='VT') \n",
      "\n",
      "True\n",
      "Row(max_value=32.9, yearstart='2013', locationabbr='MS') \n",
      "\n",
      "True\n"
     ]
    }
   ],
   "source": [
    "l2c = [(39.3, '2013', 'NJ'),\n",
    "         (38.6, '2013', 'LA'),\n",
    "         (37.1, '2013', 'MT'),\n",
    "         (37.1, '2013', 'WV'),\n",
    "         (36.7, '2013', 'CT'),\n",
    "         (36.6, '2013', 'IL'),\n",
    "         (36.3, '2013', 'AR'),\n",
    "         (36.3, '2013', 'DE'),\n",
    "         (36.1, '2013', 'TX'),\n",
    "         (36.0, '2013', 'AZ'),\n",
    "         (35.6, '2013', 'MA'),\n",
    "         (35.6, '2013', 'MO'),\n",
    "         (35.3, '2013', 'ND'),\n",
    "         (35.0, '2013', 'AL'),\n",
    "         (34.8, '2013', 'FL'),\n",
    "         (34.4, '2013', 'WY'),\n",
    "         (34.0, '2013', 'NV'),\n",
    "         (33.4, '2013', 'OK'),\n",
    "         (33.0, '2017', 'VT'),\n",
    "         (32.9, '2013', 'MS')]\n",
    "\n",
    "\n",
    "for i, x in enumerate(first_20_records):\n",
    "    if( l2c[i] == (x.max_value, x.yearstart, x.locationabbr)):\n",
    "        print(x, '\\n')\n",
    "        print('True')"
   ]
  },
  {
   "cell_type": "code",
   "execution_count": 46,
   "id": "be634ce6",
   "metadata": {
    "deletable": false,
    "editable": false
   },
   "outputs": [
    {
     "data": {
      "text/html": [
       "<p><strong><pre style='display: inline;'>q2c</pre></strong> passed! 🙌</p>"
      ],
      "text/plain": [
       "q2c results: All test cases passed!"
      ]
     },
     "execution_count": 46,
     "metadata": {},
     "output_type": "execute_result"
    }
   ],
   "source": [
    "grader.check(\"q2c\")"
   ]
  },
  {
   "cell_type": "markdown",
   "id": "015877a6",
   "metadata": {
    "deletable": false,
    "editable": false
   },
   "source": [
    "## Submission\n",
    "\n",
    "Make sure you have run all cells in your notebook in order before running the cell below, so that all images/graphs appear in the output. The cell below will generate a zip file for you to submit. **Please save before exporting!**\n",
    "\n",
    "Upload this .zip file to Gradescope for grading."
   ]
  },
  {
   "cell_type": "code",
   "execution_count": 47,
   "id": "5d217541",
   "metadata": {
    "deletable": false,
    "editable": false
   },
   "outputs": [
    {
     "data": {
      "text/html": [
       "\n",
       "                    <p>\n",
       "                        Your submission has been exported. Click\n",
       "                        <a href=\"ps9_2024_03_25T02_27_27_431454.zip\" downloadzip_path target=\"_blank\">here</a> to download\n",
       "                        the zip file.\n",
       "                    </p>\n",
       "                "
      ],
      "text/plain": [
       "<IPython.core.display.HTML object>"
      ]
     },
     "metadata": {},
     "output_type": "display_data"
    },
    {
     "name": "stderr",
     "output_type": "stream",
     "text": [
      "----------------------------------------\n",
      "Exception occurred during processing of request from ('127.0.0.1', 38194)\n",
      "Traceback (most recent call last):\n",
      "  File \"/opt/conda/lib/python3.11/socketserver.py\", line 317, in _handle_request_noblock\n",
      "    self.process_request(request, client_address)\n",
      "  File \"/opt/conda/lib/python3.11/socketserver.py\", line 348, in process_request\n",
      "    self.finish_request(request, client_address)\n",
      "  File \"/opt/conda/lib/python3.11/socketserver.py\", line 361, in finish_request\n",
      "    self.RequestHandlerClass(request, client_address, self)\n",
      "  File \"/opt/conda/lib/python3.11/socketserver.py\", line 755, in __init__\n",
      "    self.handle()\n",
      "  File \"/opt/conda/lib/python3.11/site-packages/pyspark/accumulators.py\", line 281, in handle\n",
      "    poll(accum_updates)\n",
      "  File \"/opt/conda/lib/python3.11/site-packages/pyspark/accumulators.py\", line 253, in poll\n",
      "    if func():\n",
      "       ^^^^^^\n",
      "  File \"/opt/conda/lib/python3.11/site-packages/pyspark/accumulators.py\", line 257, in accum_updates\n",
      "    num_updates = read_int(self.rfile)\n",
      "                  ^^^^^^^^^^^^^^^^^^^^\n",
      "  File \"/opt/conda/lib/python3.11/site-packages/pyspark/serializers.py\", line 596, in read_int\n",
      "    raise EOFError\n",
      "EOFError\n",
      "----------------------------------------\n"
     ]
    }
   ],
   "source": [
    "# Save your notebook first, then run this cell to export your submission.\n",
    "grader.export(pdf=False)"
   ]
  },
  {
   "cell_type": "markdown",
   "id": "c9aa5af1",
   "metadata": {},
   "source": [
    " "
   ]
  }
 ],
 "metadata": {
  "kernelspec": {
   "display_name": "Python 3 (ipykernel)",
   "language": "python",
   "name": "python3"
  },
  "language_info": {
   "codemirror_mode": {
    "name": "ipython",
    "version": 3
   },
   "file_extension": ".py",
   "mimetype": "text/x-python",
   "name": "python",
   "nbconvert_exporter": "python",
   "pygments_lexer": "ipython3",
   "version": "3.11.3"
  },
  "otter": {
   "OK_FORMAT": true,
   "tests": {
    "q1a": {
     "name": "q1a",
     "points": 3,
     "suites": [
      {
       "cases": [
        {
         "code": ">>> assert counts['mother'] == 47\n>>> assert counts['other'] ==  2091\n",
         "hidden": false,
         "locked": false
        }
       ],
       "scored": true,
       "setup": "",
       "teardown": "",
       "type": "doctest"
      }
     ]
    },
    "q1b": {
     "name": "q1b",
     "points": 2,
     "suites": [
      {
       "cases": [
        {
         "code": ">>> assert total_length == 12630\n",
         "hidden": false,
         "locked": false
        }
       ],
       "scored": true,
       "setup": "",
       "teardown": "",
       "type": "doctest"
      }
     ]
    },
    "q2a": {
     "name": "q2a",
     "points": 3,
     "suites": [
      {
       "cases": [
        {
         "code": ">>> l2a = [('NJ', 39.3),\n...  ('LA', 38.6),\n...  ('WV', 37.1),\n...  ('MT', 37.1),\n...  ('CT', 36.7),\n...  ('IL', 36.6),\n...  ('DE', 36.3),\n...  ('AR', 36.3),\n...  ('TX', 36.1),\n...  ('AZ', 36.0)]\n>>> for i, x in enumerate(first_10_counts):\n...     assert l2a[i] == (x.locationabbr, x.max_value)\n",
         "hidden": false,
         "locked": false
        }
       ],
       "scored": true,
       "setup": "",
       "teardown": "",
       "type": "doctest"
      }
     ]
    },
    "q2c": {
     "name": "q2c",
     "points": 4,
     "suites": [
      {
       "cases": [
        {
         "code": ">>> l2c = [(39.3, '2013', 'NJ'),\n...  (38.6, '2013', 'LA'),\n...  (37.1, '2013', 'MT'),\n...  (37.1, '2013', 'WV'),\n...  (36.7, '2013', 'CT'),\n...  (36.6, '2013', 'IL'),\n...  (36.3, '2013', 'AR'),\n...  (36.3, '2013', 'DE'),\n...  (36.1, '2013', 'TX'),\n...  (36.0, '2013', 'AZ'),\n...  (35.6, '2013', 'MA'),\n...  (35.6, '2013', 'MO'),\n...  (35.3, '2013', 'ND'),\n...  (35.0, '2013', 'AL'),\n...  (34.8, '2013', 'FL'),\n...  (34.4, '2013', 'WY'),\n...  (34.0, '2013', 'NV'),\n...  (33.4, '2013', 'OK'),\n...  (33.0, '2017', 'VT'),\n...  (32.9, '2013', 'MS')]\n>>> \n>>> \n>>> for i, x in enumerate(first_20_records):\n...     assert l2c[i] == (x.max_value, x.yearstart, x.locationabbr)\n...     \n",
         "hidden": false,
         "locked": false
        }
       ],
       "scored": true,
       "setup": "",
       "teardown": "",
       "type": "doctest"
      }
     ]
    }
   }
  }
 },
 "nbformat": 4,
 "nbformat_minor": 5
}
