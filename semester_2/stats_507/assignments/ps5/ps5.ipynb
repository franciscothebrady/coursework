{
 "cells": [
  {
   "cell_type": "code",
   "execution_count": 1,
   "id": "e9f4c785",
   "metadata": {
    "deletable": false,
    "editable": false,
    "tags": []
   },
   "outputs": [],
   "source": [
    "# Initialize Otter\n",
    "import otter\n",
    "grader = otter.Notebook(\"ps5.ipynb\")"
   ]
  },
  {
   "cell_type": "code",
   "execution_count": 2,
   "id": "2b324868",
   "metadata": {
    "tags": []
   },
   "outputs": [],
   "source": [
    "import sqlite3"
   ]
  },
  {
   "cell_type": "markdown",
   "id": "b9c847e6",
   "metadata": {},
   "source": [
    "## Question 1: Basic SQL\n",
    "In this problem, you'll interact with a toy SQL database using Python's\n",
    "built-in `sqlite3` package. Documentation can be found at\n",
    "<https://docs.python.org/3/library/sqlite3.html>. For this problem,\n",
    "we'll use a popular toy SQLite database, called Chinook, which\n",
    "represents a digital music collection. See the documentation at <https://github.com/lerocha/chinook-database/blob/master/README.md>\n",
    "for a more detailed explanation. We'll use the `chinook.sqlite` file:"
   ]
  },
  {
   "cell_type": "code",
   "execution_count": 3,
   "id": "6ac3f2d0",
   "metadata": {
    "tags": []
   },
   "outputs": [],
   "source": [
    "con = sqlite3.connect('chinook.sqlite')\n",
    "cur = con.cursor()"
   ]
  },
  {
   "cell_type": "markdown",
   "id": "fafb339f",
   "metadata": {
    "deletable": false,
    "editable": false
   },
   "source": [
    "**1(a)** (1 pt) Load the database using the Python `sqlite3` package. How many tables are in the database? Save the answer in the variable `n_tables`."
   ]
  },
  {
   "cell_type": "code",
   "execution_count": 4,
   "id": "9f52ab81",
   "metadata": {
    "tags": []
   },
   "outputs": [],
   "source": [
    "#q = \"SELECT count(*) FROM sqlite_master WHERE type = 'table'\"\n",
    "#resp = cur.execute(q)\n",
    "#test = resp.fetchone()[0]\n",
    "#print(test)\n",
    "n_tables = cur.execute(\"select count(*) from sqlite_master where type = 'table'\").fetchone()[0]\n",
    "#print(n_tables)"
   ]
  },
  {
   "cell_type": "code",
   "execution_count": 5,
   "id": "118ccf4f-6c45-477c-9b4c-faba4b83f339",
   "metadata": {
    "tags": []
   },
   "outputs": [
    {
     "data": {
      "text/plain": [
       "[(1, 1, 2, 0.99, 1),\n",
       " (2, 1, 4, 0.99, 1),\n",
       " (3, 2, 6, 0.99, 1),\n",
       " (4, 2, 8, 0.99, 1),\n",
       " (5, 2, 10, 0.99, 1)]"
      ]
     },
     "execution_count": 5,
     "metadata": {},
     "output_type": "execute_result"
    }
   ],
   "source": [
    "#cur.execute(\"select * from album limit 1\").fetchall()\n",
    "#cur.execute(\"select * from pragma_table_info('album')\").fetchall()\n",
    "#cur.execute(\"select * from pragma_table_info('InvoiceLine')\").fetchall()\n",
    "cur.execute(\"select * from InvoiceLine limit 5\").fetchall()"
   ]
  },
  {
   "cell_type": "code",
   "execution_count": 6,
   "id": "89879d44",
   "metadata": {
    "deletable": false,
    "editable": false,
    "tags": []
   },
   "outputs": [
    {
     "data": {
      "text/html": [
       "<p><strong><pre style='display: inline;'>q1a</pre></strong> passed! 🍀</p>"
      ],
      "text/plain": [
       "q1a results: All test cases passed!"
      ]
     },
     "execution_count": 6,
     "metadata": {},
     "output_type": "execute_result"
    }
   ],
   "source": [
    "grader.check(\"q1a\")"
   ]
  },
  {
   "cell_type": "markdown",
   "id": "8a350119",
   "metadata": {
    "deletable": false,
    "editable": false
   },
   "source": [
    "**1(b)** (2 pts) What are the names of the tables in the database? Save the answer as\n",
    "    a set of strings, `table_names`. **Note:** you should write Python `sqlite3`\n",
    "    code to answer this; don't just look up the answer in the\n",
    "    documentation!\n"
   ]
  },
  {
   "cell_type": "code",
   "execution_count": 7,
   "id": "41f70cb8",
   "metadata": {
    "tags": []
   },
   "outputs": [
    {
     "name": "stdout",
     "output_type": "stream",
     "text": [
      "[('Album',), ('Artist',), ('Customer',), ('Employee',), ('Genre',), ('Invoice',), ('InvoiceLine',), ('MediaType',), ('Playlist',), ('PlaylistTrack',), ('Track',)]\n"
     ]
    }
   ],
   "source": [
    "response  = cur.execute(\"select name from sqlite_master where type = 'table'\")\n",
    "rows = response.fetchall()\n",
    "print(rows)"
   ]
  },
  {
   "cell_type": "code",
   "execution_count": 8,
   "id": "789dedd1-cae1-48de-9565-a076cc243a4f",
   "metadata": {
    "tags": []
   },
   "outputs": [
    {
     "name": "stdout",
     "output_type": "stream",
     "text": [
      "{'InvoiceLine', 'MediaType', 'PlaylistTrack', 'Genre', 'Track', 'Playlist', 'Album', 'Employee', 'Invoice', 'Customer', 'Artist'}\n"
     ]
    }
   ],
   "source": [
    "table_names = set()\n",
    "for name in rows:\n",
    "    table_names.update(name)\n",
    "print(table_names)"
   ]
  },
  {
   "cell_type": "code",
   "execution_count": 9,
   "id": "ceb37734",
   "metadata": {
    "deletable": false,
    "editable": false,
    "tags": []
   },
   "outputs": [
    {
     "data": {
      "text/html": [
       "<p><strong><pre style='display: inline;'>q1b</pre></strong> passed! 💯</p>"
      ],
      "text/plain": [
       "q1b results: All test cases passed!"
      ]
     },
     "execution_count": 9,
     "metadata": {},
     "output_type": "execute_result"
    }
   ],
   "source": [
    "grader.check(\"q1b\")"
   ]
  },
  {
   "cell_type": "markdown",
   "id": "d5162d75",
   "metadata": {
    "deletable": false,
    "editable": false
   },
   "source": [
    "**1(c)** (2 pts) Write a function `albums_starting_with(c)` that takes as an argument a single character `c` and\n",
    "    returns a list of the primary keys (AlbumIds) of all the albums whose titles\n",
    "    start with that character. Your function should ignore case, so that\n",
    "    the inputs \"a\" and \"A\" yield the same results. Include error\n",
    "    checking that raises an error in the event that the input is not a\n",
    "    single character.\n"
   ]
  },
  {
   "cell_type": "code",
   "execution_count": 10,
   "id": "62af3400",
   "metadata": {
    "tags": []
   },
   "outputs": [],
   "source": [
    "def albums_starting_with(c):\n",
    "    con = sqlite3.connect('chinook.sqlite')\n",
    "    cur = con.cursor()\n",
    "    if len(c) != 1:\n",
    "        raise ValueError(\"c must be 1 character\")\n",
    "    else:\n",
    "        c = c.upper()\n",
    "        cur.execute(\"SELECT albumid  from album where SUBSTR(title,1,1) = ?\", (c,))\n",
    "        #cursor.execute('INSERT INTO images VALUES(?)', (img,))\n",
    "        result = [row[0] for row in cur.fetchall()]\n",
    "    return result\n"
   ]
  },
  {
   "cell_type": "code",
   "execution_count": 11,
   "id": "aec1059f-6261-4a91-a5ee-f036aeb19424",
   "metadata": {
    "tags": []
   },
   "outputs": [],
   "source": [
    "#c = 'c'\n",
    "#albums_starting_with(c)"
   ]
  },
  {
   "cell_type": "code",
   "execution_count": 12,
   "id": "a38485be",
   "metadata": {
    "deletable": false,
    "editable": false,
    "tags": []
   },
   "outputs": [
    {
     "data": {
      "text/html": [
       "<p><strong><pre style='display: inline;'>q1c</pre></strong> passed! 💯</p>"
      ],
      "text/plain": [
       "q1c results: All test cases passed!"
      ]
     },
     "execution_count": 12,
     "metadata": {},
     "output_type": "execute_result"
    }
   ],
   "source": [
    "grader.check(\"q1c\")"
   ]
  },
  {
   "cell_type": "markdown",
   "id": "d2d7f1c0",
   "metadata": {
    "deletable": false,
    "editable": false
   },
   "source": [
    "**1(d)** (2 pts) Write a function `songs_starting_with(c)` that takes as an argument a single character and\n",
    "    returns a list of the primary keys (TrackIds) of all the **songs** whose album\n",
    "    names begin with that letter. Again, your function should ignore\n",
    "    case and perform error checking as in the previous exercise (again ignoring case).\n",
    "    **Hint:** you'll need a JOIN statement here. Don't forget that you\n",
    "    can use the `cursor.description` attribute to find out about tables\n",
    "    and the names of their columns.\n"
   ]
  },
  {
   "cell_type": "code",
   "execution_count": null,
   "id": "c54eaed1-477a-49f6-afc2-abeaea49fa09",
   "metadata": {},
   "outputs": [],
   "source": []
  },
  {
   "cell_type": "code",
   "execution_count": 13,
   "id": "95d5d262",
   "metadata": {
    "tags": []
   },
   "outputs": [],
   "source": [
    "def songs_starting_with(c):\n",
    "    con = sqlite3.connect('chinook.sqlite')\n",
    "    cur = con.cursor()\n",
    "    if len(c) != 1:\n",
    "        raise ValueError(\"c must be 1 character\")\n",
    "    else:\n",
    "        c = c.upper()\n",
    "        q = \"\"\"\n",
    "        SELECT t.TrackId from \n",
    "        Album a\n",
    "        left join Track t on \n",
    "        a.AlbumId = t.AlbumId \n",
    "        where SUBSTR(a.Title,1,1) = ?\n",
    "        \"\"\"\n",
    "        cur.execute(q, (c,))\n",
    "        result = [row[0] for row in cur.fetchall()]\n",
    "    return result\n"
   ]
  },
  {
   "cell_type": "code",
   "execution_count": 14,
   "id": "ef745c88-0522-463a-8826-b1183619ef62",
   "metadata": {
    "tags": []
   },
   "outputs": [],
   "source": [
    "#c = 'a'\n",
    "#songs_starting_with(c)"
   ]
  },
  {
   "cell_type": "code",
   "execution_count": 15,
   "id": "ed88e548",
   "metadata": {
    "deletable": false,
    "editable": false,
    "tags": []
   },
   "outputs": [
    {
     "data": {
      "text/html": [
       "<p><strong><pre style='display: inline;'>q1d</pre></strong> passed! 🙌</p>"
      ],
      "text/plain": [
       "q1d results: All test cases passed!"
      ]
     },
     "execution_count": 15,
     "metadata": {},
     "output_type": "execute_result"
    }
   ],
   "source": [
    "grader.check(\"q1d\")"
   ]
  },
  {
   "cell_type": "markdown",
   "id": "0cefe6ff",
   "metadata": {
    "deletable": false,
    "editable": false
   },
   "source": [
    "**1(e)** (2 pts) Write a function `cost_of(c)` that takes as an argument a single character and\n",
    "    returns the cost of buying every song (consider only the songs that were sold - you need to look into InvoiceLine table) whose album begins with that\n",
    "    letter. This cost should be based on the tracks' unit prices when it was sold, so\n",
    "    that the cost of buying a set of tracks is simply the sum of the\n",
    "    unit prices of all the tracks in the set. Again your function should\n",
    "    ignore case and perform appropriate error checking. \n"
   ]
  },
  {
   "cell_type": "code",
   "execution_count": 16,
   "id": "21f696be-9e46-4f82-bdf8-357e748c6ef9",
   "metadata": {
    "tags": []
   },
   "outputs": [],
   "source": [
    "#c = 'A'\n",
    "#con = sqlite3.connect('chinook.sqlite')\n",
    "#cur = con.cursor()\n",
    "\n",
    "#q = \"\"\"\n",
    "#    SELECT sum(i.UnitPrice) from InvoiceLine i\n",
    "#    join Track t on \n",
    "#    i.TrackId = t.TrackId\n",
    "#    join Album a on\n",
    "#    t.AlbumId = a.AlbumId\n",
    "#    where SUBSTR(a.Title,1,1) = ? and i.UnitPrice is not null\n",
    "#    \"\"\"\n",
    "#result = cur.execute(q, (c,)).fetchall()\n",
    "#print(result)"
   ]
  },
  {
   "cell_type": "code",
   "execution_count": 17,
   "id": "a8bfcc53",
   "metadata": {
    "tags": []
   },
   "outputs": [],
   "source": [
    "def cost_of(c):\n",
    "    con = sqlite3.connect('chinook.sqlite')\n",
    "    cur = con.cursor()\n",
    "    if len(c) != 1:\n",
    "        raise ValueError(\"c must be 1 character\")\n",
    "    else:\n",
    "        c = c.upper()\n",
    "        q = \"\"\"\n",
    "        SELECT DISTINCT sum(i.UnitPrice) from InvoiceLine i\n",
    "        join Track t on \n",
    "        i.TrackId = t.TrackId\n",
    "        join Album a on\n",
    "        t.AlbumId = a.AlbumId\n",
    "        where SUBSTR(a.Title,1,1) = ? and i.UnitPrice is not null\n",
    "        \"\"\"\n",
    "    cur.execute(q, (c,))\n",
    "    value = [row[0] for row in cur.fetchall()]\n",
    "    result = value[0]\n",
    "    return result\n"
   ]
  },
  {
   "cell_type": "code",
   "execution_count": 18,
   "id": "f113b6a6-3b2b-409e-876d-5319c7dfdbc4",
   "metadata": {
    "tags": []
   },
   "outputs": [],
   "source": [
    "#cost_of('A')\n",
    "#cost_of('bb')\n",
    "#cost_of('c')\n",
    "#res = cost_of('a')\n",
    "#abs(res - 216.82)\n",
    "#cost_of('a') - 216.82 < 1e-5"
   ]
  },
  {
   "cell_type": "code",
   "execution_count": 19,
   "id": "4cda6c47",
   "metadata": {
    "deletable": false,
    "editable": false,
    "tags": []
   },
   "outputs": [
    {
     "data": {
      "text/html": [
       "<p><strong style='color: red;'><pre style='display: inline;'>q1e</pre> results:</strong></p><p><strong><pre style='display: inline;'>q1e - 1</pre> result:</strong></p><pre>    ❌ Test case failed\n",
       "    Trying:\n",
       "        res = cost_of('a')\n",
       "    Expecting nothing\n",
       "    ok\n",
       "    Trying:\n",
       "        assert type(res) == float\n",
       "    Expecting nothing\n",
       "    ok\n",
       "    Trying:\n",
       "        assert abs(res - 216.82) < 1e-5\n",
       "    Expecting nothing\n",
       "    **********************************************************************\n",
       "    Line 3, in q1e 0\n",
       "    Failed example:\n",
       "        assert abs(res - 216.82) < 1e-5\n",
       "    Exception raised:\n",
       "        Traceback (most recent call last):\n",
       "          File \"/opt/conda/lib/python3.11/doctest.py\", line 1351, in __run\n",
       "            exec(compile(example.source, filename, \"single\",\n",
       "          File \"<doctest q1e 0[2]>\", line 1, in <module>\n",
       "            assert abs(res - 216.82) < 1e-5\n",
       "                   ^^^^^^^^^^^^^^^^^^^^^^^^\n",
       "        AssertionError\n",
       "</pre><p><strong><pre style='display: inline;'>q1e - 2</pre> result:</strong></p><pre>    ✅ Test case passed</pre><p><strong><pre style='display: inline;'>q1e - 3</pre> result:</strong></p><pre>    ✅ Test case passed</pre>"
      ],
      "text/plain": [
       "q1e results:\n",
       "    q1e - 1 result:\n",
       "        ❌ Test case failed\n",
       "        Trying:\n",
       "            res = cost_of('a')\n",
       "        Expecting nothing\n",
       "        ok\n",
       "        Trying:\n",
       "            assert type(res) == float\n",
       "        Expecting nothing\n",
       "        ok\n",
       "        Trying:\n",
       "            assert abs(res - 216.82) < 1e-5\n",
       "        Expecting nothing\n",
       "        **********************************************************************\n",
       "        Line 3, in q1e 0\n",
       "        Failed example:\n",
       "            assert abs(res - 216.82) < 1e-5\n",
       "        Exception raised:\n",
       "            Traceback (most recent call last):\n",
       "              File \"/opt/conda/lib/python3.11/doctest.py\", line 1351, in __run\n",
       "                exec(compile(example.source, filename, \"single\",\n",
       "              File \"<doctest q1e 0[2]>\", line 1, in <module>\n",
       "                assert abs(res - 216.82) < 1e-5\n",
       "                       ^^^^^^^^^^^^^^^^^^^^^^^^\n",
       "            AssertionError\n",
       "\n",
       "    q1e - 2 result:\n",
       "        ✅ Test case passed\n",
       "\n",
       "    q1e - 3 result:\n",
       "        ✅ Test case passed"
      ]
     },
     "execution_count": 19,
     "metadata": {},
     "output_type": "execute_result"
    }
   ],
   "source": [
    "grader.check(\"q1e\")"
   ]
  },
  {
   "cell_type": "markdown",
   "id": "304e7937",
   "metadata": {},
   "source": [
    "## Question 2: Additional SQL\n",
    "In this case, we will use the included file `flights.sqlite`"
   ]
  },
  {
   "cell_type": "code",
   "execution_count": 20,
   "id": "1838eead",
   "metadata": {
    "tags": []
   },
   "outputs": [],
   "source": [
    "con = sqlite3.connect('flights.sqlite')\n",
    "cur = con.cursor()"
   ]
  },
  {
   "cell_type": "code",
   "execution_count": 21,
   "id": "01883e9a-48c7-4812-a307-3e7744d18faf",
   "metadata": {
    "tags": []
   },
   "outputs": [],
   "source": [
    "import pandas as pd\n",
    "query = \"SELECT * FROM flights\"\n",
    "df = pd.read_sql_query(query, con)\n",
    "df.to_csv('flights.csv', index=False)"
   ]
  },
  {
   "cell_type": "markdown",
   "id": "b470b66c",
   "metadata": {},
   "source": [
    "Each question asks you to write a SQL query that performs a certain operation. For example, if the question asks, \"how many flights are there\", an answer could be \n",
    "\n",
    "> `SELECT COUNT(*) FROM flights`\n",
    "\n",
    "Some questions refer to a parameter $x$. For these, you should write a query containing a placeholder, which we can run for different values of $x$. For example, if the question asks, \"how many flights are there in month $x$?\", where $x\\in\\{1,2,\\dots,12\\}$ is a numerical month, an answer could be \n",
    "\n",
    "> `SELECT COUNT(*) FROM flights WHERE month=?`.\n",
    "\n",
    "For answers that ask for a single datum, we will run \n",
    "```\n",
    "> cur.execute(your_query)\n",
    "> result = cur.fetchone()\n",
    "```\n",
    "For answers that ask for a table or set of rows, we will use `cur.fetchall(...)` instead of `cur.fetchone(...)`. For answers that accept a parameter, we will use e.g. `cur.fetchone(..., [x])`."
   ]
  },
  {
   "cell_type": "markdown",
   "id": "c563c871",
   "metadata": {
    "deletable": false,
    "editable": false
   },
   "source": [
    "**2(a)** (2 pts) What was the number of scheduled departures on day of the week $x$, where $x$ is the numerical day of the week (Sunday=0, Monday=1, etc.) Your query should return a tuple `(n, x)` where `n` is the number of flights, and `x` is the day of week. \n",
    "Hint: Use the time_hour column to get the week"
   ]
  },
  {
   "cell_type": "code",
   "execution_count": 22,
   "id": "13f7993e-d891-44cf-9c4d-06f9438343a3",
   "metadata": {
    "tags": []
   },
   "outputs": [
    {
     "name": "stdout",
     "output_type": "stream",
     "text": [
      "(0, 'year', 'INTEGER', 0, None, 0)\n",
      "(1, 'month', 'INTEGER', 0, None, 0)\n",
      "(2, 'day', 'INTEGER', 0, None, 0)\n",
      "(3, 'dep_time', 'INTEGER', 0, None, 0)\n",
      "(4, 'sched_dep_time', 'INTEGER', 0, None, 0)\n",
      "(5, 'dep_delay', 'REAL', 0, None, 0)\n",
      "(6, 'arr_time', 'INTEGER', 0, None, 0)\n",
      "(7, 'sched_arr_time', 'INTEGER', 0, None, 0)\n",
      "(8, 'arr_delay', 'REAL', 0, None, 0)\n",
      "(9, 'carrier', 'TEXT', 0, None, 0)\n",
      "(10, 'flight', 'INTEGER', 0, None, 0)\n",
      "(11, 'tailnum', 'TEXT', 0, None, 0)\n",
      "(12, 'origin', 'TEXT', 0, None, 0)\n",
      "(13, 'dest', 'TEXT', 0, None, 0)\n",
      "(14, 'air_time', 'REAL', 0, None, 0)\n",
      "(15, 'distance', 'REAL', 0, None, 0)\n",
      "(16, 'hour', 'REAL', 0, None, 0)\n",
      "(17, 'minute', 'REAL', 0, None, 0)\n",
      "(18, 'time_hour', 'REAL', 0, None, 0)\n",
      "[(43796, '0'), (50709, '1'), (50705, '2'), (49998, '3'), (50137, '4'), (50153, '5'), (41278, '6')]\n"
     ]
    }
   ],
   "source": [
    "cur.execute(f\"pragma table_info ('flights')\")\n",
    "for row in cur:\n",
    "    print(row)\n",
    "\n",
    "#print(cur.execute(\"select * from flights limit 1\").fetchall())\n",
    "print(cur.execute(f\"select count(*), strftime('%w', time_hour, 'unixepoch') from flights group by strftime('%w', time_hour, 'unixepoch')\").fetchall())\n",
    "\n",
    "#q = \"\"\"\n",
    "#    select count(*), \n",
    "#    strftime('%w', time_hour, 'unixepoch') as 'weekday' \n",
    "#    from flights \n",
    "#    group by strftime('%w', time_hour, 'unixepoch')\n",
    "#    where 'weekday' = ?\n",
    "#    \"\"\"\n",
    "#cur.execute(q, '1')"
   ]
  },
  {
   "cell_type": "code",
   "execution_count": 23,
   "id": "849972a7",
   "metadata": {
    "tags": []
   },
   "outputs": [],
   "source": [
    "avg_sched_dep = \"\"\"\n",
    "    WITH weekday_flights AS ( \n",
    "    SELECT CAST(strftime('%w', time_hour, 'unixepoch') AS INTEGER) AS 'weekday'\n",
    "    FROM flights)\n",
    "    SELECT COUNT(*), weekday\n",
    "    FROM weekday_flights\n",
    "    WHERE weekday = CAST(? AS INTEGER)\n",
    "    GROUP BY weekday\n",
    "    \"\"\""
   ]
  },
  {
   "cell_type": "code",
   "execution_count": 24,
   "id": "c16bd677-e965-46d8-bb17-a73dab07130b",
   "metadata": {
    "tags": []
   },
   "outputs": [],
   "source": [
    "#cur.execute(avg_sched_dep, [1]).fetchone()"
   ]
  },
  {
   "cell_type": "code",
   "execution_count": 25,
   "id": "99ef1050",
   "metadata": {
    "deletable": false,
    "editable": false,
    "tags": []
   },
   "outputs": [
    {
     "data": {
      "text/html": [
       "<p><strong><pre style='display: inline;'>q2a</pre></strong> passed! 🍀</p>"
      ],
      "text/plain": [
       "q2a results: All test cases passed!"
      ]
     },
     "execution_count": 25,
     "metadata": {},
     "output_type": "execute_result"
    }
   ],
   "source": [
    "grader.check(\"q2a\")"
   ]
  },
  {
   "cell_type": "markdown",
   "id": "87d89329",
   "metadata": {
    "deletable": false,
    "editable": false
   },
   "source": [
    "**2(b)** (2 pts) Which month had the most scheduled departures? Your query should return tuple containing a single numerical month (for example `(2,)` if the answer is February.)"
   ]
  },
  {
   "cell_type": "code",
   "execution_count": 26,
   "id": "3a5cad53-82b2-42ac-94a9-d44697783241",
   "metadata": {
    "tags": []
   },
   "outputs": [
    {
     "data": {
      "text/plain": [
       "[(26953, 1),\n",
       " (24936, 2),\n",
       " (28886, 3),\n",
       " (28353, 4),\n",
       " (28783, 5),\n",
       " (28231, 6),\n",
       " (29428, 7),\n",
       " (29381, 8),\n",
       " (27529, 9),\n",
       " (28905, 10),\n",
       " (27200, 11),\n",
       " (28191, 12)]"
      ]
     },
     "execution_count": 26,
     "metadata": {},
     "output_type": "execute_result"
    }
   ],
   "source": [
    "cur.execute(\"\"\"\n",
    "    select count(*), CAST(strftime('%m', time_hour, 'unixepoch') AS INTEGER)\n",
    "    from flights\n",
    "    group by CAST(strftime('%m', time_hour, 'unixepoch') AS INTEGER)\n",
    "    \"\"\").fetchall()"
   ]
  },
  {
   "cell_type": "code",
   "execution_count": 27,
   "id": "cb556940",
   "metadata": {
    "tags": []
   },
   "outputs": [],
   "source": [
    "most_deps = \"\"\"\n",
    "    with month_flights AS (\n",
    "    select count(*) as 'total_flights', \n",
    "    CAST(strftime('%m', time_hour, 'unixepoch') AS INTEGER) as 'month_int'\n",
    "    from flights\n",
    "    group by CAST(strftime('%m', time_hour, 'unixepoch') AS INTEGER)\n",
    "    )\n",
    "    select month_int from month_flights\n",
    "    where total_flights = (select max(total_flights) from month_flights)\n",
    "    \"\"\"\n",
    "    "
   ]
  },
  {
   "cell_type": "code",
   "execution_count": 28,
   "id": "b4a8d536-1b2a-4ab5-9c84-552ab0fd25b0",
   "metadata": {
    "tags": []
   },
   "outputs": [
    {
     "data": {
      "text/plain": [
       "(7,)"
      ]
     },
     "execution_count": 28,
     "metadata": {},
     "output_type": "execute_result"
    }
   ],
   "source": [
    "cur.execute(most_deps).fetchone()"
   ]
  },
  {
   "cell_type": "code",
   "execution_count": 29,
   "id": "01652076",
   "metadata": {
    "deletable": false,
    "editable": false,
    "tags": []
   },
   "outputs": [
    {
     "data": {
      "text/html": [
       "<p><strong><pre style='display: inline;'>q2b</pre></strong> passed! ✨</p>"
      ],
      "text/plain": [
       "q2b results: All test cases passed!"
      ]
     },
     "execution_count": 29,
     "metadata": {},
     "output_type": "execute_result"
    }
   ],
   "source": [
    "grader.check(\"q2b\")"
   ]
  },
  {
   "cell_type": "markdown",
   "id": "3685f7b8",
   "metadata": {
    "deletable": false,
    "editable": false
   },
   "source": [
    "**2(c)** (3 pts) On how many days was the highest recorded temperature below $x$ degrees?"
   ]
  },
  {
   "cell_type": "code",
   "execution_count": 30,
   "id": "53dbcf95-af1c-4fb5-bb23-270a287b754a",
   "metadata": {
    "tags": []
   },
   "outputs": [
    {
     "data": {
      "text/plain": [
       "[(0, 'origin', 'TEXT', 0, None, 0),\n",
       " (1, 'year', 'INTEGER', 0, None, 0),\n",
       " (2, 'month', 'INTEGER', 0, None, 0),\n",
       " (3, 'day', 'INTEGER', 0, None, 0),\n",
       " (4, 'hour', 'INTEGER', 0, None, 0),\n",
       " (5, 'temp', 'REAL', 0, None, 0),\n",
       " (6, 'dewp', 'REAL', 0, None, 0),\n",
       " (7, 'humid', 'REAL', 0, None, 0),\n",
       " (8, 'wind_dir', 'REAL', 0, None, 0),\n",
       " (9, 'wind_speed', 'REAL', 0, None, 0),\n",
       " (10, 'wind_gust', 'REAL', 0, None, 0),\n",
       " (11, 'precip', 'REAL', 0, None, 0),\n",
       " (12, 'pressure', 'REAL', 0, None, 0),\n",
       " (13, 'visib', 'REAL', 0, None, 0)]"
      ]
     },
     "execution_count": 30,
     "metadata": {},
     "output_type": "execute_result"
    }
   ],
   "source": [
    "#cur.execute('select * from flights limit 1').fetchall()\n",
    "#cur.execute(\"select name from sqlite_master where type='table';\").fetchall()\n",
    "cur.execute(f\"pragma table_info ('weather')\").fetchall()\n",
    "#cur.execute(f'select * from weather limit').fetchall()\n",
    "#cur.execute(f\"pragma table_info ('flights')\").fetchall()"
   ]
  },
  {
   "cell_type": "code",
   "execution_count": 31,
   "id": "fe69cf37-a5ca-4711-8736-6a6fc1298053",
   "metadata": {
    "tags": []
   },
   "outputs": [],
   "source": [
    "#cur.execute(\"\"\"\n",
    "#    select * from flights as f\n",
    "#    join weather as w on \n",
    "#    f.origin = w.origin and\n",
    "#    f.year = w.year and\n",
    "#    f.month = w.month and\n",
    "#    f.day = w.day and\n",
    "#    f.hour = w.hour\n",
    "#    limit 1\n",
    "#    \"\"\").fetchall()"
   ]
  },
  {
   "cell_type": "code",
   "execution_count": 32,
   "id": "494ae03e",
   "metadata": {
    "tags": []
   },
   "outputs": [],
   "source": [
    "high_above = \"\"\"\n",
    "    with high_temps as (\n",
    "    select year, month, day, max(temp) as high_temp\n",
    "    from weather\n",
    "    group by year, month, day\n",
    "    )\n",
    "    select count(*) from high_temps where high_temp < ?\n",
    "    \"\"\""
   ]
  },
  {
   "cell_type": "code",
   "execution_count": 33,
   "id": "8c2d0c69-1760-4c83-b0ee-e62ffc775e80",
   "metadata": {
    "tags": []
   },
   "outputs": [],
   "source": [
    "#cur.execute(high_above, (30,)).fetchall()\n",
    "#cur.execute(high_above, [40]).fetchone()\n"
   ]
  },
  {
   "cell_type": "code",
   "execution_count": 34,
   "id": "34953bf5",
   "metadata": {
    "deletable": false,
    "editable": false,
    "tags": []
   },
   "outputs": [
    {
     "data": {
      "text/html": [
       "<p><strong><pre style='display: inline;'>q2c</pre></strong> passed! ✨</p>"
      ],
      "text/plain": [
       "q2c results: All test cases passed!"
      ]
     },
     "execution_count": 34,
     "metadata": {},
     "output_type": "execute_result"
    }
   ],
   "source": [
    "grader.check(\"q2c\")"
   ]
  },
  {
   "cell_type": "markdown",
   "id": "a3d997ec",
   "metadata": {
    "deletable": false,
    "editable": false
   },
   "source": [
    "**2(d)** (3 pts) In this dataset, a cancelled flight is one for which `dep_delay` is missing. What percentage of the flights were cancelled overall?"
   ]
  },
  {
   "cell_type": "code",
   "execution_count": 35,
   "id": "3e196438",
   "metadata": {
    "tags": []
   },
   "outputs": [],
   "source": [
    "pct_cancelled = \"\"\"\n",
    "    select \n",
    "    avg(case when dep_delay is null then 1.0 else 0.0 end) \n",
    "    from flights\n",
    "    \"\"\""
   ]
  },
  {
   "cell_type": "code",
   "execution_count": 36,
   "id": "415d4bc4",
   "metadata": {
    "deletable": false,
    "editable": false,
    "tags": []
   },
   "outputs": [
    {
     "data": {
      "text/html": [
       "<p><strong><pre style='display: inline;'>q2d</pre></strong> passed! 🌟</p>"
      ],
      "text/plain": [
       "q2d results: All test cases passed!"
      ]
     },
     "execution_count": 36,
     "metadata": {},
     "output_type": "execute_result"
    }
   ],
   "source": [
    "grader.check(\"q2d\")"
   ]
  },
  {
   "cell_type": "markdown",
   "id": "d9010a70",
   "metadata": {
    "deletable": false,
    "editable": false
   },
   "source": [
    "## Submission\n",
    "\n",
    "Make sure you have run all cells in your notebook in order before running the cell below, so that all images/graphs appear in the output. The cell below will generate a zip file for you to submit. **Please save before exporting!**\n",
    "\n",
    "Upload this .zip file to Gradescope for grading."
   ]
  },
  {
   "cell_type": "code",
   "execution_count": 37,
   "id": "012d0dea",
   "metadata": {
    "deletable": false,
    "editable": false
   },
   "outputs": [
    {
     "data": {
      "text/html": [
       "\n",
       "                    <p>\n",
       "                        Your submission has been exported. Click\n",
       "                        <a href=\"ps5_2024_02_11T21_04_54_213110.zip\" downloadzip_path target=\"_blank\">here</a> to download\n",
       "                        the zip file.\n",
       "                    </p>\n",
       "                "
      ],
      "text/plain": [
       "<IPython.core.display.HTML object>"
      ]
     },
     "metadata": {},
     "output_type": "display_data"
    }
   ],
   "source": [
    "# Save your notebook first, then run this cell to export your submission.\n",
    "grader.export(pdf=False)"
   ]
  },
  {
   "cell_type": "markdown",
   "id": "e3d59631",
   "metadata": {},
   "source": [
    " "
   ]
  }
 ],
 "metadata": {
  "kernelspec": {
   "display_name": "Python 3 (ipykernel)",
   "language": "python",
   "name": "python3"
  },
  "language_info": {
   "codemirror_mode": {
    "name": "ipython",
    "version": 3
   },
   "file_extension": ".py",
   "mimetype": "text/x-python",
   "name": "python",
   "nbconvert_exporter": "python",
   "pygments_lexer": "ipython3",
   "version": "3.11.3"
  },
  "otter": {
   "OK_FORMAT": true,
   "tests": {
    "q1a": {
     "name": "q1a",
     "points": 1,
     "suites": [
      {
       "cases": [
        {
         "code": ">>> assert n_tables == 11\n",
         "hidden": false,
         "locked": false
        }
       ],
       "scored": true,
       "setup": "",
       "teardown": "",
       "type": "doctest"
      }
     ]
    },
    "q1b": {
     "name": "q1b",
     "points": 2,
     "suites": [
      {
       "cases": [
        {
         "code": ">>> expected = {'Album', 'Genre', 'Playlist', 'PlaylistTrack', 'Employee', 'Customer', 'InvoiceLine', 'Track', 'Artist', 'MediaType', 'Invoice'}\n>>> assert table_names == expected\n",
         "hidden": false,
         "locked": false
        }
       ],
       "scored": true,
       "setup": "",
       "teardown": "",
       "type": "doctest"
      }
     ]
    },
    "q1c": {
     "name": "q1c",
     "points": 2,
     "suites": [
      {
       "cases": [
        {
         "code": ">>> res = albums_starting_with('a')\n>>> assert type(res) == list\n>>> assert len(res) == 32\n>>> for i in [10, 14, 15, 24, 26, 29, 74, 167, 319]:\n...     assert i in res\n",
         "hidden": false,
         "locked": false
        },
        {
         "code": ">>> try:\n...     albums_starting_with(3)\n... except Exception:\n...     pass\n... else:\n...     raise Exception(\"should raise an exception\")\n",
         "hidden": false,
         "locked": false
        },
        {
         "code": ">>> try:\n...     albums_starting_with('res')\n... except Exception:\n...     pass\n... else:\n...     raise Exception(\"should raise an exception\")\n",
         "hidden": false,
         "locked": false
        }
       ],
       "scored": true,
       "setup": "",
       "teardown": "",
       "type": "doctest"
      }
     ]
    },
    "q1d": {
     "name": "q1d",
     "points": 2,
     "suites": [
      {
       "cases": [
        {
         "code": ">>> res = songs_starting_with('a')\n>>> assert type(res) == list\n>>> assert len(res) == 369\n>>> for i in [85, 86, 87, 331, 332, 333, 923, 924, 925]:\n...     assert i in res\n",
         "hidden": false,
         "locked": false
        },
        {
         "code": ">>> try:\n...     songs_starting_with(3)\n... except Exception:\n...     pass\n... else:\n...     raise Exception(\"should raise an exception\")\n",
         "hidden": false,
         "locked": false
        },
        {
         "code": ">>> try:\n...     songs_starting_with('res')\n... except Exception:\n...     pass\n... else:\n...     raise Exception(\"should raise an exception\")\n",
         "hidden": false,
         "locked": false
        }
       ],
       "scored": true,
       "setup": "",
       "teardown": "",
       "type": "doctest"
      }
     ]
    },
    "q1e": {
     "name": "q1e",
     "points": 2,
     "suites": [
      {
       "cases": [
        {
         "code": ">>> res = cost_of('a')\n>>> assert type(res) == float\n>>> assert abs(res - 216.82) < 1e-5\n",
         "hidden": false,
         "locked": false
        },
        {
         "code": ">>> try:\n...     cost_of(3)\n... except Exception:\n...     pass\n... else:\n...     raise Exception(\"should raise an exception\")\n",
         "hidden": false,
         "locked": false
        },
        {
         "code": ">>> try:\n...     cost_of('res')\n... except Exception:\n...     pass\n... else:\n...     raise Exception(\"should raise an exception\")\n",
         "hidden": false,
         "locked": false
        }
       ],
       "scored": true,
       "setup": "",
       "teardown": "",
       "type": "doctest"
      }
     ]
    },
    "q2a": {
     "name": "q2a",
     "points": 2,
     "suites": [
      {
       "cases": [
        {
         "code": ">>> assert cur.execute(avg_sched_dep, [1]).fetchone() == (50709, 1)\n",
         "hidden": false,
         "locked": false
        }
       ],
       "scored": true,
       "setup": "",
       "teardown": "",
       "type": "doctest"
      }
     ]
    },
    "q2b": {
     "name": "q2b",
     "points": 2,
     "suites": [
      {
       "cases": [
        {
         "code": ">>> assert cur.execute(most_deps).fetchone() == (7,)\n",
         "hidden": false,
         "locked": false
        }
       ],
       "scored": true,
       "setup": "",
       "teardown": "",
       "type": "doctest"
      }
     ]
    },
    "q2c": {
     "name": "q2c",
     "points": 3,
     "suites": [
      {
       "cases": [
        {
         "code": ">>> assert cur.execute(high_above, [40]).fetchone() == (48,)\n",
         "hidden": false,
         "locked": false
        },
        {
         "code": ">>> assert cur.execute(high_above, [200]).fetchone() == (364,)\n",
         "hidden": false,
         "locked": false
        }
       ],
       "scored": true,
       "setup": "",
       "teardown": "",
       "type": "doctest"
      }
     ]
    },
    "q2d": {
     "name": "q2d",
     "points": 3,
     "suites": [
      {
       "cases": [
        {
         "code": ">>> res = cur.execute(pct_cancelled).fetchone()\n>>> assert len(res) == 1\n>>> assert abs(res[0] - 0.02451184169) < 1e-5\n",
         "hidden": false,
         "locked": false
        }
       ],
       "scored": true,
       "setup": "",
       "teardown": "",
       "type": "doctest"
      }
     ]
    }
   }
  }
 },
 "nbformat": 4,
 "nbformat_minor": 5
}
