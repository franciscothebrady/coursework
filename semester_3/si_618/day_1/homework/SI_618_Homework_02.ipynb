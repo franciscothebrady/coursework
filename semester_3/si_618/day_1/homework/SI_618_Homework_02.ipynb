{
 "cells": [
  {
   "cell_type": "markdown",
   "metadata": {
    "tags": []
   },
   "source": [
    "# SI 618 - Homework #2: More Data Manipulation"
   ]
  },
  {
   "cell_type": "markdown",
   "metadata": {},
   "source": [
    "### The total score for this assignment will be 100 points, consisting of:\n",
    "- 10 pt: Overall quality of spelling, grammar, punctuation, etc. of written sentences. ([Guide](https://drive.google.com/file/d/1L0P7xJwjUGBvyb49mL3dw1Bt7hzRTiTl/view ))\n",
    "- 10 pt: Codes are written in [PEP 8](https://www.python.org/dev/peps/pep-0008/) style.\n",
    "- 80 pt: Homework questions. \n",
    "\n",
    "Version 2024.01.23.2.CT"
   ]
  },
  {
   "cell_type": "markdown",
   "metadata": {},
   "source": [
    "# Background\n",
    "You're a Data Science Consultant for an eCommerce retail company, they've asked you to analyze their sales database. Unfortunately, they did nothing to prepare or clean their data, only exporting their 3 database tables as JSON files. It's up to you to clean their data, analyze it and answer questions to help drive business value!\n",
    "\n",
    "### The below files have been provided via the URLs shown:\n",
    "- invoices.json https://github.com/umsi-data-science/data/raw/main/invoices.json\n",
    "- items.json https://github.com/umsi-data-science/data/raw/main/items.json\n",
    "- purchases.json https://github.com/umsi-data-science/data/raw/main/purchases.json\n",
    "\n",
    "### They provided this data dictionary:\n",
    "\n",
    "**InvoiceNo:** Invoice number. Nominal, a 6-digit integral number uniquely assigned to each transaction.  \n",
    "**StockCode:** Product (item) code. Nominal, a 5-digit integral number uniquely assigned to each distinct product.  \n",
    "**Description:** Product (item) name. Nominal.   \n",
    "**Quantity:** The quantities of each product (item) per transaction. Numeric.  \n",
    "**InvoiceDate:** Invoice Date and time. Numeric, the day and time when each transaction was generated.  \n",
    "**UnitPrice:** Unit price. Numeric, Product price per unit in sterling.  \n",
    "**CustomerID:** Customer number. Nominal, a 5-digit integral number uniquely assigned to each customer.  \n",
    "**Country:** Country name. Nominal, the name of the country where each customer resides.  \n",
    "\n",
    "### A few notes from the company:\n",
    "* If the InvoiceNo starts with the letter 'c', it indicates a cancellation. When conducting this analysis we only want to analyze invoices that were shipped. (ie. not canceled)\n",
    "* The datasets should be able to be merged, each row in the invoice table corresponds to multiple rows in the purchases table.\n",
    "* To find out the description or unit cost of an item in the purchase table, the StockCode should be used to match up the product in the items table. \n",
    "* They mentioned that they've been having a difficult time lately joining the items and purchases table, maybe there's something wrong with the columns?"
   ]
  },
  {
   "cell_type": "markdown",
   "metadata": {},
   "source": [
    "# Answer the questions below.\n",
    "- write your Python code that can answer the following questions \n",
    "- explain **ALL** your answers in plain English. \n",
    "- you can use as many code and markdown cells as you need for each question (i.e. don't limit yourself to just one of each if you feel you need more)."
   ]
  },
  {
   "cell_type": "code",
   "execution_count": 86,
   "metadata": {},
   "outputs": [],
   "source": [
    "MY_UNIQNAME = 'fbrady'  # replace this with your uniqname"
   ]
  },
  {
   "cell_type": "markdown",
   "metadata": {},
   "source": [
    "### <span style=\"color:magenta\"> Q1. [5 points] Describe the dataset. </span>\n",
    "1. Load the data. \n",
    "1. How many total invoices have been placed?\n",
    "1. How many unique customers are there?\n",
    "1. What is the total number of unique items?\n",
    "1. Are there any columns with null values?\n",
    "1. Thinking ahead, how do you think you would join the different tables? Please share 2-3 sentences about your approach."
   ]
  },
  {
   "cell_type": "code",
   "execution_count": 87,
   "metadata": {},
   "outputs": [
    {
     "name": "stdout",
     "output_type": "stream",
     "text": [
      "25943\n",
      "22106\n",
      "4070\n",
      "3888\n",
      "InvoiceNo         0\n",
      "InvoiceDate       0\n",
      "CustomerID     3540\n",
      "Country           0\n",
      "dtype: int64\n",
      "StockCode      0\n",
      "Description    0\n",
      "UnitPrice      0\n",
      "dtype: int64\n",
      "InvoiceNo      0\n",
      "StockCodeSC    0\n",
      "Quantity       0\n",
      "dtype: int64\n"
     ]
    }
   ],
   "source": [
    "# load dataset \n",
    "import pandas as pd\n",
    "import numpy as np\n",
    "import matplotlib.pyplot as plt\n",
    "\n",
    "invoices = pd.read_json('https://github.com/umsi-data-science/data/raw/main/invoices.json')\n",
    "items = pd.read_json('https://github.com/umsi-data-science/data/raw/main/items.json')\n",
    "purchases = pd.read_json('https://github.com/umsi-data-science/data/raw/main/purchases.json')\n",
    "\n",
    "# drop canceled invoices\n",
    "print(len(invoices)) # 25943\n",
    "invoices = invoices[invoices['InvoiceNo'].str.startswith('C') == False]\n",
    "print(len(invoices)) # 22106\n",
    "\n",
    "# drop shipping and postage from items \n",
    "print(len(items)) # 4070\n",
    "items = items[items['Description'].str.contains('POSTAGE') == False]\n",
    "items = items[items['Description'].str.contains('mailout') == False]\n",
    "print(len(items)) # 3888\n",
    "\n",
    "# check each df for missing values\n",
    "for df in [invoices, items, purchases]:\n",
    "    print(df.isnull().sum())\n",
    "\n",
    "# drop null values from customerID in invoices\n",
    "invoices = invoices.dropna(subset=['CustomerID'])\n"
   ]
  },
  {
   "cell_type": "code",
   "execution_count": 88,
   "metadata": {},
   "outputs": [
    {
     "name": "stdout",
     "output_type": "stream",
     "text": [
      "  InvoiceNo   InvoiceDate  CustomerID         Country\n",
      "0    536365  12/1/10 8:26     17850.0  United Kingdom\n",
      "1    536366  12/1/10 8:28     17850.0  United Kingdom\n",
      "2    536367  12/1/10 8:34     13047.0  United Kingdom\n",
      "3    536368  12/1/10 8:34     13047.0  United Kingdom\n",
      "4    536369  12/1/10 8:35     13047.0  United Kingdom\n",
      "  StockCode                          Description  UnitPrice\n",
      "0    85123A   WHITE HANGING HEART T-LIGHT HOLDER       2.55\n",
      "1     71053                  WHITE METAL LANTERN       3.39\n",
      "2    84406B       CREAM CUPID HEARTS COAT HANGER       2.75\n",
      "3    84029G  KNITTED UNION FLAG HOT WATER BOTTLE       3.39\n",
      "4    84029E       RED WOOLLY HOTTIE WHITE HEART.       3.39\n",
      "  InvoiceNo StockCodeSC  Quantity\n",
      "0    536365    SC85123A         6\n",
      "1    536365     SC71053         6\n",
      "2    536365    SC84406B         8\n",
      "3    536365    SC84029G         6\n",
      "4    536365    SC84029E         6\n"
     ]
    }
   ],
   "source": [
    "for df in [invoices, items, purchases]:\n",
    "    print(df.head())\n",
    "\n",
    "# print(invoices['Country'].value_counts())"
   ]
  },
  {
   "cell_type": "code",
   "execution_count": 89,
   "metadata": {},
   "outputs": [
    {
     "name": "stdout",
     "output_type": "stream",
     "text": [
      "Total number of invoices: 18566\n",
      "Unique number of customers: 4339\n",
      "Total number of unique items: 3888\n",
      "Index(['InvoiceNo', 'InvoiceDate', 'CustomerID', 'Country'], dtype='object')\n",
      "Index(['StockCode', 'Description', 'UnitPrice'], dtype='object')\n",
      "Index(['InvoiceNo', 'StockCodeSC', 'Quantity'], dtype='object')\n"
     ]
    }
   ],
   "source": [
    "# total number of invoices\n",
    "print('Total number of invoices:', len(invoices))\n",
    "# unique number of customers\n",
    "print('Unique number of customers:', len(invoices['CustomerID'].unique()))\n",
    "# total number of unique items\n",
    "print('Total number of unique items:', len(items['StockCode'].unique()))\n",
    "# print keys for each df\n",
    "for df in [invoices, items, purchases]:\n",
    "    print(df.keys())"
   ]
  },
  {
   "cell_type": "markdown",
   "metadata": {},
   "source": [
    "The Invoice df has 25,943 records, and 4,373 unique customer IDs. The Items df has 4,070 unique items based on the StockCode. To join the tables, I would use the StockCode field from the `purchases` df and merge those with the information in the `items` df, joining on `StockCode` == `StockCodeSC`. Then I could merge the result with the `invoices` df."
   ]
  },
  {
   "cell_type": "markdown",
   "metadata": {},
   "source": [
    "### <span style=\"color:magenta\"> Q2. [10 points] Invoice Analysis </span>\n",
    "1. For each customer calculate how many total invoices they have placed. List the top 10 customers who have placed an invoice in descending order.\n",
    "2. Perform a similar calculation but instead of the number of invoices, calculate the total quantity of items ordered for each customer. List the top 10 customers in descending order.\n",
    "3. Compare the top 10 customers, does it appear that the more invoices a customer have, the greater the total quantity of items? Explain your reasoning.\n",
    "\n",
    "_Hint: For 2.2, you may need to join two datasets together to answer the question._"
   ]
  },
  {
   "cell_type": "code",
   "execution_count": 90,
   "metadata": {},
   "outputs": [
    {
     "name": "stdout",
     "output_type": "stream",
     "text": [
      "\n",
      "Q2.1: Invoices by customer: \n",
      "    CustomerID  InvoiceNo\n",
      "0     12748.0        210\n",
      "1     14911.0        201\n",
      "2     17841.0        124\n",
      "3     13089.0         97\n",
      "4     14606.0         93\n",
      "5     15311.0         91\n",
      "6     12971.0         86\n",
      "7     14646.0         74\n",
      "8     16029.0         63\n",
      "9     13408.0         62\n",
      "\n",
      "Q2.2: Total Items per customer: \n",
      "    CustomerID  Quantity\n",
      "0     14646.0    197491\n",
      "1     14911.0     81009\n",
      "2     16446.0     80997\n",
      "3     12415.0     77670\n",
      "4     12346.0     74215\n",
      "5     17450.0     69993\n",
      "6     17511.0     67423\n",
      "7     18102.0     64124\n",
      "8     13694.0     63312\n",
      "9     14298.0     58343\n",
      "\n",
      "Q2.3: Top customers by invoices and items: \n",
      "    CustomerID  InvoiceNo  Quantity\n",
      "0     14911.0        201     81009\n",
      "1     14646.0         74    197491\n"
     ]
    }
   ],
   "source": [
    "# count customer invoices\n",
    "def total_invoices(df):\n",
    "    # suggested by copilot, i added the sort values and head 10\n",
    "    return df.groupby('CustomerID')['InvoiceNo'].nunique(). \\\n",
    "        sort_values(ascending=False).head(10).reset_index()\n",
    "\n",
    "# run\n",
    "top_10_customers_by_invoices = total_invoices(invoices)\n",
    "# print output\n",
    "print(f'\\nQ2.1: Invoices by customer: \\n {top_10_customers_by_invoices}')\n",
    "# coutn number of items per customer. list top 10 customers\n",
    "def top_customers_by_item(df):\n",
    "    return df.groupby('CustomerID').agg({'Quantity':'sum'}). \\\n",
    "        sort_values(by='Quantity', ascending=False).head(10).reset_index()\n",
    "\n",
    "# For items per customer, need to merge invoices and purchases\n",
    "customer_purchases = pd.merge(invoices, purchases, on='InvoiceNo')\n",
    "# print(customer_purchases.head())\n",
    "# run\n",
    "top_10_customers_by_quantity = top_customers_by_item(customer_purchases)\n",
    "# print output\n",
    "print(f'\\nQ2.2: Total Items per customer: \\n {top_10_customers_by_quantity}')\n",
    "\n",
    "# ## merge top invoices and top items by customer\n",
    "top_customers = pd.merge(top_10_customers_by_invoices, top_10_customers_by_quantity, on='CustomerID')\n",
    "# print output\n",
    "print(f'\\nQ2.3: Top customers by invoices and items: \\n {top_customers}')"
   ]
  },
  {
   "cell_type": "markdown",
   "metadata": {},
   "source": [
    "Q2.3: There is only a little bit of overlap between the 10 customers who placed the most unique invoices and the customers who purchased the largest quantity of items. There were only two customers who appeared on both lists -- 14646, who had the 10th most invoices (74), and 14911, who had the most invoices (201).\n",
    "\n",
    "When comparing the top 10 customers based on quantity ordered, 14646 had the most items ordered (196719), and 14911 had the second highest quantity of items ordered. So it appears that there is some relationship between the number of invoices and the total quantity of items ordered, but because the set membership is not 1-to-1, it is not a perfect or even particularly strong relationship."
   ]
  },
  {
   "cell_type": "markdown",
   "metadata": {},
   "source": [
    "### <span style=\"color:magenta\"> Q3. [10 points] Item Analysis </span>\n",
    "1. What is the average item-unit price? \n",
    "1. What % of items are under $25?\n",
    "1. Generate a histogram of the unit prices. Select reasonable min/max values for the x-axis. Why did you pick those values? What do you notice about the histogram? "
   ]
  },
  {
   "cell_type": "code",
   "execution_count": 91,
   "metadata": {},
   "outputs": [
    {
     "name": "stdout",
     "output_type": "stream",
     "text": [
      "\n",
      "Q3.1: Average Unit Price: 4.21\n",
      "\n",
      "Q3.2: Percentage of items under $25: 98.66%\n",
      "\n"
     ]
    },
    {
     "name": "stderr",
     "output_type": "stream",
     "text": [
      "/tmp/ipykernel_324842/1510874527.py:23: SettingWithCopyWarning: \n",
      "A value is trying to be set on a copy of a slice from a DataFrame.\n",
      "Try using .loc[row_indexer,col_indexer] = value instead\n",
      "\n",
      "See the caveats in the documentation: https://pandas.pydata.org/pandas-docs/stable/user_guide/indexing.html#returning-a-view-versus-a-copy\n",
      "  unique_items['Under25'] = unique_items['UnitPrice'].apply(under25)\n"
     ]
    },
    {
     "data": {
      "text/plain": [
       "Text(0.5, 1.0, 'Q3.3: Unit Price Histogram')"
      ]
     },
     "execution_count": 91,
     "metadata": {},
     "output_type": "execute_result"
    },
    {
     "data": {
      "image/png": "[encoded data removed]",
      "text/plain": [
       "<Figure size 640x480 with 1 Axes>"
      ]
     },
     "metadata": {},
     "output_type": "display_data"
    }
   ],
   "source": [
    "# to merge, need to do some cleaning on the item code in the purchases df\n",
    "purchases['StockCode'] = purchases['StockCodeSC'].str.replace(r'[a-zA-Z%]', '', regex=True)\n",
    "# print(purchases.head())\n",
    "# now we can merge with items\n",
    "items_purchases = pd.merge(purchases, items, on='StockCode')\n",
    "# print(items_purchases.head())\n",
    "# create a unique items df\n",
    "unique_items = items_purchases.drop_duplicates('StockCode')\n",
    "# print(unique_items.head())\n",
    "# calculate mean UnitPrice\n",
    "avg_unit_price = unique_items['UnitPrice'].mean()\n",
    "# print output\n",
    "print(f'\\nQ3.1: Average Unit Price: {avg_unit_price:.2f}')\n",
    "\n",
    "# define function to return 1/0 based on unit price\n",
    "def under25(x):\n",
    "    if x < 25:\n",
    "        return 1\n",
    "    else:\n",
    "        return 0\n",
    "\n",
    "# apply to the unique items df in a new column called under25\n",
    "unique_items['Under25'] = unique_items['UnitPrice'].apply(under25)\n",
    "# print output\n",
    "# print(unique_items.head())\n",
    "# calculate the percentage of items under $25\n",
    "pct_under25 = unique_items['Under25'].mean()\n",
    "# print output\n",
    "print(f'\\nQ3.2: Percentage of items under $25: {pct_under25:.2%}\\n')\n",
    "\n",
    "## generate a histogram of unit prices\n",
    "# set plot params \n",
    "max_x = unique_items['UnitPrice'].max()\n",
    "min_x = unique_items['UnitPrice'].min()\n",
    "# print(max_price)\n",
    "plt.hist(unique_items['UnitPrice'], bins=20, \n",
    "    color='skyblue', range=(min_x, max_x))\n",
    "plt.title('Q3.3: Unit Price Histogram')"
   ]
  },
  {
   "cell_type": "markdown",
   "metadata": {},
   "source": [
    "Q3.3: The percentage under $25 calculation shows that 98% of the items are priced less than $25. The histogram shows that there are only a few items priced much more than $50. I used the minimum and maximum of the `UnitPrice` field to determine the range of the histogram. The `max_x` object is the maximum value of the `UnitPrice` field, which evalutes to 250. Below is a histogram with a max value of 30, which allows us to see the distribution of the majority of the items."
   ]
  },
  {
   "cell_type": "code",
   "execution_count": 92,
   "metadata": {},
   "outputs": [
    {
     "data": {
      "text/plain": [
       "Text(0.5, 1.0, 'Q3.3: Unit Price Histogram excluding large values')"
      ]
     },
     "execution_count": 92,
     "metadata": {},
     "output_type": "execute_result"
    },
    {
     "data": {
      "image/png": "[encoded data removed]",
      "text/plain": [
       "<Figure size 640x480 with 1 Axes>"
      ]
     },
     "metadata": {},
     "output_type": "display_data"
    }
   ],
   "source": [
    "plt.hist(unique_items['UnitPrice'], bins=20, range=(0, 30))\n",
    "plt.title('Q3.3: Unit Price Histogram excluding large values')"
   ]
  },
  {
   "cell_type": "markdown",
   "metadata": {},
   "source": [
    "### <span style=\"color:magenta\"> Q4. [25 points] Order Trends </span>\n",
    "1. What are the top 10 most ordered items? Describe them. Do you see any trends?  \n",
    "1. What are the top 5 invoices that generated the most revenue? (Revenue is calculated by \"marking up\" the unit price by 25%.) \n",
    "1. Do the top 5 invoices contain any of the top 10 most ordered items?\n",
    "\n",
    "_Hint: When calculating the revenue we suggest adding a new column on the dataframe._"
   ]
  },
  {
   "cell_type": "code",
   "execution_count": 93,
   "metadata": {},
   "outputs": [
    {
     "name": "stdout",
     "output_type": "stream",
     "text": [
      "\n",
      "Q4.1: Top 10 items by quantity: \n",
      "                           Description  Quantity\n",
      "0                SMALL POPCORN HOLDER     56450\n",
      "1   WORLD WAR 2 GLIDERS ASSTD DESIGNS     53847\n",
      "2       ASSORTED COLOUR BIRD ORNAMENT     36221\n",
      "3     PACK OF 72 RETROSPOT CAKE CASES     36039\n",
      "4                  RABBIT NIGHT LIGHT     30646\n",
      "5             MINI PAINT SET VINTAGE      26437\n",
      "6          PACK OF 12 LONDON TISSUES      26315\n",
      "7  PACK OF 60 PINK PAISLEY CAKE CASES     24753\n",
      "8     VICTORIAN GLASS HANGING T-LIGHT     23854\n",
      "9                 BROCADE RING PURSE      23053\n",
      "\n",
      "Q4.2: Top 5 invoices by revenue: \n",
      "       InvoiceNo  Item Revenue\n",
      "18175    581483   210587.0000\n",
      "1873     541431    96479.5000\n",
      "7728     556255    34323.7500\n",
      "7963     556917    33145.4125\n",
      "10651    563614    32167.2000\n",
      "\n",
      "Q4.2: Top 5 customers by revenue: \n",
      "    CustomerID  count\n",
      "0     12415.0      2\n",
      "1     12346.0      1\n",
      "2     16446.0      1\n",
      "3     18102.0      1\n"
     ]
    }
   ],
   "source": [
    "# output top 10 ordered items by quantity\n",
    "top_10_items = items_purchases.groupby(['Description']).agg({'Quantity':'sum'}). \\\n",
    "    sort_values(by='Quantity', ascending=False).head(10).reset_index()\n",
    "# print output\n",
    "print(f'\\nQ4.1: Top 10 items by quantity: \\n {top_10_items}')\n",
    "\n",
    "# top 5 invoices by revenue\n",
    "# 1. merge invoices and items to get items and prices in the same df\n",
    "# 2. calculate revenue for each item (unit price * quantity)\n",
    "# 3. sum revenue for each invoice\n",
    "# 4. sort and output top 5\n",
    "# invoices.head() # InvoiceNo\tInvoiceDate\tCustomerID\tCountry\n",
    "# items.head() # StockCode\tDescription\tUnitPrice\n",
    "# purchases.head() # InvoiceNo\tStockCodeSC\tQuantity\tStockCode\n",
    "invoice_quantities = pd.merge(invoices, purchases, on='InvoiceNo')\n",
    "# invoice_purchases.head()\n",
    "# add on prices from items df\n",
    "invoice_prices_quantities = pd.merge(invoice_quantities, items, on='StockCode')\n",
    "# invoice_prices_quantities.head()\n",
    "# calculate (price*1.25) * quantity = Total Item Revenue \n",
    "invoice_prices_quantities['Item Revenue'] = (invoice_prices_quantities['UnitPrice']*1.25) * invoice_prices_quantities['Quantity']\n",
    "# print(invoice_prices_quantities.head())\n",
    "# sum Revenue by invoice\n",
    "invoice_revenue = invoice_prices_quantities.groupby('InvoiceNo').agg({'Item Revenue':'sum'}).reset_index()\n",
    "# print(invoice_revenue.head())\n",
    "# sort and output top 5\n",
    "top_5_invoices = invoice_revenue.sort_values(by='Item Revenue', ascending=False).head(5)\n",
    "# print output\n",
    "print(f'\\nQ4.2: Top 5 invoices by revenue: \\n {top_5_invoices}')\n",
    "# check customer number for top 5 invoices\n",
    "top_5_customers = pd.merge(top_5_invoices, invoices, on='InvoiceNo')[['CustomerID']].value_counts().reset_index()\n",
    "# print output\n",
    "print(f'\\nQ4.2: Top 5 customers by revenue: \\n {top_5_customers}')\n"
   ]
  },
  {
   "cell_type": "code",
   "execution_count": 94,
   "metadata": {},
   "outputs": [
    {
     "name": "stdout",
     "output_type": "stream",
     "text": [
      "\n",
      "Q4.3: Top Quantity Items that appear on the top 5 invoices: \n",
      "                           Description StockCode\n",
      "0                  RABBIT NIGHT LIGHT     23084\n",
      "1             MINI PAINT SET VINTAGE      22492\n",
      "2     PACK OF 72 RETROSPOT CAKE CASES     21212\n",
      "3  PACK OF 60 PINK PAISLEY CAKE CASES     21977\n"
     ]
    }
   ],
   "source": [
    "# compare items in top 5 invoices to top 10 items\n",
    "# left join top 5 invoices with items\n",
    "# this is all of the items on the top 5 invoices\n",
    "top_5_items = pd.merge(top_5_invoices, items_purchases, \n",
    "    on='InvoiceNo')[['InvoiceNo', 'Description', 'StockCode', 'Item Revenue']]\n",
    "# print(top_5_items)\n",
    "# next left join with top 10 items to see overlap\n",
    "top_5_top_10 = pd.merge(top_5_items, top_10_items, \n",
    "    on='Description')[['Description', 'StockCode']]. \\\n",
    "    drop_duplicates()\n",
    "# print output\n",
    "print(f'\\nQ4.3: Top Quantity Items that appear on the top 5 invoices: \\n {top_5_top_10}')"
   ]
  },
  {
   "cell_type": "markdown",
   "metadata": {},
   "source": [
    "The top 10 most ordered items based on quantity are all small toys of some kind. Based on the description, many of the items are \"vintage\" or \"retro\" toys.\n",
    "\n",
    "To determine the top 5 invoices by revenue, I first had to merge the `invoices` and `purchases` dataframes to get the InvoiceNo, Quantity, and StockCode in the same dataframe. Then I merged in the `items` dataframe to get the UnitPrice. It was only after re-reading the question that I understood that Unit Price was a wholesale price, and the 25% markup was the retail price. I calculated the revenue by multiplying the Quantity by the UnitPrice*1.25. \n",
    "There were 2 top 5 invoices from the same customer, all others were unique CustomerIDs. The top 5 invoice amounts ranged from over $30,000 to over $210,000.  \n",
    "To compare the item types that appear on the top 5 invoice, I merged the top 10 items to the top 5 invoices. There were 4 items that appeared in the top 10 items and the top 5 invoices: Rabbit Night Light, Mini Paint Set Vintage, Pack of 72 Retro Spot Cake Cases, and Pack of 60 Pink Paisley Cake Cases. As mentioned, some of these items are specifically described as Vintage or Retro."
   ]
  },
  {
   "cell_type": "markdown",
   "metadata": {},
   "source": [
    "### <span style=\"color:magenta\"> Q5. [30 points] Customer Analysis </span>\n",
    "1. Classify customers into segments based on the total revenue they have generated for the company.\n",
    " * low value: less than \\$1750  \n",
    " * medium value: between 1750 and 8250 dollars\n",
    " * high value: greater than \\$8250\n",
    "1. How many customers are in each segment? \n",
    "1. Using the pivot table function, create a table that displays the average order quantity of each stock code for a given segment.\n",
    "1. Are the items with the highest average order quantity generally the same across segments? Explain your reasoning. \n",
    "1. Choose three items and discuss any trends/differences you notice across the three segments.\n",
    "\n",
    "_Hint: When calculating the segment, we suggest constructing a new dataframe as an intermediary step with the columns: CustomerID, Revenue, Segment._"
   ]
  },
  {
   "cell_type": "code",
   "execution_count": 95,
   "metadata": {},
   "outputs": [
    {
     "name": "stdout",
     "output_type": "stream",
     "text": [
      "\n",
      "Q5.1: Customer Category Counts: \n",
      "   Customer Category  count\n",
      "0         Low value   2959\n",
      "1      Medium value   1151\n",
      "2        High value    205\n",
      "\n",
      "Q5.2: Average order of each stock code with each customer category: \n",
      " Customer Category StockCode    High value   Low value  Medium value\n",
      "2304                  23843  80995.000000         NaN           NaN\n",
      "2552                  84826   3180.000000   14.785714     43.055556\n",
      "1910                  23166    946.395062   10.185185     11.238095\n",
      "2499                  84568    840.000000  452.571429    288.000000\n",
      "2484                  84422    480.000000    9.500000     11.000000\n",
      "\n",
      "Q5.3: Customer trends for ['23550', '23198', '22079']: \n",
      "   StockCode                     Description  UnitPrice  Low value  \\\n",
      "0     23550          WRAP ALPHABET POSTER         0.42  30.000000   \n",
      "1     23198  PANTRY MAGNETIC  SHOPPING LIST       1.45   5.271186   \n",
      "2     22079      RIBBON REEL HEARTS DESIGN        1.65   6.366667   \n",
      "\n",
      "   Medium value  High value  \n",
      "0     26.041667   60.000000  \n",
      "1      7.914286   11.319149  \n",
      "2      7.063158    9.392157  \n"
     ]
    }
   ],
   "source": [
    "# using previously created table: with revenues by invoice\n",
    "# calculate total revenue by customer\n",
    "customer_revenues = pd.merge(invoice_revenue, invoices, on='InvoiceNo'). \\\n",
    "    groupby('CustomerID').agg({'Item Revenue':'sum'}).reset_index()\n",
    "# define function to return customer category\n",
    "def customer_category(x):\n",
    "    if x < 1750:\n",
    "        return 'Low value'\n",
    "    elif (x > 1750 and x < 8250):\n",
    "        return 'Medium value'\n",
    "    else:\n",
    "        return 'High value'\n",
    "\n",
    "# apply to the customer revenues df in a new column called customer category\n",
    "customer_revenues['Customer Category'] = customer_revenues['Item Revenue'].apply(customer_category)\n",
    "# count the number of customers in each category\n",
    "customer_category_counts = customer_revenues['Customer Category'].value_counts().reset_index()\n",
    "print(f'\\nQ5.1: Customer Category Counts: \\n {customer_category_counts}')\n",
    "\n",
    "# average order of each stock code per customer category\n",
    "# first merge customer_revenues with invoice_quantities\n",
    "items_per_category = pd.merge(customer_revenues, invoice_prices_quantities, on=['CustomerID'])[['Customer Category', 'StockCode', 'Quantity']]\n",
    "# calculate average number of items per stock code per customer category\n",
    "avg_items_per_category = items_per_category.pivot_table(index='StockCode', \n",
    "    columns='Customer Category', values='Quantity', aggfunc='mean').reset_index()\n",
    "# sort by high value customers\n",
    "avg_items_per_category = avg_items_per_category.sort_values(by='High value', ascending=False)\n",
    "\n",
    "# print output\n",
    "print(f'\\nQ5.2: Average order of each stock code with each customer category: \\n {avg_items_per_category.head()}')\n",
    "\n",
    "# choose 3 stock codes at random to explore\n",
    "# first pick 3 values from the avg_items_per_category df\n",
    "# stock_codes = avg_items_per_category['StockCode'].sample(3).values\n",
    "stock_codes = ['23550', '23198', '22079']\n",
    "# then subset avg_items_per_category to only include those stock codes\n",
    "customer_trends = avg_items_per_category[avg_items_per_category['StockCode'].isin(stock_codes)]\n",
    "# merge in the item descriptions\n",
    "customer_trends = pd.merge(customer_trends, items, on='StockCode')[['StockCode', 'Description', 'UnitPrice', \n",
    "    'Low value', 'Medium value', 'High value']]\n",
    "print(f'\\nQ5.3: Customer trends for {stock_codes}: \\n {customer_trends}')"
   ]
  },
  {
   "cell_type": "markdown",
   "metadata": {},
   "source": [
    "Q5.1: There are 205 high value customers, 1151 medium value customers, and 2959 low value customers.  \n",
    "Q5.3: The items that the high value customers order the largest numbers of are not generally the same as the items that the low value customers order the largest numbers of. One reason for this could be that thte high value customers are ordering higher priced items. Another could be that in general high value customers and low value customers have differing taste in items.  \n",
    "Q5.4: I chose 3 random stock codes to compare across the segments. All three items have a Unit Price of less than $2. The average order quantity for WRAP ALPHABET POSTER is similar across low and medium value customers, but is much higher for high value customers. The second item (23198) is PANTRY MAGNETIC SHOPPING LIST. Across customer segments, the average order increases from low to high value customers, ranging from 5.2 to 11.3. The third item (22079) is RIBBON REEL HEARTS DESIGN. This is the most expensive item picked, but the range of the average order quantity is similar across the segments, ranging from 6.3 to 9.3.\n",
    "\n"
   ]
  },
  {
   "cell_type": "markdown",
   "metadata": {},
   "source": [
    "# Please submit your completed notebook in .IPYNB and .HTML formats via Canvas"
   ]
  },
  {
   "cell_type": "code",
   "execution_count": null,
   "metadata": {},
   "outputs": [],
   "source": []
  }
 ],
 "metadata": {
  "kernelspec": {
   "display_name": "Python 3 (ipykernel)",
   "language": "python",
   "name": "python3"
  },
  "language_info": {
   "codemirror_mode": {
    "name": "ipython",
    "version": 3
   },
   "file_extension": ".py",
   "mimetype": "text/x-python",
   "name": "python",
   "nbconvert_exporter": "python",
   "pygments_lexer": "ipython3",
   "version": "3.12.3"
  }
 },
 "nbformat": 4,
 "nbformat_minor": 4
}
