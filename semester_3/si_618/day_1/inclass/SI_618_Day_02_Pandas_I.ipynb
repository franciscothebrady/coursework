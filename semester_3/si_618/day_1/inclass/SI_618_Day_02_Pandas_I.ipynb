{
 "cells": [
  {
   "cell_type": "markdown",
   "metadata": {},
   "source": [
    "# SI 618 Day 02 - Pandas I\n",
    "Dr. Chris Teplovs, University of Michigan School of Information\n",
    "\n",
    "Copyright &copy; 2024.  This notebook may not be shared outside of the course without permission.\n",
    "\n",
    "Notebook version 2024.09.05.7.CT"
   ]
  },
  {
   "cell_type": "markdown",
   "metadata": {},
   "source": [
    "## Overview\n",
    "\n",
    "This notebook will provide an overview of some pandas data structures and introduce you to pandas, a Python library for data analysis.  We will use pandas extensively in this course.\n"
   ]
  },
  {
   "cell_type": "markdown",
   "metadata": {},
   "source": [
    "## Outline\n",
    "1. Welcome (5 minutes)\n",
    "2. Q&A (15 minutes)\n",
    "3. Coding basics (python stuff) (30 minutes)\n",
    "4. Conceptual overview & lecture (50 minutes)\n",
    "5. Break (10 minutes)\n",
    "6. Hands-on coding (25 minutes)\n",
    "7. Application of concepts (30 minutes)\n",
    "8. Debrief & next steps (10 minutes)\n"
   ]
  },
  {
   "cell_type": "markdown",
   "metadata": {
    "slideshow": {
     "slide_type": "slide"
    }
   },
   "source": [
    "## Welcome (5 minutes)"
   ]
  },
  {
   "cell_type": "markdown",
   "metadata": {},
   "source": [
    "## Q&A (15 minutes)"
   ]
  },
  {
   "cell_type": "markdown",
   "metadata": {},
   "source": [
    "Your questions, comments, and observations about the pre-class readings.\n",
    "\n",
    "My questions:\n",
    "1. Why are we using Python?  Why not R?  Or SAS?  Or SPSS?  Or Stata?  Or Excel?\n",
    "2. Why are we using Jupyter notebooks?  Why not just write scripts?\n",
    "3. What is pandas?  Why are we using it?  Why not just use Python?"
   ]
  },
  {
   "cell_type": "markdown",
   "metadata": {},
   "source": [
    "## Coding basics (python stuff) (30 minutes)"
   ]
  },
  {
   "cell_type": "markdown",
   "metadata": {},
   "source": [
    "Before we start, let's look at some Visual Studio Code extensions that will make our lives easier.\n",
    "\n",
    "1. Python\n",
    "2. Jupyter\n",
    "3. GitHub Copilot\n",
    "4. Markdown All in One\n",
    "5. Code Spell Checker\n",
    "6. GitLens\n",
    "7. indent-rainbow\n",
    "8. Pylance\n",
    "9.  Rainbow CSV\n",
    "10. Trailing Spaces"
   ]
  },
  {
   "cell_type": "markdown",
   "metadata": {},
   "source": [
    "### Data structures in python"
   ]
  },
  {
   "cell_type": "markdown",
   "metadata": {},
   "source": [
    "You've already been introduced to the basic data structures in python: lists, tuples, and dictionaries.  We'll review them briefly here.\n",
    "\n",
    "Python lists are ordered collections of items.  The items can be of any type, and can be mixed types.  Lists are mutable, meaning that you can change the contents of a list after you create it.  You can add items to a list, remove items from a list, and change the value of items in a list.  You can also sort a list.\n",
    "\n",
    "```\n",
    "my_list = [1, 2, 3, 4, 5]\n",
    "my_list.append(6) # add an item to the end of the list\n",
    "my_list[0] = 0 # change the value of the first item in the list\n",
    "my_list[1] = 'two' # lists can contain mixed types\n",
    "```\n",
    "\n",
    "A tuple is similar to a list, but is immutable.  Once you create a tuple, you cannot change its contents.  You can, however, create a new tuple from an existing tuple.\n",
    "\n",
    "```\n",
    "my_tuple = (1, 2, 3, 4, 5)\n",
    "my_tuple[0] = 0 # this will cause an error\n",
    "my_tuple = (0, 2, 3, 4, 5) # this is ok\n",
    "```\n",
    "\n",
    "A dictionary is a collection of key-value pairs.  The keys must be unique, but the values can be duplicated.  Dictionaries are mutable.\n",
    "\n",
    "```\n",
    "my_dict = {'a': 1, 'b': 2, 'c': 3}\n",
    "my_dict['d'] = 4 # add a new key-value pair\n",
    "my_dict['a'] = 0 # change the value of an existing key\n",
    "my_dict['a'] = my_dict['a'] + 1 # increment the value of an existing key\n",
    "my_dict['e'] = my_dict['e'] + 1 # error: key 'e' does not exist\n",
    "```"
   ]
  },
  {
   "cell_type": "markdown",
   "metadata": {},
   "source": [
    "Let's introduce a new data structure: the set.  A set is an unordered collection of unique items.  You can add items to a set, remove items from a set, and check whether an item is in a set.  You cannot change the value of an item in a set.\n",
    "\n",
    "```\n",
    "my_set = {1, 2, 3, 4, 5}\n",
    "my_set.add(6) # add an item to the set\n",
    "my_set.add(6) # this is ok, but the set will still only contain one 6\n",
    "my_set.remove(1) # remove an item from the set\n",
    "my_set[0] = 0 # this will cause an error\n",
    "```\n",
    "\n"
   ]
  },
  {
   "cell_type": "markdown",
   "metadata": {},
   "source": [
    "We can combine data types into more complex ones.  For example, we could have a list of lists, or a dictionary of sets, or a list of tuples of dictionaries of sets.  You get the idea.\n",
    "\n",
    "```\n",
    "my_list = [1, 2, 3, 4, 5]\n",
    "my_list_of_lists = [my_list, my_list, my_list]\n",
    "\n",
    "my_set = {1, 2, 3, 4, 5}\n",
    "my_dict_of_sets = {'a': my_set, 'b': my_set, 'c': my_set}\n",
    "\n",
    "my_tuple = (my_dict_of_sets, my_dict_of_sets, my_dict_of_sets)\n",
    "my_list_of_tuples = [my_tuple, my_tuple, my_tuple]\n",
    "\n",
    "```"
   ]
  },
  {
   "cell_type": "markdown",
   "metadata": {},
   "source": [
    "#### Challenge:\n",
    "\n",
    "Consider the following code:"
   ]
  },
  {
   "cell_type": "code",
   "execution_count": 2,
   "metadata": {},
   "outputs": [],
   "source": [
    "names = ['Chris', 'Xin', 'Nithin']\n",
    "scores = [75, 95, 85]"
   ]
  },
  {
   "cell_type": "markdown",
   "metadata": {},
   "source": [
    "Write code to print the following output.  Document your code using comments, docstrings, and type hints.\n",
    "\n",
    "```\n",
    "Chris: 75\n",
    "Xin: 95\n",
    "Nithin: 85\n",
    "```"
   ]
  },
  {
   "cell_type": "code",
   "execution_count": 3,
   "metadata": {},
   "outputs": [
    {
     "name": "stdout",
     "output_type": "stream",
     "text": [
      "Chris: 75\n",
      "Xin: 95\n",
      "Nithin: 85\n"
     ]
    }
   ],
   "source": [
    "names = ['Chris', 'Xin', 'Nithin']\n",
    "scores = [75, 95, 85]\n",
    "\n",
    "# print the first value of each list\n",
    "# for x,y in zip(names, scores):\n",
    "#     print(x,': ', y, sep='')\n",
    "\n",
    "# alternative way: define function\n",
    "# this function uses type hints to specify the types of the arguments\n",
    "def print_scores(names: list, scores: list) -> None:\n",
    "    \"\"\"\n",
    "    This function takes in two lists, names and scores, and prints the names and scores in the format:\n",
    "    name: score\n",
    "    \"\"\"\n",
    "    for x,y in zip(names, scores): # loop through the names and scores\n",
    "        print(x,': ', y, sep='') # print the names and scores\n",
    "\n",
    "# call the function\n",
    "print_scores(names, scores)\n"
   ]
  },
  {
   "cell_type": "markdown",
   "metadata": {},
   "source": [
    "#### Challenge:\n",
    "Now consider the case where we have multiple scores per person.  Write code to use an appropriate data structure to store the scores for each person and print the following, exactly as it appears below.  Document your code using comments, docstrings, and type hints.\n",
    "\n",
    "```\n",
    "Chris: 75, 80, 85\n",
    "Xin: 95, 90, 85\n",
    "Nithin: 85, 90, 95\n",
    "```"
   ]
  },
  {
   "cell_type": "code",
   "execution_count": 5,
   "metadata": {},
   "outputs": [
    {
     "name": "stdout",
     "output_type": "stream",
     "text": [
      "{'Chris': [75, 80, 85], 'Xin': [95, 90, 85], 'Nithin': [85, 90, 95]}\n"
     ]
    }
   ],
   "source": [
    "# insert your code here\n",
    "def save_scores(names:list, scores:list) -> None:\n",
    "    \"\"\"\n",
    "    This function takes in two lists, names and scores, and saves the names and scores to an object\n",
    "    \"\"\"\n",
    "    # create a dictionary to store the names and scores\n",
    "    score_dict = {}\n",
    "    # loop through the names and scores\n",
    "    for x,y in zip(names, scores):\n",
    "        # add the names and scores to the dictionary\n",
    "        score_dict[x] = y\n",
    "    # return the dictionary\n",
    "    return score_dict\n",
    "\n",
    "# call the function\n",
    "names = ['Chris', 'Xin', 'Nithin']\n",
    "scores = [[75, 80, 85], [95, 90, 85], [85, 90, 95]]\n",
    "\n",
    "# call the function\n",
    "score_dict = save_scores(names, scores)\n",
    "# print the dictionary\n",
    "print(score_dict)"
   ]
  },
  {
   "cell_type": "markdown",
   "metadata": {},
   "source": [
    "## Conceptual overview & lecture (50 minutes)"
   ]
  },
  {
   "cell_type": "markdown",
   "metadata": {
    "slideshow": {
     "slide_type": "slide"
    }
   },
   "source": [
    "Whereas [PEP-8](https://pep8.org/) suggests that `import` statements should be at the top of the file, we're going to put them here so that we can see what we're importing."
   ]
  },
  {
   "cell_type": "code",
   "execution_count": 6,
   "metadata": {},
   "outputs": [],
   "source": [
    "import pandas as pd\n",
    "import numpy as np"
   ]
  },
  {
   "cell_type": "markdown",
   "metadata": {},
   "source": [
    "Before we dive into `pandas`, let's take a look at some `numpy` basics.\n",
    "\n",
    "numpy is a Python library for scientific computing.  Most relevant to us, it provides a multidimensional array object, and an assortment of routines for fast operations on arrays.  The array object is called a `ndarray` and is similar to a list, but all of the elements must be of the same type.  The elements of an `ndarray` are accessed using square brackets, just like a list.\n",
    "\n",
    "https://numpy.org/doc/stable/user/quickstart.html\n",
    "\n",
    "https://numpy.org/doc/stable/reference/generated/numpy.ndarray.html\n",
    "\n"
   ]
  },
  {
   "cell_type": "markdown",
   "metadata": {},
   "source": [
    "Let's create a small dataframe to play with."
   ]
  },
  {
   "cell_type": "code",
   "execution_count": 7,
   "metadata": {},
   "outputs": [
    {
     "data": {
      "text/html": [
       "<div>\n",
       "<style scoped>\n",
       "    .dataframe tbody tr th:only-of-type {\n",
       "        vertical-align: middle;\n",
       "    }\n",
       "\n",
       "    .dataframe tbody tr th {\n",
       "        vertical-align: top;\n",
       "    }\n",
       "\n",
       "    .dataframe thead th {\n",
       "        text-align: right;\n",
       "    }\n",
       "</style>\n",
       "<table border=\"1\" class=\"dataframe\">\n",
       "  <thead>\n",
       "    <tr style=\"text-align: right;\">\n",
       "      <th></th>\n",
       "      <th>foo</th>\n",
       "      <th>bar</th>\n",
       "    </tr>\n",
       "  </thead>\n",
       "  <tbody>\n",
       "    <tr>\n",
       "      <th>0</th>\n",
       "      <td>1</td>\n",
       "      <td>4</td>\n",
       "    </tr>\n",
       "    <tr>\n",
       "      <th>1</th>\n",
       "      <td>2</td>\n",
       "      <td>5</td>\n",
       "    </tr>\n",
       "    <tr>\n",
       "      <th>2</th>\n",
       "      <td>3</td>\n",
       "      <td>6</td>\n",
       "    </tr>\n",
       "  </tbody>\n",
       "</table>\n",
       "</div>"
      ],
      "text/plain": [
       "   foo  bar\n",
       "0    1    4\n",
       "1    2    5\n",
       "2    3    6"
      ]
     },
     "execution_count": 7,
     "metadata": {},
     "output_type": "execute_result"
    }
   ],
   "source": [
    "df = pd.DataFrame({'foo': [1, 2, 3], 'bar': [4, 5, 6]})\n",
    "df"
   ]
  },
  {
   "cell_type": "markdown",
   "metadata": {},
   "source": [
    "Creating small DataFrames is a good practice when you're testing things out, but it can get a bit cumbersome if we want a slightly larger DataFrame.  So let's generate some random data using `numpy` and then create a DataFrame from that."
   ]
  },
  {
   "cell_type": "code",
   "execution_count": 8,
   "metadata": {},
   "outputs": [
    {
     "data": {
      "text/plain": [
       "array([[-0.97496484,  0.35048477, -0.68726974,  1.13177567],\n",
       "       [-0.26484921,  0.80229445,  0.12639673,  0.14375526],\n",
       "       [ 1.07568895,  0.54392336,  0.53328194, -1.14978927],\n",
       "       [-1.46806471,  0.88840963, -0.97824386,  0.37578897],\n",
       "       [ 0.20047719,  0.73516016,  0.62341392, -1.30413906],\n",
       "       [ 0.84721787, -0.19806888, -0.11179317,  2.070136  ],\n",
       "       [ 1.11066547,  0.45533913,  1.63119361, -0.45353069],\n",
       "       [ 0.32791298, -0.49275034,  0.25091573, -1.58890567],\n",
       "       [-0.21064344, -1.04206475,  1.11995322,  1.49985095],\n",
       "       [-1.49167329, -0.62248587,  0.93424489,  1.26842443]])"
      ]
     },
     "execution_count": 8,
     "metadata": {},
     "output_type": "execute_result"
    }
   ],
   "source": [
    "# np.random.randn returns a sample (or samples) from the “standard normal” distribution.\n",
    "np.random.randn(10, 4)"
   ]
  },
  {
   "cell_type": "code",
   "execution_count": 9,
   "metadata": {},
   "outputs": [
    {
     "data": {
      "text/html": [
       "<div>\n",
       "<style scoped>\n",
       "    .dataframe tbody tr th:only-of-type {\n",
       "        vertical-align: middle;\n",
       "    }\n",
       "\n",
       "    .dataframe tbody tr th {\n",
       "        vertical-align: top;\n",
       "    }\n",
       "\n",
       "    .dataframe thead th {\n",
       "        text-align: right;\n",
       "    }\n",
       "</style>\n",
       "<table border=\"1\" class=\"dataframe\">\n",
       "  <thead>\n",
       "    <tr style=\"text-align: right;\">\n",
       "      <th></th>\n",
       "      <th>0</th>\n",
       "      <th>1</th>\n",
       "      <th>2</th>\n",
       "      <th>3</th>\n",
       "    </tr>\n",
       "  </thead>\n",
       "  <tbody>\n",
       "    <tr>\n",
       "      <th>0</th>\n",
       "      <td>0.589842</td>\n",
       "      <td>0.801174</td>\n",
       "      <td>0.156086</td>\n",
       "      <td>-1.016374</td>\n",
       "    </tr>\n",
       "    <tr>\n",
       "      <th>1</th>\n",
       "      <td>-2.310399</td>\n",
       "      <td>-0.898749</td>\n",
       "      <td>0.191875</td>\n",
       "      <td>0.922011</td>\n",
       "    </tr>\n",
       "    <tr>\n",
       "      <th>2</th>\n",
       "      <td>1.143906</td>\n",
       "      <td>1.937304</td>\n",
       "      <td>0.398154</td>\n",
       "      <td>-0.882147</td>\n",
       "    </tr>\n",
       "    <tr>\n",
       "      <th>3</th>\n",
       "      <td>-1.789055</td>\n",
       "      <td>0.120242</td>\n",
       "      <td>2.119188</td>\n",
       "      <td>0.573982</td>\n",
       "    </tr>\n",
       "    <tr>\n",
       "      <th>4</th>\n",
       "      <td>0.984596</td>\n",
       "      <td>-1.305916</td>\n",
       "      <td>-0.260058</td>\n",
       "      <td>-0.382377</td>\n",
       "    </tr>\n",
       "    <tr>\n",
       "      <th>5</th>\n",
       "      <td>0.616826</td>\n",
       "      <td>1.426815</td>\n",
       "      <td>-1.047658</td>\n",
       "      <td>1.411502</td>\n",
       "    </tr>\n",
       "    <tr>\n",
       "      <th>6</th>\n",
       "      <td>1.432145</td>\n",
       "      <td>-1.380196</td>\n",
       "      <td>-0.410947</td>\n",
       "      <td>1.431187</td>\n",
       "    </tr>\n",
       "    <tr>\n",
       "      <th>7</th>\n",
       "      <td>-0.228067</td>\n",
       "      <td>-0.989904</td>\n",
       "      <td>1.283459</td>\n",
       "      <td>-1.222868</td>\n",
       "    </tr>\n",
       "    <tr>\n",
       "      <th>8</th>\n",
       "      <td>1.125558</td>\n",
       "      <td>0.468663</td>\n",
       "      <td>0.162497</td>\n",
       "      <td>1.124724</td>\n",
       "    </tr>\n",
       "    <tr>\n",
       "      <th>9</th>\n",
       "      <td>-0.902148</td>\n",
       "      <td>-1.593817</td>\n",
       "      <td>-1.444421</td>\n",
       "      <td>0.297458</td>\n",
       "    </tr>\n",
       "  </tbody>\n",
       "</table>\n",
       "</div>"
      ],
      "text/plain": [
       "          0         1         2         3\n",
       "0  0.589842  0.801174  0.156086 -1.016374\n",
       "1 -2.310399 -0.898749  0.191875  0.922011\n",
       "2  1.143906  1.937304  0.398154 -0.882147\n",
       "3 -1.789055  0.120242  2.119188  0.573982\n",
       "4  0.984596 -1.305916 -0.260058 -0.382377\n",
       "5  0.616826  1.426815 -1.047658  1.411502\n",
       "6  1.432145 -1.380196 -0.410947  1.431187\n",
       "7 -0.228067 -0.989904  1.283459 -1.222868\n",
       "8  1.125558  0.468663  0.162497  1.124724\n",
       "9 -0.902148 -1.593817 -1.444421  0.297458"
      ]
     },
     "execution_count": 9,
     "metadata": {},
     "output_type": "execute_result"
    }
   ],
   "source": [
    "# we can use it to create a DataFrame with a random values\n",
    "pd.DataFrame(np.random.randn(10, 4))"
   ]
  },
  {
   "cell_type": "markdown",
   "metadata": {},
   "source": [
    "But those column names don't make much sense.  Let's change them."
   ]
  },
  {
   "cell_type": "code",
   "execution_count": 10,
   "metadata": {},
   "outputs": [
    {
     "data": {
      "text/html": [
       "<div>\n",
       "<style scoped>\n",
       "    .dataframe tbody tr th:only-of-type {\n",
       "        vertical-align: middle;\n",
       "    }\n",
       "\n",
       "    .dataframe tbody tr th {\n",
       "        vertical-align: top;\n",
       "    }\n",
       "\n",
       "    .dataframe thead th {\n",
       "        text-align: right;\n",
       "    }\n",
       "</style>\n",
       "<table border=\"1\" class=\"dataframe\">\n",
       "  <thead>\n",
       "    <tr style=\"text-align: right;\">\n",
       "      <th></th>\n",
       "      <th>A</th>\n",
       "      <th>B</th>\n",
       "      <th>C</th>\n",
       "      <th>D</th>\n",
       "    </tr>\n",
       "  </thead>\n",
       "  <tbody>\n",
       "    <tr>\n",
       "      <th>0</th>\n",
       "      <td>0.419119</td>\n",
       "      <td>-0.168816</td>\n",
       "      <td>-2.749592</td>\n",
       "      <td>0.540273</td>\n",
       "    </tr>\n",
       "    <tr>\n",
       "      <th>1</th>\n",
       "      <td>0.408815</td>\n",
       "      <td>0.107041</td>\n",
       "      <td>-0.071559</td>\n",
       "      <td>-0.436003</td>\n",
       "    </tr>\n",
       "    <tr>\n",
       "      <th>2</th>\n",
       "      <td>-0.228970</td>\n",
       "      <td>-0.412273</td>\n",
       "      <td>0.815435</td>\n",
       "      <td>0.832972</td>\n",
       "    </tr>\n",
       "    <tr>\n",
       "      <th>3</th>\n",
       "      <td>1.169342</td>\n",
       "      <td>-0.900416</td>\n",
       "      <td>-0.852393</td>\n",
       "      <td>0.917229</td>\n",
       "    </tr>\n",
       "    <tr>\n",
       "      <th>4</th>\n",
       "      <td>0.695577</td>\n",
       "      <td>1.265514</td>\n",
       "      <td>1.407910</td>\n",
       "      <td>0.777969</td>\n",
       "    </tr>\n",
       "    <tr>\n",
       "      <th>5</th>\n",
       "      <td>0.491649</td>\n",
       "      <td>0.324564</td>\n",
       "      <td>-0.522253</td>\n",
       "      <td>-1.190186</td>\n",
       "    </tr>\n",
       "    <tr>\n",
       "      <th>6</th>\n",
       "      <td>0.019188</td>\n",
       "      <td>-1.705843</td>\n",
       "      <td>-0.783273</td>\n",
       "      <td>-0.472330</td>\n",
       "    </tr>\n",
       "    <tr>\n",
       "      <th>7</th>\n",
       "      <td>0.307338</td>\n",
       "      <td>-0.994242</td>\n",
       "      <td>0.103301</td>\n",
       "      <td>-1.222790</td>\n",
       "    </tr>\n",
       "    <tr>\n",
       "      <th>8</th>\n",
       "      <td>-0.142783</td>\n",
       "      <td>-0.278444</td>\n",
       "      <td>0.874708</td>\n",
       "      <td>-0.295788</td>\n",
       "    </tr>\n",
       "    <tr>\n",
       "      <th>9</th>\n",
       "      <td>-1.247498</td>\n",
       "      <td>-0.173260</td>\n",
       "      <td>-0.752176</td>\n",
       "      <td>2.088420</td>\n",
       "    </tr>\n",
       "  </tbody>\n",
       "</table>\n",
       "</div>"
      ],
      "text/plain": [
       "          A         B         C         D\n",
       "0  0.419119 -0.168816 -2.749592  0.540273\n",
       "1  0.408815  0.107041 -0.071559 -0.436003\n",
       "2 -0.228970 -0.412273  0.815435  0.832972\n",
       "3  1.169342 -0.900416 -0.852393  0.917229\n",
       "4  0.695577  1.265514  1.407910  0.777969\n",
       "5  0.491649  0.324564 -0.522253 -1.190186\n",
       "6  0.019188 -1.705843 -0.783273 -0.472330\n",
       "7  0.307338 -0.994242  0.103301 -1.222790\n",
       "8 -0.142783 -0.278444  0.874708 -0.295788\n",
       "9 -1.247498 -0.173260 -0.752176  2.088420"
      ]
     },
     "execution_count": 10,
     "metadata": {},
     "output_type": "execute_result"
    }
   ],
   "source": [
    "df = pd.DataFrame(np.random.randn(10, 4), columns=['A', 'B', 'C', 'D'])\n",
    "df"
   ]
  },
  {
   "cell_type": "markdown",
   "metadata": {},
   "source": [
    "If you re-run the above cell, you'll get different values.  That's because we're using `numpy.random` to generate random values.  If we want to be able to reproduce our results, we need to set the seed for the (pseudo-)random number generator.\n",
    "\n",
    "What does setting the seed do? It sets the starting point for the random number generator.  The random number generator is a mathematical function that takes a number as input and produces a random number as output.  If you set the seed to the same value, you'll get the same sequence of random numbers.  If you set the seed to a different value, you'll get a different sequence of random numbers.\n",
    "\n",
    "With numpy, you can set the seed using `numpy.random.seed()`.  The argument to `numpy.random.seed()` is the seed value.  The seed value can be any integer.  It doesn't matter what the value is, as long as it's an integer.  Common values are 0, 1, 42, and 618 (for this course).  \n",
    "\n"
   ]
  },
  {
   "cell_type": "code",
   "execution_count": 11,
   "metadata": {},
   "outputs": [
    {
     "data": {
      "text/html": [
       "<div>\n",
       "<style scoped>\n",
       "    .dataframe tbody tr th:only-of-type {\n",
       "        vertical-align: middle;\n",
       "    }\n",
       "\n",
       "    .dataframe tbody tr th {\n",
       "        vertical-align: top;\n",
       "    }\n",
       "\n",
       "    .dataframe thead th {\n",
       "        text-align: right;\n",
       "    }\n",
       "</style>\n",
       "<table border=\"1\" class=\"dataframe\">\n",
       "  <thead>\n",
       "    <tr style=\"text-align: right;\">\n",
       "      <th></th>\n",
       "      <th>A</th>\n",
       "      <th>B</th>\n",
       "      <th>C</th>\n",
       "      <th>D</th>\n",
       "    </tr>\n",
       "  </thead>\n",
       "  <tbody>\n",
       "    <tr>\n",
       "      <th>0</th>\n",
       "      <td>1.114814</td>\n",
       "      <td>0.501551</td>\n",
       "      <td>-0.708472</td>\n",
       "      <td>0.446456</td>\n",
       "    </tr>\n",
       "    <tr>\n",
       "      <th>1</th>\n",
       "      <td>0.169825</td>\n",
       "      <td>0.565925</td>\n",
       "      <td>-2.232266</td>\n",
       "      <td>0.141151</td>\n",
       "    </tr>\n",
       "    <tr>\n",
       "      <th>2</th>\n",
       "      <td>0.572791</td>\n",
       "      <td>-0.758860</td>\n",
       "      <td>1.074469</td>\n",
       "      <td>-0.268924</td>\n",
       "    </tr>\n",
       "    <tr>\n",
       "      <th>3</th>\n",
       "      <td>0.055883</td>\n",
       "      <td>0.029417</td>\n",
       "      <td>-0.307717</td>\n",
       "      <td>0.333990</td>\n",
       "    </tr>\n",
       "    <tr>\n",
       "      <th>4</th>\n",
       "      <td>0.613102</td>\n",
       "      <td>-0.950171</td>\n",
       "      <td>-0.790737</td>\n",
       "      <td>-0.722889</td>\n",
       "    </tr>\n",
       "    <tr>\n",
       "      <th>5</th>\n",
       "      <td>0.324066</td>\n",
       "      <td>1.426340</td>\n",
       "      <td>0.632387</td>\n",
       "      <td>0.212093</td>\n",
       "    </tr>\n",
       "    <tr>\n",
       "      <th>6</th>\n",
       "      <td>-0.428327</td>\n",
       "      <td>0.093400</td>\n",
       "      <td>0.363782</td>\n",
       "      <td>-0.440865</td>\n",
       "    </tr>\n",
       "    <tr>\n",
       "      <th>7</th>\n",
       "      <td>0.353589</td>\n",
       "      <td>0.175615</td>\n",
       "      <td>-1.036438</td>\n",
       "      <td>-0.020505</td>\n",
       "    </tr>\n",
       "    <tr>\n",
       "      <th>8</th>\n",
       "      <td>0.771652</td>\n",
       "      <td>-1.087879</td>\n",
       "      <td>-0.767269</td>\n",
       "      <td>-0.653891</td>\n",
       "    </tr>\n",
       "    <tr>\n",
       "      <th>9</th>\n",
       "      <td>-1.323030</td>\n",
       "      <td>1.507597</td>\n",
       "      <td>0.613142</td>\n",
       "      <td>2.989599</td>\n",
       "    </tr>\n",
       "  </tbody>\n",
       "</table>\n",
       "</div>"
      ],
      "text/plain": [
       "          A         B         C         D\n",
       "0  1.114814  0.501551 -0.708472  0.446456\n",
       "1  0.169825  0.565925 -2.232266  0.141151\n",
       "2  0.572791 -0.758860  1.074469 -0.268924\n",
       "3  0.055883  0.029417 -0.307717  0.333990\n",
       "4  0.613102 -0.950171 -0.790737 -0.722889\n",
       "5  0.324066  1.426340  0.632387  0.212093\n",
       "6 -0.428327  0.093400  0.363782 -0.440865\n",
       "7  0.353589  0.175615 -1.036438 -0.020505\n",
       "8  0.771652 -1.087879 -0.767269 -0.653891\n",
       "9 -1.323030  1.507597  0.613142  2.989599"
      ]
     },
     "execution_count": 11,
     "metadata": {},
     "output_type": "execute_result"
    }
   ],
   "source": [
    "np.random.seed(618)\n",
    "df = pd.DataFrame(np.random.randn(10, 4), columns=['A', 'B', 'C', 'D'])\n",
    "df"
   ]
  },
  {
   "cell_type": "markdown",
   "metadata": {},
   "source": [
    "#### Challenge:\n",
    "\n",
    "Implement a function that takes the number of rows, number of columns, and column names as required parameters, as well as a random seed that defaults to 42, and returns a DataFrame with random data.  Document your function using a docstring, comments, and type hints."
   ]
  },
  {
   "cell_type": "code",
   "execution_count": 17,
   "metadata": {},
   "outputs": [
    {
     "name": "stdout",
     "output_type": "stream",
     "text": [
      "      Frank         B       Bob         D\n",
      "0  1.624345 -0.611756 -0.528172 -1.072969\n",
      "1  0.865408 -2.301539  1.744812 -0.761207\n",
      "2  0.319039 -0.249370  1.462108 -2.060141\n",
      "3 -0.322417 -0.384054  1.133769 -1.099891\n",
      "4 -0.172428 -0.877858  0.042214  0.582815\n",
      "5 -1.100619  1.144724  0.901591  0.502494\n",
      "6  0.900856 -0.683728 -0.122890 -0.935769\n",
      "7 -0.267888  0.530355 -0.691661 -0.396754\n",
      "8 -0.687173 -0.845206 -0.671246 -0.012665\n",
      "9 -1.117310  0.234416  1.659802  0.742044\n"
     ]
    }
   ],
   "source": [
    "# insert your code here\n",
    "def create_random_df(rows:int, cols:int, names:list, seed: int = 42) -> pd.DataFrame:\n",
    "    \"\"\"\n",
    "    This function takes in the number of rows, columns, and a list of names, and creates a DataFrame with random values\n",
    "    Note: the seed is set to 42 by default\n",
    "    \"\"\"\n",
    "    # set the seed\n",
    "    np.random.seed(seed)\n",
    "    # create a DataFrame with random values\n",
    "    df = pd.DataFrame(np.random.randn(rows, cols), columns=names)\n",
    "    # return the DataFrame\n",
    "    return df\n",
    "\n",
    "# call the function\n",
    "df = create_random_df(10, 4, ['Frank', 'B', 'Bob', 'D'], seed=1)\n",
    "# print the DataFrame\n",
    "print(df)"
   ]
  },
  {
   "cell_type": "markdown",
   "metadata": {},
   "source": [
    "#### Challenge: \n",
    "\n",
    "Write a set of assertions that test your function.  You should test that the function returns a DataFrame, that the DataFrame has the correct number of rows and columns, and that the column names are correct."
   ]
  },
  {
   "cell_type": "code",
   "execution_count": 22,
   "metadata": {},
   "outputs": [],
   "source": [
    "# assert that the type of the output is a pd.DataFrame\n",
    "assert type(df) == pd.DataFrame\n",
    "# assert the function generates the correct number of rows and columns\n",
    "assert(create_random_df(10, 4, ['Frank', 'B', 'Bob', 'D'], seed=1).shape == (10, 4))\n"
   ]
  },
  {
   "cell_type": "markdown",
   "metadata": {},
   "source": [
    "### Universal functions (ufuncs) from numpy\n",
    "\n",
    "Let's say we had a simple list of numbers and we wanted to add 1 to each number.  We could do that using a for loop:\n",
    "```\n",
    "def add_one(numbers):\n",
    "    for i in range(len(numbers)):\n",
    "        numbers[i] += 1\n",
    "    return numbers\n",
    "\n",
    "add_one([1, 2, 3, 4, 5])\n",
    "```"
   ]
  },
  {
   "cell_type": "markdown",
   "metadata": {},
   "source": [
    "But that's cumbersome, and annoying.  It would be nice if we could just add 1 to the list and have it add 1 to each element.  We can do that with numpy.\n",
    "\n",
    "```\n",
    "import numpy as np\n",
    "numbers = np.array([1, 2, 3, 4, 5])\n",
    "numbers + 1\n",
    "```"
   ]
  },
  {
   "cell_type": "markdown",
   "metadata": {},
   "source": [
    "Numpy provides us not only with universal functions for arithmetic, but also for trigonometry, logarithms, and other mathematical functions.  For example, we can take the square root of each element in an array using `np.sqrt()`.\n",
    "\n",
    "```\n",
    "np.sqrt(numbers)\n",
    "```"
   ]
  },
  {
   "cell_type": "markdown",
   "metadata": {},
   "source": [
    "That's enough numpy for now.  Let's move on to pandas.  pandas is a Python library for data analysis.  It provides a DataFrame object that is similar to a spreadsheet or a database table.  It also provides a Series object that is similar to a single column in a spreadsheet or a database table.  Let's take a look at pandas Series objects and then move on to pandas DataFrame objects."
   ]
  },
  {
   "cell_type": "markdown",
   "metadata": {},
   "source": [
    "### pandas.Series\n",
    "\n",
    "pandas Series are similar to numpy arrays, but they have an index.  The index is a label for each element in the Series.  The index can be a number, a string, or a date.  The index is used to access elements in the Series.  The index is also used to align Series when performing operations on multiple Series.\n",
    "\n",
    "So, for example, we can create a Series from a list of numbers.  Unless we specify otherwise, the index will be a sequence of integers starting at 0 (called a RangeIndex):\n",
    "\n",
    "```\n",
    "import pandas as pd\n",
    "numbers = pd.Series([1, 2, 3, 4, 5])\n",
    "numbers\n",
    "```\n"
   ]
  },
  {
   "cell_type": "code",
   "execution_count": 23,
   "metadata": {},
   "outputs": [
    {
     "data": {
      "text/plain": [
       "0    1\n",
       "1    2\n",
       "2    3\n",
       "3    4\n",
       "4    5\n",
       "dtype: int64"
      ]
     },
     "execution_count": 23,
     "metadata": {},
     "output_type": "execute_result"
    }
   ],
   "source": [
    "import pandas as pd\n",
    "numbers = pd.Series([1, 2, 3, 4, 5])\n",
    "numbers"
   ]
  },
  {
   "cell_type": "markdown",
   "metadata": {},
   "source": [
    "### pandas.DataFrame\n",
    "\n",
    "pandas DataFrames consist of one or more Series.  Each Series is a column in the DataFrame.  The Series are aligned using the index.  So, for example, we can create a DataFrame from a dictionary of Series.  The keys of the dictionary are the column names.  The values of the dictionary are the Series.\n",
    "\n",
    "```\n",
    "df = pd.DataFrame({'numbers': numbers, 'squares': numbers ** 2})\n",
    "df\n",
    "```\n"
   ]
  },
  {
   "cell_type": "markdown",
   "metadata": {},
   "source": [
    "We can extract a single column from a DataFrame using square brackets.  The column will be returned as a Series.\n",
    "\n",
    "```\n",
    "df['numbers']\n",
    "```\n",
    "\n",
    "We can also extract a single column from a DataFrame using dot notation.  The column will be returned as a Series.\n",
    "\n",
    "```\n",
    "df.numbers\n",
    "```\n",
    "Be careful with dot notation.  It only works if the column name is a valid Python identifier.  That means it can't start with a number, it can't contain spaces, and it can't contain any of the following characters: `~!@#$%^&*()-+={}[]|\\:;\"'<,>.?/`.  If the column name is not a valid Python identifier, or if it conflicts with any DataFrame method or attribute names, you must use square brackets.\n"
   ]
  },
  {
   "cell_type": "markdown",
   "metadata": {},
   "source": [
    "\n",
    "We can perform arithmetic operations on Series, just like we can with numpy arrays.  We can also perform arithmetic operations on DataFrames.  The operations are performed on each element in the Series or DataFrame.\n",
    "\n",
    "```\n",
    "df + 1\n",
    "```\n"
   ]
  },
  {
   "cell_type": "markdown",
   "metadata": {},
   "source": [
    "Let's say we wanted to add a new column to our DataFrame.  We can do that using square brackets and the assignment operator.  The new column will be added to the end of the DataFrame.\n",
    "\n",
    "```\n",
    "df['cubes'] = numbers ** 3\n",
    "df\n",
    "```"
   ]
  },
  {
   "cell_type": "markdown",
   "metadata": {},
   "source": [
    "We can also use more complex expressions to create new columns.  For example, we can create a new column that is the sum of two existing columns.\n",
    "\n",
    "```\n",
    "df['sum'] = df.numbers + df.squares\n",
    "df\n",
    "```"
   ]
  },
  {
   "cell_type": "markdown",
   "metadata": {},
   "source": [
    "We can also use more complex functions on DataFrames.  For example, we can use the `map()` method to apply a function to each element in a DataFrame.\n",
    "\n",
    "```\n",
    "def is_even(x):\n",
    "    return x % 2 == 0\n",
    "df['numbers'].map(is_even)\n",
    "```\n",
    "\n",
    "For those who are comfortable with lambda functions, we can use a lambda function instead of a named function.\n",
    "\n",
    "```\n",
    "df['numbers'].map(lambda x: x % 2 == 0)\n",
    "```"
   ]
  },
  {
   "cell_type": "markdown",
   "metadata": {},
   "source": [
    "Sometimes we want to apply a function to each element in a DataFrame, but we want to use more than one column as input to the function.  We can do that using the `apply()` method.  The `apply()` method takes a function as an argument.  The function must take a single argument, which will be a Series containing the values from a single row in the DataFrame.  The function must return a single value, which will be the value for the new column.\n",
    "\n",
    "```\n",
    "df.apply(max, axis=1) # how does this work?\n",
    "```\n",
    "\n",
    "Note that, while less common than row-wise manipulation, we can use also the `apply()` method to apply a function to each column in a DataFrame.  We just need to specify `axis=0` (or `axis='index'`).\n",
    "\n",
    "```\n",
    "def range(x):\n",
    "    return x.max() - x.min()\n",
    "df.apply(range, axis=0)\n",
    "```"
   ]
  },
  {
   "cell_type": "markdown",
   "metadata": {},
   "source": [
    "### Counting value frequencies\n",
    "\n",
    "Let's say we wanted to count the number of times each value appears in a Series.  We can do that using the `value_counts()` method.\n",
    "\n",
    "```\n",
    "df = pd.DataFrame({'numbers': [1, 2, 3, 4, 5, 5, 1, 2, 3, 4, 5, 6], 'squares': [1, 4, 9, 16, 25, 25, 1, 4, 9, 16, 25, 36], 'names': ['one', 'two', 'three', 'four', 'five', 'five', 'one', 'two', 'three', 'four', 'five', 'six']})\n",
    "df.numbers.value_counts()\n",
    "```\n",
    "\n",
    "Note that the `value_counts()` method returns a Series, not a DataFrame.  The index of the Series is the unique values in the original Series.  The values of the Series are the counts of each unique value.  The Series is sorted in descending order by count."
   ]
  },
  {
   "cell_type": "code",
   "execution_count": 24,
   "metadata": {},
   "outputs": [
    {
     "data": {
      "text/plain": [
       "numbers\n",
       "5    3\n",
       "1    2\n",
       "2    2\n",
       "3    2\n",
       "4    2\n",
       "6    1\n",
       "Name: count, dtype: int64"
      ]
     },
     "execution_count": 24,
     "metadata": {},
     "output_type": "execute_result"
    }
   ],
   "source": [
    "df = pd.DataFrame({'numbers': [1, 2, 3, 4, 5, 5, 1, 2, 3, 4, 5, 6], 'squares': [1, 4, 9, 16, 25, 25, 1, 4, 9, 16, 25, 36], 'names': ['one', 'two', 'three', 'four', 'five', 'five', 'one', 'two', 'three', 'four', 'five', 'six']})\n",
    "df.numbers.value_counts()"
   ]
  },
  {
   "cell_type": "markdown",
   "metadata": {},
   "source": [
    "### Describing DataFrames\n",
    "\n",
    "Let's say we wanted to get some basic descriptive statistics for each column in a DataFrame.  We can do that using the `describe()` method.\n",
    "\n",
    "```\n",
    "df.describe()\n",
    "```\n",
    "\n",
    "We can also get information about the data types of each column in a DataFrame using the `info()` method.\n",
    "\n",
    "```\n",
    "df.info()\n",
    "```"
   ]
  },
  {
   "cell_type": "code",
   "execution_count": 25,
   "metadata": {},
   "outputs": [
    {
     "data": {
      "text/html": [
       "<div>\n",
       "<style scoped>\n",
       "    .dataframe tbody tr th:only-of-type {\n",
       "        vertical-align: middle;\n",
       "    }\n",
       "\n",
       "    .dataframe tbody tr th {\n",
       "        vertical-align: top;\n",
       "    }\n",
       "\n",
       "    .dataframe thead th {\n",
       "        text-align: right;\n",
       "    }\n",
       "</style>\n",
       "<table border=\"1\" class=\"dataframe\">\n",
       "  <thead>\n",
       "    <tr style=\"text-align: right;\">\n",
       "      <th></th>\n",
       "      <th>numbers</th>\n",
       "      <th>squares</th>\n",
       "    </tr>\n",
       "  </thead>\n",
       "  <tbody>\n",
       "    <tr>\n",
       "      <th>count</th>\n",
       "      <td>12.000000</td>\n",
       "      <td>12.000000</td>\n",
       "    </tr>\n",
       "    <tr>\n",
       "      <th>mean</th>\n",
       "      <td>3.416667</td>\n",
       "      <td>14.250000</td>\n",
       "    </tr>\n",
       "    <tr>\n",
       "      <th>std</th>\n",
       "      <td>1.676486</td>\n",
       "      <td>11.450486</td>\n",
       "    </tr>\n",
       "    <tr>\n",
       "      <th>min</th>\n",
       "      <td>1.000000</td>\n",
       "      <td>1.000000</td>\n",
       "    </tr>\n",
       "    <tr>\n",
       "      <th>25%</th>\n",
       "      <td>2.000000</td>\n",
       "      <td>4.000000</td>\n",
       "    </tr>\n",
       "    <tr>\n",
       "      <th>50%</th>\n",
       "      <td>3.500000</td>\n",
       "      <td>12.500000</td>\n",
       "    </tr>\n",
       "    <tr>\n",
       "      <th>75%</th>\n",
       "      <td>5.000000</td>\n",
       "      <td>25.000000</td>\n",
       "    </tr>\n",
       "    <tr>\n",
       "      <th>max</th>\n",
       "      <td>6.000000</td>\n",
       "      <td>36.000000</td>\n",
       "    </tr>\n",
       "  </tbody>\n",
       "</table>\n",
       "</div>"
      ],
      "text/plain": [
       "         numbers    squares\n",
       "count  12.000000  12.000000\n",
       "mean    3.416667  14.250000\n",
       "std     1.676486  11.450486\n",
       "min     1.000000   1.000000\n",
       "25%     2.000000   4.000000\n",
       "50%     3.500000  12.500000\n",
       "75%     5.000000  25.000000\n",
       "max     6.000000  36.000000"
      ]
     },
     "execution_count": 25,
     "metadata": {},
     "output_type": "execute_result"
    }
   ],
   "source": [
    "df.describe()\n"
   ]
  },
  {
   "cell_type": "code",
   "execution_count": 26,
   "metadata": {},
   "outputs": [
    {
     "name": "stdout",
     "output_type": "stream",
     "text": [
      "<class 'pandas.core.frame.DataFrame'>\n",
      "RangeIndex: 12 entries, 0 to 11\n",
      "Data columns (total 3 columns):\n",
      " #   Column   Non-Null Count  Dtype \n",
      "---  ------   --------------  ----- \n",
      " 0   numbers  12 non-null     int64 \n",
      " 1   squares  12 non-null     int64 \n",
      " 2   names    12 non-null     object\n",
      "dtypes: int64(2), object(1)\n",
      "memory usage: 416.0+ bytes\n"
     ]
    }
   ],
   "source": [
    "df.info()"
   ]
  },
  {
   "cell_type": "markdown",
   "metadata": {},
   "source": [
    "The `dtypes` attribute of a DataFrame contains the data types of each column in the DataFrame.\n",
    "\n",
    "```\n",
    "df.dtypes\n",
    "```\n",
    "\n",
    "You can extract all columns of a particular data type using the `select_dtypes()` method, either by specifying the data type you want to include or by specifying the data type you want to exclude.\n",
    "\n",
    "```\n",
    "df.select_dtypes(include='number')\n",
    "```\n",
    "\n",
    "```\n",
    "df.select_dtypes(include='object')\n",
    "```\n",
    "\n",
    "```\n",
    "df.select_dtypes(exclude='number')\n",
    "```"
   ]
  },
  {
   "cell_type": "markdown",
   "metadata": {},
   "source": [
    "### Dropping rows and columns\n",
    "\n",
    "Let's say we wanted to drop the `numbers` column from our DataFrame.  We can do that using the `drop()` method.\n",
    "\n",
    "```\n",
    "df.drop('numbers', axis=1)\n",
    "```\n",
    "\n",
    "Note that the `drop()` method returns a new DataFrame.  It does not modify the original DataFrame.  If we want to modify the original DataFrame, we need to use the `inplace=True` argument.\n",
    "\n",
    "```\n",
    "df.drop('numbers', axis=1, inplace=True)\n",
    "```\n",
    "\n",
    "We can also drop rows using the `drop()` method.  To drop rows, we need to specify the index of the rows we want to drop.\n",
    "\n",
    "```\n",
    "df.drop(['one', 'two'], axis=0)\n",
    "```"
   ]
  },
  {
   "cell_type": "markdown",
   "metadata": {},
   "source": [
    "### Missing values\n",
    "\n",
    "* a missing value is just that -- it's missing\n",
    "* represented as nan, NaN, NAN, np.nan, np.NaN (you get the idea)\n",
    "* many tools that we'll be learning can't handle missing values\n",
    "* you need to decide what to do with it\n",
    "* can leave it as is, replace it with a scalar value, replace it with the output of a function (like mean), or drop the row\n",
    "* think of what that would mean if you were going to calculate the mean of 1,2,3,NaN,4,5,6"
   ]
  },
  {
   "cell_type": "markdown",
   "metadata": {},
   "source": [
    "Let's set up a DataFrame with some missing values."
   ]
  },
  {
   "cell_type": "code",
   "execution_count": 27,
   "metadata": {},
   "outputs": [],
   "source": [
    "df_missing = pd.DataFrame(\n",
    "    {'a': [1, 2, 3, np.nan],\n",
    "    'b': [2, 3, np.nan, 5],\n",
    "    'c': [1, 2, 3, 4]})"
   ]
  },
  {
   "cell_type": "code",
   "execution_count": 31,
   "metadata": {},
   "outputs": [
    {
     "data": {
      "text/html": [
       "<div>\n",
       "<style scoped>\n",
       "    .dataframe tbody tr th:only-of-type {\n",
       "        vertical-align: middle;\n",
       "    }\n",
       "\n",
       "    .dataframe tbody tr th {\n",
       "        vertical-align: top;\n",
       "    }\n",
       "\n",
       "    .dataframe thead th {\n",
       "        text-align: right;\n",
       "    }\n",
       "</style>\n",
       "<table border=\"1\" class=\"dataframe\">\n",
       "  <thead>\n",
       "    <tr style=\"text-align: right;\">\n",
       "      <th></th>\n",
       "      <th>a</th>\n",
       "      <th>b</th>\n",
       "      <th>c</th>\n",
       "    </tr>\n",
       "  </thead>\n",
       "  <tbody>\n",
       "    <tr>\n",
       "      <th>0</th>\n",
       "      <td>1.0</td>\n",
       "      <td>2.0</td>\n",
       "      <td>1</td>\n",
       "    </tr>\n",
       "    <tr>\n",
       "      <th>1</th>\n",
       "      <td>2.0</td>\n",
       "      <td>3.0</td>\n",
       "      <td>2</td>\n",
       "    </tr>\n",
       "    <tr>\n",
       "      <th>2</th>\n",
       "      <td>3.0</td>\n",
       "      <td>NaN</td>\n",
       "      <td>3</td>\n",
       "    </tr>\n",
       "    <tr>\n",
       "      <th>3</th>\n",
       "      <td>NaN</td>\n",
       "      <td>5.0</td>\n",
       "      <td>4</td>\n",
       "    </tr>\n",
       "  </tbody>\n",
       "</table>\n",
       "</div>"
      ],
      "text/plain": [
       "     a    b  c\n",
       "0  1.0  2.0  1\n",
       "1  2.0  3.0  2\n",
       "2  3.0  NaN  3\n",
       "3  NaN  5.0  4"
      ]
     },
     "execution_count": 31,
     "metadata": {},
     "output_type": "execute_result"
    }
   ],
   "source": [
    "df_missing"
   ]
  },
  {
   "cell_type": "code",
   "execution_count": 33,
   "metadata": {},
   "outputs": [
    {
     "name": "stdout",
     "output_type": "stream",
     "text": [
      "<class 'pandas.core.frame.DataFrame'>\n",
      "RangeIndex: 4 entries, 0 to 3\n",
      "Data columns (total 3 columns):\n",
      " #   Column  Non-Null Count  Dtype  \n",
      "---  ------  --------------  -----  \n",
      " 0   a       3 non-null      float64\n",
      " 1   b       3 non-null      float64\n",
      " 2   c       4 non-null      int64  \n",
      "dtypes: float64(2), int64(1)\n",
      "memory usage: 224.0 bytes\n"
     ]
    }
   ],
   "source": [
    "df_missing.info()"
   ]
  },
  {
   "cell_type": "markdown",
   "metadata": {},
   "source": [
    "The `missingno` library provides some nice tools for visualizing missing values."
   ]
  },
  {
   "cell_type": "code",
   "execution_count": 34,
   "metadata": {},
   "outputs": [
    {
     "data": {
      "text/plain": [
       "<Axes: >"
      ]
     },
     "execution_count": 34,
     "metadata": {},
     "output_type": "execute_result"
    },
    {
     "data": {
      "image/png": "[encoded data removed]",
      "text/plain": [
       "<Figure size 2500x1000 with 2 Axes>"
      ]
     },
     "metadata": {},
     "output_type": "display_data"
    }
   ],
   "source": [
    "import missingno as msno # again, violates PEP-8\n",
    "msno.matrix(df_missing)"
   ]
  },
  {
   "cell_type": "markdown",
   "metadata": {},
   "source": [
    "We can use the `isna()` method to check for missing values."
   ]
  },
  {
   "cell_type": "code",
   "execution_count": 35,
   "metadata": {},
   "outputs": [
    {
     "data": {
      "text/html": [
       "<div>\n",
       "<style scoped>\n",
       "    .dataframe tbody tr th:only-of-type {\n",
       "        vertical-align: middle;\n",
       "    }\n",
       "\n",
       "    .dataframe tbody tr th {\n",
       "        vertical-align: top;\n",
       "    }\n",
       "\n",
       "    .dataframe thead th {\n",
       "        text-align: right;\n",
       "    }\n",
       "</style>\n",
       "<table border=\"1\" class=\"dataframe\">\n",
       "  <thead>\n",
       "    <tr style=\"text-align: right;\">\n",
       "      <th></th>\n",
       "      <th>a</th>\n",
       "      <th>b</th>\n",
       "      <th>c</th>\n",
       "    </tr>\n",
       "  </thead>\n",
       "  <tbody>\n",
       "    <tr>\n",
       "      <th>0</th>\n",
       "      <td>False</td>\n",
       "      <td>False</td>\n",
       "      <td>False</td>\n",
       "    </tr>\n",
       "    <tr>\n",
       "      <th>1</th>\n",
       "      <td>False</td>\n",
       "      <td>False</td>\n",
       "      <td>False</td>\n",
       "    </tr>\n",
       "    <tr>\n",
       "      <th>2</th>\n",
       "      <td>False</td>\n",
       "      <td>True</td>\n",
       "      <td>False</td>\n",
       "    </tr>\n",
       "    <tr>\n",
       "      <th>3</th>\n",
       "      <td>True</td>\n",
       "      <td>False</td>\n",
       "      <td>False</td>\n",
       "    </tr>\n",
       "  </tbody>\n",
       "</table>\n",
       "</div>"
      ],
      "text/plain": [
       "       a      b      c\n",
       "0  False  False  False\n",
       "1  False  False  False\n",
       "2  False   True  False\n",
       "3   True  False  False"
      ]
     },
     "execution_count": 35,
     "metadata": {},
     "output_type": "execute_result"
    }
   ],
   "source": [
    "df_missing.isna()"
   ]
  },
  {
   "cell_type": "markdown",
   "metadata": {},
   "source": [
    "and we can use the sum method to count the number of missing values in each column:"
   ]
  },
  {
   "cell_type": "code",
   "execution_count": 36,
   "metadata": {},
   "outputs": [
    {
     "data": {
      "text/plain": [
       "a    1\n",
       "b    1\n",
       "c    0\n",
       "dtype: int64"
      ]
     },
     "execution_count": 36,
     "metadata": {},
     "output_type": "execute_result"
    }
   ],
   "source": [
    "df_missing.isna().sum()"
   ]
  },
  {
   "cell_type": "code",
   "execution_count": 37,
   "metadata": {},
   "outputs": [
    {
     "data": {
      "text/html": [
       "<div>\n",
       "<style scoped>\n",
       "    .dataframe tbody tr th:only-of-type {\n",
       "        vertical-align: middle;\n",
       "    }\n",
       "\n",
       "    .dataframe tbody tr th {\n",
       "        vertical-align: top;\n",
       "    }\n",
       "\n",
       "    .dataframe thead th {\n",
       "        text-align: right;\n",
       "    }\n",
       "</style>\n",
       "<table border=\"1\" class=\"dataframe\">\n",
       "  <thead>\n",
       "    <tr style=\"text-align: right;\">\n",
       "      <th></th>\n",
       "      <th>a</th>\n",
       "      <th>b</th>\n",
       "      <th>c</th>\n",
       "    </tr>\n",
       "  </thead>\n",
       "  <tbody>\n",
       "    <tr>\n",
       "      <th>0</th>\n",
       "      <td>1.0</td>\n",
       "      <td>2.0</td>\n",
       "      <td>1</td>\n",
       "    </tr>\n",
       "    <tr>\n",
       "      <th>1</th>\n",
       "      <td>2.0</td>\n",
       "      <td>3.0</td>\n",
       "      <td>2</td>\n",
       "    </tr>\n",
       "  </tbody>\n",
       "</table>\n",
       "</div>"
      ],
      "text/plain": [
       "     a    b  c\n",
       "0  1.0  2.0  1\n",
       "1  2.0  3.0  2"
      ]
     },
     "execution_count": 37,
     "metadata": {},
     "output_type": "execute_result"
    }
   ],
   "source": [
    "df_missing.dropna(how='any') # drop rows with any missing values"
   ]
  },
  {
   "cell_type": "code",
   "execution_count": 38,
   "metadata": {},
   "outputs": [
    {
     "data": {
      "text/html": [
       "<div>\n",
       "<style scoped>\n",
       "    .dataframe tbody tr th:only-of-type {\n",
       "        vertical-align: middle;\n",
       "    }\n",
       "\n",
       "    .dataframe tbody tr th {\n",
       "        vertical-align: top;\n",
       "    }\n",
       "\n",
       "    .dataframe thead th {\n",
       "        text-align: right;\n",
       "    }\n",
       "</style>\n",
       "<table border=\"1\" class=\"dataframe\">\n",
       "  <thead>\n",
       "    <tr style=\"text-align: right;\">\n",
       "      <th></th>\n",
       "      <th>c</th>\n",
       "    </tr>\n",
       "  </thead>\n",
       "  <tbody>\n",
       "    <tr>\n",
       "      <th>0</th>\n",
       "      <td>1</td>\n",
       "    </tr>\n",
       "    <tr>\n",
       "      <th>1</th>\n",
       "      <td>2</td>\n",
       "    </tr>\n",
       "    <tr>\n",
       "      <th>2</th>\n",
       "      <td>3</td>\n",
       "    </tr>\n",
       "    <tr>\n",
       "      <th>3</th>\n",
       "      <td>4</td>\n",
       "    </tr>\n",
       "  </tbody>\n",
       "</table>\n",
       "</div>"
      ],
      "text/plain": [
       "   c\n",
       "0  1\n",
       "1  2\n",
       "2  3\n",
       "3  4"
      ]
     },
     "execution_count": 38,
     "metadata": {},
     "output_type": "execute_result"
    }
   ],
   "source": [
    "df_missing.dropna(axis=1, how='any') # drop columns with any missing values"
   ]
  },
  {
   "cell_type": "code",
   "execution_count": 39,
   "metadata": {},
   "outputs": [
    {
     "data": {
      "text/html": [
       "<div>\n",
       "<style scoped>\n",
       "    .dataframe tbody tr th:only-of-type {\n",
       "        vertical-align: middle;\n",
       "    }\n",
       "\n",
       "    .dataframe tbody tr th {\n",
       "        vertical-align: top;\n",
       "    }\n",
       "\n",
       "    .dataframe thead th {\n",
       "        text-align: right;\n",
       "    }\n",
       "</style>\n",
       "<table border=\"1\" class=\"dataframe\">\n",
       "  <thead>\n",
       "    <tr style=\"text-align: right;\">\n",
       "      <th></th>\n",
       "      <th>a</th>\n",
       "      <th>b</th>\n",
       "      <th>c</th>\n",
       "      <th>d</th>\n",
       "    </tr>\n",
       "  </thead>\n",
       "  <tbody>\n",
       "    <tr>\n",
       "      <th>0</th>\n",
       "      <td>1.0</td>\n",
       "      <td>2.0</td>\n",
       "      <td>1</td>\n",
       "      <td>NaN</td>\n",
       "    </tr>\n",
       "    <tr>\n",
       "      <th>1</th>\n",
       "      <td>2.0</td>\n",
       "      <td>3.0</td>\n",
       "      <td>2</td>\n",
       "      <td>NaN</td>\n",
       "    </tr>\n",
       "    <tr>\n",
       "      <th>2</th>\n",
       "      <td>3.0</td>\n",
       "      <td>NaN</td>\n",
       "      <td>3</td>\n",
       "      <td>NaN</td>\n",
       "    </tr>\n",
       "    <tr>\n",
       "      <th>3</th>\n",
       "      <td>NaN</td>\n",
       "      <td>5.0</td>\n",
       "      <td>4</td>\n",
       "      <td>NaN</td>\n",
       "    </tr>\n",
       "  </tbody>\n",
       "</table>\n",
       "</div>"
      ],
      "text/plain": [
       "     a    b  c   d\n",
       "0  1.0  2.0  1 NaN\n",
       "1  2.0  3.0  2 NaN\n",
       "2  3.0  NaN  3 NaN\n",
       "3  NaN  5.0  4 NaN"
      ]
     },
     "execution_count": 39,
     "metadata": {},
     "output_type": "execute_result"
    }
   ],
   "source": [
    "# add a new column consisting of missing values\n",
    "df_missing['d'] = np.nan\n",
    "df_missing"
   ]
  },
  {
   "cell_type": "code",
   "execution_count": 40,
   "metadata": {},
   "outputs": [
    {
     "data": {
      "text/html": [
       "<div>\n",
       "<style scoped>\n",
       "    .dataframe tbody tr th:only-of-type {\n",
       "        vertical-align: middle;\n",
       "    }\n",
       "\n",
       "    .dataframe tbody tr th {\n",
       "        vertical-align: top;\n",
       "    }\n",
       "\n",
       "    .dataframe thead th {\n",
       "        text-align: right;\n",
       "    }\n",
       "</style>\n",
       "<table border=\"1\" class=\"dataframe\">\n",
       "  <thead>\n",
       "    <tr style=\"text-align: right;\">\n",
       "      <th></th>\n",
       "      <th>a</th>\n",
       "      <th>b</th>\n",
       "      <th>c</th>\n",
       "    </tr>\n",
       "  </thead>\n",
       "  <tbody>\n",
       "    <tr>\n",
       "      <th>0</th>\n",
       "      <td>1.0</td>\n",
       "      <td>2.0</td>\n",
       "      <td>1</td>\n",
       "    </tr>\n",
       "    <tr>\n",
       "      <th>1</th>\n",
       "      <td>2.0</td>\n",
       "      <td>3.0</td>\n",
       "      <td>2</td>\n",
       "    </tr>\n",
       "    <tr>\n",
       "      <th>2</th>\n",
       "      <td>3.0</td>\n",
       "      <td>NaN</td>\n",
       "      <td>3</td>\n",
       "    </tr>\n",
       "    <tr>\n",
       "      <th>3</th>\n",
       "      <td>NaN</td>\n",
       "      <td>5.0</td>\n",
       "      <td>4</td>\n",
       "    </tr>\n",
       "  </tbody>\n",
       "</table>\n",
       "</div>"
      ],
      "text/plain": [
       "     a    b  c\n",
       "0  1.0  2.0  1\n",
       "1  2.0  3.0  2\n",
       "2  3.0  NaN  3\n",
       "3  NaN  5.0  4"
      ]
     },
     "execution_count": 40,
     "metadata": {},
     "output_type": "execute_result"
    }
   ],
   "source": [
    "df_missing.dropna(axis=1, how='all') # drop columns where all values are NaN"
   ]
  },
  {
   "cell_type": "code",
   "execution_count": 41,
   "metadata": {},
   "outputs": [
    {
     "data": {
      "text/html": [
       "<div>\n",
       "<style scoped>\n",
       "    .dataframe tbody tr th:only-of-type {\n",
       "        vertical-align: middle;\n",
       "    }\n",
       "\n",
       "    .dataframe tbody tr th {\n",
       "        vertical-align: top;\n",
       "    }\n",
       "\n",
       "    .dataframe thead th {\n",
       "        text-align: right;\n",
       "    }\n",
       "</style>\n",
       "<table border=\"1\" class=\"dataframe\">\n",
       "  <thead>\n",
       "    <tr style=\"text-align: right;\">\n",
       "      <th></th>\n",
       "      <th>a</th>\n",
       "      <th>b</th>\n",
       "      <th>c</th>\n",
       "      <th>d</th>\n",
       "    </tr>\n",
       "  </thead>\n",
       "  <tbody>\n",
       "    <tr>\n",
       "      <th>0</th>\n",
       "      <td>1.0</td>\n",
       "      <td>2.0</td>\n",
       "      <td>1</td>\n",
       "      <td>NaN</td>\n",
       "    </tr>\n",
       "    <tr>\n",
       "      <th>1</th>\n",
       "      <td>2.0</td>\n",
       "      <td>3.0</td>\n",
       "      <td>2</td>\n",
       "      <td>NaN</td>\n",
       "    </tr>\n",
       "    <tr>\n",
       "      <th>3</th>\n",
       "      <td>NaN</td>\n",
       "      <td>5.0</td>\n",
       "      <td>4</td>\n",
       "      <td>NaN</td>\n",
       "    </tr>\n",
       "  </tbody>\n",
       "</table>\n",
       "</div>"
      ],
      "text/plain": [
       "     a    b  c   d\n",
       "0  1.0  2.0  1 NaN\n",
       "1  2.0  3.0  2 NaN\n",
       "3  NaN  5.0  4 NaN"
      ]
     },
     "execution_count": 41,
     "metadata": {},
     "output_type": "execute_result"
    }
   ],
   "source": [
    "# drop rows that have missing values for column 'b'\n",
    "df_missing.dropna(subset=['b'])"
   ]
  },
  {
   "cell_type": "markdown",
   "metadata": {},
   "source": [
    "### Filling in missing values\n",
    "Sometimes, you don't want to drop missing values, but rather fill them in with some other value.  For example, you might want to fill in missing values with a scalar value, or perhaps with the mean or median of the column.  You can do that using the `fillna()` method.\n",
    "\n",
    "```\n",
    "df.fillna(0) # fill in missing values with 0\n",
    "```\n",
    "\n",
    "```\n",
    "df.fillna(df.mean()) # fill in missing values with the mean of the column\n",
    "```\n",
    "\n",
    "```\n",
    "df.fillna(df.median()) # fill in missing values with the median of the column\n",
    "```"
   ]
  },
  {
   "cell_type": "code",
   "execution_count": null,
   "metadata": {},
   "outputs": [],
   "source": [
    "df_missing.fillna(0) # fill missing values with 0"
   ]
  },
  {
   "cell_type": "markdown",
   "metadata": {},
   "source": [
    "A slightly different approach, and one that's often used in time series analysis, is to fill in missing values with the last known value.  You can do that using the `ffill` method.\n",
    "\n",
    "```\n",
    "df_missing.fillna(method='ffill')\n",
    "```\n",
    "and its counterpart, `bfill`\n",
    "\n",
    "```\n",
    "df_missing.fillna(method='bfill')\n",
    "```"
   ]
  },
  {
   "cell_type": "markdown",
   "metadata": {},
   "source": [
    "### Setting and resetting indexes\n",
    "\n",
    "Let's say we wanted to use the `names` column as the index for our DataFrame.  We can do that using the `set_index()` method.\n",
    "\n",
    "```\n",
    "df.set_index('names')\n",
    "```\n",
    "\n",
    "Note that the `set_index()` method returns a new DataFrame.  It does not modify the original DataFrame.  If we want to modify the original DataFrame, we need to use the `inplace=True` argument.\n",
    "\n",
    "```\n",
    "df.set_index('names', inplace=True)\n",
    "```\n",
    "\n",
    "We can also reset the index (to move the index back into the DataFrame as a column) using the `reset_index()` method.\n",
    "\n",
    "```\n",
    "df.reset_index()\n",
    "```\n",
    "\n",
    "We'll use indexes in the next section when we talk about selecting rows and columns."
   ]
  },
  {
   "cell_type": "markdown",
   "metadata": {},
   "source": [
    "### Filtering rows\n",
    "\n",
    "First, let's set the index to be the `names` column.\n",
    "\n",
    "```\n",
    "df.set_index('names', inplace=True)\n",
    "```\n",
    "\n",
    "The .loc and .iloc indexers are used to select rows and columns from a DataFrame.  The .loc indexer selects rows and columns based on the labels of the rows and columns.  The .iloc indexer selects rows and columns based on the position of the rows and columns.\n",
    "\n",
    "Let's say we wanted to select the row with the label 'one'.  We can do that using the .loc indexer.\n",
    "\n",
    "```\n",
    "df.loc['one']\n",
    "```\n",
    "\n",
    "The .iloc indexer works the same way, but uses the position of the row instead of the label of the row.\n",
    "\n",
    "```\n",
    "df.iloc[0]\n",
    "```\n",
    "\n",
    "#### Boolean filtering (IMPORTANT)\n",
    "\n",
    "Let's say we wanted to select only the rows where the value in the `numbers` column is greater than 3.  We can do that using a boolean expression.\n",
    "\n",
    "```\n",
    "df[df.numbers > 3]\n",
    "```\n",
    "\n",
    "We can also use the `isin()` method to select rows where the value in the `names` column is in a list of values.\n",
    "\n",
    "```\n",
    "df[df.names.isin(['one', 'two', 'three'])]\n",
    "```\n",
    "\n",
    "We can also use the `between()` method to select rows where the value in the `numbers` column is between two values.\n",
    "\n",
    "```\n",
    "df[df.numbers.between(2, 4)]\n",
    "```\n",
    "\n",
    "We can also use the `str.contains()` method to select rows where the value in the `names` column contains a particular string.\n",
    "\n",
    "```\n",
    "df[df.names.str.contains('o')]\n",
    "```\n",
    "\n",
    "Finally, pandas provides the `query()` method, which allows us to use SQL-like syntax to select rows.\n",
    "\n",
    "```\n",
    "df.query('numbers > 3')\n",
    "```\n"
   ]
  },
  {
   "cell_type": "markdown",
   "metadata": {},
   "source": [
    "### Sorting rows\n",
    "\n",
    "Let's say we wanted to sort the rows in our DataFrame by the values in the `numbers` column.  We can do that using the `sort_values()` method.\n",
    "\n",
    "```\n",
    "df.sort_values('numbers')\n",
    "```\n",
    "\n",
    "By default, the `sort_values()` method sorts in ascending order.  We can sort in descending order by setting the `ascending` argument to `False`.\n",
    "\n",
    "```\n",
    "df.sort_values('numbers', ascending=False)\n",
    "```\n",
    "\n",
    "We can also sort by the index using the `sort_index()` method.\n",
    "\n",
    "```\n",
    "df.sort_index()\n",
    "```\n"
   ]
  },
  {
   "cell_type": "markdown",
   "metadata": {},
   "source": [
    "### Grouping rows\n",
    "\n",
    "Let's say we wanted to group the rows in our DataFrame by the values in the `numbers` column.  We can do that using the `groupby()` method.\n",
    "\n",
    "```\n",
    "df.groupby('numbers')\n",
    "```\n",
    "\n",
    "By itself, the `groupby()` method doesn't do much.  It just creates a `DataFrameGroupBy` object.  We need to apply an aggregation function to the `DataFrameGroupBy` object to get anything useful.  For example, we can get the mean of each group using the `mean()` method.\n",
    "\n",
    "```\n",
    "df.groupby('numbers').mean()\n",
    "```\n",
    "\n",
    "We can also apply multiple aggregation functions to the `DataFrameGroupBy` object using the `agg()` method.\n",
    "\n",
    "```\n",
    "df.groupby('numbers').agg(['mean', 'median'])\n",
    "```\n"
   ]
  },
  {
   "cell_type": "markdown",
   "metadata": {},
   "source": [
    "### Basic Plots\n",
    "\n",
    "pandas provides some basic plotting functionality.  We'll use the `plot()` method to create plots.  The `plot()` method takes a `kind` argument that specifies the type of plot to create.  The default is a line plot.\n",
    "\n",
    "For example, generate a histogram of the Age column, filtering out any values that are less than 15 or greater than 100.\n",
    "\n",
    "```\n",
    "df[(df.Age < 100) & (df.Age > 15)].Age.plot.hist()\n",
    "```\n",
    "\n",
    "Another example: generate a bar chart of the output from `value_counts()` of the `benefits` column.\n",
    "\n",
    "```\n",
    "df.benefits.value_counts().plot.bar()\n",
    "```\n",
    "\n"
   ]
  },
  {
   "cell_type": "markdown",
   "metadata": {},
   "source": [
    "## Break (10 minutes)"
   ]
  },
  {
   "cell_type": "markdown",
   "metadata": {},
   "source": [
    "## Hands-on Coding (25 minutes)"
   ]
  },
  {
   "cell_type": "markdown",
   "metadata": {},
   "source": [
    "From https://www.kaggle.com/osmi/mental-health-in-tech-survey\n"
   ]
  },
  {
   "cell_type": "markdown",
   "metadata": {},
   "source": [
    "### Data Description\n",
    "\n",
    "This dataset is from a 2014 survey that measures attitudes towards mental health and frequency of mental health disorders in the tech workplace."
   ]
  },
  {
   "cell_type": "markdown",
   "metadata": {},
   "source": [
    "### Metadata\n",
    "|Field|Description|\n",
    "|:----|:----|\n",
    "|**Timestamp**|\n",
    "|**Age**| \n",
    "|**Gender**\n",
    "|**Country**\n",
    "|**state**| If you live in the United States, which state or territory do you live in?\n",
    "|**self_employed**| Are you self-employed?\n",
    "|**family_history**| Do you have a family history of mental illness?\n",
    "|**treatment**| Have you sought treatment for a mental health condition?\n",
    "|**work_interfere**| If you have a mental health condition, do you feel that it interferes with your work?\n",
    "|**no_employees**| How many employees does your company or organization have?\n",
    "|**remote_work**| Do you work remotely (outside of an office) at least 50% of the time?\n",
    "|**tech_company**| Is your employer primarily a tech company/organization?\n",
    "|**benefits**| Does your employer provide mental health benefits?\n",
    "|**care_options**| Do you know the options for mental health care your employer provides?\n",
    "|**wellness_program**| Has your employer ever discussed mental health as part of an employee wellness program?\n",
    "|**seek_help**| Does your employer provide resources to learn more about mental health issues and how to seek help?\n",
    "|**anonymity**| Is your anonymity protected if you choose to take advantage of mental health or substance abuse treatment resources?\n",
    "|**leave**| How easy is it for you to take medical leave for a mental health condition?\n",
    "|**mental_health_consequence**| Do you think that discussing a mental health issue with your employer would have negative consequences?\n",
    "|**phys_health_consequence**| Do you think that discussing a physical health issue with your employer would have negative consequences?\n",
    "|**coworkers**| Would you be willing to discuss a mental health issue with your coworkers?\n",
    "|**supervisor**| Would you be willing to discuss a mental health issue with your direct supervisor(s)?\n",
    "|**mental_health_interview**| Would you bring up a mental health issue with a potential employer in an interview?\n",
    "|**phys_health_interview**| Would you bring up a physical health issue with a potential employer in an interview?\n",
    "|**mental_vs_physical**| Do you feel that your employer takes mental health as seriously as physical health?\n",
    "|**obs_consequence**| Have you heard of or observed negative consequences for coworkers with mental health conditions in your workplace?\n",
    "|**comments**| Any additional notes or comments\n",
    "\n"
   ]
  },
  {
   "cell_type": "markdown",
   "metadata": {},
   "source": [
    "Then read the CSV file into a DataFrame:"
   ]
  },
  {
   "cell_type": "markdown",
   "metadata": {},
   "source": [
    "NOTE: MacOS users may need to run the Install Certificates.command script located in the Python 3 folder in order to avoid SSL errors when using the requests library."
   ]
  },
  {
   "cell_type": "code",
   "execution_count": 99,
   "metadata": {},
   "outputs": [],
   "source": [
    "df = pd.read_csv(\"https://raw.githubusercontent.com/umsi-data-science/data/main/survey.csv\")"
   ]
  },
  {
   "cell_type": "markdown",
   "metadata": {},
   "source": [
    "It's common to look at the resulting DataFrame using .head()"
   ]
  },
  {
   "cell_type": "code",
   "execution_count": 100,
   "metadata": {},
   "outputs": [
    {
     "data": {
      "text/html": [
       "<div>\n",
       "<style scoped>\n",
       "    .dataframe tbody tr th:only-of-type {\n",
       "        vertical-align: middle;\n",
       "    }\n",
       "\n",
       "    .dataframe tbody tr th {\n",
       "        vertical-align: top;\n",
       "    }\n",
       "\n",
       "    .dataframe thead th {\n",
       "        text-align: right;\n",
       "    }\n",
       "</style>\n",
       "<table border=\"1\" class=\"dataframe\">\n",
       "  <thead>\n",
       "    <tr style=\"text-align: right;\">\n",
       "      <th></th>\n",
       "      <th>Timestamp</th>\n",
       "      <th>Age</th>\n",
       "      <th>Gender</th>\n",
       "      <th>Country</th>\n",
       "      <th>state</th>\n",
       "      <th>self_employed</th>\n",
       "      <th>family_history</th>\n",
       "      <th>treatment</th>\n",
       "      <th>work_interfere</th>\n",
       "      <th>no_employees</th>\n",
       "      <th>...</th>\n",
       "      <th>leave</th>\n",
       "      <th>mental_health_consequence</th>\n",
       "      <th>phys_health_consequence</th>\n",
       "      <th>coworkers</th>\n",
       "      <th>supervisor</th>\n",
       "      <th>mental_health_interview</th>\n",
       "      <th>phys_health_interview</th>\n",
       "      <th>mental_vs_physical</th>\n",
       "      <th>obs_consequence</th>\n",
       "      <th>comments</th>\n",
       "    </tr>\n",
       "  </thead>\n",
       "  <tbody>\n",
       "    <tr>\n",
       "      <th>0</th>\n",
       "      <td>2014-08-27 11:29:31</td>\n",
       "      <td>37</td>\n",
       "      <td>Female</td>\n",
       "      <td>United States</td>\n",
       "      <td>IL</td>\n",
       "      <td>NaN</td>\n",
       "      <td>No</td>\n",
       "      <td>Yes</td>\n",
       "      <td>Often</td>\n",
       "      <td>6-25</td>\n",
       "      <td>...</td>\n",
       "      <td>Somewhat easy</td>\n",
       "      <td>No</td>\n",
       "      <td>No</td>\n",
       "      <td>Some of them</td>\n",
       "      <td>Yes</td>\n",
       "      <td>No</td>\n",
       "      <td>Maybe</td>\n",
       "      <td>Yes</td>\n",
       "      <td>No</td>\n",
       "      <td>NaN</td>\n",
       "    </tr>\n",
       "    <tr>\n",
       "      <th>1</th>\n",
       "      <td>2014-08-27 11:29:37</td>\n",
       "      <td>44</td>\n",
       "      <td>M</td>\n",
       "      <td>United States</td>\n",
       "      <td>IN</td>\n",
       "      <td>NaN</td>\n",
       "      <td>No</td>\n",
       "      <td>No</td>\n",
       "      <td>Rarely</td>\n",
       "      <td>More than 1000</td>\n",
       "      <td>...</td>\n",
       "      <td>Don't know</td>\n",
       "      <td>Maybe</td>\n",
       "      <td>No</td>\n",
       "      <td>No</td>\n",
       "      <td>No</td>\n",
       "      <td>No</td>\n",
       "      <td>No</td>\n",
       "      <td>Don't know</td>\n",
       "      <td>No</td>\n",
       "      <td>NaN</td>\n",
       "    </tr>\n",
       "    <tr>\n",
       "      <th>2</th>\n",
       "      <td>2014-08-27 11:29:44</td>\n",
       "      <td>32</td>\n",
       "      <td>Male</td>\n",
       "      <td>Canada</td>\n",
       "      <td>NaN</td>\n",
       "      <td>NaN</td>\n",
       "      <td>No</td>\n",
       "      <td>No</td>\n",
       "      <td>Rarely</td>\n",
       "      <td>6-25</td>\n",
       "      <td>...</td>\n",
       "      <td>Somewhat difficult</td>\n",
       "      <td>No</td>\n",
       "      <td>No</td>\n",
       "      <td>Yes</td>\n",
       "      <td>Yes</td>\n",
       "      <td>Yes</td>\n",
       "      <td>Yes</td>\n",
       "      <td>No</td>\n",
       "      <td>No</td>\n",
       "      <td>NaN</td>\n",
       "    </tr>\n",
       "    <tr>\n",
       "      <th>3</th>\n",
       "      <td>2014-08-27 11:29:46</td>\n",
       "      <td>31</td>\n",
       "      <td>Male</td>\n",
       "      <td>United Kingdom</td>\n",
       "      <td>NaN</td>\n",
       "      <td>NaN</td>\n",
       "      <td>Yes</td>\n",
       "      <td>Yes</td>\n",
       "      <td>Often</td>\n",
       "      <td>26-100</td>\n",
       "      <td>...</td>\n",
       "      <td>Somewhat difficult</td>\n",
       "      <td>Yes</td>\n",
       "      <td>Yes</td>\n",
       "      <td>Some of them</td>\n",
       "      <td>No</td>\n",
       "      <td>Maybe</td>\n",
       "      <td>Maybe</td>\n",
       "      <td>No</td>\n",
       "      <td>Yes</td>\n",
       "      <td>NaN</td>\n",
       "    </tr>\n",
       "    <tr>\n",
       "      <th>4</th>\n",
       "      <td>2014-08-27 11:30:22</td>\n",
       "      <td>31</td>\n",
       "      <td>Male</td>\n",
       "      <td>United States</td>\n",
       "      <td>TX</td>\n",
       "      <td>NaN</td>\n",
       "      <td>No</td>\n",
       "      <td>No</td>\n",
       "      <td>Never</td>\n",
       "      <td>100-500</td>\n",
       "      <td>...</td>\n",
       "      <td>Don't know</td>\n",
       "      <td>No</td>\n",
       "      <td>No</td>\n",
       "      <td>Some of them</td>\n",
       "      <td>Yes</td>\n",
       "      <td>Yes</td>\n",
       "      <td>Yes</td>\n",
       "      <td>Don't know</td>\n",
       "      <td>No</td>\n",
       "      <td>NaN</td>\n",
       "    </tr>\n",
       "  </tbody>\n",
       "</table>\n",
       "<p>5 rows × 27 columns</p>\n",
       "</div>"
      ],
      "text/plain": [
       "             Timestamp  Age  Gender         Country state self_employed  \\\n",
       "0  2014-08-27 11:29:31   37  Female   United States    IL           NaN   \n",
       "1  2014-08-27 11:29:37   44       M   United States    IN           NaN   \n",
       "2  2014-08-27 11:29:44   32    Male          Canada   NaN           NaN   \n",
       "3  2014-08-27 11:29:46   31    Male  United Kingdom   NaN           NaN   \n",
       "4  2014-08-27 11:30:22   31    Male   United States    TX           NaN   \n",
       "\n",
       "  family_history treatment work_interfere    no_employees  ...  \\\n",
       "0             No       Yes          Often            6-25  ...   \n",
       "1             No        No         Rarely  More than 1000  ...   \n",
       "2             No        No         Rarely            6-25  ...   \n",
       "3            Yes       Yes          Often          26-100  ...   \n",
       "4             No        No          Never         100-500  ...   \n",
       "\n",
       "                leave mental_health_consequence phys_health_consequence  \\\n",
       "0       Somewhat easy                        No                      No   \n",
       "1          Don't know                     Maybe                      No   \n",
       "2  Somewhat difficult                        No                      No   \n",
       "3  Somewhat difficult                       Yes                     Yes   \n",
       "4          Don't know                        No                      No   \n",
       "\n",
       "      coworkers supervisor mental_health_interview phys_health_interview  \\\n",
       "0  Some of them        Yes                      No                 Maybe   \n",
       "1            No         No                      No                    No   \n",
       "2           Yes        Yes                     Yes                   Yes   \n",
       "3  Some of them         No                   Maybe                 Maybe   \n",
       "4  Some of them        Yes                     Yes                   Yes   \n",
       "\n",
       "  mental_vs_physical obs_consequence comments  \n",
       "0                Yes              No      NaN  \n",
       "1         Don't know              No      NaN  \n",
       "2                 No              No      NaN  \n",
       "3                 No             Yes      NaN  \n",
       "4         Don't know              No      NaN  \n",
       "\n",
       "[5 rows x 27 columns]"
      ]
     },
     "execution_count": 100,
     "metadata": {},
     "output_type": "execute_result"
    }
   ],
   "source": [
    "df.head()"
   ]
  },
  {
   "cell_type": "markdown",
   "metadata": {},
   "source": [
    "If you want to look at a random sample, you can use .sample()"
   ]
  },
  {
   "cell_type": "code",
   "execution_count": 101,
   "metadata": {},
   "outputs": [
    {
     "data": {
      "text/html": [
       "<div>\n",
       "<style scoped>\n",
       "    .dataframe tbody tr th:only-of-type {\n",
       "        vertical-align: middle;\n",
       "    }\n",
       "\n",
       "    .dataframe tbody tr th {\n",
       "        vertical-align: top;\n",
       "    }\n",
       "\n",
       "    .dataframe thead th {\n",
       "        text-align: right;\n",
       "    }\n",
       "</style>\n",
       "<table border=\"1\" class=\"dataframe\">\n",
       "  <thead>\n",
       "    <tr style=\"text-align: right;\">\n",
       "      <th></th>\n",
       "      <th>Timestamp</th>\n",
       "      <th>Age</th>\n",
       "      <th>Gender</th>\n",
       "      <th>Country</th>\n",
       "      <th>state</th>\n",
       "      <th>self_employed</th>\n",
       "      <th>family_history</th>\n",
       "      <th>treatment</th>\n",
       "      <th>work_interfere</th>\n",
       "      <th>no_employees</th>\n",
       "      <th>...</th>\n",
       "      <th>leave</th>\n",
       "      <th>mental_health_consequence</th>\n",
       "      <th>phys_health_consequence</th>\n",
       "      <th>coworkers</th>\n",
       "      <th>supervisor</th>\n",
       "      <th>mental_health_interview</th>\n",
       "      <th>phys_health_interview</th>\n",
       "      <th>mental_vs_physical</th>\n",
       "      <th>obs_consequence</th>\n",
       "      <th>comments</th>\n",
       "    </tr>\n",
       "  </thead>\n",
       "  <tbody>\n",
       "    <tr>\n",
       "      <th>1021</th>\n",
       "      <td>2014-08-29 10:06:29</td>\n",
       "      <td>30</td>\n",
       "      <td>Female</td>\n",
       "      <td>United States</td>\n",
       "      <td>GA</td>\n",
       "      <td>No</td>\n",
       "      <td>Yes</td>\n",
       "      <td>Yes</td>\n",
       "      <td>Sometimes</td>\n",
       "      <td>500-1000</td>\n",
       "      <td>...</td>\n",
       "      <td>Somewhat easy</td>\n",
       "      <td>Maybe</td>\n",
       "      <td>Maybe</td>\n",
       "      <td>Some of them</td>\n",
       "      <td>Some of them</td>\n",
       "      <td>No</td>\n",
       "      <td>No</td>\n",
       "      <td>No</td>\n",
       "      <td>Yes</td>\n",
       "      <td>NaN</td>\n",
       "    </tr>\n",
       "    <tr>\n",
       "      <th>1116</th>\n",
       "      <td>2014-08-30 14:00:22</td>\n",
       "      <td>40</td>\n",
       "      <td>Male</td>\n",
       "      <td>United Kingdom</td>\n",
       "      <td>NaN</td>\n",
       "      <td>No</td>\n",
       "      <td>No</td>\n",
       "      <td>Yes</td>\n",
       "      <td>Never</td>\n",
       "      <td>100-500</td>\n",
       "      <td>...</td>\n",
       "      <td>Very easy</td>\n",
       "      <td>Maybe</td>\n",
       "      <td>No</td>\n",
       "      <td>Yes</td>\n",
       "      <td>Some of them</td>\n",
       "      <td>No</td>\n",
       "      <td>Maybe</td>\n",
       "      <td>Don't know</td>\n",
       "      <td>No</td>\n",
       "      <td>NaN</td>\n",
       "    </tr>\n",
       "    <tr>\n",
       "      <th>908</th>\n",
       "      <td>2014-08-28 18:07:42</td>\n",
       "      <td>36</td>\n",
       "      <td>Male</td>\n",
       "      <td>United States</td>\n",
       "      <td>TN</td>\n",
       "      <td>No</td>\n",
       "      <td>No</td>\n",
       "      <td>Yes</td>\n",
       "      <td>Rarely</td>\n",
       "      <td>500-1000</td>\n",
       "      <td>...</td>\n",
       "      <td>Don't know</td>\n",
       "      <td>Maybe</td>\n",
       "      <td>No</td>\n",
       "      <td>No</td>\n",
       "      <td>No</td>\n",
       "      <td>No</td>\n",
       "      <td>Maybe</td>\n",
       "      <td>Don't know</td>\n",
       "      <td>No</td>\n",
       "      <td>NaN</td>\n",
       "    </tr>\n",
       "    <tr>\n",
       "      <th>261</th>\n",
       "      <td>2014-08-27 13:52:05</td>\n",
       "      <td>27</td>\n",
       "      <td>Male</td>\n",
       "      <td>Canada</td>\n",
       "      <td>NaN</td>\n",
       "      <td>No</td>\n",
       "      <td>No</td>\n",
       "      <td>No</td>\n",
       "      <td>Sometimes</td>\n",
       "      <td>6-25</td>\n",
       "      <td>...</td>\n",
       "      <td>Very difficult</td>\n",
       "      <td>Yes</td>\n",
       "      <td>Yes</td>\n",
       "      <td>Some of them</td>\n",
       "      <td>Some of them</td>\n",
       "      <td>No</td>\n",
       "      <td>Maybe</td>\n",
       "      <td>No</td>\n",
       "      <td>No</td>\n",
       "      <td>NaN</td>\n",
       "    </tr>\n",
       "    <tr>\n",
       "      <th>525</th>\n",
       "      <td>2014-08-27 17:32:04</td>\n",
       "      <td>41</td>\n",
       "      <td>Female</td>\n",
       "      <td>United States</td>\n",
       "      <td>NaN</td>\n",
       "      <td>No</td>\n",
       "      <td>Yes</td>\n",
       "      <td>Yes</td>\n",
       "      <td>Rarely</td>\n",
       "      <td>500-1000</td>\n",
       "      <td>...</td>\n",
       "      <td>Very easy</td>\n",
       "      <td>Maybe</td>\n",
       "      <td>Maybe</td>\n",
       "      <td>Some of them</td>\n",
       "      <td>Some of them</td>\n",
       "      <td>No</td>\n",
       "      <td>No</td>\n",
       "      <td>Yes</td>\n",
       "      <td>No</td>\n",
       "      <td>NaN</td>\n",
       "    </tr>\n",
       "  </tbody>\n",
       "</table>\n",
       "<p>5 rows × 27 columns</p>\n",
       "</div>"
      ],
      "text/plain": [
       "                Timestamp  Age  Gender         Country state self_employed  \\\n",
       "1021  2014-08-29 10:06:29   30  Female   United States    GA            No   \n",
       "1116  2014-08-30 14:00:22   40    Male  United Kingdom   NaN            No   \n",
       "908   2014-08-28 18:07:42   36    Male   United States    TN            No   \n",
       "261   2014-08-27 13:52:05   27    Male          Canada   NaN            No   \n",
       "525   2014-08-27 17:32:04   41  Female   United States   NaN            No   \n",
       "\n",
       "     family_history treatment work_interfere no_employees  ...  \\\n",
       "1021            Yes       Yes      Sometimes     500-1000  ...   \n",
       "1116             No       Yes          Never      100-500  ...   \n",
       "908              No       Yes         Rarely     500-1000  ...   \n",
       "261              No        No      Sometimes         6-25  ...   \n",
       "525             Yes       Yes         Rarely     500-1000  ...   \n",
       "\n",
       "               leave mental_health_consequence phys_health_consequence  \\\n",
       "1021   Somewhat easy                     Maybe                   Maybe   \n",
       "1116       Very easy                     Maybe                      No   \n",
       "908       Don't know                     Maybe                      No   \n",
       "261   Very difficult                       Yes                     Yes   \n",
       "525        Very easy                     Maybe                   Maybe   \n",
       "\n",
       "         coworkers    supervisor mental_health_interview  \\\n",
       "1021  Some of them  Some of them                      No   \n",
       "1116           Yes  Some of them                      No   \n",
       "908             No            No                      No   \n",
       "261   Some of them  Some of them                      No   \n",
       "525   Some of them  Some of them                      No   \n",
       "\n",
       "     phys_health_interview mental_vs_physical obs_consequence comments  \n",
       "1021                    No                 No             Yes      NaN  \n",
       "1116                 Maybe         Don't know              No      NaN  \n",
       "908                  Maybe         Don't know              No      NaN  \n",
       "261                  Maybe                 No              No      NaN  \n",
       "525                     No                Yes              No      NaN  \n",
       "\n",
       "[5 rows x 27 columns]"
      ]
     },
     "execution_count": 101,
     "metadata": {},
     "output_type": "execute_result"
    }
   ],
   "source": [
    "df.sample(5)"
   ]
  },
  {
   "cell_type": "markdown",
   "metadata": {},
   "source": [
    "Finally, you can get some basic information about the size and shape of the DataFrame:"
   ]
  },
  {
   "cell_type": "code",
   "execution_count": 102,
   "metadata": {},
   "outputs": [
    {
     "name": "stdout",
     "output_type": "stream",
     "text": [
      "The number of rows of the dataset is:  1259\n",
      "The number of columns of the dataset is:  27\n",
      "The shape of the dataset is:  (1259, 27)\n"
     ]
    }
   ],
   "source": [
    "print(\"The number of rows of the dataset is: \", len(df))\n",
    "print(\"The number of columns of the dataset is: \", len(df.columns))\n",
    "print(\"The shape of the dataset is: \", df.shape)"
   ]
  },
  {
   "cell_type": "markdown",
   "metadata": {},
   "source": [
    "You can list the columns:\n"
   ]
  },
  {
   "cell_type": "code",
   "execution_count": 103,
   "metadata": {},
   "outputs": [
    {
     "data": {
      "text/plain": [
       "Index(['Timestamp', 'Age', 'Gender', 'Country', 'state', 'self_employed',\n",
       "       'family_history', 'treatment', 'work_interfere', 'no_employees',\n",
       "       'remote_work', 'tech_company', 'benefits', 'care_options',\n",
       "       'wellness_program', 'seek_help', 'anonymity', 'leave',\n",
       "       'mental_health_consequence', 'phys_health_consequence', 'coworkers',\n",
       "       'supervisor', 'mental_health_interview', 'phys_health_interview',\n",
       "       'mental_vs_physical', 'obs_consequence', 'comments'],\n",
       "      dtype='object')"
      ]
     },
     "execution_count": 103,
     "metadata": {},
     "output_type": "execute_result"
    }
   ],
   "source": [
    "df.columns"
   ]
  },
  {
   "cell_type": "markdown",
   "metadata": {},
   "source": [
    "And you can extract one or more columns.  The following pair of \n",
    "commands do exactly the same thing:"
   ]
  },
  {
   "cell_type": "code",
   "execution_count": 104,
   "metadata": {},
   "outputs": [
    {
     "name": "stdout",
     "output_type": "stream",
     "text": [
      "0        United States\n",
      "1        United States\n",
      "2               Canada\n",
      "3       United Kingdom\n",
      "4        United States\n",
      "             ...      \n",
      "1254    United Kingdom\n",
      "1255     United States\n",
      "1256     United States\n",
      "1257     United States\n",
      "1258     United States\n",
      "Name: Country, Length: 1259, dtype: object\n"
     ]
    }
   ],
   "source": [
    "print(df['Country'])"
   ]
  },
  {
   "cell_type": "code",
   "execution_count": 105,
   "metadata": {},
   "outputs": [
    {
     "data": {
      "text/html": [
       "<div>\n",
       "<style scoped>\n",
       "    .dataframe tbody tr th:only-of-type {\n",
       "        vertical-align: middle;\n",
       "    }\n",
       "\n",
       "    .dataframe tbody tr th {\n",
       "        vertical-align: top;\n",
       "    }\n",
       "\n",
       "    .dataframe thead th {\n",
       "        text-align: right;\n",
       "    }\n",
       "</style>\n",
       "<table border=\"1\" class=\"dataframe\">\n",
       "  <thead>\n",
       "    <tr style=\"text-align: right;\">\n",
       "      <th></th>\n",
       "      <th>Country</th>\n",
       "      <th>state</th>\n",
       "    </tr>\n",
       "  </thead>\n",
       "  <tbody>\n",
       "    <tr>\n",
       "      <th>0</th>\n",
       "      <td>United States</td>\n",
       "      <td>IL</td>\n",
       "    </tr>\n",
       "    <tr>\n",
       "      <th>1</th>\n",
       "      <td>United States</td>\n",
       "      <td>IN</td>\n",
       "    </tr>\n",
       "    <tr>\n",
       "      <th>2</th>\n",
       "      <td>Canada</td>\n",
       "      <td>NaN</td>\n",
       "    </tr>\n",
       "    <tr>\n",
       "      <th>3</th>\n",
       "      <td>United Kingdom</td>\n",
       "      <td>NaN</td>\n",
       "    </tr>\n",
       "    <tr>\n",
       "      <th>4</th>\n",
       "      <td>United States</td>\n",
       "      <td>TX</td>\n",
       "    </tr>\n",
       "  </tbody>\n",
       "</table>\n",
       "</div>"
      ],
      "text/plain": [
       "          Country state\n",
       "0   United States    IL\n",
       "1   United States    IN\n",
       "2          Canada   NaN\n",
       "3  United Kingdom   NaN\n",
       "4   United States    TX"
      ]
     },
     "execution_count": 105,
     "metadata": {},
     "output_type": "execute_result"
    }
   ],
   "source": [
    "country_state = df[['Country', 'state']]\n",
    "country_state.head()"
   ]
  },
  {
   "cell_type": "code",
   "execution_count": 106,
   "metadata": {},
   "outputs": [
    {
     "data": {
      "text/plain": [
       "Timestamp                    2014-08-27 11:29:31\n",
       "Age                                           37\n",
       "Gender                                    Female\n",
       "Country                            United States\n",
       "state                                         IL\n",
       "self_employed                                NaN\n",
       "family_history                                No\n",
       "treatment                                    Yes\n",
       "work_interfere                             Often\n",
       "no_employees                                6-25\n",
       "remote_work                                   No\n",
       "tech_company                                 Yes\n",
       "benefits                                     Yes\n",
       "care_options                            Not sure\n",
       "wellness_program                              No\n",
       "seek_help                                    Yes\n",
       "anonymity                                    Yes\n",
       "leave                              Somewhat easy\n",
       "mental_health_consequence                     No\n",
       "phys_health_consequence                       No\n",
       "coworkers                           Some of them\n",
       "supervisor                                   Yes\n",
       "mental_health_interview                       No\n",
       "phys_health_interview                      Maybe\n",
       "mental_vs_physical                           Yes\n",
       "obs_consequence                               No\n",
       "comments                                     NaN\n",
       "Name: 0, dtype: object"
      ]
     },
     "execution_count": 106,
     "metadata": {},
     "output_type": "execute_result"
    }
   ],
   "source": [
    "# iloc is used to access rows and columns by integer index\n",
    "df.iloc[0]"
   ]
  },
  {
   "cell_type": "code",
   "execution_count": 107,
   "metadata": {},
   "outputs": [
    {
     "data": {
      "text/plain": [
       "Timestamp                    2014-08-27 11:29:31\n",
       "Age                                           37\n",
       "Gender                                    Female\n",
       "Country                            United States\n",
       "state                                         IL\n",
       "self_employed                                NaN\n",
       "family_history                                No\n",
       "treatment                                    Yes\n",
       "work_interfere                             Often\n",
       "no_employees                                6-25\n",
       "remote_work                                   No\n",
       "tech_company                                 Yes\n",
       "benefits                                     Yes\n",
       "care_options                            Not sure\n",
       "wellness_program                              No\n",
       "seek_help                                    Yes\n",
       "anonymity                                    Yes\n",
       "leave                              Somewhat easy\n",
       "mental_health_consequence                     No\n",
       "phys_health_consequence                       No\n",
       "coworkers                           Some of them\n",
       "supervisor                                   Yes\n",
       "mental_health_interview                       No\n",
       "phys_health_interview                      Maybe\n",
       "mental_vs_physical                           Yes\n",
       "obs_consequence                               No\n",
       "comments                                     NaN\n",
       "Name: 0, dtype: object"
      ]
     },
     "execution_count": 107,
     "metadata": {},
     "output_type": "execute_result"
    }
   ],
   "source": [
    "df.loc[0]"
   ]
  },
  {
   "cell_type": "code",
   "execution_count": 108,
   "metadata": {},
   "outputs": [],
   "source": [
    "df_gender = df.set_index('Gender')"
   ]
  },
  {
   "cell_type": "code",
   "execution_count": 109,
   "metadata": {},
   "outputs": [
    {
     "data": {
      "text/html": [
       "<div>\n",
       "<style scoped>\n",
       "    .dataframe tbody tr th:only-of-type {\n",
       "        vertical-align: middle;\n",
       "    }\n",
       "\n",
       "    .dataframe tbody tr th {\n",
       "        vertical-align: top;\n",
       "    }\n",
       "\n",
       "    .dataframe thead th {\n",
       "        text-align: right;\n",
       "    }\n",
       "</style>\n",
       "<table border=\"1\" class=\"dataframe\">\n",
       "  <thead>\n",
       "    <tr style=\"text-align: right;\">\n",
       "      <th></th>\n",
       "      <th>Timestamp</th>\n",
       "      <th>Age</th>\n",
       "      <th>Country</th>\n",
       "      <th>state</th>\n",
       "      <th>self_employed</th>\n",
       "      <th>family_history</th>\n",
       "      <th>treatment</th>\n",
       "      <th>work_interfere</th>\n",
       "      <th>no_employees</th>\n",
       "      <th>remote_work</th>\n",
       "      <th>...</th>\n",
       "      <th>leave</th>\n",
       "      <th>mental_health_consequence</th>\n",
       "      <th>phys_health_consequence</th>\n",
       "      <th>coworkers</th>\n",
       "      <th>supervisor</th>\n",
       "      <th>mental_health_interview</th>\n",
       "      <th>phys_health_interview</th>\n",
       "      <th>mental_vs_physical</th>\n",
       "      <th>obs_consequence</th>\n",
       "      <th>comments</th>\n",
       "    </tr>\n",
       "    <tr>\n",
       "      <th>Gender</th>\n",
       "      <th></th>\n",
       "      <th></th>\n",
       "      <th></th>\n",
       "      <th></th>\n",
       "      <th></th>\n",
       "      <th></th>\n",
       "      <th></th>\n",
       "      <th></th>\n",
       "      <th></th>\n",
       "      <th></th>\n",
       "      <th></th>\n",
       "      <th></th>\n",
       "      <th></th>\n",
       "      <th></th>\n",
       "      <th></th>\n",
       "      <th></th>\n",
       "      <th></th>\n",
       "      <th></th>\n",
       "      <th></th>\n",
       "      <th></th>\n",
       "      <th></th>\n",
       "    </tr>\n",
       "  </thead>\n",
       "  <tbody>\n",
       "    <tr>\n",
       "      <th>Female</th>\n",
       "      <td>2014-08-27 11:29:31</td>\n",
       "      <td>37</td>\n",
       "      <td>United States</td>\n",
       "      <td>IL</td>\n",
       "      <td>NaN</td>\n",
       "      <td>No</td>\n",
       "      <td>Yes</td>\n",
       "      <td>Often</td>\n",
       "      <td>6-25</td>\n",
       "      <td>No</td>\n",
       "      <td>...</td>\n",
       "      <td>Somewhat easy</td>\n",
       "      <td>No</td>\n",
       "      <td>No</td>\n",
       "      <td>Some of them</td>\n",
       "      <td>Yes</td>\n",
       "      <td>No</td>\n",
       "      <td>Maybe</td>\n",
       "      <td>Yes</td>\n",
       "      <td>No</td>\n",
       "      <td>NaN</td>\n",
       "    </tr>\n",
       "    <tr>\n",
       "      <th>Female</th>\n",
       "      <td>2014-08-27 11:31:50</td>\n",
       "      <td>35</td>\n",
       "      <td>United States</td>\n",
       "      <td>MI</td>\n",
       "      <td>NaN</td>\n",
       "      <td>Yes</td>\n",
       "      <td>Yes</td>\n",
       "      <td>Sometimes</td>\n",
       "      <td>1-5</td>\n",
       "      <td>Yes</td>\n",
       "      <td>...</td>\n",
       "      <td>Somewhat difficult</td>\n",
       "      <td>Maybe</td>\n",
       "      <td>Maybe</td>\n",
       "      <td>Some of them</td>\n",
       "      <td>No</td>\n",
       "      <td>No</td>\n",
       "      <td>No</td>\n",
       "      <td>Don't know</td>\n",
       "      <td>No</td>\n",
       "      <td>NaN</td>\n",
       "    </tr>\n",
       "    <tr>\n",
       "      <th>Female</th>\n",
       "      <td>2014-08-27 11:32:39</td>\n",
       "      <td>42</td>\n",
       "      <td>United States</td>\n",
       "      <td>IL</td>\n",
       "      <td>NaN</td>\n",
       "      <td>Yes</td>\n",
       "      <td>Yes</td>\n",
       "      <td>Sometimes</td>\n",
       "      <td>100-500</td>\n",
       "      <td>No</td>\n",
       "      <td>...</td>\n",
       "      <td>Very difficult</td>\n",
       "      <td>Maybe</td>\n",
       "      <td>No</td>\n",
       "      <td>Yes</td>\n",
       "      <td>Yes</td>\n",
       "      <td>No</td>\n",
       "      <td>Maybe</td>\n",
       "      <td>No</td>\n",
       "      <td>No</td>\n",
       "      <td>NaN</td>\n",
       "    </tr>\n",
       "    <tr>\n",
       "      <th>Female</th>\n",
       "      <td>2014-08-27 11:37:59</td>\n",
       "      <td>35</td>\n",
       "      <td>United States</td>\n",
       "      <td>CA</td>\n",
       "      <td>No</td>\n",
       "      <td>Yes</td>\n",
       "      <td>Yes</td>\n",
       "      <td>Rarely</td>\n",
       "      <td>6-25</td>\n",
       "      <td>Yes</td>\n",
       "      <td>...</td>\n",
       "      <td>Don't know</td>\n",
       "      <td>No</td>\n",
       "      <td>No</td>\n",
       "      <td>Yes</td>\n",
       "      <td>Yes</td>\n",
       "      <td>Maybe</td>\n",
       "      <td>Maybe</td>\n",
       "      <td>Yes</td>\n",
       "      <td>No</td>\n",
       "      <td>NaN</td>\n",
       "    </tr>\n",
       "    <tr>\n",
       "      <th>Female</th>\n",
       "      <td>2014-08-27 11:43:36</td>\n",
       "      <td>38</td>\n",
       "      <td>United States</td>\n",
       "      <td>TX</td>\n",
       "      <td>No</td>\n",
       "      <td>Yes</td>\n",
       "      <td>Yes</td>\n",
       "      <td>Sometimes</td>\n",
       "      <td>26-100</td>\n",
       "      <td>No</td>\n",
       "      <td>...</td>\n",
       "      <td>Somewhat easy</td>\n",
       "      <td>No</td>\n",
       "      <td>No</td>\n",
       "      <td>Some of them</td>\n",
       "      <td>Yes</td>\n",
       "      <td>No</td>\n",
       "      <td>No</td>\n",
       "      <td>Yes</td>\n",
       "      <td>No</td>\n",
       "      <td>Our health plan has covered my psychotherapy a...</td>\n",
       "    </tr>\n",
       "    <tr>\n",
       "      <th>...</th>\n",
       "      <td>...</td>\n",
       "      <td>...</td>\n",
       "      <td>...</td>\n",
       "      <td>...</td>\n",
       "      <td>...</td>\n",
       "      <td>...</td>\n",
       "      <td>...</td>\n",
       "      <td>...</td>\n",
       "      <td>...</td>\n",
       "      <td>...</td>\n",
       "      <td>...</td>\n",
       "      <td>...</td>\n",
       "      <td>...</td>\n",
       "      <td>...</td>\n",
       "      <td>...</td>\n",
       "      <td>...</td>\n",
       "      <td>...</td>\n",
       "      <td>...</td>\n",
       "      <td>...</td>\n",
       "      <td>...</td>\n",
       "      <td>...</td>\n",
       "    </tr>\n",
       "    <tr>\n",
       "      <th>Female</th>\n",
       "      <td>2015-02-21 05:11:37</td>\n",
       "      <td>28</td>\n",
       "      <td>United States</td>\n",
       "      <td>TX</td>\n",
       "      <td>No</td>\n",
       "      <td>No</td>\n",
       "      <td>Yes</td>\n",
       "      <td>Rarely</td>\n",
       "      <td>6-25</td>\n",
       "      <td>No</td>\n",
       "      <td>...</td>\n",
       "      <td>Somewhat easy</td>\n",
       "      <td>Yes</td>\n",
       "      <td>Yes</td>\n",
       "      <td>Some of them</td>\n",
       "      <td>No</td>\n",
       "      <td>No</td>\n",
       "      <td>No</td>\n",
       "      <td>No</td>\n",
       "      <td>Yes</td>\n",
       "      <td>NaN</td>\n",
       "    </tr>\n",
       "    <tr>\n",
       "      <th>Female</th>\n",
       "      <td>2015-02-21 09:18:20</td>\n",
       "      <td>34</td>\n",
       "      <td>United Kingdom</td>\n",
       "      <td>NaN</td>\n",
       "      <td>No</td>\n",
       "      <td>No</td>\n",
       "      <td>Yes</td>\n",
       "      <td>Sometimes</td>\n",
       "      <td>More than 1000</td>\n",
       "      <td>No</td>\n",
       "      <td>...</td>\n",
       "      <td>Somewhat difficult</td>\n",
       "      <td>Maybe</td>\n",
       "      <td>Maybe</td>\n",
       "      <td>Some of them</td>\n",
       "      <td>Yes</td>\n",
       "      <td>No</td>\n",
       "      <td>Maybe</td>\n",
       "      <td>No</td>\n",
       "      <td>Yes</td>\n",
       "      <td>NaN</td>\n",
       "    </tr>\n",
       "    <tr>\n",
       "      <th>Female</th>\n",
       "      <td>2015-02-21 18:54:12</td>\n",
       "      <td>32</td>\n",
       "      <td>Ireland</td>\n",
       "      <td>NaN</td>\n",
       "      <td>No</td>\n",
       "      <td>Yes</td>\n",
       "      <td>No</td>\n",
       "      <td>Never</td>\n",
       "      <td>More than 1000</td>\n",
       "      <td>No</td>\n",
       "      <td>...</td>\n",
       "      <td>Don't know</td>\n",
       "      <td>Maybe</td>\n",
       "      <td>No</td>\n",
       "      <td>Some of them</td>\n",
       "      <td>Some of them</td>\n",
       "      <td>No</td>\n",
       "      <td>No</td>\n",
       "      <td>Don't know</td>\n",
       "      <td>No</td>\n",
       "      <td>NaN</td>\n",
       "    </tr>\n",
       "    <tr>\n",
       "      <th>Female</th>\n",
       "      <td>2015-02-24 08:54:35</td>\n",
       "      <td>23</td>\n",
       "      <td>United Kingdom</td>\n",
       "      <td>NaN</td>\n",
       "      <td>No</td>\n",
       "      <td>Yes</td>\n",
       "      <td>Yes</td>\n",
       "      <td>Sometimes</td>\n",
       "      <td>6-25</td>\n",
       "      <td>No</td>\n",
       "      <td>...</td>\n",
       "      <td>Very easy</td>\n",
       "      <td>No</td>\n",
       "      <td>No</td>\n",
       "      <td>Yes</td>\n",
       "      <td>Yes</td>\n",
       "      <td>Maybe</td>\n",
       "      <td>Maybe</td>\n",
       "      <td>Yes</td>\n",
       "      <td>No</td>\n",
       "      <td>NaN</td>\n",
       "    </tr>\n",
       "    <tr>\n",
       "      <th>Female</th>\n",
       "      <td>2015-06-25 12:24:31</td>\n",
       "      <td>41</td>\n",
       "      <td>United States</td>\n",
       "      <td>WA</td>\n",
       "      <td>No</td>\n",
       "      <td>Yes</td>\n",
       "      <td>Yes</td>\n",
       "      <td>Sometimes</td>\n",
       "      <td>26-100</td>\n",
       "      <td>No</td>\n",
       "      <td>...</td>\n",
       "      <td>Don't know</td>\n",
       "      <td>Yes</td>\n",
       "      <td>Maybe</td>\n",
       "      <td>No</td>\n",
       "      <td>No</td>\n",
       "      <td>No</td>\n",
       "      <td>No</td>\n",
       "      <td>Don't know</td>\n",
       "      <td>No</td>\n",
       "      <td>NaN</td>\n",
       "    </tr>\n",
       "  </tbody>\n",
       "</table>\n",
       "<p>121 rows × 26 columns</p>\n",
       "</div>"
      ],
      "text/plain": [
       "                  Timestamp  Age         Country state self_employed  \\\n",
       "Gender                                                                 \n",
       "Female  2014-08-27 11:29:31   37   United States    IL           NaN   \n",
       "Female  2014-08-27 11:31:50   35   United States    MI           NaN   \n",
       "Female  2014-08-27 11:32:39   42   United States    IL           NaN   \n",
       "Female  2014-08-27 11:37:59   35   United States    CA            No   \n",
       "Female  2014-08-27 11:43:36   38   United States    TX            No   \n",
       "...                     ...  ...             ...   ...           ...   \n",
       "Female  2015-02-21 05:11:37   28   United States    TX            No   \n",
       "Female  2015-02-21 09:18:20   34  United Kingdom   NaN            No   \n",
       "Female  2015-02-21 18:54:12   32         Ireland   NaN            No   \n",
       "Female  2015-02-24 08:54:35   23  United Kingdom   NaN            No   \n",
       "Female  2015-06-25 12:24:31   41   United States    WA            No   \n",
       "\n",
       "       family_history treatment work_interfere    no_employees remote_work  \\\n",
       "Gender                                                                       \n",
       "Female             No       Yes          Often            6-25          No   \n",
       "Female            Yes       Yes      Sometimes             1-5         Yes   \n",
       "Female            Yes       Yes      Sometimes         100-500          No   \n",
       "Female            Yes       Yes         Rarely            6-25         Yes   \n",
       "Female            Yes       Yes      Sometimes          26-100          No   \n",
       "...               ...       ...            ...             ...         ...   \n",
       "Female             No       Yes         Rarely            6-25          No   \n",
       "Female             No       Yes      Sometimes  More than 1000          No   \n",
       "Female            Yes        No          Never  More than 1000          No   \n",
       "Female            Yes       Yes      Sometimes            6-25          No   \n",
       "Female            Yes       Yes      Sometimes          26-100          No   \n",
       "\n",
       "        ...               leave mental_health_consequence  \\\n",
       "Gender  ...                                                 \n",
       "Female  ...       Somewhat easy                        No   \n",
       "Female  ...  Somewhat difficult                     Maybe   \n",
       "Female  ...      Very difficult                     Maybe   \n",
       "Female  ...          Don't know                        No   \n",
       "Female  ...       Somewhat easy                        No   \n",
       "...     ...                 ...                       ...   \n",
       "Female  ...       Somewhat easy                       Yes   \n",
       "Female  ...  Somewhat difficult                     Maybe   \n",
       "Female  ...          Don't know                     Maybe   \n",
       "Female  ...           Very easy                        No   \n",
       "Female  ...          Don't know                       Yes   \n",
       "\n",
       "       phys_health_consequence     coworkers    supervisor  \\\n",
       "Gender                                                       \n",
       "Female                      No  Some of them           Yes   \n",
       "Female                   Maybe  Some of them            No   \n",
       "Female                      No           Yes           Yes   \n",
       "Female                      No           Yes           Yes   \n",
       "Female                      No  Some of them           Yes   \n",
       "...                        ...           ...           ...   \n",
       "Female                     Yes  Some of them            No   \n",
       "Female                   Maybe  Some of them           Yes   \n",
       "Female                      No  Some of them  Some of them   \n",
       "Female                      No           Yes           Yes   \n",
       "Female                   Maybe            No            No   \n",
       "\n",
       "       mental_health_interview phys_health_interview mental_vs_physical  \\\n",
       "Gender                                                                    \n",
       "Female                      No                 Maybe                Yes   \n",
       "Female                      No                    No         Don't know   \n",
       "Female                      No                 Maybe                 No   \n",
       "Female                   Maybe                 Maybe                Yes   \n",
       "Female                      No                    No                Yes   \n",
       "...                        ...                   ...                ...   \n",
       "Female                      No                    No                 No   \n",
       "Female                      No                 Maybe                 No   \n",
       "Female                      No                    No         Don't know   \n",
       "Female                   Maybe                 Maybe                Yes   \n",
       "Female                      No                    No         Don't know   \n",
       "\n",
       "       obs_consequence                                           comments  \n",
       "Gender                                                                     \n",
       "Female              No                                                NaN  \n",
       "Female              No                                                NaN  \n",
       "Female              No                                                NaN  \n",
       "Female              No                                                NaN  \n",
       "Female              No  Our health plan has covered my psychotherapy a...  \n",
       "...                ...                                                ...  \n",
       "Female             Yes                                                NaN  \n",
       "Female             Yes                                                NaN  \n",
       "Female              No                                                NaN  \n",
       "Female              No                                                NaN  \n",
       "Female              No                                                NaN  \n",
       "\n",
       "[121 rows x 26 columns]"
      ]
     },
     "execution_count": 109,
     "metadata": {},
     "output_type": "execute_result"
    }
   ],
   "source": [
    "df_gender.loc['Female']"
   ]
  },
  {
   "cell_type": "markdown",
   "metadata": {},
   "source": [
    "Let's see what the possible values of the 'Country' column are:"
   ]
  },
  {
   "cell_type": "code",
   "execution_count": 110,
   "metadata": {},
   "outputs": [
    {
     "data": {
      "text/plain": [
       "Country\n",
       "United States             751\n",
       "United Kingdom            185\n",
       "Canada                     72\n",
       "Germany                    45\n",
       "Netherlands                27\n",
       "Ireland                    27\n",
       "Australia                  21\n",
       "France                     13\n",
       "India                      10\n",
       "New Zealand                 8\n",
       "Poland                      7\n",
       "Italy                       7\n",
       "Sweden                      7\n",
       "Switzerland                 7\n",
       "South Africa                6\n",
       "Brazil                      6\n",
       "Belgium                     6\n",
       "Israel                      5\n",
       "Singapore                   4\n",
       "Bulgaria                    4\n",
       "Russia                      3\n",
       "Austria                     3\n",
       "Finland                     3\n",
       "Mexico                      3\n",
       "Denmark                     2\n",
       "Greece                      2\n",
       "Portugal                    2\n",
       "Colombia                    2\n",
       "Croatia                     2\n",
       "Slovenia                    1\n",
       "Costa Rica                  1\n",
       "Latvia                      1\n",
       "Uruguay                     1\n",
       "Spain                       1\n",
       "Romania                     1\n",
       "Zimbabwe                    1\n",
       "Japan                       1\n",
       "Nigeria                     1\n",
       "Hungary                     1\n",
       "Bosnia and Herzegovina      1\n",
       "Thailand                    1\n",
       "Norway                      1\n",
       "Bahamas, The                1\n",
       "Moldova                     1\n",
       "Georgia                     1\n",
       "China                       1\n",
       "Czech Republic              1\n",
       "Philippines                 1\n",
       "Name: count, dtype: int64"
      ]
     },
     "execution_count": 110,
     "metadata": {},
     "output_type": "execute_result"
    }
   ],
   "source": [
    "df['Country'].value_counts()"
   ]
  },
  {
   "cell_type": "markdown",
   "metadata": {},
   "source": [
    "Let's do some boolean filtering:\n",
    "\n",
    "Let's say we wanted to select only the rows where the value in the `Country` column is \"United States\".\n",
    "\n",
    "```\n",
    "df[df.Country == 'United States']\n",
    "```\n",
    "\n"
   ]
  },
  {
   "cell_type": "markdown",
   "metadata": {},
   "source": [
    "Let's do some basic data cleaning.  First, let's examine the `Age` column.\n",
    "\n",
    "```\n",
    "df.Age\n",
    "```\n",
    "Do you see anything strange?  Let's look at the minimum and maximum values.\n",
    "\n",
    "```\n",
    "df.Age.min()\n",
    "```\n",
    "\n",
    "```\n",
    "df.Age.max()\n",
    "```\n",
    "\n",
    "Let's say we wanted to replace all of the values in the `Age` column that are greater than 100 with the median age.  We can do that using the `where()` method.\n",
    "\n",
    "```\n",
    "df.Age.where(df.Age > 100, df.Age.median())\n",
    "```\n"
   ]
  },
  {
   "cell_type": "code",
   "execution_count": 115,
   "metadata": {},
   "outputs": [
    {
     "data": {
      "text/plain": [
       "np.int64(99999999999)"
      ]
     },
     "execution_count": 115,
     "metadata": {},
     "output_type": "execute_result"
    }
   ],
   "source": [
    "# df.Age\n",
    "# df.Age.min()\n",
    "df.Age.max()"
   ]
  },
  {
   "cell_type": "markdown",
   "metadata": {},
   "source": [
    "#### Challenge: \n",
    "Use the `where()` method to replace all of the values in the `Age` column that are less than 16 with the median age.\n"
   ]
  },
  {
   "cell_type": "code",
   "execution_count": 91,
   "metadata": {},
   "outputs": [
    {
     "data": {
      "text/plain": [
       "0       31\n",
       "1       31\n",
       "2       31\n",
       "3       31\n",
       "4       31\n",
       "        ..\n",
       "1254    31\n",
       "1255    31\n",
       "1256    31\n",
       "1257    31\n",
       "1258    31\n",
       "Name: Age, Length: 1259, dtype: int64"
      ]
     },
     "execution_count": 91,
     "metadata": {},
     "output_type": "execute_result"
    }
   ],
   "source": [
    "# insert your code here\n",
    "# take the age column where the age is less than 16 and replace it with the mean age\n",
    "df.Age.where(df.Age < 16, \n",
    "             df.Age.median(), \n",
    "             df.Age)"
   ]
  },
  {
   "cell_type": "markdown",
   "metadata": {},
   "source": [
    "Example: Find people who reported a family history of mental health conditions.\n",
    "Look at the data description above, and you'll see that we can use the `family_history` column to find people who reported a family history of mental health conditions.\n",
    "\n",
    "```\n",
    "df.family_history\n",
    "```"
   ]
  },
  {
   "cell_type": "code",
   "execution_count": 125,
   "metadata": {},
   "outputs": [
    {
     "data": {
      "text/plain": [
       "family_history\n",
       "No     767\n",
       "Yes    492\n",
       "Name: count, dtype: int64"
      ]
     },
     "execution_count": 125,
     "metadata": {},
     "output_type": "execute_result"
    }
   ],
   "source": [
    "# get a sense of the distribution of the values in the family_history column\n",
    "df.family_history.value_counts()"
   ]
  },
  {
   "cell_type": "code",
   "execution_count": 126,
   "metadata": {},
   "outputs": [
    {
     "data": {
      "text/html": [
       "<div>\n",
       "<style scoped>\n",
       "    .dataframe tbody tr th:only-of-type {\n",
       "        vertical-align: middle;\n",
       "    }\n",
       "\n",
       "    .dataframe tbody tr th {\n",
       "        vertical-align: top;\n",
       "    }\n",
       "\n",
       "    .dataframe thead th {\n",
       "        text-align: right;\n",
       "    }\n",
       "</style>\n",
       "<table border=\"1\" class=\"dataframe\">\n",
       "  <thead>\n",
       "    <tr style=\"text-align: right;\">\n",
       "      <th></th>\n",
       "      <th>Timestamp</th>\n",
       "      <th>Age</th>\n",
       "      <th>Gender</th>\n",
       "      <th>Country</th>\n",
       "      <th>state</th>\n",
       "      <th>self_employed</th>\n",
       "      <th>family_history</th>\n",
       "      <th>treatment</th>\n",
       "      <th>work_interfere</th>\n",
       "      <th>no_employees</th>\n",
       "      <th>...</th>\n",
       "      <th>leave</th>\n",
       "      <th>mental_health_consequence</th>\n",
       "      <th>phys_health_consequence</th>\n",
       "      <th>coworkers</th>\n",
       "      <th>supervisor</th>\n",
       "      <th>mental_health_interview</th>\n",
       "      <th>phys_health_interview</th>\n",
       "      <th>mental_vs_physical</th>\n",
       "      <th>obs_consequence</th>\n",
       "      <th>comments</th>\n",
       "    </tr>\n",
       "  </thead>\n",
       "  <tbody>\n",
       "    <tr>\n",
       "      <th>3</th>\n",
       "      <td>2014-08-27 11:29:46</td>\n",
       "      <td>31</td>\n",
       "      <td>Male</td>\n",
       "      <td>United Kingdom</td>\n",
       "      <td>NaN</td>\n",
       "      <td>NaN</td>\n",
       "      <td>Yes</td>\n",
       "      <td>Yes</td>\n",
       "      <td>Often</td>\n",
       "      <td>26-100</td>\n",
       "      <td>...</td>\n",
       "      <td>Somewhat difficult</td>\n",
       "      <td>Yes</td>\n",
       "      <td>Yes</td>\n",
       "      <td>Some of them</td>\n",
       "      <td>No</td>\n",
       "      <td>Maybe</td>\n",
       "      <td>Maybe</td>\n",
       "      <td>No</td>\n",
       "      <td>Yes</td>\n",
       "      <td>NaN</td>\n",
       "    </tr>\n",
       "    <tr>\n",
       "      <th>5</th>\n",
       "      <td>2014-08-27 11:31:22</td>\n",
       "      <td>33</td>\n",
       "      <td>Male</td>\n",
       "      <td>United States</td>\n",
       "      <td>TN</td>\n",
       "      <td>NaN</td>\n",
       "      <td>Yes</td>\n",
       "      <td>No</td>\n",
       "      <td>Sometimes</td>\n",
       "      <td>6-25</td>\n",
       "      <td>...</td>\n",
       "      <td>Don't know</td>\n",
       "      <td>No</td>\n",
       "      <td>No</td>\n",
       "      <td>Yes</td>\n",
       "      <td>Yes</td>\n",
       "      <td>No</td>\n",
       "      <td>Maybe</td>\n",
       "      <td>Don't know</td>\n",
       "      <td>No</td>\n",
       "      <td>NaN</td>\n",
       "    </tr>\n",
       "    <tr>\n",
       "      <th>6</th>\n",
       "      <td>2014-08-27 11:31:50</td>\n",
       "      <td>35</td>\n",
       "      <td>Female</td>\n",
       "      <td>United States</td>\n",
       "      <td>MI</td>\n",
       "      <td>NaN</td>\n",
       "      <td>Yes</td>\n",
       "      <td>Yes</td>\n",
       "      <td>Sometimes</td>\n",
       "      <td>1-5</td>\n",
       "      <td>...</td>\n",
       "      <td>Somewhat difficult</td>\n",
       "      <td>Maybe</td>\n",
       "      <td>Maybe</td>\n",
       "      <td>Some of them</td>\n",
       "      <td>No</td>\n",
       "      <td>No</td>\n",
       "      <td>No</td>\n",
       "      <td>Don't know</td>\n",
       "      <td>No</td>\n",
       "      <td>NaN</td>\n",
       "    </tr>\n",
       "    <tr>\n",
       "      <th>8</th>\n",
       "      <td>2014-08-27 11:32:39</td>\n",
       "      <td>42</td>\n",
       "      <td>Female</td>\n",
       "      <td>United States</td>\n",
       "      <td>IL</td>\n",
       "      <td>NaN</td>\n",
       "      <td>Yes</td>\n",
       "      <td>Yes</td>\n",
       "      <td>Sometimes</td>\n",
       "      <td>100-500</td>\n",
       "      <td>...</td>\n",
       "      <td>Very difficult</td>\n",
       "      <td>Maybe</td>\n",
       "      <td>No</td>\n",
       "      <td>Yes</td>\n",
       "      <td>Yes</td>\n",
       "      <td>No</td>\n",
       "      <td>Maybe</td>\n",
       "      <td>No</td>\n",
       "      <td>No</td>\n",
       "      <td>NaN</td>\n",
       "    </tr>\n",
       "    <tr>\n",
       "      <th>12</th>\n",
       "      <td>2014-08-27 11:33:23</td>\n",
       "      <td>42</td>\n",
       "      <td>female</td>\n",
       "      <td>United States</td>\n",
       "      <td>CA</td>\n",
       "      <td>NaN</td>\n",
       "      <td>Yes</td>\n",
       "      <td>Yes</td>\n",
       "      <td>Sometimes</td>\n",
       "      <td>26-100</td>\n",
       "      <td>...</td>\n",
       "      <td>Somewhat difficult</td>\n",
       "      <td>Yes</td>\n",
       "      <td>Yes</td>\n",
       "      <td>Yes</td>\n",
       "      <td>Yes</td>\n",
       "      <td>Maybe</td>\n",
       "      <td>Maybe</td>\n",
       "      <td>No</td>\n",
       "      <td>Yes</td>\n",
       "      <td>NaN</td>\n",
       "    </tr>\n",
       "  </tbody>\n",
       "</table>\n",
       "<p>5 rows × 27 columns</p>\n",
       "</div>"
      ],
      "text/plain": [
       "              Timestamp  Age  Gender         Country state self_employed  \\\n",
       "3   2014-08-27 11:29:46   31    Male  United Kingdom   NaN           NaN   \n",
       "5   2014-08-27 11:31:22   33    Male   United States    TN           NaN   \n",
       "6   2014-08-27 11:31:50   35  Female   United States    MI           NaN   \n",
       "8   2014-08-27 11:32:39   42  Female   United States    IL           NaN   \n",
       "12  2014-08-27 11:33:23   42  female   United States    CA           NaN   \n",
       "\n",
       "   family_history treatment work_interfere no_employees  ...  \\\n",
       "3             Yes       Yes          Often       26-100  ...   \n",
       "5             Yes        No      Sometimes         6-25  ...   \n",
       "6             Yes       Yes      Sometimes          1-5  ...   \n",
       "8             Yes       Yes      Sometimes      100-500  ...   \n",
       "12            Yes       Yes      Sometimes       26-100  ...   \n",
       "\n",
       "                 leave mental_health_consequence phys_health_consequence  \\\n",
       "3   Somewhat difficult                       Yes                     Yes   \n",
       "5           Don't know                        No                      No   \n",
       "6   Somewhat difficult                     Maybe                   Maybe   \n",
       "8       Very difficult                     Maybe                      No   \n",
       "12  Somewhat difficult                       Yes                     Yes   \n",
       "\n",
       "       coworkers supervisor mental_health_interview phys_health_interview  \\\n",
       "3   Some of them         No                   Maybe                 Maybe   \n",
       "5            Yes        Yes                      No                 Maybe   \n",
       "6   Some of them         No                      No                    No   \n",
       "8            Yes        Yes                      No                 Maybe   \n",
       "12           Yes        Yes                   Maybe                 Maybe   \n",
       "\n",
       "   mental_vs_physical obs_consequence comments  \n",
       "3                  No             Yes      NaN  \n",
       "5          Don't know              No      NaN  \n",
       "6          Don't know              No      NaN  \n",
       "8                  No              No      NaN  \n",
       "12                 No             Yes      NaN  \n",
       "\n",
       "[5 rows x 27 columns]"
      ]
     },
     "execution_count": 126,
     "metadata": {},
     "output_type": "execute_result"
    }
   ],
   "source": [
    "# do the filtering\n",
    "df_family_history = df[df.family_history == 'Yes']\n",
    "df_family_history.head()"
   ]
  },
  {
   "cell_type": "markdown",
   "metadata": {},
   "source": [
    "You can use a simple expression like `df.family_history == 'Yes'` to find people who reported a family history of mental health conditions, but you can also use more complex expressions.  For example, to find people who reported a family history of mental health conditions and are between the ages of 20 and 30, you could use the following expression:\n",
    "\n",
    "```\n",
    "df[(df.family_history == 'Yes') & (df.Age.between(20, 30))]\n",
    "```\n"
   ]
  },
  {
   "cell_type": "code",
   "execution_count": 118,
   "metadata": {},
   "outputs": [
    {
     "data": {
      "text/html": [
       "<div>\n",
       "<style scoped>\n",
       "    .dataframe tbody tr th:only-of-type {\n",
       "        vertical-align: middle;\n",
       "    }\n",
       "\n",
       "    .dataframe tbody tr th {\n",
       "        vertical-align: top;\n",
       "    }\n",
       "\n",
       "    .dataframe thead th {\n",
       "        text-align: right;\n",
       "    }\n",
       "</style>\n",
       "<table border=\"1\" class=\"dataframe\">\n",
       "  <thead>\n",
       "    <tr style=\"text-align: right;\">\n",
       "      <th></th>\n",
       "      <th>Timestamp</th>\n",
       "      <th>Age</th>\n",
       "      <th>Gender</th>\n",
       "      <th>Country</th>\n",
       "      <th>state</th>\n",
       "      <th>self_employed</th>\n",
       "      <th>family_history</th>\n",
       "      <th>treatment</th>\n",
       "      <th>work_interfere</th>\n",
       "      <th>no_employees</th>\n",
       "      <th>...</th>\n",
       "      <th>leave</th>\n",
       "      <th>mental_health_consequence</th>\n",
       "      <th>phys_health_consequence</th>\n",
       "      <th>coworkers</th>\n",
       "      <th>supervisor</th>\n",
       "      <th>mental_health_interview</th>\n",
       "      <th>phys_health_interview</th>\n",
       "      <th>mental_vs_physical</th>\n",
       "      <th>obs_consequence</th>\n",
       "      <th>comments</th>\n",
       "    </tr>\n",
       "  </thead>\n",
       "  <tbody>\n",
       "    <tr>\n",
       "      <th>15</th>\n",
       "      <td>2014-08-27 11:34:00</td>\n",
       "      <td>29</td>\n",
       "      <td>female</td>\n",
       "      <td>United States</td>\n",
       "      <td>IL</td>\n",
       "      <td>NaN</td>\n",
       "      <td>Yes</td>\n",
       "      <td>Yes</td>\n",
       "      <td>Rarely</td>\n",
       "      <td>26-100</td>\n",
       "      <td>...</td>\n",
       "      <td>Somewhat easy</td>\n",
       "      <td>No</td>\n",
       "      <td>No</td>\n",
       "      <td>Yes</td>\n",
       "      <td>Some of them</td>\n",
       "      <td>Maybe</td>\n",
       "      <td>Maybe</td>\n",
       "      <td>Don't know</td>\n",
       "      <td>No</td>\n",
       "      <td>I have chronic low-level neurological issues t...</td>\n",
       "    </tr>\n",
       "    <tr>\n",
       "      <th>20</th>\n",
       "      <td>2014-08-27 11:35:12</td>\n",
       "      <td>29</td>\n",
       "      <td>Male</td>\n",
       "      <td>United States</td>\n",
       "      <td>NY</td>\n",
       "      <td>No</td>\n",
       "      <td>Yes</td>\n",
       "      <td>Yes</td>\n",
       "      <td>Sometimes</td>\n",
       "      <td>100-500</td>\n",
       "      <td>...</td>\n",
       "      <td>Somewhat difficult</td>\n",
       "      <td>Maybe</td>\n",
       "      <td>No</td>\n",
       "      <td>Some of them</td>\n",
       "      <td>Some of them</td>\n",
       "      <td>No</td>\n",
       "      <td>No</td>\n",
       "      <td>No</td>\n",
       "      <td>No</td>\n",
       "      <td>NaN</td>\n",
       "    </tr>\n",
       "    <tr>\n",
       "      <th>32</th>\n",
       "      <td>2014-08-27 11:39:31</td>\n",
       "      <td>30</td>\n",
       "      <td>male</td>\n",
       "      <td>United Kingdom</td>\n",
       "      <td>NaN</td>\n",
       "      <td>No</td>\n",
       "      <td>Yes</td>\n",
       "      <td>Yes</td>\n",
       "      <td>Sometimes</td>\n",
       "      <td>500-1000</td>\n",
       "      <td>...</td>\n",
       "      <td>Somewhat easy</td>\n",
       "      <td>Maybe</td>\n",
       "      <td>No</td>\n",
       "      <td>Some of them</td>\n",
       "      <td>Yes</td>\n",
       "      <td>No</td>\n",
       "      <td>Yes</td>\n",
       "      <td>Don't know</td>\n",
       "      <td>No</td>\n",
       "      <td>NaN</td>\n",
       "    </tr>\n",
       "    <tr>\n",
       "      <th>42</th>\n",
       "      <td>2014-08-27 11:43:07</td>\n",
       "      <td>27</td>\n",
       "      <td>Male</td>\n",
       "      <td>Canada</td>\n",
       "      <td>NaN</td>\n",
       "      <td>No</td>\n",
       "      <td>Yes</td>\n",
       "      <td>Yes</td>\n",
       "      <td>Sometimes</td>\n",
       "      <td>1-5</td>\n",
       "      <td>...</td>\n",
       "      <td>Very difficult</td>\n",
       "      <td>Maybe</td>\n",
       "      <td>No</td>\n",
       "      <td>Some of them</td>\n",
       "      <td>No</td>\n",
       "      <td>No</td>\n",
       "      <td>No</td>\n",
       "      <td>Yes</td>\n",
       "      <td>No</td>\n",
       "      <td>NaN</td>\n",
       "    </tr>\n",
       "    <tr>\n",
       "      <th>49</th>\n",
       "      <td>2014-08-27 11:44:43</td>\n",
       "      <td>30</td>\n",
       "      <td>male</td>\n",
       "      <td>United States</td>\n",
       "      <td>IL</td>\n",
       "      <td>No</td>\n",
       "      <td>Yes</td>\n",
       "      <td>Yes</td>\n",
       "      <td>Rarely</td>\n",
       "      <td>26-100</td>\n",
       "      <td>...</td>\n",
       "      <td>Don't know</td>\n",
       "      <td>Maybe</td>\n",
       "      <td>No</td>\n",
       "      <td>Some of them</td>\n",
       "      <td>Yes</td>\n",
       "      <td>No</td>\n",
       "      <td>No</td>\n",
       "      <td>Don't know</td>\n",
       "      <td>No</td>\n",
       "      <td>I just started a new job last week hence a lot...</td>\n",
       "    </tr>\n",
       "    <tr>\n",
       "      <th>...</th>\n",
       "      <td>...</td>\n",
       "      <td>...</td>\n",
       "      <td>...</td>\n",
       "      <td>...</td>\n",
       "      <td>...</td>\n",
       "      <td>...</td>\n",
       "      <td>...</td>\n",
       "      <td>...</td>\n",
       "      <td>...</td>\n",
       "      <td>...</td>\n",
       "      <td>...</td>\n",
       "      <td>...</td>\n",
       "      <td>...</td>\n",
       "      <td>...</td>\n",
       "      <td>...</td>\n",
       "      <td>...</td>\n",
       "      <td>...</td>\n",
       "      <td>...</td>\n",
       "      <td>...</td>\n",
       "      <td>...</td>\n",
       "      <td>...</td>\n",
       "    </tr>\n",
       "    <tr>\n",
       "      <th>1245</th>\n",
       "      <td>2015-05-06 10:14:50</td>\n",
       "      <td>22</td>\n",
       "      <td>Male</td>\n",
       "      <td>Australia</td>\n",
       "      <td>NaN</td>\n",
       "      <td>No</td>\n",
       "      <td>Yes</td>\n",
       "      <td>Yes</td>\n",
       "      <td>Often</td>\n",
       "      <td>100-500</td>\n",
       "      <td>...</td>\n",
       "      <td>Don't know</td>\n",
       "      <td>Maybe</td>\n",
       "      <td>Maybe</td>\n",
       "      <td>No</td>\n",
       "      <td>Yes</td>\n",
       "      <td>No</td>\n",
       "      <td>Maybe</td>\n",
       "      <td>Don't know</td>\n",
       "      <td>Yes</td>\n",
       "      <td>In australia all organisations of a certain si...</td>\n",
       "    </tr>\n",
       "    <tr>\n",
       "      <th>1249</th>\n",
       "      <td>2015-07-22 18:57:54</td>\n",
       "      <td>30</td>\n",
       "      <td>M</td>\n",
       "      <td>United States</td>\n",
       "      <td>CA</td>\n",
       "      <td>No</td>\n",
       "      <td>Yes</td>\n",
       "      <td>Yes</td>\n",
       "      <td>Sometimes</td>\n",
       "      <td>26-100</td>\n",
       "      <td>...</td>\n",
       "      <td>Very easy</td>\n",
       "      <td>No</td>\n",
       "      <td>No</td>\n",
       "      <td>Yes</td>\n",
       "      <td>Yes</td>\n",
       "      <td>Maybe</td>\n",
       "      <td>Maybe</td>\n",
       "      <td>Yes</td>\n",
       "      <td>No</td>\n",
       "      <td>Bipolar disorder</td>\n",
       "    </tr>\n",
       "    <tr>\n",
       "      <th>1250</th>\n",
       "      <td>2015-07-27 23:25:34</td>\n",
       "      <td>30</td>\n",
       "      <td>Male</td>\n",
       "      <td>United States</td>\n",
       "      <td>CA</td>\n",
       "      <td>Yes</td>\n",
       "      <td>Yes</td>\n",
       "      <td>Yes</td>\n",
       "      <td>Often</td>\n",
       "      <td>26-100</td>\n",
       "      <td>...</td>\n",
       "      <td>Don't know</td>\n",
       "      <td>No</td>\n",
       "      <td>No</td>\n",
       "      <td>Some of them</td>\n",
       "      <td>Yes</td>\n",
       "      <td>Maybe</td>\n",
       "      <td>Maybe</td>\n",
       "      <td>Yes</td>\n",
       "      <td>No</td>\n",
       "      <td>NaN</td>\n",
       "    </tr>\n",
       "    <tr>\n",
       "      <th>1252</th>\n",
       "      <td>2015-08-20 16:52:09</td>\n",
       "      <td>29</td>\n",
       "      <td>male</td>\n",
       "      <td>United States</td>\n",
       "      <td>NC</td>\n",
       "      <td>No</td>\n",
       "      <td>Yes</td>\n",
       "      <td>Yes</td>\n",
       "      <td>Sometimes</td>\n",
       "      <td>100-500</td>\n",
       "      <td>...</td>\n",
       "      <td>Don't know</td>\n",
       "      <td>Yes</td>\n",
       "      <td>No</td>\n",
       "      <td>Some of them</td>\n",
       "      <td>No</td>\n",
       "      <td>No</td>\n",
       "      <td>Maybe</td>\n",
       "      <td>No</td>\n",
       "      <td>No</td>\n",
       "      <td>NaN</td>\n",
       "    </tr>\n",
       "    <tr>\n",
       "      <th>1258</th>\n",
       "      <td>2016-02-01 23:04:31</td>\n",
       "      <td>25</td>\n",
       "      <td>Male</td>\n",
       "      <td>United States</td>\n",
       "      <td>IL</td>\n",
       "      <td>No</td>\n",
       "      <td>Yes</td>\n",
       "      <td>Yes</td>\n",
       "      <td>Sometimes</td>\n",
       "      <td>26-100</td>\n",
       "      <td>...</td>\n",
       "      <td>Don't know</td>\n",
       "      <td>Maybe</td>\n",
       "      <td>No</td>\n",
       "      <td>Some of them</td>\n",
       "      <td>No</td>\n",
       "      <td>No</td>\n",
       "      <td>No</td>\n",
       "      <td>Don't know</td>\n",
       "      <td>No</td>\n",
       "      <td>NaN</td>\n",
       "    </tr>\n",
       "  </tbody>\n",
       "</table>\n",
       "<p>211 rows × 27 columns</p>\n",
       "</div>"
      ],
      "text/plain": [
       "                Timestamp  Age  Gender         Country state self_employed  \\\n",
       "15    2014-08-27 11:34:00   29  female   United States    IL           NaN   \n",
       "20    2014-08-27 11:35:12   29    Male   United States    NY            No   \n",
       "32    2014-08-27 11:39:31   30    male  United Kingdom   NaN            No   \n",
       "42    2014-08-27 11:43:07   27    Male          Canada   NaN            No   \n",
       "49    2014-08-27 11:44:43   30    male   United States    IL            No   \n",
       "...                   ...  ...     ...             ...   ...           ...   \n",
       "1245  2015-05-06 10:14:50   22    Male       Australia   NaN            No   \n",
       "1249  2015-07-22 18:57:54   30       M   United States    CA            No   \n",
       "1250  2015-07-27 23:25:34   30    Male   United States    CA           Yes   \n",
       "1252  2015-08-20 16:52:09   29    male   United States    NC            No   \n",
       "1258  2016-02-01 23:04:31   25    Male   United States    IL            No   \n",
       "\n",
       "     family_history treatment work_interfere no_employees  ...  \\\n",
       "15              Yes       Yes         Rarely       26-100  ...   \n",
       "20              Yes       Yes      Sometimes      100-500  ...   \n",
       "32              Yes       Yes      Sometimes     500-1000  ...   \n",
       "42              Yes       Yes      Sometimes          1-5  ...   \n",
       "49              Yes       Yes         Rarely       26-100  ...   \n",
       "...             ...       ...            ...          ...  ...   \n",
       "1245            Yes       Yes          Often      100-500  ...   \n",
       "1249            Yes       Yes      Sometimes       26-100  ...   \n",
       "1250            Yes       Yes          Often       26-100  ...   \n",
       "1252            Yes       Yes      Sometimes      100-500  ...   \n",
       "1258            Yes       Yes      Sometimes       26-100  ...   \n",
       "\n",
       "                   leave mental_health_consequence phys_health_consequence  \\\n",
       "15         Somewhat easy                        No                      No   \n",
       "20    Somewhat difficult                     Maybe                      No   \n",
       "32         Somewhat easy                     Maybe                      No   \n",
       "42        Very difficult                     Maybe                      No   \n",
       "49            Don't know                     Maybe                      No   \n",
       "...                  ...                       ...                     ...   \n",
       "1245          Don't know                     Maybe                   Maybe   \n",
       "1249           Very easy                        No                      No   \n",
       "1250          Don't know                        No                      No   \n",
       "1252          Don't know                       Yes                      No   \n",
       "1258          Don't know                     Maybe                      No   \n",
       "\n",
       "         coworkers    supervisor mental_health_interview  \\\n",
       "15             Yes  Some of them                   Maybe   \n",
       "20    Some of them  Some of them                      No   \n",
       "32    Some of them           Yes                      No   \n",
       "42    Some of them            No                      No   \n",
       "49    Some of them           Yes                      No   \n",
       "...            ...           ...                     ...   \n",
       "1245            No           Yes                      No   \n",
       "1249           Yes           Yes                   Maybe   \n",
       "1250  Some of them           Yes                   Maybe   \n",
       "1252  Some of them            No                      No   \n",
       "1258  Some of them            No                      No   \n",
       "\n",
       "     phys_health_interview mental_vs_physical obs_consequence  \\\n",
       "15                   Maybe         Don't know              No   \n",
       "20                      No                 No              No   \n",
       "32                     Yes         Don't know              No   \n",
       "42                      No                Yes              No   \n",
       "49                      No         Don't know              No   \n",
       "...                    ...                ...             ...   \n",
       "1245                 Maybe         Don't know             Yes   \n",
       "1249                 Maybe                Yes              No   \n",
       "1250                 Maybe                Yes              No   \n",
       "1252                 Maybe                 No              No   \n",
       "1258                    No         Don't know              No   \n",
       "\n",
       "                                               comments  \n",
       "15    I have chronic low-level neurological issues t...  \n",
       "20                                                  NaN  \n",
       "32                                                  NaN  \n",
       "42                                                  NaN  \n",
       "49    I just started a new job last week hence a lot...  \n",
       "...                                                 ...  \n",
       "1245  In australia all organisations of a certain si...  \n",
       "1249                                  Bipolar disorder   \n",
       "1250                                                NaN  \n",
       "1252                                                NaN  \n",
       "1258                                                NaN  \n",
       "\n",
       "[211 rows x 27 columns]"
      ]
     },
     "execution_count": 118,
     "metadata": {},
     "output_type": "execute_result"
    }
   ],
   "source": [
    "df[(df.family_history == 'Yes') & (df.Age.between(20, 30))]"
   ]
  },
  {
   "cell_type": "markdown",
   "metadata": {},
   "source": [
    "Be careful to always look at the possible values of a column before you do any filtering.  For example, let's say that we wanted to extract the rows corresponding to \n",
    "individuals who are willing to discuss a mental health issue with their coworkers.  We might try the following:\n",
    "\n",
    "```\n",
    "df[df.coworkers == 'Yes']\n",
    "```\n",
    "\n",
    "However, if we look at the possible values of the `coworkers` column, we'll see that there are actually three possible values: `Yes`, `No`, and `Some of them`.  So we need to modify our expression to take that into consideration.\n"
   ]
  },
  {
   "cell_type": "code",
   "execution_count": 119,
   "metadata": {},
   "outputs": [
    {
     "data": {
      "text/plain": [
       "coworkers\n",
       "Some of them    774\n",
       "No              260\n",
       "Yes             225\n",
       "Name: count, dtype: int64"
      ]
     },
     "execution_count": 119,
     "metadata": {},
     "output_type": "execute_result"
    }
   ],
   "source": [
    "df.coworkers.value_counts()"
   ]
  },
  {
   "cell_type": "markdown",
   "metadata": {},
   "source": [
    "#### Challenge: \n",
    "Report how many people are willing to discuss a mental health issue with their coworkers?"
   ]
  },
  {
   "cell_type": "code",
   "execution_count": 120,
   "metadata": {},
   "outputs": [
    {
     "data": {
      "text/plain": [
       "999"
      ]
     },
     "execution_count": 120,
     "metadata": {},
     "output_type": "execute_result"
    }
   ],
   "source": [
    "# filter to people willing to discuss mental health issue with coworkers (Yes or Some of them)\n",
    "# and then report the number of rows returned\n",
    "df[(df.coworkers == 'Yes') | (df.coworkers == 'Some of them')].shape[0]"
   ]
  },
  {
   "cell_type": "markdown",
   "metadata": {},
   "source": [
    "#### Challenge:\n",
    "\n",
    "What is the mean age of respondents?"
   ]
  },
  {
   "cell_type": "code",
   "execution_count": 127,
   "metadata": {},
   "outputs": [
    {
     "data": {
      "text/plain": [
       "np.float64(79428148.31135821)"
      ]
     },
     "execution_count": 127,
     "metadata": {},
     "output_type": "execute_result"
    }
   ],
   "source": [
    "# insert your code here\n",
    "df.Age.mean()"
   ]
  },
  {
   "cell_type": "markdown",
   "metadata": {},
   "source": [
    "Does that look right?  What's going on? Can you fix it?"
   ]
  },
  {
   "cell_type": "code",
   "execution_count": 122,
   "metadata": {},
   "outputs": [
    {
     "data": {
      "text/plain": [
       "np.float64(-288.6666666666667)"
      ]
     },
     "execution_count": 122,
     "metadata": {},
     "output_type": "execute_result"
    }
   ],
   "source": [
    "# df.Age.where((df.Age < 16) & (df.Age < 100)).mean()"
   ]
  },
  {
   "cell_type": "markdown",
   "metadata": {},
   "source": [
    "#### Challenge:\n",
    "Use a better method to report the \"expected\" value of the `Age` column. (Hint: consider other measures of central tendency.)"
   ]
  },
  {
   "cell_type": "code",
   "execution_count": 133,
   "metadata": {},
   "outputs": [
    {
     "data": {
      "text/plain": [
       "<Axes: ylabel='Frequency'>"
      ]
     },
     "execution_count": 133,
     "metadata": {},
     "output_type": "execute_result"
    },
    {
     "data": {
      "image/png": "[encoded data removed]",
      "text/plain": [
       "<Figure size 640x480 with 1 Axes>"
      ]
     },
     "metadata": {},
     "output_type": "display_data"
    }
   ],
   "source": [
    "# insert your code here\n",
    "df.Age.median()\n",
    "# df.Age.sort_values()\n",
    "# df.plot(kind='hist', y='Age', bins=20)\n",
    "# df[df.Age < 80].plot(kind='hist', y='Age', bins=20)\n",
    "df[(df.Age > 17) & (df.Age < 80)].plot(kind='hist', y='Age', bins=20)"
   ]
  },
  {
   "cell_type": "markdown",
   "metadata": {},
   "source": [
    "#### Challenge:\n",
    "What are the unique values of the `Gender` column?"
   ]
  },
  {
   "cell_type": "code",
   "execution_count": 124,
   "metadata": {},
   "outputs": [
    {
     "data": {
      "text/plain": [
       "Gender\n",
       "Male                                              615\n",
       "male                                              206\n",
       "Female                                            121\n",
       "M                                                 116\n",
       "female                                             62\n",
       "F                                                  38\n",
       "m                                                  34\n",
       "f                                                  15\n",
       "Make                                                4\n",
       "Male                                                3\n",
       "Woman                                               3\n",
       "Cis Male                                            2\n",
       "Man                                                 2\n",
       "Female                                              2\n",
       "Female (trans)                                      2\n",
       "Male-ish                                            1\n",
       "Trans-female                                        1\n",
       "Male (CIS)                                          1\n",
       "Mal                                                 1\n",
       "Cis Female                                          1\n",
       "something kinda male?                               1\n",
       "maile                                               1\n",
       "woman                                               1\n",
       "Femake                                              1\n",
       "queer/she/they                                      1\n",
       "Enby                                                1\n",
       "fluid                                               1\n",
       "Genderqueer                                         1\n",
       "Androgyne                                           1\n",
       "Agender                                             1\n",
       "Nah                                                 1\n",
       "All                                                 1\n",
       "non-binary                                          1\n",
       "male leaning androgynous                            1\n",
       "Guy (-ish) ^_^                                      1\n",
       "cis-female/femme                                    1\n",
       "Trans woman                                         1\n",
       "msle                                                1\n",
       "Neuter                                              1\n",
       "queer                                               1\n",
       "Female (cis)                                        1\n",
       "Mail                                                1\n",
       "cis male                                            1\n",
       "A little about you                                  1\n",
       "Malr                                                1\n",
       "p                                                   1\n",
       "femail                                              1\n",
       "Cis Man                                             1\n",
       "ostensibly male, unsure what that really means      1\n",
       "Name: count, dtype: int64"
      ]
     },
     "execution_count": 124,
     "metadata": {},
     "output_type": "execute_result"
    }
   ],
   "source": [
    "# insert your code here\n",
    "df.Gender.value_counts()"
   ]
  },
  {
   "cell_type": "markdown",
   "metadata": {},
   "source": [
    "#### Challenge:\n",
    "Describe (using a markdown block that you insert below) how, if at all, you would clean the `Gender` column, implement your solution (using a code block that you insert below), and comment on any bias that might be introduced by your implementation (again, by inserting a markdown block below your code)."
   ]
  },
  {
   "cell_type": "markdown",
   "metadata": {},
   "source": [
    "Do some cleaning on most frequent variations of Male, Female, and any other gender categories that we want to include. Convert to uppercase, replace common mispellings, etc. For the rest try to use some fuzzy matching to find the closest match."
   ]
  },
  {
   "cell_type": "markdown",
   "metadata": {},
   "source": [
    "#### Challenge:\n",
    "Find the unique categories of no_employees. What is the frequency of each category?"
   ]
  },
  {
   "cell_type": "code",
   "execution_count": 137,
   "metadata": {},
   "outputs": [
    {
     "data": {
      "text/plain": [
       "no_employees\n",
       "6-25              290\n",
       "26-100            289\n",
       "More than 1000    282\n",
       "100-500           176\n",
       "1-5               162\n",
       "500-1000           60\n",
       "Name: count, dtype: int64"
      ]
     },
     "execution_count": 137,
     "metadata": {},
     "output_type": "execute_result"
    }
   ],
   "source": [
    "# insert your code here\n",
    "df.no_employees.value_counts()\n"
   ]
  },
  {
   "cell_type": "markdown",
   "metadata": {},
   "source": [
    "### Aggregating data\n",
    "\n",
    "Example: Find the number of respondents from each state.\n",
    "```\n",
    "df.state.value_counts()\n",
    "```\n",
    "\n",
    "Alternatively, we could use the `groupby()` method to group the rows by state and then use the `size()` method to get the size of each group.\n",
    "\n",
    "```\n",
    "df.groupby('state').size()\n",
    "```\n"
   ]
  },
  {
   "cell_type": "code",
   "execution_count": 139,
   "metadata": {},
   "outputs": [
    {
     "data": {
      "text/plain": [
       "state\n",
       "AL      8\n",
       "AZ      7\n",
       "CA    138\n",
       "CO      9\n",
       "CT      4\n",
       "DC      4\n",
       "FL     15\n",
       "GA     12\n",
       "IA      4\n",
       "ID      1\n",
       "IL     29\n",
       "IN     27\n",
       "KS      3\n",
       "KY      5\n",
       "LA      1\n",
       "MA     20\n",
       "MD      8\n",
       "ME      1\n",
       "MI     22\n",
       "MN     21\n",
       "MO     12\n",
       "MS      1\n",
       "NC     14\n",
       "NE      2\n",
       "NH      3\n",
       "NJ      6\n",
       "NM      2\n",
       "NV      3\n",
       "NY     57\n",
       "OH     30\n",
       "OK      6\n",
       "OR     29\n",
       "PA     29\n",
       "RI      1\n",
       "SC      5\n",
       "SD      3\n",
       "TN     45\n",
       "TX     44\n",
       "UT     11\n",
       "VA     14\n",
       "VT      3\n",
       "WA     70\n",
       "WI     12\n",
       "WV      1\n",
       "WY      2\n",
       "dtype: int64"
      ]
     },
     "execution_count": 139,
     "metadata": {},
     "output_type": "execute_result"
    }
   ],
   "source": [
    "df.groupby('state').size()"
   ]
  },
  {
   "cell_type": "markdown",
   "metadata": {},
   "source": [
    "## Application of Concepts (30 minutes)\n",
    "\n",
    "Exploration of Movie Titles and Movie Cast\n",
    "\n",
    "We're going to use two datasets from the Internet Movie Database (IMDb) to explore movie titles and movie cast.  The first dataset contains information about movies, including the title, year of release, and genre(s).  The second dataset contains information about the cast of each movie, including the name of the actor/actress, the character they played, and the billing position (i.e., the order in which they were listed in the credits).\n",
    "\n",
    "We're going to load them via URLs, but you can also download them and load them from your local machine.  Note that if you get a weird \"certificate error\" or \"SSL error\", you'll need to follow the instructions from last class to fix it (i.e. click on \"Install Certificates.command\" in the Finder); alternatively you can use `%pip install certifi` in a new code block below.\n"
   ]
  },
  {
   "cell_type": "code",
   "execution_count": 140,
   "metadata": {},
   "outputs": [],
   "source": [
    "titles = pd.read_csv('https://github.com/umsi-data-science/data/raw/main/titles.csv', index_col=None)\n",
    "cast = pd.read_csv('https://github.com/umsi-data-science/data/raw/main/cast.zip', index_col=None)"
   ]
  },
  {
   "cell_type": "markdown",
   "metadata": {},
   "source": [
    "#### Challenge:\n",
    "Show the first 3 lines of both the titles and the cast DataFrames."
   ]
  },
  {
   "cell_type": "code",
   "execution_count": 143,
   "metadata": {},
   "outputs": [
    {
     "data": {
      "text/html": [
       "<div>\n",
       "<style scoped>\n",
       "    .dataframe tbody tr th:only-of-type {\n",
       "        vertical-align: middle;\n",
       "    }\n",
       "\n",
       "    .dataframe tbody tr th {\n",
       "        vertical-align: top;\n",
       "    }\n",
       "\n",
       "    .dataframe thead th {\n",
       "        text-align: right;\n",
       "    }\n",
       "</style>\n",
       "<table border=\"1\" class=\"dataframe\">\n",
       "  <thead>\n",
       "    <tr style=\"text-align: right;\">\n",
       "      <th></th>\n",
       "      <th>title</th>\n",
       "      <th>year</th>\n",
       "    </tr>\n",
       "  </thead>\n",
       "  <tbody>\n",
       "    <tr>\n",
       "      <th>0</th>\n",
       "      <td>The Rising Son</td>\n",
       "      <td>1990</td>\n",
       "    </tr>\n",
       "    <tr>\n",
       "      <th>1</th>\n",
       "      <td>The Thousand Plane Raid</td>\n",
       "      <td>1969</td>\n",
       "    </tr>\n",
       "    <tr>\n",
       "      <th>2</th>\n",
       "      <td>Crucea de piatra</td>\n",
       "      <td>1993</td>\n",
       "    </tr>\n",
       "  </tbody>\n",
       "</table>\n",
       "</div>"
      ],
      "text/plain": [
       "                     title  year\n",
       "0           The Rising Son  1990\n",
       "1  The Thousand Plane Raid  1969\n",
       "2         Crucea de piatra  1993"
      ]
     },
     "execution_count": 143,
     "metadata": {},
     "output_type": "execute_result"
    }
   ],
   "source": [
    "# insert your code here\n",
    "titles.head(3)"
   ]
  },
  {
   "cell_type": "code",
   "execution_count": 144,
   "metadata": {},
   "outputs": [
    {
     "data": {
      "text/html": [
       "<div>\n",
       "<style scoped>\n",
       "    .dataframe tbody tr th:only-of-type {\n",
       "        vertical-align: middle;\n",
       "    }\n",
       "\n",
       "    .dataframe tbody tr th {\n",
       "        vertical-align: top;\n",
       "    }\n",
       "\n",
       "    .dataframe thead th {\n",
       "        text-align: right;\n",
       "    }\n",
       "</style>\n",
       "<table border=\"1\" class=\"dataframe\">\n",
       "  <thead>\n",
       "    <tr style=\"text-align: right;\">\n",
       "      <th></th>\n",
       "      <th>title</th>\n",
       "      <th>year</th>\n",
       "      <th>name</th>\n",
       "      <th>type</th>\n",
       "      <th>character</th>\n",
       "      <th>n</th>\n",
       "    </tr>\n",
       "  </thead>\n",
       "  <tbody>\n",
       "    <tr>\n",
       "      <th>0</th>\n",
       "      <td>Closet Monster</td>\n",
       "      <td>2015</td>\n",
       "      <td>Buffy #1</td>\n",
       "      <td>actor</td>\n",
       "      <td>Buffy 4</td>\n",
       "      <td>NaN</td>\n",
       "    </tr>\n",
       "    <tr>\n",
       "      <th>1</th>\n",
       "      <td>Suuri illusioni</td>\n",
       "      <td>1985</td>\n",
       "      <td>Homo $</td>\n",
       "      <td>actor</td>\n",
       "      <td>Guests</td>\n",
       "      <td>22.0</td>\n",
       "    </tr>\n",
       "    <tr>\n",
       "      <th>2</th>\n",
       "      <td>Battle of the Sexes</td>\n",
       "      <td>2017</td>\n",
       "      <td>$hutter</td>\n",
       "      <td>actor</td>\n",
       "      <td>Bobby Riggs Fan</td>\n",
       "      <td>10.0</td>\n",
       "    </tr>\n",
       "  </tbody>\n",
       "</table>\n",
       "</div>"
      ],
      "text/plain": [
       "                 title  year      name   type        character     n\n",
       "0       Closet Monster  2015  Buffy #1  actor          Buffy 4   NaN\n",
       "1      Suuri illusioni  1985    Homo $  actor           Guests  22.0\n",
       "2  Battle of the Sexes  2017   $hutter  actor  Bobby Riggs Fan  10.0"
      ]
     },
     "execution_count": 144,
     "metadata": {},
     "output_type": "execute_result"
    }
   ],
   "source": [
    "cast.head(3)"
   ]
  },
  {
   "cell_type": "markdown",
   "metadata": {},
   "source": [
    "#### Challenge:\n",
    "How many movies are listed in the titles DataFrame?"
   ]
  },
  {
   "cell_type": "code",
   "execution_count": 145,
   "metadata": {},
   "outputs": [
    {
     "data": {
      "text/plain": [
       "title    232329\n",
       "year     232330\n",
       "dtype: int64"
      ]
     },
     "execution_count": 145,
     "metadata": {},
     "output_type": "execute_result"
    }
   ],
   "source": [
    "# insert your code here\n",
    "titles.count()"
   ]
  },
  {
   "cell_type": "markdown",
   "metadata": {},
   "source": [
    "#### Challenge:\n",
    "What are the earliest two films listed in the titles DataFrame?"
   ]
  },
  {
   "cell_type": "code",
   "execution_count": 149,
   "metadata": {},
   "outputs": [
    {
     "data": {
      "text/html": [
       "<div>\n",
       "<style scoped>\n",
       "    .dataframe tbody tr th:only-of-type {\n",
       "        vertical-align: middle;\n",
       "    }\n",
       "\n",
       "    .dataframe tbody tr th {\n",
       "        vertical-align: top;\n",
       "    }\n",
       "\n",
       "    .dataframe thead th {\n",
       "        text-align: right;\n",
       "    }\n",
       "</style>\n",
       "<table border=\"1\" class=\"dataframe\">\n",
       "  <thead>\n",
       "    <tr style=\"text-align: right;\">\n",
       "      <th></th>\n",
       "      <th>title</th>\n",
       "      <th>year</th>\n",
       "    </tr>\n",
       "  </thead>\n",
       "  <tbody>\n",
       "    <tr>\n",
       "      <th>177757</th>\n",
       "      <td>Miss Jerry</td>\n",
       "      <td>1894</td>\n",
       "    </tr>\n",
       "    <tr>\n",
       "      <th>215272</th>\n",
       "      <td>The Startled Lover</td>\n",
       "      <td>1898</td>\n",
       "    </tr>\n",
       "  </tbody>\n",
       "</table>\n",
       "</div>"
      ],
      "text/plain": [
       "                     title  year\n",
       "177757          Miss Jerry  1894\n",
       "215272  The Startled Lover  1898"
      ]
     },
     "execution_count": 149,
     "metadata": {},
     "output_type": "execute_result"
    }
   ],
   "source": [
    "# insert your code here\n",
    "# titles[(titles.year == titles.year.min())].head()\n",
    "titles.sort_values(by='year').head(2)"
   ]
  },
  {
   "cell_type": "markdown",
   "metadata": {},
   "source": [
    "#### Challenge:\n",
    "How many movies have the title \"Hamlet\"?"
   ]
  },
  {
   "cell_type": "code",
   "execution_count": 159,
   "metadata": {},
   "outputs": [
    {
     "data": {
      "text/plain": [
       "18"
      ]
     },
     "execution_count": 159,
     "metadata": {},
     "output_type": "execute_result"
    }
   ],
   "source": [
    "# insert your code here\n",
    "# df[(df.coworkers == 'Yes') | (df.coworkers == 'Some of them')].shape[0]\n",
    "titles[titles.title == 'Hamlet'].shape[0]"
   ]
  },
  {
   "cell_type": "markdown",
   "metadata": {},
   "source": [
    "#### Challenge:\n",
    "List all of the \"Treasure Island\" movies from earliest to most recent."
   ]
  },
  {
   "cell_type": "code",
   "execution_count": 160,
   "metadata": {},
   "outputs": [
    {
     "data": {
      "text/html": [
       "<div>\n",
       "<style scoped>\n",
       "    .dataframe tbody tr th:only-of-type {\n",
       "        vertical-align: middle;\n",
       "    }\n",
       "\n",
       "    .dataframe tbody tr th {\n",
       "        vertical-align: top;\n",
       "    }\n",
       "\n",
       "    .dataframe thead th {\n",
       "        text-align: right;\n",
       "    }\n",
       "</style>\n",
       "<table border=\"1\" class=\"dataframe\">\n",
       "  <thead>\n",
       "    <tr style=\"text-align: right;\">\n",
       "      <th></th>\n",
       "      <th>title</th>\n",
       "      <th>year</th>\n",
       "    </tr>\n",
       "  </thead>\n",
       "  <tbody>\n",
       "    <tr>\n",
       "      <th>206027</th>\n",
       "      <td>Treasure Island</td>\n",
       "      <td>1918</td>\n",
       "    </tr>\n",
       "    <tr>\n",
       "      <th>51287</th>\n",
       "      <td>Treasure Island</td>\n",
       "      <td>1920</td>\n",
       "    </tr>\n",
       "    <tr>\n",
       "      <th>191050</th>\n",
       "      <td>Treasure Island</td>\n",
       "      <td>1934</td>\n",
       "    </tr>\n",
       "    <tr>\n",
       "      <th>96934</th>\n",
       "      <td>Treasure Island</td>\n",
       "      <td>1950</td>\n",
       "    </tr>\n",
       "    <tr>\n",
       "      <th>89534</th>\n",
       "      <td>Treasure Island</td>\n",
       "      <td>1972</td>\n",
       "    </tr>\n",
       "    <tr>\n",
       "      <th>111343</th>\n",
       "      <td>Treasure Island</td>\n",
       "      <td>1973</td>\n",
       "    </tr>\n",
       "    <tr>\n",
       "      <th>205397</th>\n",
       "      <td>Treasure Island</td>\n",
       "      <td>1985</td>\n",
       "    </tr>\n",
       "    <tr>\n",
       "      <th>179354</th>\n",
       "      <td>Treasure Island</td>\n",
       "      <td>1999</td>\n",
       "    </tr>\n",
       "  </tbody>\n",
       "</table>\n",
       "</div>"
      ],
      "text/plain": [
       "                  title  year\n",
       "206027  Treasure Island  1918\n",
       "51287   Treasure Island  1920\n",
       "191050  Treasure Island  1934\n",
       "96934   Treasure Island  1950\n",
       "89534   Treasure Island  1972\n",
       "111343  Treasure Island  1973\n",
       "205397  Treasure Island  1985\n",
       "179354  Treasure Island  1999"
      ]
     },
     "execution_count": 160,
     "metadata": {},
     "output_type": "execute_result"
    }
   ],
   "source": [
    "# insert your code here\n",
    "titles[titles.title == 'Treasure Island'].sort_values(by='year')"
   ]
  },
  {
   "cell_type": "markdown",
   "metadata": {},
   "source": [
    "#### Challenge:\n",
    "What are the 10 most common movie names of all time?"
   ]
  },
  {
   "cell_type": "code",
   "execution_count": 161,
   "metadata": {},
   "outputs": [
    {
     "data": {
      "text/plain": [
       "title\n",
       "Hamlet                  18\n",
       "Carmen                  16\n",
       "Macbeth                 15\n",
       "The Outsider            12\n",
       "Maya                    12\n",
       "Temptation              11\n",
       "The Three Musketeers    11\n",
       "Othello                 11\n",
       "Freedom                 11\n",
       "Kismet                  11\n",
       "Name: count, dtype: int64"
      ]
     },
     "execution_count": 161,
     "metadata": {},
     "output_type": "execute_result"
    }
   ],
   "source": [
    "# insert your code here\n",
    "titles['title'].value_counts().head(10)"
   ]
  },
  {
   "cell_type": "markdown",
   "metadata": {},
   "source": [
    "#### Challenge:\n",
    "Who are the 10 people most often credited as \"Herself\" in film history?"
   ]
  },
  {
   "cell_type": "code",
   "execution_count": 171,
   "metadata": {},
   "outputs": [
    {
     "data": {
      "text/plain": [
       "name\n",
       "Queen Elizabeth II    11\n",
       "Joyce Brothers         9\n",
       "Margaret Thatcher      8\n",
       "Hillary Clinton        7\n",
       "Mary Jo Pehl           7\n",
       "Sumie Sakai            6\n",
       "Joan Rivers            6\n",
       "Caroline Rhea          5\n",
       "Marilyn Monroe         5\n",
       "Kareena Kapoor         5\n",
       "Name: count, dtype: int64"
      ]
     },
     "execution_count": 171,
     "metadata": {},
     "output_type": "execute_result"
    }
   ],
   "source": [
    "# insert your code here\n",
    "cast[cast.character == 'Herself'].name.value_counts().head(10)"
   ]
  },
  {
   "cell_type": "markdown",
   "metadata": {},
   "source": [
    "#### Challenge:\n",
    "What are the 10 most frequent roles that start with the word \"Science\"?\n"
   ]
  },
  {
   "cell_type": "code",
   "execution_count": 174,
   "metadata": {},
   "outputs": [
    {
     "data": {
      "text/plain": [
       "name\n",
       "Science Fair Student    1\n",
       "Name: count, dtype: int64"
      ]
     },
     "execution_count": 174,
     "metadata": {},
     "output_type": "execute_result"
    }
   ],
   "source": [
    "# insert your code here\n",
    "cast[cast.name.str.startswith('Science')].name.value_counts()"
   ]
  },
  {
   "cell_type": "code",
   "execution_count": null,
   "metadata": {},
   "outputs": [],
   "source": []
  },
  {
   "cell_type": "code",
   "execution_count": null,
   "metadata": {},
   "outputs": [],
   "source": []
  }
 ],
 "metadata": {
  "kernelspec": {
   "display_name": ".venv",
   "language": "python",
   "name": "python3"
  },
  "language_info": {
   "codemirror_mode": {
    "name": "ipython",
    "version": 3
   },
   "file_extension": ".py",
   "mimetype": "text/x-python",
   "name": "python",
   "nbconvert_exporter": "python",
   "pygments_lexer": "ipython3",
   "version": "3.10.12"
  }
 },
 "nbformat": 4,
 "nbformat_minor": 2
}
