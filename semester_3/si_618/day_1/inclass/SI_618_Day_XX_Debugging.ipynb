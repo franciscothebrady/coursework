{
 "cells": [
  {
   "cell_type": "markdown",
   "metadata": {
    "deletable": false,
    "editable": false,
    "nbgrader": {
     "cell_type": "markdown",
     "checksum": "36aa80f711fc03f61d34db8f5a83fa7d",
     "grade": false,
     "grade_id": "cell-308c9d70ee0428b0",
     "locked": true,
     "schema_version": 3,
     "solution": false
    }
   },
   "source": [
    "# SI 618: Debugging exercise\n",
    "\n",
    "\n",
    "*The notebook for this assignment is a little different. There are bugs and problems in the existing code that you need to fix in order to get the assert statements to pass. If you run the first cell under each question title, you’ll either get errors or it will produce the wrong answer.*\n",
    "\n",
    "Think of this assignment in the following way:  it's your first day on the job and you've been given a notebook that was authored by someone who is no longer with your company.  You've been asked to fix it.  There are errors in it, and some of it was not completed by the original author.  You're lucky, though, as there are assertions\n",
    "sprinkled throughout the notebook to help guide you along the way.\n",
    "\n",
    "\n",
    "Top-level goal of notebook:\n",
    "Read a CSV file into a pandas DataFrame and add specific columns to it.\n",
    "These columns are added by applying functions to specific columns.\n",
    "The columns to add include:\n",
    "1. A datetime column that converts \"Garmin time\" to standard (unix epoch) time.  Note that Garmin doesn't use standard epoch offsets for their timestamps.  Rather than using the number of seconds that have elapsed since midnight on January 1, 1970, they use the number of seconds from midnight on December 31, 1989.\n",
    "\n",
    "2. A conversion of \"semicircles\" of latitude and longitude to two different formats: degrees, minutes, seconds 3-tuples and fractional degrees.  For example, a latitude of 504719750 semicircles corresponds to a 3-tuple of degrees, minutes and seconds of (42, 18, 18.43) and 42.305121 degrees.\n",
    "\n",
    "3. A \"normalized speed\" column that consists of the values for speed modified to remove outliers by replacing them with upper and lower bounds as well as normalized to z-values (i.e. by subtracting the mean from each value and dividing the result by the standard deviation).\n",
    "\n",
    "In addition, you will need to complete a function that looks at the difference between sequential rows to determine whether the cyclist is slowing down or not.\n",
    "\n",
    "Your task for this assignment is to debug this notebook to produce the desired results as shown in the assertions below.\n",
    "\n",
    "---"
   ]
  },
  {
   "cell_type": "markdown",
   "metadata": {
    "deletable": false,
    "editable": false,
    "nbgrader": {
     "cell_type": "markdown",
     "checksum": "a2003ce89900ecf74f1bc1bc93fc2a05",
     "grade": false,
     "grade_id": "cell-77cd98b6bcc7ddfd",
     "locked": true,
     "schema_version": 3,
     "solution": false
    }
   },
   "source": [
    "## Question 1"
   ]
  },
  {
   "cell_type": "code",
   "execution_count": 10,
   "metadata": {},
   "outputs": [],
   "source": [
    "import pandas as pd\n",
    "import numpy as np\n",
    "ride = pd.read_csv('ride_final2.csv')\n",
    "ride.head()\n",
    "\n",
    "def garmin_time_to_datetime(series):\n",
    "    \"\"\"Convert Garmin FIT time by adding the number of \n",
    "    seconds from January 1, 1970 to December 31, 1989.\n",
    "    \"\"\"\n",
    "    \n",
    "    return pd.to_datetime(series + 63000000, unit='s', utc=True)"
   ]
  },
  {
   "cell_type": "code",
   "execution_count": 11,
   "metadata": {
    "deletable": false,
    "nbgrader": {
     "cell_type": "code",
     "checksum": "b73bed76fae01048f8fe11feab43fbc6",
     "grade": false,
     "grade_id": "cell-2b3a2c26628bb706",
     "locked": false,
     "schema_version": 3,
     "solution": true
    }
   },
   "outputs": [],
   "source": [
    "# replace this with your code\n",
    "# ride.head()"
   ]
  },
  {
   "cell_type": "code",
   "execution_count": 12,
   "metadata": {
    "deletable": false,
    "editable": false,
    "nbgrader": {
     "cell_type": "code",
     "checksum": "ce92637b7aa0c2c2650e784ed3b9ef82",
     "grade": true,
     "grade_id": "cell-8868f43f56a6d443",
     "locked": true,
     "points": 10,
     "schema_version": 3,
     "solution": false
    }
   },
   "outputs": [
    {
     "ename": "AssertionError",
     "evalue": "First datetime is not correct",
     "output_type": "error",
     "traceback": [
      "\u001b[0;31m---------------------------------------------------------------------------\u001b[0m",
      "\u001b[0;31mAssertionError\u001b[0m                            Traceback (most recent call last)",
      "Cell \u001b[0;32mIn[12], line 3\u001b[0m\n\u001b[1;32m      1\u001b[0m ride[\u001b[38;5;124m'\u001b[39m\u001b[38;5;124mTimestamp_datetime\u001b[39m\u001b[38;5;124m'\u001b[39m] \u001b[38;5;241m=\u001b[39m ride\u001b[38;5;241m.\u001b[39mTimestamp\u001b[38;5;241m.\u001b[39mmap(garmin_time_to_datetime)\n\u001b[0;32m----> 3\u001b[0m \u001b[38;5;28;01massert\u001b[39;00m ride\u001b[38;5;241m.\u001b[39mTimestamp_datetime[\u001b[38;5;241m0\u001b[39m] \u001b[38;5;241m==\u001b[39m pd\u001b[38;5;241m.\u001b[39mto_datetime(\u001b[38;5;124m'\u001b[39m\u001b[38;5;124m2018-05-23T14:02:25\u001b[39m\u001b[38;5;124m'\u001b[39m, utc\u001b[38;5;241m=\u001b[39m\u001b[38;5;28;01mTrue\u001b[39;00m), \\\n\u001b[1;32m      4\u001b[0m     \u001b[38;5;124m\"\u001b[39m\u001b[38;5;124mFirst datetime is not correct\u001b[39m\u001b[38;5;124m\"\u001b[39m\n",
      "\u001b[0;31mAssertionError\u001b[0m: First datetime is not correct"
     ]
    }
   ],
   "source": [
    "\n",
    "ride['Timestamp_datetime'] = ride.Timestamp.map(garmin_time_to_datetime)\n",
    "\n",
    "assert ride.Timestamp_datetime[0] == pd.to_datetime('2018-05-23T14:02:25', utc=True), \\\n",
    "    \"First datetime is not correct\""
   ]
  },
  {
   "cell_type": "markdown",
   "metadata": {},
   "source": [
    "## Question 2"
   ]
  },
  {
   "cell_type": "code",
   "execution_count": 13,
   "metadata": {},
   "outputs": [],
   "source": [
    "def semicircles_to_degrees(semicircles):\n",
    "    '''\n",
    "    Convert semicircles to degrees\n",
    "    '''\n",
    "    max_32_bit_int = 2**31\n",
    "    return semicircles * (180/max_32_bit_int)\n",
    "\n",
    "\n",
    "def degrees_to_dms(degrees_fraction):\n",
    "    ''' Convert degrees to degree, minute, second 3-tuples'''\n",
    "    degrees = int(degrees_fraction)\n",
    "    minutes = (degrees_fraction - degrees) * 60\n",
    "    seconds = round((degrees_fraction - degrees - minutes/60) * 3600, 6)\n",
    "    return (degrees, abs(minutes), abs(seconds))\n",
    "\n",
    "\n",
    "def dms_to_degrees(d,m,s):\n",
    "    ''' Convert degrees, minutes, seconds to fractional degrees'''\n",
    "    return d+m/60+s/3600"
   ]
  },
  {
   "cell_type": "code",
   "execution_count": null,
   "metadata": {
    "deletable": false,
    "nbgrader": {
     "cell_type": "code",
     "checksum": "6298c564dc4f52facac44f68e7aa7854",
     "grade": false,
     "grade_id": "cell-f5797d720b072f0e",
     "locked": false,
     "schema_version": 3,
     "solution": true
    }
   },
   "outputs": [],
   "source": [
    "# replace this with your code"
   ]
  },
  {
   "cell_type": "code",
   "execution_count": 14,
   "metadata": {
    "deletable": false,
    "editable": false,
    "nbgrader": {
     "cell_type": "code",
     "checksum": "6a8fd8d84f419b82f2839868daff22b0",
     "grade": true,
     "grade_id": "cell-4710d465fe29c816",
     "locked": true,
     "points": 10,
     "schema_version": 3,
     "solution": false
    }
   },
   "outputs": [
    {
     "ename": "AssertionError",
     "evalue": "dms value is not correct",
     "output_type": "error",
     "traceback": [
      "\u001b[0;31m---------------------------------------------------------------------------\u001b[0m",
      "\u001b[0;31mAssertionError\u001b[0m                            Traceback (most recent call last)",
      "Cell \u001b[0;32mIn[14], line 10\u001b[0m\n\u001b[1;32m      8\u001b[0m \u001b[38;5;28;01massert\u001b[39;00m dms[\u001b[38;5;241m2\u001b[39m] \u001b[38;5;241m>\u001b[39m\u001b[38;5;241m=\u001b[39m \u001b[38;5;241m0\u001b[39m, \u001b[38;5;124m\"\u001b[39m\u001b[38;5;124mdms[2] must be greater than or equal to 0\u001b[39m\u001b[38;5;124m\"\u001b[39m\n\u001b[1;32m      9\u001b[0m \u001b[38;5;28;01massert\u001b[39;00m dms[\u001b[38;5;241m2\u001b[39m] \u001b[38;5;241m<\u001b[39m \u001b[38;5;241m60\u001b[39m, \u001b[38;5;124m\"\u001b[39m\u001b[38;5;124mdms[2] must be less than 60\u001b[39m\u001b[38;5;124m\"\u001b[39m\n\u001b[0;32m---> 10\u001b[0m \u001b[38;5;28;01massert\u001b[39;00m dms \u001b[38;5;241m==\u001b[39m (\u001b[38;5;241m42\u001b[39m, \u001b[38;5;241m16\u001b[39m, \u001b[38;5;241m59.99988\u001b[39m), \u001b[38;5;124m\"\u001b[39m\u001b[38;5;124mdms value is not correct\u001b[39m\u001b[38;5;124m\"\u001b[39m\n\u001b[1;32m     11\u001b[0m \u001b[38;5;28;01massert\u001b[39;00m dms_to_degrees(dms[\u001b[38;5;241m0\u001b[39m], dms[\u001b[38;5;241m1\u001b[39m], dms[\u001b[38;5;241m2\u001b[39m]) \u001b[38;5;241m==\u001b[39m \u001b[38;5;241m42.2833333\u001b[39m, \u001b[38;5;124m\"\u001b[39m\u001b[38;5;124mdms_to_degrees() conversion is not correct\u001b[39m\u001b[38;5;124m\"\u001b[39m\n\u001b[1;32m     13\u001b[0m ride[\u001b[38;5;124m'\u001b[39m\u001b[38;5;124mLatitude_degrees\u001b[39m\u001b[38;5;124m'\u001b[39m] \u001b[38;5;241m=\u001b[39m ride[\u001b[38;5;124m'\u001b[39m\u001b[38;5;124mLatitude\u001b[39m\u001b[38;5;124m'\u001b[39m]\u001b[38;5;241m.\u001b[39mmap(semicircles_to_degrees)\n",
      "\u001b[0;31mAssertionError\u001b[0m: dms value is not correct"
     ]
    }
   ],
   "source": [
    "# This is a read-only grader cell\n",
    "\n",
    "dms = degrees_to_dms(42.2833333)\n",
    "assert dms[0] >= -180, \"dms[0] must be greater than or equal to -180\"\n",
    "assert dms[0] <= 180, \"dms[0] must be less than or equal to 180\"\n",
    "assert dms[1] >= 0, \"dms[1] must be greater than or equal to 0\"\n",
    "assert dms[1] < 60, \"dms[1] must be less than 60\"\n",
    "assert dms[2] >= 0, \"dms[2] must be greater than or equal to 0\"\n",
    "assert dms[2] < 60, \"dms[2] must be less than 60\"\n",
    "assert dms == (42, 16, 59.99988), \"dms value is not correct\"\n",
    "assert dms_to_degrees(dms[0], dms[1], dms[2]) == 42.2833333, \"dms_to_degrees() conversion is not correct\"\n",
    "\n",
    "ride['Latitude_degrees'] = ride['Latitude'].map(semicircles_to_degrees)\n",
    "ride['Longitude_degrees'] = ride['Longitude'].map(semicircles_to_degrees)\n",
    "ride['Latitude_dms'] = ride['Latitude_degrees'].map(degrees_to_dms)\n",
    "ride['Longitude_dms'] = ride['Longitude_degrees'].map(degrees_to_dms)\n",
    "\n",
    "last_row = ride.iloc[213]\n",
    "assert round(last_row.Latitude_degrees,6) == 42.280569, \\\n",
    "    \"Last row of ride does not have the correct Latitude_degrees value\"\n",
    "assert round(last_row.Longitude_degrees,6) == -83.739442, \\\n",
    "    \"Last row of ride does not have the correct Longitude_degrees value\""
   ]
  },
  {
   "cell_type": "markdown",
   "metadata": {
    "deletable": false,
    "editable": false,
    "nbgrader": {
     "cell_type": "markdown",
     "checksum": "16be1e3b5209d5ed258feb27117b58c3",
     "grade": false,
     "grade_id": "cell-2f14b92545ac9a96",
     "locked": true,
     "schema_version": 3,
     "solution": false
    }
   },
   "source": [
    "## Question 3"
   ]
  },
  {
   "cell_type": "code",
   "execution_count": 16,
   "metadata": {},
   "outputs": [],
   "source": [
    "def normalize(df, pd_series_name, nsd=2):\n",
    "    '''\n",
    "    Take all values that are outside some bound (mean +- 2 sd by default)\n",
    "    and convert them to the appropriate bound.\n",
    "    Scale the results to z-scores before returning them\n",
    "    '''\n",
    "    df = df.copy()\n",
    "    pd_series = df[pd_series_name].astype(float)\n",
    "\n",
    "    # Find upper and lower bound for outliers\n",
    "    avg = np.mean(pd_series)\n",
    "    sd  = np.std(pd_series)\n",
    "\n",
    "    # Calculate the bounds\n",
    "    lower_bound = avg - nsd*sd\n",
    "    upper_bound = avg + nsd*sd\n",
    "\n",
    "    # Collapse in the outliers: replace them with appropriate bound\n",
    "    df.loc[pd_series < lower_bound , pd_series_name ] = lower_bound\n",
    "    df.loc[pd_series > upper_bound , pd_series_name ] = upper_bound\n",
    "    \n",
    "    return (df[pd_series_name] - avg) / sd"
   ]
  },
  {
   "cell_type": "code",
   "execution_count": null,
   "metadata": {
    "deletable": false,
    "nbgrader": {
     "cell_type": "code",
     "checksum": "5e09614acef614c351fc1ccc388b51bc",
     "grade": false,
     "grade_id": "cell-01d948a85f3c81e8",
     "locked": false,
     "schema_version": 3,
     "solution": true
    }
   },
   "outputs": [],
   "source": [
    "# Replace this with your code"
   ]
  },
  {
   "cell_type": "code",
   "execution_count": null,
   "metadata": {
    "deletable": false,
    "editable": false,
    "nbgrader": {
     "cell_type": "code",
     "checksum": "6374d07c07452e5af3558157bfc1d8cf",
     "grade": true,
     "grade_id": "cell-0c910c3906ac1751",
     "locked": true,
     "points": 10,
     "schema_version": 3,
     "solution": false
    }
   },
   "outputs": [],
   "source": [
    "# This is a read-only grader cell\n",
    "\n",
    "ride['Speed_normalized'] = normalize(ride,'Speed')\n",
    "\n",
    "assert round(ride.iloc[0].Speed_normalized,4) == -1.7737, \\\n",
    "    \"First row of ride does not have the correct value for Speed_normalized\"\n",
    "assert ride.iloc[213].Speed_normalized == -2.0, \\\n",
    "    \"Last row of ride does not have the correct value for Speed_normalized\""
   ]
  },
  {
   "cell_type": "markdown",
   "metadata": {
    "deletable": false,
    "editable": false,
    "nbgrader": {
     "cell_type": "markdown",
     "checksum": "451f5018dbf3d3656ab6d5dd108b00fa",
     "grade": false,
     "grade_id": "cell-806080902d510f99",
     "locked": true,
     "schema_version": 3,
     "solution": false
    }
   },
   "source": [
    "## Question 4"
   ]
  },
  {
   "cell_type": "code",
   "execution_count": 20,
   "metadata": {},
   "outputs": [],
   "source": [
    "def proportion_slowing(df,series_name):\n",
    "    ''' Calculate the proportion of rows that represent a slower speed than the previous row'''\n",
    "    # return 0 # whoops -- ran out of time to do this before I got fired!\n",
    "    df['shifted'] = df[series_name].shift()\n",
    "    diff = df[series_name] - df['shifted']\n",
    "    # decreasing = diff[diff < 0].count()\n",
    "    negatives = diff[diff < 0].copy()\n",
    "    decreasing = negatives.count()\n",
    "    return decreasing / len(df)"
   ]
  },
  {
   "cell_type": "code",
   "execution_count": 21,
   "metadata": {
    "deletable": false,
    "nbgrader": {
     "cell_type": "code",
     "checksum": "d42c245678394c61feea738d8ea56f85",
     "grade": false,
     "grade_id": "cell-1cc7315a8a08ba64",
     "locked": false,
     "schema_version": 3,
     "solution": true
    }
   },
   "outputs": [],
   "source": [
    "# Replace this with your code\n"
   ]
  },
  {
   "cell_type": "code",
   "execution_count": 22,
   "metadata": {
    "deletable": false,
    "editable": false,
    "nbgrader": {
     "cell_type": "code",
     "checksum": "4290e3841fc8d472feb3f87b13aa5556",
     "grade": true,
     "grade_id": "cell-2632f42cc211e6ca",
     "locked": true,
     "points": 20,
     "schema_version": 3,
     "solution": false
    }
   },
   "outputs": [
    {
     "ename": "KeyError",
     "evalue": "'Speed_normalized'",
     "output_type": "error",
     "traceback": [
      "\u001b[0;31m---------------------------------------------------------------------------\u001b[0m",
      "\u001b[0;31mKeyError\u001b[0m                                  Traceback (most recent call last)",
      "File \u001b[0;32m~/Documents/umich/coursework/semester_3/si_618/day_1/.venv/lib/python3.12/site-packages/pandas/core/indexes/base.py:3805\u001b[0m, in \u001b[0;36mIndex.get_loc\u001b[0;34m(self, key)\u001b[0m\n\u001b[1;32m   3804\u001b[0m \u001b[38;5;28;01mtry\u001b[39;00m:\n\u001b[0;32m-> 3805\u001b[0m     \u001b[38;5;28;01mreturn\u001b[39;00m \u001b[38;5;28;43mself\u001b[39;49m\u001b[38;5;241;43m.\u001b[39;49m\u001b[43m_engine\u001b[49m\u001b[38;5;241;43m.\u001b[39;49m\u001b[43mget_loc\u001b[49m\u001b[43m(\u001b[49m\u001b[43mcasted_key\u001b[49m\u001b[43m)\u001b[49m\n\u001b[1;32m   3806\u001b[0m \u001b[38;5;28;01mexcept\u001b[39;00m \u001b[38;5;167;01mKeyError\u001b[39;00m \u001b[38;5;28;01mas\u001b[39;00m err:\n",
      "File \u001b[0;32mindex.pyx:167\u001b[0m, in \u001b[0;36mpandas._libs.index.IndexEngine.get_loc\u001b[0;34m()\u001b[0m\n",
      "File \u001b[0;32mindex.pyx:196\u001b[0m, in \u001b[0;36mpandas._libs.index.IndexEngine.get_loc\u001b[0;34m()\u001b[0m\n",
      "File \u001b[0;32mpandas/_libs/hashtable_class_helper.pxi:7081\u001b[0m, in \u001b[0;36mpandas._libs.hashtable.PyObjectHashTable.get_item\u001b[0;34m()\u001b[0m\n",
      "File \u001b[0;32mpandas/_libs/hashtable_class_helper.pxi:7089\u001b[0m, in \u001b[0;36mpandas._libs.hashtable.PyObjectHashTable.get_item\u001b[0;34m()\u001b[0m\n",
      "\u001b[0;31mKeyError\u001b[0m: 'Speed_normalized'",
      "\nThe above exception was the direct cause of the following exception:\n",
      "\u001b[0;31mKeyError\u001b[0m                                  Traceback (most recent call last)",
      "Cell \u001b[0;32mIn[22], line 3\u001b[0m\n\u001b[1;32m      1\u001b[0m \u001b[38;5;66;03m# This is a read-only grader cell\u001b[39;00m\n\u001b[0;32m----> 3\u001b[0m \u001b[38;5;28;01massert\u001b[39;00m \u001b[38;5;28mround\u001b[39m(\u001b[43mproportion_slowing\u001b[49m\u001b[43m(\u001b[49m\u001b[43mride\u001b[49m\u001b[43m,\u001b[49m\u001b[38;5;124;43m'\u001b[39;49m\u001b[38;5;124;43mSpeed_normalized\u001b[39;49m\u001b[38;5;124;43m'\u001b[39;49m\u001b[43m)\u001b[49m,\u001b[38;5;241m6\u001b[39m) \u001b[38;5;241m==\u001b[39m \u001b[38;5;241m0.514019\u001b[39m, \\\n\u001b[1;32m      4\u001b[0m     \u001b[38;5;124m\"\u001b[39m\u001b[38;5;124mproportion_slowing() does not return the correct value for the full ride dataset\u001b[39m\u001b[38;5;124m\"\u001b[39m\n\u001b[1;32m      5\u001b[0m \u001b[38;5;28;01massert\u001b[39;00m \u001b[38;5;28mround\u001b[39m(proportion_slowing(ride[:\u001b[38;5;241m10\u001b[39m],\u001b[38;5;124m'\u001b[39m\u001b[38;5;124mSpeed_normalized\u001b[39m\u001b[38;5;124m'\u001b[39m),\u001b[38;5;241m6\u001b[39m) \u001b[38;5;241m==\u001b[39m \u001b[38;5;241m0.4\u001b[39m, \\\n\u001b[1;32m      6\u001b[0m     \u001b[38;5;124m\"\u001b[39m\u001b[38;5;124mproportion_slowing() does not return the correct value for the first 10 rows of the ride dataset\u001b[39m\u001b[38;5;124m\"\u001b[39m\n\u001b[1;32m      7\u001b[0m \u001b[38;5;28;01massert\u001b[39;00m \u001b[38;5;28mround\u001b[39m(proportion_slowing(ride[\u001b[38;5;241m10\u001b[39m:],\u001b[38;5;124m'\u001b[39m\u001b[38;5;124mSpeed_normalized\u001b[39m\u001b[38;5;124m'\u001b[39m),\u001b[38;5;241m6\u001b[39m) \u001b[38;5;241m==\u001b[39m \u001b[38;5;241m0.519608\u001b[39m, \\\n\u001b[1;32m      8\u001b[0m     \u001b[38;5;124m\"\u001b[39m\u001b[38;5;124mproportion_slowing() does not return the correct value for the last rows of the ride dataset\u001b[39m\u001b[38;5;124m\"\u001b[39m\n",
      "Cell \u001b[0;32mIn[20], line 4\u001b[0m, in \u001b[0;36mproportion_slowing\u001b[0;34m(df, series_name)\u001b[0m\n\u001b[1;32m      2\u001b[0m \u001b[38;5;250m\u001b[39m\u001b[38;5;124;03m''' Calculate the proportion of rows that represent a slower speed than the previous row'''\u001b[39;00m\n\u001b[1;32m      3\u001b[0m \u001b[38;5;66;03m# return 0 # whoops -- ran out of time to do this before I got fired!\u001b[39;00m\n\u001b[0;32m----> 4\u001b[0m df[\u001b[38;5;124m'\u001b[39m\u001b[38;5;124mshifted\u001b[39m\u001b[38;5;124m'\u001b[39m] \u001b[38;5;241m=\u001b[39m \u001b[43mdf\u001b[49m\u001b[43m[\u001b[49m\u001b[43mseries_name\u001b[49m\u001b[43m]\u001b[49m\u001b[38;5;241m.\u001b[39mshift()\n\u001b[1;32m      5\u001b[0m diff \u001b[38;5;241m=\u001b[39m df[series_name] \u001b[38;5;241m-\u001b[39m df[\u001b[38;5;124m'\u001b[39m\u001b[38;5;124mshifted\u001b[39m\u001b[38;5;124m'\u001b[39m]\n\u001b[1;32m      6\u001b[0m \u001b[38;5;66;03m# decreasing = diff[diff < 0].count()\u001b[39;00m\n",
      "File \u001b[0;32m~/Documents/umich/coursework/semester_3/si_618/day_1/.venv/lib/python3.12/site-packages/pandas/core/frame.py:4102\u001b[0m, in \u001b[0;36mDataFrame.__getitem__\u001b[0;34m(self, key)\u001b[0m\n\u001b[1;32m   4100\u001b[0m \u001b[38;5;28;01mif\u001b[39;00m \u001b[38;5;28mself\u001b[39m\u001b[38;5;241m.\u001b[39mcolumns\u001b[38;5;241m.\u001b[39mnlevels \u001b[38;5;241m>\u001b[39m \u001b[38;5;241m1\u001b[39m:\n\u001b[1;32m   4101\u001b[0m     \u001b[38;5;28;01mreturn\u001b[39;00m \u001b[38;5;28mself\u001b[39m\u001b[38;5;241m.\u001b[39m_getitem_multilevel(key)\n\u001b[0;32m-> 4102\u001b[0m indexer \u001b[38;5;241m=\u001b[39m \u001b[38;5;28;43mself\u001b[39;49m\u001b[38;5;241;43m.\u001b[39;49m\u001b[43mcolumns\u001b[49m\u001b[38;5;241;43m.\u001b[39;49m\u001b[43mget_loc\u001b[49m\u001b[43m(\u001b[49m\u001b[43mkey\u001b[49m\u001b[43m)\u001b[49m\n\u001b[1;32m   4103\u001b[0m \u001b[38;5;28;01mif\u001b[39;00m is_integer(indexer):\n\u001b[1;32m   4104\u001b[0m     indexer \u001b[38;5;241m=\u001b[39m [indexer]\n",
      "File \u001b[0;32m~/Documents/umich/coursework/semester_3/si_618/day_1/.venv/lib/python3.12/site-packages/pandas/core/indexes/base.py:3812\u001b[0m, in \u001b[0;36mIndex.get_loc\u001b[0;34m(self, key)\u001b[0m\n\u001b[1;32m   3807\u001b[0m     \u001b[38;5;28;01mif\u001b[39;00m \u001b[38;5;28misinstance\u001b[39m(casted_key, \u001b[38;5;28mslice\u001b[39m) \u001b[38;5;129;01mor\u001b[39;00m (\n\u001b[1;32m   3808\u001b[0m         \u001b[38;5;28misinstance\u001b[39m(casted_key, abc\u001b[38;5;241m.\u001b[39mIterable)\n\u001b[1;32m   3809\u001b[0m         \u001b[38;5;129;01mand\u001b[39;00m \u001b[38;5;28many\u001b[39m(\u001b[38;5;28misinstance\u001b[39m(x, \u001b[38;5;28mslice\u001b[39m) \u001b[38;5;28;01mfor\u001b[39;00m x \u001b[38;5;129;01min\u001b[39;00m casted_key)\n\u001b[1;32m   3810\u001b[0m     ):\n\u001b[1;32m   3811\u001b[0m         \u001b[38;5;28;01mraise\u001b[39;00m InvalidIndexError(key)\n\u001b[0;32m-> 3812\u001b[0m     \u001b[38;5;28;01mraise\u001b[39;00m \u001b[38;5;167;01mKeyError\u001b[39;00m(key) \u001b[38;5;28;01mfrom\u001b[39;00m \u001b[38;5;21;01merr\u001b[39;00m\n\u001b[1;32m   3813\u001b[0m \u001b[38;5;28;01mexcept\u001b[39;00m \u001b[38;5;167;01mTypeError\u001b[39;00m:\n\u001b[1;32m   3814\u001b[0m     \u001b[38;5;66;03m# If we have a listlike key, _check_indexing_error will raise\u001b[39;00m\n\u001b[1;32m   3815\u001b[0m     \u001b[38;5;66;03m#  InvalidIndexError. Otherwise we fall through and re-raise\u001b[39;00m\n\u001b[1;32m   3816\u001b[0m     \u001b[38;5;66;03m#  the TypeError.\u001b[39;00m\n\u001b[1;32m   3817\u001b[0m     \u001b[38;5;28mself\u001b[39m\u001b[38;5;241m.\u001b[39m_check_indexing_error(key)\n",
      "\u001b[0;31mKeyError\u001b[0m: 'Speed_normalized'"
     ]
    }
   ],
   "source": [
    "# This is a read-only grader cell\n",
    "\n",
    "assert round(proportion_slowing(ride,'Speed_normalized'),6) == 0.514019, \\\n",
    "    \"proportion_slowing() does not return the correct value for the full ride dataset\"\n",
    "assert round(proportion_slowing(ride[:10],'Speed_normalized'),6) == 0.4, \\\n",
    "    \"proportion_slowing() does not return the correct value for the first 10 rows of the ride dataset\"\n",
    "assert round(proportion_slowing(ride[10:],'Speed_normalized'),6) == 0.519608, \\\n",
    "    \"proportion_slowing() does not return the correct value for the last rows of the ride dataset\""
   ]
  },
  {
   "cell_type": "code",
   "execution_count": null,
   "metadata": {},
   "outputs": [],
   "source": []
  }
 ],
 "metadata": {
  "kernelspec": {
   "display_name": "Python 3 (ipykernel)",
   "language": "python",
   "name": "python3"
  },
  "language_info": {
   "codemirror_mode": {
    "name": "ipython",
    "version": 3
   },
   "file_extension": ".py",
   "mimetype": "text/x-python",
   "name": "python",
   "nbconvert_exporter": "python",
   "pygments_lexer": "ipython3",
   "version": "3.12.3"
  }
 },
 "nbformat": 4,
 "nbformat_minor": 4
}
