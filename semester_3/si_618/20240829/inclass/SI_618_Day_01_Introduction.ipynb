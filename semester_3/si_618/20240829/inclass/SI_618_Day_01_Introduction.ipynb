{
 "cells": [
  {
   "attachments": {},
   "cell_type": "markdown",
   "metadata": {},
   "source": [
    "<H1>SI 618 Day 01 - Introduction</H1>\n",
    "Dr. Chris Teplovs, University of Michigan School of Information\n",
    "\n",
    "Copyright &copy; 2024.  This notebook may not be shared outside of the course without permission.\n",
    "\n",
    "This notebook is a very brief introduction to Jupyter notebooks.  We will use Jupyter notebooks for all of our work in this course.\n",
    "\n",
    "Notebook version 2024.01.10.4.CT"
   ]
  },
  {
   "attachments": {},
   "cell_type": "markdown",
   "metadata": {},
   "source": [
    "## Learning Objectives\n",
    "By the end of this class, you should:\n",
    "* confirm that you have a working Jupyter environment using Visual Studio Code (VS Code)\n",
    "* be able to open and edit a Jupyter notebook\n",
    "* be able to run a Jupyter notebook\n",
    "* have written your first code in this class\n",
    "* experimented with Copilot\n",
    "* have successfully submitted an assignment to Canvas"
   ]
  },
  {
   "attachments": {},
   "cell_type": "markdown",
   "metadata": {},
   "source": [
    "You will be working in this notebook. When we are done, you will submit this notebook in two formats: HTML and IPYNB"
   ]
  },
  {
   "attachments": {},
   "cell_type": "markdown",
   "metadata": {},
   "source": [
    "Jupyter notebooks consist of two main types of \"cells\" or \"blocks\" (I use those terms interchangeably): code and markdown.  There are other types, but we won't be using them in this course.  Code blocks contain (python) code, whereas markdown blocks contain text.  Use markdown blocks to create richer narratives around your code.\n",
    "\n",
    "For more information about what constitutes a good Jupyter notebook, please read Adam Rule, et al. [Ten simple rules for writing and sharing computational analyses in Jupyter Notebooks](https://journals.plos.org/ploscompbiol/article?id=10.1371/journal.pcbi.1007007).\n",
    "\n",
    "In this course, we also expect you to conform to the PEP-8 style guidelines:  [PEP 8 Style Guide for Python Code](https://pep8.org/). Adapted from the original Python Enhancement Proposal,  [PEP 8](https://peps.python.org/pep-0008/). You will earn fewer points for your assignments if you do not follow this style guide."
   ]
  },
  {
   "cell_type": "markdown",
   "metadata": {},
   "source": [
    "**Before you start**: Make sure you have selected your `.venv` Python environment.\n",
    "\n",
    "One of the first things we want to do in our notebooks is our `import`s.  We'll import two packages (or libraries, or modules) that we'll use a bit later in the notebook:\n"
   ]
  },
  {
   "cell_type": "code",
   "execution_count": 1,
   "metadata": {},
   "outputs": [],
   "source": [
    "import csv"
   ]
  },
  {
   "attachments": {},
   "cell_type": "markdown",
   "metadata": {},
   "source": [
    "### Challenge 1: Write code that prints out \"Hello, world!\" (don't overthink this one)"
   ]
  },
  {
   "cell_type": "code",
   "execution_count": 2,
   "metadata": {},
   "outputs": [
    {
     "name": "stdout",
     "output_type": "stream",
     "text": [
      "Hello, world!\n"
     ]
    }
   ],
   "source": [
    "# insert your code here\n",
    "print(\"Hello, world!\")"
   ]
  },
  {
   "attachments": {},
   "cell_type": "markdown",
   "metadata": {},
   "source": [
    "### Challenge 2: Sum of squares\n",
    "Create a function that calculates the sum of squares of any sequence of numbers.  Test it on the following values: 1,3,5,7,9.  The answer should be 165.  We'll improve the `assert` statement during class, but for now, just use it as shown."
   ]
  },
  {
   "cell_type": "code",
   "execution_count": 5,
   "metadata": {},
   "outputs": [],
   "source": [
    "def sum_of_squares(seq):\n",
    "# return sum([x**2 for x in seq]) # suggested by copilot, tested and accepted\n",
    "#sum_of_squares([1,3,5,7,9])\n",
    "# another implementation\n",
    "    mysum = 0\n",
    "    for i in seq:\n",
    "        mysum += i**2\n",
    "    return mysum\n",
    "\n",
    "# testing\n",
    "# print(sum_of_squares([1,3,5,7,9]))\n",
    "assert sum_of_squares([1,3,5,7,9]) == 165"
   ]
  },
  {
   "cell_type": "markdown",
   "metadata": {},
   "source": [
    "### Challenge 3: Documentation\n",
    "Add documentation to the following function using docstrings and comments.  (Hint: see https://en.wikipedia.org/wiki/Fibonacci_sequence or leverage GitHub Copilot Chat.)"
   ]
  },
  {
   "cell_type": "code",
   "execution_count": 16,
   "metadata": {},
   "outputs": [
    {
     "data": {
      "text/plain": [
       "[0, 1, 1, 2, 3]"
      ]
     },
     "execution_count": 16,
     "metadata": {},
     "output_type": "execute_result"
    }
   ],
   "source": [
    "def f(x):\n",
    "    '''\n",
    "    This function takes a numeric input and returns the fibbonaci sequence value of that index.\n",
    "    '''\n",
    "    if x == 0:\n",
    "        return 0\n",
    "    elif x == 1:\n",
    "        return 1\n",
    "    else:\n",
    "        return f(x-1) + f(x-2)\n",
    "# testing\n",
    "# f(1)\n",
    "# f(2)\n",
    "# f(3)\n",
    "# myseq = [0,1,2,3,4]\n",
    "# [f(x) for x in myseq]"
   ]
  },
  {
   "cell_type": "markdown",
   "metadata": {},
   "source": [
    "#### Challenge 4: String manipulation, documentation and type hints\n",
    "Write a function that takes a string as input and returns the number of vowels in the string.  Test it on the following string: \"The quick brown fox jumped over the lazy dog.\"  The answer should be 11.  Document your function.  Include [type hints (see PEP-484)](https://peps.python.org/pep-0484/)."
   ]
  },
  {
   "cell_type": "code",
   "execution_count": 19,
   "metadata": {},
   "outputs": [],
   "source": [
    "def count_vowels(s: str) -> int:\n",
    "    '''\n",
    "    the function takes a string s as input and returns the number of vowels in the string\n",
    "    input: s: str\n",
    "    output: int\n",
    "    '''\n",
    "    count = 0\n",
    "    for i in s:\n",
    "        vowels = \"aeiou\"\n",
    "        if i in vowels:\n",
    "            count += 1\n",
    "    return count\n",
    "\n",
    "# testing\n",
    "# print(count_vowels(\"cow\"))\n",
    "# print(count_vowels(\"frank\"))\n",
    "# print(count_vowels(\"ooo\"))\n",
    "\n",
    "\n",
    "assert count_vowels(\"hello\") == 2, f\"There are two vowels in hello, not {count_vowels('hello')}\"\n",
    "assert count_vowels(\"The quick brown fox jumped over the lazy dog\") == 12, f\"There are 12 vowels in the quick brown fox jumped over the lazy dog, not {count_vowels('The quick brown fox jumped over the lazy dog')}\"\n"
   ]
  },
  {
   "attachments": {},
   "cell_type": "markdown",
   "metadata": {},
   "source": [
    "### Challenge 5: Find the mode, write some tests.  \n",
    "The mode is the most frequently occurring value.  In the case where multiple modes, you only need to print one of them.  Document and typehint your code. Test your code with an assert statement for the following values: 1, 2, 3, 3, 4, 5, 5, 5, 6, 6, 7, 8, 9, 9, 10.\n",
    "\n",
    "Try to do this on your own without resorting to Googling for a solution."
   ]
  },
  {
   "cell_type": "code",
   "execution_count": 29,
   "metadata": {},
   "outputs": [],
   "source": [
    "# insert your code here\n",
    "# def find_mode(x):\n",
    "#     counts = []\n",
    "#     for i in x:\n",
    "#         counts.append(x.count(i))\n",
    "#     return x[counts.index(max(counts))] # line suggested by copilot\n",
    "# testing\n",
    "# find_mode([1,2,2,3])\n",
    "# find_mode([\"1\",\"1\",\"1\", \"2\",\"2\"])\n",
    "\n",
    "# in class solution;\n",
    "def calculate_mode(numbers):\n",
    "    d = {}\n",
    "    for i in numbers:\n",
    "        if i in d:\n",
    "            d[i] += 1\n",
    "        else:\n",
    "            d[i] = 1\n",
    "    return max(d, key=d.get)\n",
    "\n",
    "# testing\n",
    "# calculate_mode([1,2,2,3])\n",
    "assert calculate_mode([1, 2, 3, 3, 4, 5, 5, 5, 6, 6, 7, 8, 9, 9, 10]) == 5"
   ]
  },
  {
   "attachments": {},
   "cell_type": "markdown",
   "metadata": {},
   "source": [
    "### Challenge 6: Calculate the mean temperature for the data in aranet4.csv\n",
    "Your output should consist of the following:\n",
    "\n",
    "```Mean temperature: X.XX```\n",
    "\n",
    "where `X.XX` is the mean temperature rounded to two decimal places.  For example: 27.23 or 4.32 or -1.20.\n",
    "\n",
    "**NOTE: You should use only base python and the `csv` module to solve this problem.  Do not use pandas or any other libraries.**\n",
    "\n",
    "The data file should be located in the `data` directory that is a sibling of the directory containing this notebook.  For example, if this notebook is located in `SI_618_WN_24_Files/inclass`, then the data file should be located in `SI_618_WN_24_Files/data`."
   ]
  },
  {
   "cell_type": "code",
   "execution_count": 33,
   "metadata": {},
   "outputs": [],
   "source": [
    "filename = '../data/aranet4.csv'"
   ]
  },
  {
   "cell_type": "code",
   "execution_count": 57,
   "metadata": {},
   "outputs": [],
   "source": [
    "def aranet_mean_temp(filename):\n",
    "    temperature = []\n",
    "    total_temp  = 0\n",
    "    count = 0\n",
    "    with open(filename, 'r') as file:\n",
    "        csv_reader = csv.reader(file)\n",
    "        next(csv_reader) # skip the header row\n",
    "        for row in csv_reader:\n",
    "            temperature = float(row[2]) # assumes temp is in the second column\n",
    "            total_temp += temperature\n",
    "            count += 1\n",
    "    mean_temp = round(total_temp / count,  ndigits=2)\n",
    "    return(mean_temp)\n",
    "\n",
    "# aranet_mean_temp(filename)\n",
    "assert aranet_mean_temp(filename) == 17.75, \"The mean temperature should be 17.75\""
   ]
  },
  {
   "attachments": {},
   "cell_type": "markdown",
   "metadata": {},
   "source": [
    "Just for fun, here's how to do the above challenge using pandas:"
   ]
  },
  {
   "cell_type": "code",
   "execution_count": 58,
   "metadata": {},
   "outputs": [
    {
     "name": "stdout",
     "output_type": "stream",
     "text": [
      "Mean temperature: 17.75\n"
     ]
    }
   ],
   "source": [
    "import pandas as pd\n",
    "aranet_df = pd.read_csv(filename)\n",
    "print(f\"Mean temperature: {aranet_df['Temperature(°C)'].mean():.2f}\")"
   ]
  },
  {
   "cell_type": "markdown",
   "metadata": {},
   "source": [
    "After we review these challenges, we'll take a look at some basic pandas DataFrame functionality.\n"
   ]
  },
  {
   "attachments": {},
   "cell_type": "markdown",
   "metadata": {},
   "source": [
    "## END OF NOTEBOOK\n",
    "Remember to submit this notebook to Canvas in both HTML and IPYNB formats.  Note: if you have difficulty exporting to HTML, just submit the IPYNB file and make sure you reach out to the teaching team to get help.  You will only receive partial credit if you do not submit both formats (HTML and IPYNB) by the due date (see Canvas for due date)."
   ]
  },
  {
   "cell_type": "markdown",
   "metadata": {},
   "source": []
  }
 ],
 "metadata": {
  "kernelspec": {
   "display_name": ".venv",
   "language": "python",
   "name": "python3"
  },
  "language_info": {
   "codemirror_mode": {
    "name": "ipython",
    "version": 3
   },
   "file_extension": ".py",
   "mimetype": "text/x-python",
   "name": "python",
   "nbconvert_exporter": "python",
   "pygments_lexer": "ipython3",
   "version": "3.10.12"
  },
  "orig_nbformat": 4,
  "vscode": {
   "interpreter": {
    "hash": "90fd63f6819c340b438e5c293ddfb31e39be622c688d56bb62c76ae0c0566a54"
   }
  }
 },
 "nbformat": 4,
 "nbformat_minor": 2
}
